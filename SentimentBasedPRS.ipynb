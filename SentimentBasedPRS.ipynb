{
 "cells": [
  {
   "cell_type": "markdown",
   "metadata": {
    "id": "M0hDUrnJSdm9"
   },
   "source": [
    "# Analyse E-commerce Product Reviews using NLP "
   ]
  },
  {
   "cell_type": "markdown",
   "metadata": {
    "id": "dtGnLPsG5nT2"
   },
   "source": [
    "The project is live on [Heruko](https://sharukhshaikh.herokuapp.com/) for Demo and the CI/CD is used for deployment from the [Git](https://github.com/shaikhsharukh/sentiment-based-product-recommendation-system) branch"
   ]
  },
  {
   "cell_type": "markdown",
   "metadata": {
    "id": "yQAp0ZaxSlFM"
   },
   "source": [
    "## **Import Packages**"
   ]
  },
  {
   "cell_type": "code",
   "execution_count": 1,
   "metadata": {},
   "outputs": [
    {
     "name": "stdout",
     "output_type": "stream",
     "text": [
      "Requirement already satisfied: xgboost in /Users/ahmadshhadeh/opt/anaconda3/envs/SBPRS/lib/python3.8/site-packages (1.4.2)\r\n",
      "Requirement already satisfied: scipy in /Users/ahmadshhadeh/opt/anaconda3/envs/SBPRS/lib/python3.8/site-packages (from xgboost) (1.6.2)\r\n",
      "Requirement already satisfied: numpy in /Users/ahmadshhadeh/opt/anaconda3/envs/SBPRS/lib/python3.8/site-packages (from xgboost) (1.20.1)\r\n"
     ]
    }
   ],
   "source": [
    "#!pip install -r requirements.txt \n",
    "#!pip install textblob\n",
    "#!pip install pickle\n",
    "!pip install xgboost"
   ]
  },
  {
   "cell_type": "code",
   "execution_count": 2,
   "metadata": {
    "colab": {
     "base_uri": "https://localhost:8080/"
    },
    "id": "9p_8e02iQmzB",
    "outputId": "979cd999-ed73-4af6-d3f4-e97f6fda717c"
   },
   "outputs": [
    {
     "name": "stderr",
     "output_type": "stream",
     "text": [
      "[nltk_data] Downloading package stopwords to\n",
      "[nltk_data]     /Users/ahmadshhadeh/nltk_data...\n",
      "[nltk_data]   Package stopwords is already up-to-date!\n",
      "[nltk_data] Downloading package wordnet to\n",
      "[nltk_data]     /Users/ahmadshhadeh/nltk_data...\n",
      "[nltk_data]   Package wordnet is already up-to-date!\n",
      "[nltk_data] Downloading package punkt to\n",
      "[nltk_data]     /Users/ahmadshhadeh/nltk_data...\n",
      "[nltk_data]   Package punkt is already up-to-date!\n",
      "[nltk_data] Downloading package averaged_perceptron_tagger to\n",
      "[nltk_data]     /Users/ahmadshhadeh/nltk_data...\n",
      "[nltk_data]   Package averaged_perceptron_tagger is already up-to-\n",
      "[nltk_data]       date!\n"
     ]
    }
   ],
   "source": [
    "#--- Import libraries\n",
    "from textblob import TextBlob\n",
    "from textblob.sentiments import NaiveBayesAnalyzer\n",
    "import numpy as np\n",
    "import pandas as pd\n",
    "from pandas import DataFrame\n",
    "import gzip\n",
    "\n",
    "import matplotlib.pyplot as plt\n",
    "import seaborn as sns\n",
    "import calendar\n",
    "\n",
    "import warnings\n",
    "warnings.filterwarnings(\"ignore\")\n",
    "\n",
    "from PIL import Image\n",
    "from wordcloud import WordCloud, STOPWORDS, ImageColorGenerator\n",
    "\n",
    "from sklearn.neighbors import NearestNeighbors\n",
    "from sklearn import neighbors\n",
    "from scipy.spatial.distance import cosine\n",
    "from sklearn.metrics import classification_report\n",
    "from sklearn.metrics import accuracy_score\n",
    "from sklearn.feature_selection import SelectKBest\n",
    "from sklearn.feature_extraction.text import CountVectorizer, TfidfTransformer, TfidfVectorizer\n",
    "from sklearn.metrics import mean_squared_error, roc_auc_score\n",
    "from sklearn.model_selection import train_test_split\n",
    "from sklearn.metrics import confusion_matrix\n",
    "from sklearn import metrics\n",
    "from sklearn.metrics import roc_curve, auc\n",
    "from sklearn.naive_bayes import MultinomialNB\n",
    "from sklearn.naive_bayes import BernoulliNB\n",
    "from sklearn.linear_model import LogisticRegression\n",
    "from sklearn.pipeline import Pipeline\n",
    "from sklearn.pipeline import FeatureUnion\n",
    "from sklearn.base import BaseEstimator, TransformerMixin\n",
    "from sklearn.metrics import confusion_matrix,ConfusionMatrixDisplay\n",
    "\n",
    "from nltk.stem.porter import PorterStemmer\n",
    "\n",
    "from wordcloud import WordCloud, STOPWORDS\n",
    "\n",
    "%matplotlib inline\n",
    "import nltk\n",
    "nltk.download('stopwords')\n",
    "nltk.download('wordnet')\n",
    "nltk.download('punkt')\n",
    "nltk.download('averaged_perceptron_tagger')\n",
    "from nltk.corpus import stopwords\n",
    "from nltk import FreqDist\n",
    "from nltk.tokenize import word_tokenize\n",
    "from nltk.stem.wordnet import WordNetLemmatizer\n",
    "from nltk.corpus import wordnet\n",
    "lemmatizer = nltk.stem.WordNetLemmatizer()\n",
    "wordnet_lemmatizer = WordNetLemmatizer()"
   ]
  },
  {
   "cell_type": "markdown",
   "metadata": {
    "id": "he02E0UDS99q"
   },
   "source": [
    "## **Load the Dataset**\n"
   ]
  },
  {
   "cell_type": "code",
   "execution_count": 3,
   "metadata": {
    "colab": {
     "base_uri": "https://localhost:8080/",
     "height": 572
    },
    "id": "px-MPvLqSxz3",
    "outputId": "e74e298d-2649-45a4-c48f-dc59956c58ea"
   },
   "outputs": [
    {
     "data": {
      "text/html": [
       "<div>\n",
       "<style scoped>\n",
       "    .dataframe tbody tr th:only-of-type {\n",
       "        vertical-align: middle;\n",
       "    }\n",
       "\n",
       "    .dataframe tbody tr th {\n",
       "        vertical-align: top;\n",
       "    }\n",
       "\n",
       "    .dataframe thead th {\n",
       "        text-align: right;\n",
       "    }\n",
       "</style>\n",
       "<table border=\"1\" class=\"dataframe\">\n",
       "  <thead>\n",
       "    <tr style=\"text-align: right;\">\n",
       "      <th></th>\n",
       "      <th>id</th>\n",
       "      <th>brand</th>\n",
       "      <th>categories</th>\n",
       "      <th>manufacturer</th>\n",
       "      <th>name</th>\n",
       "      <th>reviews_date</th>\n",
       "      <th>reviews_didPurchase</th>\n",
       "      <th>reviews_doRecommend</th>\n",
       "      <th>reviews_rating</th>\n",
       "      <th>reviews_text</th>\n",
       "      <th>reviews_title</th>\n",
       "      <th>reviews_userCity</th>\n",
       "      <th>reviews_userProvince</th>\n",
       "      <th>reviews_username</th>\n",
       "      <th>user_sentiment</th>\n",
       "    </tr>\n",
       "  </thead>\n",
       "  <tbody>\n",
       "    <tr>\n",
       "      <th>0</th>\n",
       "      <td>AV13O1A8GV-KLJ3akUyj</td>\n",
       "      <td>Universal Music</td>\n",
       "      <td>Movies, Music &amp; Books,Music,R&amp;b,Movies &amp; TV,Mo...</td>\n",
       "      <td>Universal Music Group / Cash Money</td>\n",
       "      <td>Pink Friday: Roman Reloaded Re-Up (w/dvd)</td>\n",
       "      <td>2012-11-30T06:21:45.000Z</td>\n",
       "      <td>NaN</td>\n",
       "      <td>NaN</td>\n",
       "      <td>5</td>\n",
       "      <td>i love this album. it's very good. more to the...</td>\n",
       "      <td>Just Awesome</td>\n",
       "      <td>Los Angeles</td>\n",
       "      <td>NaN</td>\n",
       "      <td>joshua</td>\n",
       "      <td>Positive</td>\n",
       "    </tr>\n",
       "    <tr>\n",
       "      <th>1</th>\n",
       "      <td>AV14LG0R-jtxr-f38QfS</td>\n",
       "      <td>Lundberg</td>\n",
       "      <td>Food,Packaged Foods,Snacks,Crackers,Snacks, Co...</td>\n",
       "      <td>Lundberg</td>\n",
       "      <td>Lundberg Organic Cinnamon Toast Rice Cakes</td>\n",
       "      <td>2017-07-09T00:00:00.000Z</td>\n",
       "      <td>True</td>\n",
       "      <td>NaN</td>\n",
       "      <td>5</td>\n",
       "      <td>Good flavor. This review was collected as part...</td>\n",
       "      <td>Good</td>\n",
       "      <td>NaN</td>\n",
       "      <td>NaN</td>\n",
       "      <td>dorothy w</td>\n",
       "      <td>Positive</td>\n",
       "    </tr>\n",
       "    <tr>\n",
       "      <th>2</th>\n",
       "      <td>AV14LG0R-jtxr-f38QfS</td>\n",
       "      <td>Lundberg</td>\n",
       "      <td>Food,Packaged Foods,Snacks,Crackers,Snacks, Co...</td>\n",
       "      <td>Lundberg</td>\n",
       "      <td>Lundberg Organic Cinnamon Toast Rice Cakes</td>\n",
       "      <td>2017-07-09T00:00:00.000Z</td>\n",
       "      <td>True</td>\n",
       "      <td>NaN</td>\n",
       "      <td>5</td>\n",
       "      <td>Good flavor.</td>\n",
       "      <td>Good</td>\n",
       "      <td>NaN</td>\n",
       "      <td>NaN</td>\n",
       "      <td>dorothy w</td>\n",
       "      <td>Positive</td>\n",
       "    </tr>\n",
       "    <tr>\n",
       "      <th>3</th>\n",
       "      <td>AV16khLE-jtxr-f38VFn</td>\n",
       "      <td>K-Y</td>\n",
       "      <td>Personal Care,Medicine Cabinet,Lubricant/Sperm...</td>\n",
       "      <td>K-Y</td>\n",
       "      <td>K-Y Love Sensuality Pleasure Gel</td>\n",
       "      <td>2016-01-06T00:00:00.000Z</td>\n",
       "      <td>False</td>\n",
       "      <td>False</td>\n",
       "      <td>1</td>\n",
       "      <td>I read through the reviews on here before look...</td>\n",
       "      <td>Disappointed</td>\n",
       "      <td>NaN</td>\n",
       "      <td>NaN</td>\n",
       "      <td>rebecca</td>\n",
       "      <td>Negative</td>\n",
       "    </tr>\n",
       "    <tr>\n",
       "      <th>4</th>\n",
       "      <td>AV16khLE-jtxr-f38VFn</td>\n",
       "      <td>K-Y</td>\n",
       "      <td>Personal Care,Medicine Cabinet,Lubricant/Sperm...</td>\n",
       "      <td>K-Y</td>\n",
       "      <td>K-Y Love Sensuality Pleasure Gel</td>\n",
       "      <td>2016-12-21T00:00:00.000Z</td>\n",
       "      <td>False</td>\n",
       "      <td>False</td>\n",
       "      <td>1</td>\n",
       "      <td>My husband bought this gel for us. The gel cau...</td>\n",
       "      <td>Irritation</td>\n",
       "      <td>NaN</td>\n",
       "      <td>NaN</td>\n",
       "      <td>walker557</td>\n",
       "      <td>Negative</td>\n",
       "    </tr>\n",
       "  </tbody>\n",
       "</table>\n",
       "</div>"
      ],
      "text/plain": [
       "                     id            brand  \\\n",
       "0  AV13O1A8GV-KLJ3akUyj  Universal Music   \n",
       "1  AV14LG0R-jtxr-f38QfS         Lundberg   \n",
       "2  AV14LG0R-jtxr-f38QfS         Lundberg   \n",
       "3  AV16khLE-jtxr-f38VFn              K-Y   \n",
       "4  AV16khLE-jtxr-f38VFn              K-Y   \n",
       "\n",
       "                                          categories  \\\n",
       "0  Movies, Music & Books,Music,R&b,Movies & TV,Mo...   \n",
       "1  Food,Packaged Foods,Snacks,Crackers,Snacks, Co...   \n",
       "2  Food,Packaged Foods,Snacks,Crackers,Snacks, Co...   \n",
       "3  Personal Care,Medicine Cabinet,Lubricant/Sperm...   \n",
       "4  Personal Care,Medicine Cabinet,Lubricant/Sperm...   \n",
       "\n",
       "                         manufacturer  \\\n",
       "0  Universal Music Group / Cash Money   \n",
       "1                            Lundberg   \n",
       "2                            Lundberg   \n",
       "3                                 K-Y   \n",
       "4                                 K-Y   \n",
       "\n",
       "                                         name              reviews_date  \\\n",
       "0   Pink Friday: Roman Reloaded Re-Up (w/dvd)  2012-11-30T06:21:45.000Z   \n",
       "1  Lundberg Organic Cinnamon Toast Rice Cakes  2017-07-09T00:00:00.000Z   \n",
       "2  Lundberg Organic Cinnamon Toast Rice Cakes  2017-07-09T00:00:00.000Z   \n",
       "3            K-Y Love Sensuality Pleasure Gel  2016-01-06T00:00:00.000Z   \n",
       "4            K-Y Love Sensuality Pleasure Gel  2016-12-21T00:00:00.000Z   \n",
       "\n",
       "  reviews_didPurchase reviews_doRecommend  reviews_rating  \\\n",
       "0                 NaN                 NaN               5   \n",
       "1                True                 NaN               5   \n",
       "2                True                 NaN               5   \n",
       "3               False               False               1   \n",
       "4               False               False               1   \n",
       "\n",
       "                                        reviews_text reviews_title  \\\n",
       "0  i love this album. it's very good. more to the...  Just Awesome   \n",
       "1  Good flavor. This review was collected as part...          Good   \n",
       "2                                       Good flavor.          Good   \n",
       "3  I read through the reviews on here before look...  Disappointed   \n",
       "4  My husband bought this gel for us. The gel cau...    Irritation   \n",
       "\n",
       "  reviews_userCity reviews_userProvince reviews_username user_sentiment  \n",
       "0      Los Angeles                  NaN           joshua       Positive  \n",
       "1              NaN                  NaN        dorothy w       Positive  \n",
       "2              NaN                  NaN        dorothy w       Positive  \n",
       "3              NaN                  NaN          rebecca       Negative  \n",
       "4              NaN                  NaN        walker557       Negative  "
      ]
     },
     "execution_count": 3,
     "metadata": {},
     "output_type": "execute_result"
    }
   ],
   "source": [
    "df = pd.read_csv(\"sample30.csv\", sep=',')\n",
    "#df = pd.read_csv(\"https://cdn.upgrad.com/uploads/production/c2504c0d-6080-4e1e-8d4c-852b3e68a0ed/sample30.csv\")\n",
    "df.head(5)"
   ]
  },
  {
   "cell_type": "markdown",
   "metadata": {
    "id": "Ue72tPyMBX9n"
   },
   "source": [
    "## **Dataset Overview**\n"
   ]
  },
  {
   "cell_type": "code",
   "execution_count": 4,
   "metadata": {
    "colab": {
     "base_uri": "https://localhost:8080/"
    },
    "id": "PCepB2tFZ64d",
    "outputId": "bc5211a9-6fe3-4f7e-80ca-a37be9611c61"
   },
   "outputs": [
    {
     "name": "stdout",
     "output_type": "stream",
     "text": [
      "<class 'pandas.core.frame.DataFrame'>\n",
      "RangeIndex: 30000 entries, 0 to 29999\n",
      "Data columns (total 15 columns):\n",
      " #   Column                Non-Null Count  Dtype \n",
      "---  ------                --------------  ----- \n",
      " 0   id                    30000 non-null  object\n",
      " 1   brand                 30000 non-null  object\n",
      " 2   categories            30000 non-null  object\n",
      " 3   manufacturer          29859 non-null  object\n",
      " 4   name                  30000 non-null  object\n",
      " 5   reviews_date          29954 non-null  object\n",
      " 6   reviews_didPurchase   15932 non-null  object\n",
      " 7   reviews_doRecommend   27430 non-null  object\n",
      " 8   reviews_rating        30000 non-null  int64 \n",
      " 9   reviews_text          30000 non-null  object\n",
      " 10  reviews_title         29810 non-null  object\n",
      " 11  reviews_userCity      1929 non-null   object\n",
      " 12  reviews_userProvince  170 non-null    object\n",
      " 13  reviews_username      29937 non-null  object\n",
      " 14  user_sentiment        29999 non-null  object\n",
      "dtypes: int64(1), object(14)\n",
      "memory usage: 3.4+ MB\n"
     ]
    }
   ],
   "source": [
    "#data overivew\n",
    "df.info()"
   ]
  },
  {
   "cell_type": "code",
   "execution_count": 5,
   "metadata": {
    "colab": {
     "base_uri": "https://localhost:8080/"
    },
    "id": "UAXmDrd1_fZk",
    "outputId": "03ff710a-32f3-4ca8-eab5-652c3b037a7b"
   },
   "outputs": [
    {
     "name": "stdout",
     "output_type": "stream",
     "text": [
      "Missing Value Count :\n",
      "id                          0\n",
      "brand                       0\n",
      "categories                  0\n",
      "manufacturer              141\n",
      "name                        0\n",
      "reviews_date               46\n",
      "reviews_didPurchase     14068\n",
      "reviews_doRecommend      2570\n",
      "reviews_rating              0\n",
      "reviews_text                0\n",
      "reviews_title             190\n",
      "reviews_userCity        28071\n",
      "reviews_userProvince    29830\n",
      "reviews_username           63\n",
      "user_sentiment              1\n",
      "dtype: int64\n"
     ]
    }
   ],
   "source": [
    "print(\"Missing Value Count :\")\n",
    "print(df.isnull().sum())"
   ]
  },
  {
   "cell_type": "code",
   "execution_count": 6,
   "metadata": {
    "colab": {
     "base_uri": "https://localhost:8080/"
    },
    "id": "906aqet9_fyw",
    "outputId": "5fe5b3f2-dbe9-48aa-f6ed-661734fc4db2"
   },
   "outputs": [
    {
     "name": "stdout",
     "output_type": "stream",
     "text": [
      "Percentage of missing values :\n",
      "id                       0.00\n",
      "brand                    0.00\n",
      "categories               0.00\n",
      "manufacturer             0.47\n",
      "name                     0.00\n",
      "reviews_date             0.15\n",
      "reviews_didPurchase     46.89\n",
      "reviews_doRecommend      8.57\n",
      "reviews_rating           0.00\n",
      "reviews_text             0.00\n",
      "reviews_title            0.63\n",
      "reviews_userCity        93.57\n",
      "reviews_userProvince    99.43\n",
      "reviews_username         0.21\n",
      "user_sentiment           0.00\n",
      "dtype: float64\n"
     ]
    }
   ],
   "source": [
    "print(\"Percentage of missing values :\")\n",
    "print(df.isna().mean().round(4) * 100)"
   ]
  },
  {
   "cell_type": "code",
   "execution_count": 7,
   "metadata": {
    "colab": {
     "base_uri": "https://localhost:8080/"
    },
    "id": "66kPGxzgveU6",
    "outputId": "9d407fb9-f7ee-4b2c-e7ff-b53a88045f89"
   },
   "outputs": [
    {
     "name": "stdout",
     "output_type": "stream",
     "text": [
      "rows:  30000\n",
      "columns:  15\n",
      "\n",
      "features:  ['id', 'brand', 'categories', 'manufacturer', 'name', 'reviews_date', 'reviews_didPurchase', 'reviews_doRecommend', 'reviews_rating', 'reviews_text', 'reviews_title', 'reviews_userCity', 'reviews_userProvince', 'reviews_username', 'user_sentiment']\n",
      "\n",
      "missing vlues:  74980\n",
      "\n",
      "Unique values: \n",
      " id                        271\n",
      "brand                     214\n",
      "categories                270\n",
      "manufacturer              227\n",
      "name                      271\n",
      "reviews_date             6857\n",
      "reviews_didPurchase         2\n",
      "reviews_doRecommend         2\n",
      "reviews_rating              5\n",
      "reviews_text            27282\n",
      "reviews_title           18535\n",
      "reviews_userCity          977\n",
      "reviews_userProvince       42\n",
      "reviews_username        24914\n",
      "user_sentiment              2\n",
      "dtype: int64\n"
     ]
    }
   ],
   "source": [
    "#data overivew\n",
    "print('rows: ', df.shape[0])\n",
    "print('columns: ', df.shape[1])\n",
    "print('\\nfeatures: ', df.columns.to_list())\n",
    "print('\\nmissing vlues: ', df.isnull().values.sum())\n",
    "print('\\nUnique values: \\n', df.nunique())"
   ]
  },
  {
   "cell_type": "markdown",
   "metadata": {
    "id": "Zimgs752EfgF"
   },
   "source": [
    "## **Performing EDA**\n"
   ]
  },
  {
   "cell_type": "code",
   "execution_count": 8,
   "metadata": {
    "colab": {
     "base_uri": "https://localhost:8080/"
    },
    "id": "0vpIwng0Bk8O",
    "outputId": "f0f51195-e9a7-4add-e598-70ac7c2c4460"
   },
   "outputs": [
    {
     "name": "stdout",
     "output_type": "stream",
     "text": [
      "Percentage of missing values :\n",
      "id                      0.00\n",
      "brand                   0.00\n",
      "categories              0.00\n",
      "manufacturer            0.47\n",
      "name                    0.00\n",
      "reviews_date            0.15\n",
      "reviews_didPurchase    46.89\n",
      "reviews_doRecommend     8.57\n",
      "reviews_rating          0.00\n",
      "reviews_text            0.00\n",
      "reviews_title           0.63\n",
      "reviews_username        0.21\n",
      "user_sentiment          0.00\n",
      "dtype: float64\n"
     ]
    }
   ],
   "source": [
    "# Drop the columns with less than 20% of values\n",
    "missing_val_threshold = len(df) * .2\n",
    "df.dropna(thresh = missing_val_threshold, axis = 1, inplace = True)\n",
    "print(\"Percentage of missing values :\")\n",
    "print(df.isna().mean().round(4) * 100)"
   ]
  },
  {
   "cell_type": "code",
   "execution_count": 9,
   "metadata": {
    "colab": {
     "base_uri": "https://localhost:8080/",
     "height": 48
    },
    "id": "isNVldWGcyYw",
    "outputId": "b33cd023-eef7-45bd-922c-d1643f2b8c8e"
   },
   "outputs": [
    {
     "data": {
      "text/html": [
       "<div>\n",
       "<style scoped>\n",
       "    .dataframe tbody tr th:only-of-type {\n",
       "        vertical-align: middle;\n",
       "    }\n",
       "\n",
       "    .dataframe tbody tr th {\n",
       "        vertical-align: top;\n",
       "    }\n",
       "\n",
       "    .dataframe thead th {\n",
       "        text-align: right;\n",
       "    }\n",
       "</style>\n",
       "<table border=\"1\" class=\"dataframe\">\n",
       "  <thead>\n",
       "    <tr style=\"text-align: right;\">\n",
       "      <th></th>\n",
       "      <th>id</th>\n",
       "      <th>brand</th>\n",
       "      <th>categories</th>\n",
       "      <th>manufacturer</th>\n",
       "      <th>name</th>\n",
       "      <th>reviews_date</th>\n",
       "      <th>reviews_didPurchase</th>\n",
       "      <th>reviews_doRecommend</th>\n",
       "      <th>reviews_rating</th>\n",
       "      <th>reviews_text</th>\n",
       "      <th>reviews_title</th>\n",
       "      <th>reviews_username</th>\n",
       "      <th>user_sentiment</th>\n",
       "    </tr>\n",
       "  </thead>\n",
       "  <tbody>\n",
       "  </tbody>\n",
       "</table>\n",
       "</div>"
      ],
      "text/plain": [
       "Empty DataFrame\n",
       "Columns: [id, brand, categories, manufacturer, name, reviews_date, reviews_didPurchase, reviews_doRecommend, reviews_rating, reviews_text, reviews_title, reviews_username, user_sentiment]\n",
       "Index: []"
      ]
     },
     "execution_count": 9,
     "metadata": {},
     "output_type": "execute_result"
    }
   ],
   "source": [
    "# check how many rows has maximum null values (more than 5 null values)\n",
    "df[df.isnull().sum(axis=1)>=5]\n",
    "# d = np.where(df.isnull().sum(axis=1)>5)\n",
    "# df= df.drop(df.index[d])\n",
    "# print(round(100*(1-df.count()/len(df)),2))\n",
    "\n",
    "# As a result there are no such row so the sanity check is OK"
   ]
  },
  {
   "cell_type": "code",
   "execution_count": 10,
   "metadata": {
    "colab": {
     "base_uri": "https://localhost:8080/",
     "height": 435
    },
    "id": "VFcBnKFpw1Me",
    "outputId": "6159aa3e-6f98-4db3-be63-404a28734a1e"
   },
   "outputs": [
    {
     "data": {
      "image/png": "[encoded data removed]",
      "text/plain": [
       "<Figure size 576x360 with 1 Axes>"
      ]
     },
     "metadata": {
      "needs_background": "light"
     },
     "output_type": "display_data"
    },
    {
     "data": {
      "text/plain": [
       "False    14498\n",
       "Null     14068\n",
       "True      1434\n",
       "Name: reviews_didPurchase, dtype: int64"
      ]
     },
     "execution_count": 10,
     "metadata": {},
     "output_type": "execute_result"
    }
   ],
   "source": [
    "#on the reviews_didpurchase column, replace null values with \"Null\"\n",
    "df['reviews_didPurchase'].fillna('Null', inplace=True)\n",
    "\n",
    "#checking distribution of reviews_didpurchased\n",
    "import warnings\n",
    "warnings.filterwarnings('ignore')\n",
    "plt.figure(figsize=(8,5))\n",
    "ax = sns.countplot(df['reviews_didPurchase'])\n",
    "ax.set_xlabel(xlabel=\"Shoppers did purchase the product\", fontsize=17)\n",
    "ax.set_ylabel(ylabel='Count of Reviews', fontsize=17)\n",
    "ax.axes.set_title('Number of Genuine Reviews', fontsize=17)\n",
    "ax.tick_params(labelsize=13)\n",
    "plt.show()\n",
    "df['reviews_didPurchase'].value_counts()"
   ]
  },
  {
   "cell_type": "markdown",
   "metadata": {
    "id": "eX8Uo7KAy-Nn"
   },
   "source": [
    "Shoppers who did purchase the product and provided the reveiw is just 4% in the dataset. With such low data this column is not required for the analysis"
   ]
  },
  {
   "cell_type": "code",
   "execution_count": 11,
   "metadata": {
    "colab": {
     "base_uri": "https://localhost:8080/",
     "height": 435
    },
    "id": "93nTzbUZw58A",
    "outputId": "2e69e348-d7f2-494d-dae3-295d5da75052"
   },
   "outputs": [
    {
     "data": {
      "image/png": "[encoded data removed]",
      "text/plain": [
       "<Figure size 576x360 with 1 Axes>"
      ]
     },
     "metadata": {
      "needs_background": "light"
     },
     "output_type": "display_data"
    },
    {
     "data": {
      "text/plain": [
       "True     25880\n",
       "Null      2570\n",
       "False     1550\n",
       "Name: reviews_doRecommend, dtype: int64"
      ]
     },
     "execution_count": 11,
     "metadata": {},
     "output_type": "execute_result"
    }
   ],
   "source": [
    "#on the reviews_doRecommend column, replace null values with \"Null\"\n",
    "df['reviews_doRecommend'].fillna('Null', inplace=True)\n",
    "#checking distribution of reviews_didpurchased\n",
    "import warnings\n",
    "warnings.filterwarnings('ignore')\n",
    "plt.figure(figsize=(8,5))\n",
    "ax = sns.countplot(df['reviews_doRecommend'])\n",
    "ax.set_xlabel(xlabel=\"Shoppers who recommend the product\", fontsize=17)\n",
    "ax.set_ylabel(ylabel='Count of Reviews', fontsize=17)\n",
    "ax.axes.set_title('Number of recommended products', fontsize=17)\n",
    "ax.tick_params(labelsize=13)\n",
    "plt.show()\n",
    "df['reviews_doRecommend'].value_counts()"
   ]
  },
  {
   "cell_type": "markdown",
   "metadata": {
    "id": "yzUurAthzL4n"
   },
   "source": [
    "Many products were recommended by the users but this column won't be significant for our analysis"
   ]
  },
  {
   "cell_type": "code",
   "execution_count": 12,
   "metadata": {
    "colab": {
     "base_uri": "https://localhost:8080/",
     "height": 320
    },
    "id": "1dZSRevhxKrd",
    "outputId": "e2653c10-b519-43ad-aa5e-d9a4ec49a3b1"
   },
   "outputs": [
    {
     "data": {
      "image/png": "[encoded data removed]",
      "text/plain": [
       "<Figure size 576x360 with 1 Axes>"
      ]
     },
     "metadata": {
      "needs_background": "light"
     },
     "output_type": "display_data"
    }
   ],
   "source": [
    "#Checking top 10 most purchased product\n",
    "result = df[df['reviews_didPurchase'] == True]\n",
    "result['name'].value_counts()[0:10].plot(kind = 'barh', figsize=[8,5], fontsize=10).invert_yaxis()"
   ]
  },
  {
   "cell_type": "code",
   "execution_count": 13,
   "metadata": {
    "colab": {
     "base_uri": "https://localhost:8080/"
    },
    "id": "bDNbU3VTzteW",
    "outputId": "d7075f63-1382-4d72-f8b4-c48463cf4310"
   },
   "outputs": [
    {
     "data": {
      "text/plain": [
       "Index(['id', 'brand', 'categories', 'manufacturer', 'name', 'reviews_date',\n",
       "       'reviews_didPurchase', 'reviews_doRecommend', 'reviews_rating',\n",
       "       'reviews_text', 'reviews_title', 'reviews_username', 'user_sentiment'],\n",
       "      dtype='object')"
      ]
     },
     "execution_count": 13,
     "metadata": {},
     "output_type": "execute_result"
    }
   ],
   "source": [
    "df.columns"
   ]
  },
  {
   "cell_type": "code",
   "execution_count": 14,
   "metadata": {
    "colab": {
     "base_uri": "https://localhost:8080/",
     "height": 483
    },
    "id": "byFzDWTP2ORe",
    "outputId": "c1441852-5a0d-4c7c-c830-09e8cf0ce845"
   },
   "outputs": [
    {
     "data": {
      "image/png": "[encoded data removed]",
      "text/plain": [
       "<Figure size 720x576 with 1 Axes>"
      ]
     },
     "metadata": {
      "needs_background": "light"
     },
     "output_type": "display_data"
    }
   ],
   "source": [
    "#Checking top 10 most trusted brands based on the positive review\n",
    "from matplotlib import cm\n",
    "result = df[(df['reviews_didPurchase'] == True) & (df.user_sentiment==\"Positive\")]\n",
    "#result= df.groupby(by='brand', as_index=False,``).agg({'id': pd.Series.nunique})\n",
    "\n",
    "#sns.barplot(x=\"brand\", y=\"count\", data=result['brand'].value_counts())\n",
    "result['brand'].value_counts()[0:10].plot(kind = 'barh', figsize=[10,8], fontsize=10,colormap=cm.BrBG).invert_yaxis()"
   ]
  },
  {
   "cell_type": "code",
   "execution_count": 15,
   "metadata": {
    "colab": {
     "base_uri": "https://localhost:8080/",
     "height": 483
    },
    "id": "4H49jjDX3vvN",
    "outputId": "abf015fc-dccc-4e02-9601-02d622fb9730"
   },
   "outputs": [
    {
     "data": {
      "image/png": "[encoded data removed]",
      "text/plain": [
       "<Figure size 720x576 with 1 Axes>"
      ]
     },
     "metadata": {
      "needs_background": "light"
     },
     "output_type": "display_data"
    }
   ],
   "source": [
    "#Checking top 10 most badly rated brands based on the negative review\n",
    "from matplotlib import cm\n",
    "result = df[(df['reviews_didPurchase'] == True) & (df.user_sentiment==\"Negative\")]\n",
    "#result= df.groupby(by='brand', as_index=False,``).agg({'id': pd.Series.nunique})\n",
    "\n",
    "#sns.barplot(x=\"brand\", y=\"count\", data=result['brand'].value_counts())\n",
    "result['brand'].value_counts()[0:10].plot(kind = 'barh', figsize=[10,8], fontsize=10,colormap=cm.BrBG).invert_yaxis()"
   ]
  },
  {
   "cell_type": "markdown",
   "metadata": {
    "id": "06IrrEG88ePt"
   },
   "source": [
    "Seems like the brand Coty is at the top of its game and the brand Chester's fails to impress its customers"
   ]
  },
  {
   "cell_type": "code",
   "execution_count": 16,
   "metadata": {
    "colab": {
     "base_uri": "https://localhost:8080/",
     "height": 368
    },
    "id": "v4uS8EiH8yEt",
    "outputId": "ec51ad33-964c-4e69-b1de-f18967da9f6f"
   },
   "outputs": [
    {
     "data": {
      "image/png": "[encoded data removed]",
      "text/plain": [
       "<Figure size 1080x360 with 3 Axes>"
      ]
     },
     "metadata": {
      "needs_background": "light"
     },
     "output_type": "display_data"
    }
   ],
   "source": [
    "#--- split the date into seperate columns of date month and year\n",
    "#--- extract date from the reviews_date column\n",
    "df['reviews_onlydate'] = df['reviews_date'].str[:10]\n",
    "df['reviews_onlydate'].head()\n",
    "#--- split the date into seperate columns of date month and year\n",
    "#--- set the datatype to the above extracted date column\n",
    "df['reviews_onlydate'] = pd.to_datetime(df['reviews_onlydate'], errors='coerce').dt.date\n",
    "df['reviews_onlydate'].fillna(df['reviews_onlydate'].value_counts().idxmax(),inplace=True)\n",
    "df['reviews_onlydate'] = pd.to_datetime(df.reviews_onlydate, format='%Y-%m-%d')\n",
    "df['reviews_onlydate'].head()\n",
    "#--- split the date into seperate columns of date month and year\n",
    "df['month'] = df['reviews_onlydate'].dt.month\n",
    "df['year'] = df['reviews_onlydate'].dt.year\n",
    "f, axes = plt.subplots(1,3, figsize=(15,5))\n",
    "#--- Yearly Reviews\n",
    "yearly = df.groupby(['year'])['reviews_username'].count().reset_index()\n",
    "yearly = yearly.rename(columns={'reviews_username':'no_of_reviews'})\n",
    "yearChart = sns.lineplot(x='year',y='no_of_reviews',data=yearly, ax = axes[0])\n",
    "yearChart.set_title('No of reviews over years')\n",
    "\n",
    "#--- Monthly Reviews\n",
    "monthly = df.groupby(['month'])['reviews_username'].count().reset_index()\n",
    "monthly['month'] = monthly['month'].apply(lambda x : calendar.month_name[x])\n",
    "monthly = monthly.rename(columns={'reviews_username':'no_of_reviews'})\n",
    "monthChart = sns.barplot(x='month',y='no_of_reviews',data=monthly, ax = axes[1])\n",
    "monthChart.set_title('No of reviews over month')\n",
    "monthChart.set_xticklabels(monthChart.get_xticklabels(), rotation = 45, horizontalalignment = 'right')\n",
    "\n",
    "#-- Getting overall ratings for all products\n",
    "sns.countplot(x = 'reviews_rating', data = df, ax = axes[2] ).set_title('Overall Reviews')\n",
    "\n",
    "f.tight_layout()"
   ]
  },
  {
   "cell_type": "markdown",
   "metadata": {
    "id": "hfJ8-g1f8xW-"
   },
   "source": [
    "***Rating Trend over the years***\n",
    "- There is a significant increase in number of ratings given by users around 2013 - 2015 and later from 2016 there is sharp decrease.\n",
    "- number of reviews given were high during December and January, may be due to month end sales where there are no significant reviews in other months.\n",
    "\n",
    "***Distribution of overall ratings***\n",
    "- Many users have given a rating of 5 to products followed by 4, 3 and 1 whereas very few users have given a low rating of 2.\n"
   ]
  },
  {
   "cell_type": "code",
   "execution_count": 17,
   "metadata": {
    "colab": {
     "base_uri": "https://localhost:8080/",
     "height": 232
    },
    "id": "8MLHJ1dq8oP6",
    "outputId": "35dbb889-47be-424b-f07a-b887c37efe9c"
   },
   "outputs": [
    {
     "data": {
      "text/html": [
       "<div>\n",
       "<style scoped>\n",
       "    .dataframe tbody tr th:only-of-type {\n",
       "        vertical-align: middle;\n",
       "    }\n",
       "\n",
       "    .dataframe tbody tr th {\n",
       "        vertical-align: top;\n",
       "    }\n",
       "\n",
       "    .dataframe thead th {\n",
       "        text-align: right;\n",
       "    }\n",
       "</style>\n",
       "<table border=\"1\" class=\"dataframe\">\n",
       "  <thead>\n",
       "    <tr style=\"text-align: right;\">\n",
       "      <th></th>\n",
       "      <th>reviews_rating</th>\n",
       "      <th>Number_Of_Ratings</th>\n",
       "    </tr>\n",
       "    <tr>\n",
       "      <th>id</th>\n",
       "      <th></th>\n",
       "      <th></th>\n",
       "    </tr>\n",
       "  </thead>\n",
       "  <tbody>\n",
       "    <tr>\n",
       "      <th>AV13O1A8GV-KLJ3akUyj</th>\n",
       "      <td>5.000000</td>\n",
       "      <td>1</td>\n",
       "    </tr>\n",
       "    <tr>\n",
       "      <th>AV14LG0R-jtxr-f38QfS</th>\n",
       "      <td>5.000000</td>\n",
       "      <td>2</td>\n",
       "    </tr>\n",
       "    <tr>\n",
       "      <th>AV16khLE-jtxr-f38VFn</th>\n",
       "      <td>2.518519</td>\n",
       "      <td>27</td>\n",
       "    </tr>\n",
       "    <tr>\n",
       "      <th>AV1YGDqsGV-KLJ3adc-O</th>\n",
       "      <td>4.129310</td>\n",
       "      <td>348</td>\n",
       "    </tr>\n",
       "    <tr>\n",
       "      <th>AV1YIch7GV-KLJ3addeG</th>\n",
       "      <td>5.000000</td>\n",
       "      <td>1</td>\n",
       "    </tr>\n",
       "  </tbody>\n",
       "</table>\n",
       "</div>"
      ],
      "text/plain": [
       "                      reviews_rating  Number_Of_Ratings\n",
       "id                                                     \n",
       "AV13O1A8GV-KLJ3akUyj        5.000000                  1\n",
       "AV14LG0R-jtxr-f38QfS        5.000000                  2\n",
       "AV16khLE-jtxr-f38VFn        2.518519                 27\n",
       "AV1YGDqsGV-KLJ3adc-O        4.129310                348\n",
       "AV1YIch7GV-KLJ3addeG        5.000000                  1"
      ]
     },
     "execution_count": 17,
     "metadata": {},
     "output_type": "execute_result"
    }
   ],
   "source": [
    "#--- ratings distribution with product id\n",
    "ratings=pd.DataFrame(df.groupby('id')['reviews_rating'].mean())\n",
    "ratings['Number_Of_Ratings']=pd.DataFrame(df.groupby('id')['reviews_rating'].count())\n",
    "ratings.head()"
   ]
  },
  {
   "cell_type": "markdown",
   "metadata": {
    "id": "2ao-78Kh9pGH"
   },
   "source": [
    "Looks like there are few products with very few ratings received.\n",
    "\n",
    "Let's now check the distribution of count of ratings and the mean ratings"
   ]
  },
  {
   "cell_type": "code",
   "execution_count": 18,
   "metadata": {
    "colab": {
     "base_uri": "https://localhost:8080/",
     "height": 353
    },
    "id": "NVkLBusk9hLc",
    "outputId": "59e757e3-afb6-4a3e-a08f-a08cf7b65ba0"
   },
   "outputs": [
    {
     "data": {
      "text/plain": [
       "Text(0.5, 1.0, 'Distribution of Ratings')"
      ]
     },
     "execution_count": 18,
     "metadata": {},
     "output_type": "execute_result"
    },
    {
     "data": {
      "image/png": "[encoded data removed]",
      "text/plain": [
       "<Figure size 1440x360 with 2 Axes>"
      ]
     },
     "metadata": {
      "needs_background": "light"
     },
     "output_type": "display_data"
    }
   ],
   "source": [
    "#distribution of count of ratings and mean ratings\n",
    "plt.figure(figsize=(20,5))\n",
    "plt.subplot(1,2,1)\n",
    "plt.hist(ratings.Number_Of_Ratings)\n",
    "plt.title('Distribution of Count of Each Rating')\n",
    "\n",
    "plt.subplot(1,2,2)\n",
    "plt.hist(ratings.reviews_rating)\n",
    "plt.title('Distribution of Ratings')"
   ]
  },
  {
   "cell_type": "code",
   "execution_count": 19,
   "metadata": {
    "colab": {
     "base_uri": "https://localhost:8080/",
     "height": 294
    },
    "id": "NsyV9NTE9sOF",
    "outputId": "c457d2bf-da36-47ea-d78e-fb33e0c4055e"
   },
   "outputs": [
    {
     "data": {
      "text/html": [
       "<div>\n",
       "<style scoped>\n",
       "    .dataframe tbody tr th:only-of-type {\n",
       "        vertical-align: middle;\n",
       "    }\n",
       "\n",
       "    .dataframe tbody tr th {\n",
       "        vertical-align: top;\n",
       "    }\n",
       "\n",
       "    .dataframe thead th {\n",
       "        text-align: right;\n",
       "    }\n",
       "</style>\n",
       "<table border=\"1\" class=\"dataframe\">\n",
       "  <thead>\n",
       "    <tr style=\"text-align: right;\">\n",
       "      <th></th>\n",
       "      <th>reviews_rating</th>\n",
       "      <th>Number_Of_Ratings</th>\n",
       "    </tr>\n",
       "  </thead>\n",
       "  <tbody>\n",
       "    <tr>\n",
       "      <th>count</th>\n",
       "      <td>271.000000</td>\n",
       "      <td>271.000000</td>\n",
       "    </tr>\n",
       "    <tr>\n",
       "      <th>mean</th>\n",
       "      <td>4.374025</td>\n",
       "      <td>110.701107</td>\n",
       "    </tr>\n",
       "    <tr>\n",
       "      <th>std</th>\n",
       "      <td>0.749857</td>\n",
       "      <td>586.875174</td>\n",
       "    </tr>\n",
       "    <tr>\n",
       "      <th>min</th>\n",
       "      <td>1.000000</td>\n",
       "      <td>1.000000</td>\n",
       "    </tr>\n",
       "    <tr>\n",
       "      <th>25%</th>\n",
       "      <td>4.127155</td>\n",
       "      <td>3.000000</td>\n",
       "    </tr>\n",
       "    <tr>\n",
       "      <th>50%</th>\n",
       "      <td>4.600000</td>\n",
       "      <td>8.000000</td>\n",
       "    </tr>\n",
       "    <tr>\n",
       "      <th>75%</th>\n",
       "      <td>4.909091</td>\n",
       "      <td>29.000000</td>\n",
       "    </tr>\n",
       "    <tr>\n",
       "      <th>max</th>\n",
       "      <td>5.000000</td>\n",
       "      <td>8545.000000</td>\n",
       "    </tr>\n",
       "  </tbody>\n",
       "</table>\n",
       "</div>"
      ],
      "text/plain": [
       "       reviews_rating  Number_Of_Ratings\n",
       "count      271.000000         271.000000\n",
       "mean         4.374025         110.701107\n",
       "std          0.749857         586.875174\n",
       "min          1.000000           1.000000\n",
       "25%          4.127155           3.000000\n",
       "50%          4.600000           8.000000\n",
       "75%          4.909091          29.000000\n",
       "max          5.000000        8545.000000"
      ]
     },
     "execution_count": 19,
     "metadata": {},
     "output_type": "execute_result"
    }
   ],
   "source": [
    "ratings.describe()"
   ]
  },
  {
   "cell_type": "code",
   "execution_count": 20,
   "metadata": {
    "colab": {
     "base_uri": "https://localhost:8080/",
     "height": 368
    },
    "id": "yNrzabAi90It",
    "outputId": "4c1781e2-af71-4fc5-affc-efed58db601a"
   },
   "outputs": [
    {
     "data": {
      "image/png": "[encoded data removed]",
      "text/plain": [
       "<Figure size 576x360 with 1 Axes>"
      ]
     },
     "metadata": {
      "needs_background": "light"
     },
     "output_type": "display_data"
    }
   ],
   "source": [
    "#f, axes = plt.subplots(1,1, figsize=(12,8))\n",
    "#---- Distribution of word reviews by length\n",
    "f = plt.figure(figsize=(8,5))\n",
    "df_reviews = df[['id','reviews_username','reviews_text','reviews_title','reviews_rating']]\n",
    "df_reviews['reviewLength'] = df_reviews['reviews_text'].apply(lambda x: len(x.split()))\n",
    "\n",
    "reviews_word_length = df_reviews.groupby(pd.cut(df_reviews.reviewLength, np.arange(0,330,30))).count()\n",
    "reviews_word_length = reviews_word_length.rename(columns={'reviewLength':'count'})\n",
    "reviews_word_length = reviews_word_length.reset_index()\n",
    "\n",
    "reviewLengthChart = sns.barplot(x='reviewLength',y='count',data=reviews_word_length)\n",
    "reviewLengthChart.set_title('Distribution of Reviews by word length')\n",
    "reviewLengthChart.set_xticklabels(reviewLengthChart.get_xticklabels(), rotation = 45, horizontalalignment = 'right')\n",
    "\n",
    "f.tight_layout()"
   ]
  },
  {
   "cell_type": "markdown",
   "metadata": {
    "id": "MwldHk2Z99du"
   },
   "source": [
    "People usually like to give short review"
   ]
  },
  {
   "cell_type": "code",
   "execution_count": 21,
   "metadata": {
    "colab": {
     "base_uri": "https://localhost:8080/",
     "height": 368
    },
    "id": "zBw8XcNL95IG",
    "outputId": "62f7d8ba-80ad-406f-e4f6-2b743babe028"
   },
   "outputs": [
    {
     "data": {
      "image/png": "[encoded data removed]",
      "text/plain": [
       "<Figure size 576x360 with 1 Axes>"
      ]
     },
     "metadata": {
      "needs_background": "light"
     },
     "output_type": "display_data"
    }
   ],
   "source": [
    "#f, axes = plt.subplots(1,2, figsize=(12,8))\n",
    "f = plt.figure(figsize=(8,5))\n",
    "\n",
    "#--- Distribution of length of reviews vs overall rating\n",
    "reviewLength_vs_Rating = df_reviews[['id','reviewLength','reviews_rating']]\n",
    "reviewLength_vs_Rating = sns.scatterplot(x='reviews_rating', y='reviewLength', data=reviewLength_vs_Rating)\n",
    "reviewLength_vs_Rating.set_title('Review Length vs Overall Rating')\n",
    "\n",
    "f.tight_layout()"
   ]
  },
  {
   "cell_type": "markdown",
   "metadata": {
    "id": "SLG7WIaW_X23"
   },
   "source": [
    "from the above plot we can see that rating and review length are related to each other."
   ]
  },
  {
   "cell_type": "code",
   "execution_count": 22,
   "metadata": {
    "colab": {
     "base_uri": "https://localhost:8080/",
     "height": 368
    },
    "id": "ipZ5L8lf_PdL",
    "outputId": "462e411f-f6d1-49b9-9673-d97ec99286c1"
   },
   "outputs": [
    {
     "data": {
      "image/png": "[encoded data removed]",
      "text/plain": [
       "<Figure size 576x360 with 1 Axes>"
      ]
     },
     "metadata": {
      "needs_background": "light"
     },
     "output_type": "display_data"
    }
   ],
   "source": [
    "#--- mean median and mode of overall ratings\n",
    "f = plt.figure(figsize=(8,5))\n",
    "#---mean\n",
    "stat_reviews_yearly = df.groupby(['year'])['reviews_rating'].mean().reset_index()\n",
    "stat_reviews_yearly = stat_reviews_yearly.rename(columns={'reviews_rating':'mean_overall'})\n",
    "#---median\n",
    "median_yearly = df.groupby(['year'])['reviews_rating'].median().reset_index()\n",
    "stat_reviews_yearly['median_overall'] = median_yearly['reviews_rating']\n",
    "#--- plotting the values\n",
    "sns.lineplot(x='year',y='mean_overall',data=stat_reviews_yearly, label = 'Mean')\n",
    "sns.lineplot(x='year',y='median_overall',data=stat_reviews_yearly, label = 'Median')\n",
    "f.tight_layout()"
   ]
  },
  {
   "cell_type": "markdown",
   "metadata": {
    "id": "YT_cl8KO_cxV"
   },
   "source": [
    "Looking at above plot, we can infer that over the years 2008 to 2018, the mean rating of the products has reduced"
   ]
  },
  {
   "cell_type": "code",
   "execution_count": 23,
   "metadata": {
    "colab": {
     "base_uri": "https://localhost:8080/",
     "height": 960
    },
    "id": "fmOgEksNayLp",
    "outputId": "4ba6f04d-1fb1-41d1-a76d-cb10724c42a1"
   },
   "outputs": [
    {
     "name": "stdout",
     "output_type": "stream",
     "text": [
      "        reviews_username  no of reviews\n",
      "3403   byamazon customer             41\n",
      "15805               mike             41\n",
      "4749               chris             32\n",
      "13806               lisa             16\n",
      "19558               rick             15\n",
      "\n",
      "   no of reviews  count\n",
      "0              1  21304\n",
      "1              2   3008\n",
      "2              3    338\n",
      "3              4    108\n",
      "4              5     60\n"
     ]
    },
    {
     "data": {
      "image/png": "[encoded data removed]",
      "text/plain": [
       "<Figure size 1296x720 with 1 Axes>"
      ]
     },
     "metadata": {
      "needs_background": "light"
     },
     "output_type": "display_data"
    }
   ],
   "source": [
    "#--- Distribution of number of reviews written by each user\n",
    "f = plt.figure(figsize=(18,10))\n",
    "userReviews = df[['reviews_username','id']]\n",
    "userReviews = userReviews.groupby(['reviews_username']).count().reset_index()\n",
    "userReviews = userReviews.sort_values('id',ascending = False)\n",
    "userReviews = userReviews.rename(columns={'id':'no of reviews'})\n",
    "print(userReviews.head())\n",
    "\n",
    "userReviews1 = userReviews.groupby('no of reviews')['reviews_username'].count().reset_index()\n",
    "userReviews1 = userReviews1.rename(columns={'reviews_username':'count'})\n",
    "print()\n",
    "print(userReviews1.head())\n",
    "userReviewChart = sns.barplot(x = 'no of reviews',y = 'count',data = userReviews1)\n",
    "userReviewChart.set_title('Reviews Written by each user')\n",
    "userReviewChart.set_xticklabels(userReviewChart.get_xticklabels(), rotation = 45, horizontalalignment = 'right')\n",
    "f.tight_layout()"
   ]
  },
  {
   "cell_type": "markdown",
   "metadata": {
    "id": "e9v1koVhCNwh"
   },
   "source": [
    "## **Data Pre-processing**"
   ]
  },
  {
   "cell_type": "markdown",
   "metadata": {
    "id": "s7lk4G56C3-_"
   },
   "source": [
    "There exists a lot of duplicates where same product are reviewed by same user many times at same timings. Also same product with different flavours also got reviewed by same user at different timings, so let's average out the ratings of each user for same product."
   ]
  },
  {
   "cell_type": "code",
   "execution_count": 24,
   "metadata": {
    "colab": {
     "base_uri": "https://localhost:8080/"
    },
    "id": "D2rxk1Vj_nTV",
    "outputId": "b0972ad6-6a57-4337-cba9-c2b50f9be67a"
   },
   "outputs": [
    {
     "data": {
      "text/plain": [
       "byamazon customer    39\n",
       "mike                 24\n",
       "chris                19\n",
       "tony                  7\n",
       "scott                 6\n",
       "                     ..\n",
       "not telling           1\n",
       "cass                  1\n",
       "karagr                1\n",
       "rgrbruce              1\n",
       "talmariejohn          1\n",
       "Name: reviews_username, Length: 2116, dtype: int64"
      ]
     },
     "execution_count": 24,
     "metadata": {},
     "output_type": "execute_result"
    }
   ],
   "source": [
    "#duplicates\n",
    "duplicates = df[df.duplicated(subset={\"reviews_username\",\"id\"})]\n",
    "duplicates.reviews_username.value_counts()"
   ]
  },
  {
   "cell_type": "code",
   "execution_count": 25,
   "metadata": {
    "colab": {
     "base_uri": "https://localhost:8080/",
     "height": 1000
    },
    "id": "s4XHRVvNC_6O",
    "outputId": "2411fd90-244d-4807-fe73-782d01f16966"
   },
   "outputs": [
    {
     "data": {
      "text/html": [
       "<div>\n",
       "<style scoped>\n",
       "    .dataframe tbody tr th:only-of-type {\n",
       "        vertical-align: middle;\n",
       "    }\n",
       "\n",
       "    .dataframe tbody tr th {\n",
       "        vertical-align: top;\n",
       "    }\n",
       "\n",
       "    .dataframe thead th {\n",
       "        text-align: right;\n",
       "    }\n",
       "</style>\n",
       "<table border=\"1\" class=\"dataframe\">\n",
       "  <thead>\n",
       "    <tr style=\"text-align: right;\">\n",
       "      <th></th>\n",
       "      <th>id</th>\n",
       "      <th>brand</th>\n",
       "      <th>categories</th>\n",
       "      <th>manufacturer</th>\n",
       "      <th>name</th>\n",
       "      <th>reviews_date</th>\n",
       "      <th>reviews_didPurchase</th>\n",
       "      <th>reviews_doRecommend</th>\n",
       "      <th>reviews_rating</th>\n",
       "      <th>reviews_text</th>\n",
       "      <th>reviews_title</th>\n",
       "      <th>reviews_username</th>\n",
       "      <th>user_sentiment</th>\n",
       "      <th>reviews_onlydate</th>\n",
       "      <th>month</th>\n",
       "      <th>year</th>\n",
       "    </tr>\n",
       "  </thead>\n",
       "  <tbody>\n",
       "    <tr>\n",
       "      <th>16778</th>\n",
       "      <td>AVpf9pzn1cnluZ0-uNTM</td>\n",
       "      <td>Lundberg</td>\n",
       "      <td>Food,Packaged Foods,Packaged Grains,Rice,Brown...</td>\n",
       "      <td>Lundberg Family Farms</td>\n",
       "      <td>Lundberg Wehani Rice, 25lb</td>\n",
       "      <td>2016-02-03T00:00:00.000Z</td>\n",
       "      <td>Null</td>\n",
       "      <td>Null</td>\n",
       "      <td>1</td>\n",
       "      <td>A waste of my money I don't know what kind of ...</td>\n",
       "      <td>Dyed Rice</td>\n",
       "      <td>byamazon customer</td>\n",
       "      <td>Positive</td>\n",
       "      <td>2016-02-03</td>\n",
       "      <td>2</td>\n",
       "      <td>2016</td>\n",
       "    </tr>\n",
       "    <tr>\n",
       "      <th>16799</th>\n",
       "      <td>AVpf9pzn1cnluZ0-uNTM</td>\n",
       "      <td>Lundberg</td>\n",
       "      <td>Food,Packaged Foods,Packaged Grains,Rice,Brown...</td>\n",
       "      <td>Lundberg Family Farms</td>\n",
       "      <td>Lundberg Wehani Rice, 25lb</td>\n",
       "      <td>2017-01-07T00:00:00.000Z</td>\n",
       "      <td>Null</td>\n",
       "      <td>Null</td>\n",
       "      <td>4</td>\n",
       "      <td>Good but if you like it, get it in quantity</td>\n",
       "      <td>Yum</td>\n",
       "      <td>byamazon customer</td>\n",
       "      <td>Positive</td>\n",
       "      <td>2017-01-07</td>\n",
       "      <td>1</td>\n",
       "      <td>2017</td>\n",
       "    </tr>\n",
       "    <tr>\n",
       "      <th>16807</th>\n",
       "      <td>AVpf9pzn1cnluZ0-uNTM</td>\n",
       "      <td>Lundberg</td>\n",
       "      <td>Food,Packaged Foods,Packaged Grains,Rice,Brown...</td>\n",
       "      <td>Lundberg Family Farms</td>\n",
       "      <td>Lundberg Wehani Rice, 25lb</td>\n",
       "      <td>2015-08-19T00:00:00.000Z</td>\n",
       "      <td>Null</td>\n",
       "      <td>Null</td>\n",
       "      <td>4</td>\n",
       "      <td>RICE LOOKS GOOD.</td>\n",
       "      <td>RICE IS FINE</td>\n",
       "      <td>byamazon customer</td>\n",
       "      <td>Positive</td>\n",
       "      <td>2015-08-19</td>\n",
       "      <td>8</td>\n",
       "      <td>2015</td>\n",
       "    </tr>\n",
       "    <tr>\n",
       "      <th>16812</th>\n",
       "      <td>AVpf9pzn1cnluZ0-uNTM</td>\n",
       "      <td>Lundberg</td>\n",
       "      <td>Food,Packaged Foods,Packaged Grains,Rice,Brown...</td>\n",
       "      <td>Lundberg Family Farms</td>\n",
       "      <td>Lundberg Wehani Rice, 25lb</td>\n",
       "      <td>2015-04-08T00:00:00.000Z</td>\n",
       "      <td>Null</td>\n",
       "      <td>Null</td>\n",
       "      <td>4</td>\n",
       "      <td>I love the zip lock seal on these bags (unique...</td>\n",
       "      <td>I love the zip lock seal on these bags (unique...</td>\n",
       "      <td>byamazon customer</td>\n",
       "      <td>Positive</td>\n",
       "      <td>2015-04-08</td>\n",
       "      <td>4</td>\n",
       "      <td>2015</td>\n",
       "    </tr>\n",
       "    <tr>\n",
       "      <th>16824</th>\n",
       "      <td>AVpf9pzn1cnluZ0-uNTM</td>\n",
       "      <td>Lundberg</td>\n",
       "      <td>Food,Packaged Foods,Packaged Grains,Rice,Brown...</td>\n",
       "      <td>Lundberg Family Farms</td>\n",
       "      <td>Lundberg Wehani Rice, 25lb</td>\n",
       "      <td>2011-07-20T00:00:00.000Z</td>\n",
       "      <td>Null</td>\n",
       "      <td>Null</td>\n",
       "      <td>4</td>\n",
       "      <td>Lundberg Jubilee is a blend of sweet brown ric...</td>\n",
       "      <td>Beautiful and High-Quality Rice But Too Much S...</td>\n",
       "      <td>byamazon customer</td>\n",
       "      <td>Positive</td>\n",
       "      <td>2011-07-20</td>\n",
       "      <td>7</td>\n",
       "      <td>2011</td>\n",
       "    </tr>\n",
       "    <tr>\n",
       "      <th>16841</th>\n",
       "      <td>AVpf9pzn1cnluZ0-uNTM</td>\n",
       "      <td>Lundberg</td>\n",
       "      <td>Food,Packaged Foods,Packaged Grains,Rice,Brown...</td>\n",
       "      <td>Lundberg Family Farms</td>\n",
       "      <td>Lundberg Wehani Rice, 25lb</td>\n",
       "      <td>2017-06-05T00:00:00.000Z</td>\n",
       "      <td>Null</td>\n",
       "      <td>Null</td>\n",
       "      <td>5</td>\n",
       "      <td>This takes much longer to cook but the taste i...</td>\n",
       "      <td>Happy</td>\n",
       "      <td>byamazon customer</td>\n",
       "      <td>Positive</td>\n",
       "      <td>2017-06-05</td>\n",
       "      <td>6</td>\n",
       "      <td>2017</td>\n",
       "    </tr>\n",
       "    <tr>\n",
       "      <th>16850</th>\n",
       "      <td>AVpf9pzn1cnluZ0-uNTM</td>\n",
       "      <td>Lundberg</td>\n",
       "      <td>Food,Packaged Foods,Packaged Grains,Rice,Brown...</td>\n",
       "      <td>Lundberg Family Farms</td>\n",
       "      <td>Lundberg Wehani Rice, 25lb</td>\n",
       "      <td>2017-04-20T00:00:00.000Z</td>\n",
       "      <td>Null</td>\n",
       "      <td>Null</td>\n",
       "      <td>5</td>\n",
       "      <td>Great rice in a small package...I'll be buying...</td>\n",
       "      <td>Recommended</td>\n",
       "      <td>byamazon customer</td>\n",
       "      <td>Positive</td>\n",
       "      <td>2017-04-20</td>\n",
       "      <td>4</td>\n",
       "      <td>2017</td>\n",
       "    </tr>\n",
       "    <tr>\n",
       "      <th>16904</th>\n",
       "      <td>AVpf9pzn1cnluZ0-uNTM</td>\n",
       "      <td>Lundberg</td>\n",
       "      <td>Food,Packaged Foods,Packaged Grains,Rice,Brown...</td>\n",
       "      <td>Lundberg Family Farms</td>\n",
       "      <td>Lundberg Wehani Rice, 25lb</td>\n",
       "      <td>2016-07-03T00:00:00.000Z</td>\n",
       "      <td>Null</td>\n",
       "      <td>Null</td>\n",
       "      <td>5</td>\n",
       "      <td>Very tasty! Very earthy rice great for breakfa...</td>\n",
       "      <td>Lindberg is just the best!</td>\n",
       "      <td>byamazon customer</td>\n",
       "      <td>Positive</td>\n",
       "      <td>2016-07-03</td>\n",
       "      <td>7</td>\n",
       "      <td>2016</td>\n",
       "    </tr>\n",
       "    <tr>\n",
       "      <th>16920</th>\n",
       "      <td>AVpf9pzn1cnluZ0-uNTM</td>\n",
       "      <td>Lundberg</td>\n",
       "      <td>Food,Packaged Foods,Packaged Grains,Rice,Brown...</td>\n",
       "      <td>Lundberg Family Farms</td>\n",
       "      <td>Lundberg Wehani Rice, 25lb</td>\n",
       "      <td>2016-06-23T00:00:00.000Z</td>\n",
       "      <td>Null</td>\n",
       "      <td>Null</td>\n",
       "      <td>5</td>\n",
       "      <td>It was great. Very convenient in the 1 lb bags.</td>\n",
       "      <td>Five Stars</td>\n",
       "      <td>byamazon customer</td>\n",
       "      <td>Positive</td>\n",
       "      <td>2016-06-23</td>\n",
       "      <td>6</td>\n",
       "      <td>2016</td>\n",
       "    </tr>\n",
       "    <tr>\n",
       "      <th>16929</th>\n",
       "      <td>AVpf9pzn1cnluZ0-uNTM</td>\n",
       "      <td>Lundberg</td>\n",
       "      <td>Food,Packaged Foods,Packaged Grains,Rice,Brown...</td>\n",
       "      <td>Lundberg Family Farms</td>\n",
       "      <td>Lundberg Wehani Rice, 25lb</td>\n",
       "      <td>2016-02-20T00:00:00.000Z</td>\n",
       "      <td>Null</td>\n",
       "      <td>Null</td>\n",
       "      <td>5</td>\n",
       "      <td>Good rice.</td>\n",
       "      <td>Five Stars</td>\n",
       "      <td>byamazon customer</td>\n",
       "      <td>Positive</td>\n",
       "      <td>2016-02-20</td>\n",
       "      <td>2</td>\n",
       "      <td>2016</td>\n",
       "    </tr>\n",
       "    <tr>\n",
       "      <th>16952</th>\n",
       "      <td>AVpf9pzn1cnluZ0-uNTM</td>\n",
       "      <td>Lundberg</td>\n",
       "      <td>Food,Packaged Foods,Packaged Grains,Rice,Brown...</td>\n",
       "      <td>Lundberg Family Farms</td>\n",
       "      <td>Lundberg Wehani Rice, 25lb</td>\n",
       "      <td>2015-12-13T00:00:00.000Z</td>\n",
       "      <td>Null</td>\n",
       "      <td>Null</td>\n",
       "      <td>5</td>\n",
       "      <td>I tried my first 'Black Rice' at a Thai restau...</td>\n",
       "      <td>So very good for something such as a dessert</td>\n",
       "      <td>byamazon customer</td>\n",
       "      <td>Positive</td>\n",
       "      <td>2015-12-13</td>\n",
       "      <td>12</td>\n",
       "      <td>2015</td>\n",
       "    </tr>\n",
       "    <tr>\n",
       "      <th>17012</th>\n",
       "      <td>AVpf9pzn1cnluZ0-uNTM</td>\n",
       "      <td>Lundberg</td>\n",
       "      <td>Food,Packaged Foods,Packaged Grains,Rice,Brown...</td>\n",
       "      <td>Lundberg Family Farms</td>\n",
       "      <td>Lundberg Wehani Rice, 25lb</td>\n",
       "      <td>2014-12-01T00:00:00.000Z</td>\n",
       "      <td>Null</td>\n",
       "      <td>Null</td>\n",
       "      <td>5</td>\n",
       "      <td>I have always liked this brand of rice product...</td>\n",
       "      <td>I have always liked this brand of rice product...</td>\n",
       "      <td>byamazon customer</td>\n",
       "      <td>Positive</td>\n",
       "      <td>2014-12-01</td>\n",
       "      <td>12</td>\n",
       "      <td>2014</td>\n",
       "    </tr>\n",
       "    <tr>\n",
       "      <th>17013</th>\n",
       "      <td>AVpf9pzn1cnluZ0-uNTM</td>\n",
       "      <td>Lundberg</td>\n",
       "      <td>Food,Packaged Foods,Packaged Grains,Rice,Brown...</td>\n",
       "      <td>Lundberg Family Farms</td>\n",
       "      <td>Lundberg Wehani Rice, 25lb</td>\n",
       "      <td>2014-11-27T00:00:00.000Z</td>\n",
       "      <td>Null</td>\n",
       "      <td>Null</td>\n",
       "      <td>5</td>\n",
       "      <td>Love this rice.</td>\n",
       "      <td>Five Stars</td>\n",
       "      <td>byamazon customer</td>\n",
       "      <td>Positive</td>\n",
       "      <td>2014-11-27</td>\n",
       "      <td>11</td>\n",
       "      <td>2014</td>\n",
       "    </tr>\n",
       "    <tr>\n",
       "      <th>17040</th>\n",
       "      <td>AVpf9pzn1cnluZ0-uNTM</td>\n",
       "      <td>Lundberg</td>\n",
       "      <td>Food,Packaged Foods,Packaged Grains,Rice,Brown...</td>\n",
       "      <td>Lundberg Family Farms</td>\n",
       "      <td>Lundberg Wehani Rice, 25lb</td>\n",
       "      <td>2014-10-12T00:00:00.000Z</td>\n",
       "      <td>Null</td>\n",
       "      <td>Null</td>\n",
       "      <td>5</td>\n",
       "      <td>Delicious! Amazed that rice can be so healthy ...</td>\n",
       "      <td>Amazed that rice can be so healthy for you</td>\n",
       "      <td>byamazon customer</td>\n",
       "      <td>Positive</td>\n",
       "      <td>2014-10-12</td>\n",
       "      <td>10</td>\n",
       "      <td>2014</td>\n",
       "    </tr>\n",
       "    <tr>\n",
       "      <th>17048</th>\n",
       "      <td>AVpf9pzn1cnluZ0-uNTM</td>\n",
       "      <td>Lundberg</td>\n",
       "      <td>Food,Packaged Foods,Packaged Grains,Rice,Brown...</td>\n",
       "      <td>Lundberg Family Farms</td>\n",
       "      <td>Lundberg Wehani Rice, 25lb</td>\n",
       "      <td>2014-10-11T00:00:00.000Z</td>\n",
       "      <td>Null</td>\n",
       "      <td>Null</td>\n",
       "      <td>5</td>\n",
       "      <td>Bought for my grandson who eats clean. He love...</td>\n",
       "      <td>Cam's rice</td>\n",
       "      <td>byamazon customer</td>\n",
       "      <td>Positive</td>\n",
       "      <td>2014-10-11</td>\n",
       "      <td>10</td>\n",
       "      <td>2014</td>\n",
       "    </tr>\n",
       "    <tr>\n",
       "      <th>17059</th>\n",
       "      <td>AVpf9pzn1cnluZ0-uNTM</td>\n",
       "      <td>Lundberg</td>\n",
       "      <td>Food,Packaged Foods,Packaged Grains,Rice,Brown...</td>\n",
       "      <td>Lundberg Family Farms</td>\n",
       "      <td>Lundberg Wehani Rice, 25lb</td>\n",
       "      <td>2014-06-09T00:00:00.000Z</td>\n",
       "      <td>Null</td>\n",
       "      <td>Null</td>\n",
       "      <td>5</td>\n",
       "      <td>Lundberg brown Basmati rice is my favorite bro...</td>\n",
       "      <td>Excellent USA-Grown Brown Rice</td>\n",
       "      <td>byamazon customer</td>\n",
       "      <td>Positive</td>\n",
       "      <td>2014-06-09</td>\n",
       "      <td>6</td>\n",
       "      <td>2014</td>\n",
       "    </tr>\n",
       "    <tr>\n",
       "      <th>17107</th>\n",
       "      <td>AVpf9pzn1cnluZ0-uNTM</td>\n",
       "      <td>Lundberg</td>\n",
       "      <td>Food,Packaged Foods,Packaged Grains,Rice,Brown...</td>\n",
       "      <td>Lundberg Family Farms</td>\n",
       "      <td>Lundberg Wehani Rice, 25lb</td>\n",
       "      <td>2013-05-10T00:00:00.000Z</td>\n",
       "      <td>Null</td>\n",
       "      <td>Null</td>\n",
       "      <td>5</td>\n",
       "      <td>We eat a lot of rice at our house. This rice h...</td>\n",
       "      <td>A ice rice change</td>\n",
       "      <td>byamazon customer</td>\n",
       "      <td>Positive</td>\n",
       "      <td>2013-05-10</td>\n",
       "      <td>5</td>\n",
       "      <td>2013</td>\n",
       "    </tr>\n",
       "    <tr>\n",
       "      <th>17131</th>\n",
       "      <td>AVpf9pzn1cnluZ0-uNTM</td>\n",
       "      <td>Lundberg</td>\n",
       "      <td>Food,Packaged Foods,Packaged Grains,Rice,Brown...</td>\n",
       "      <td>Lundberg Family Farms</td>\n",
       "      <td>Lundberg Wehani Rice, 25lb</td>\n",
       "      <td>2012-11-17T00:00:00.000Z</td>\n",
       "      <td>Null</td>\n",
       "      <td>Null</td>\n",
       "      <td>5</td>\n",
       "      <td>I love this blend! it makes rice not so ordina...</td>\n",
       "      <td>the best blend- nutty flavorful mix</td>\n",
       "      <td>byamazon customer</td>\n",
       "      <td>Positive</td>\n",
       "      <td>2012-11-17</td>\n",
       "      <td>11</td>\n",
       "      <td>2012</td>\n",
       "    </tr>\n",
       "    <tr>\n",
       "      <th>17175</th>\n",
       "      <td>AVpf9pzn1cnluZ0-uNTM</td>\n",
       "      <td>Lundberg</td>\n",
       "      <td>Food,Packaged Foods,Packaged Grains,Rice,Brown...</td>\n",
       "      <td>Lundberg Family Farms</td>\n",
       "      <td>Lundberg Wehani Rice, 25lb</td>\n",
       "      <td>2010-06-05T00:00:00.000Z</td>\n",
       "      <td>Null</td>\n",
       "      <td>Null</td>\n",
       "      <td>5</td>\n",
       "      <td>The rich reddish-brown of this rice is beautif...</td>\n",
       "      <td>best brown rice I've even tasted</td>\n",
       "      <td>byamazon customer</td>\n",
       "      <td>Positive</td>\n",
       "      <td>2010-06-05</td>\n",
       "      <td>6</td>\n",
       "      <td>2010</td>\n",
       "    </tr>\n",
       "    <tr>\n",
       "      <th>26450</th>\n",
       "      <td>AVpfPPkEilAPnD_xX3cP</td>\n",
       "      <td>Aveeno</td>\n",
       "      <td>Personal Care,Sun Care,Featured Brands,Health ...</td>\n",
       "      <td>Aveeno Baby</td>\n",
       "      <td>Aveeno Baby Continuous Protection Lotion Sunsc...</td>\n",
       "      <td>2017-07-05T00:00:00.000Z</td>\n",
       "      <td>Null</td>\n",
       "      <td>Null</td>\n",
       "      <td>1</td>\n",
       "      <td>The first time I used in my infant, he rubbed ...</td>\n",
       "      <td>Not Tear Free Not Useful</td>\n",
       "      <td>byamazon customer</td>\n",
       "      <td>Positive</td>\n",
       "      <td>2017-07-05</td>\n",
       "      <td>7</td>\n",
       "      <td>2017</td>\n",
       "    </tr>\n",
       "    <tr>\n",
       "      <th>26500</th>\n",
       "      <td>AVpfPPkEilAPnD_xX3cP</td>\n",
       "      <td>Aveeno</td>\n",
       "      <td>Personal Care,Sun Care,Featured Brands,Health ...</td>\n",
       "      <td>Aveeno Baby</td>\n",
       "      <td>Aveeno Baby Continuous Protection Lotion Sunsc...</td>\n",
       "      <td>2017-02-03T00:00:00.000Z</td>\n",
       "      <td>Null</td>\n",
       "      <td>Null</td>\n",
       "      <td>1</td>\n",
       "      <td>baby is allergic.</td>\n",
       "      <td>be careful</td>\n",
       "      <td>byamazon customer</td>\n",
       "      <td>Negative</td>\n",
       "      <td>2017-02-03</td>\n",
       "      <td>2</td>\n",
       "      <td>2017</td>\n",
       "    </tr>\n",
       "    <tr>\n",
       "      <th>26501</th>\n",
       "      <td>AVpfPPkEilAPnD_xX3cP</td>\n",
       "      <td>Aveeno</td>\n",
       "      <td>Personal Care,Sun Care,Featured Brands,Health ...</td>\n",
       "      <td>Aveeno Baby</td>\n",
       "      <td>Aveeno Baby Continuous Protection Lotion Sunsc...</td>\n",
       "      <td>2016-12-12T00:00:00.000Z</td>\n",
       "      <td>Null</td>\n",
       "      <td>Null</td>\n",
       "      <td>1</td>\n",
       "      <td>Bought the sunscreen. Didn't like it. Baby's s...</td>\n",
       "      <td>Disappointed</td>\n",
       "      <td>byamazon customer</td>\n",
       "      <td>Positive</td>\n",
       "      <td>2016-12-12</td>\n",
       "      <td>12</td>\n",
       "      <td>2016</td>\n",
       "    </tr>\n",
       "    <tr>\n",
       "      <th>26502</th>\n",
       "      <td>AVpfPPkEilAPnD_xX3cP</td>\n",
       "      <td>Aveeno</td>\n",
       "      <td>Personal Care,Sun Care,Featured Brands,Health ...</td>\n",
       "      <td>Aveeno Baby</td>\n",
       "      <td>Aveeno Baby Continuous Protection Lotion Sunsc...</td>\n",
       "      <td>2016-11-13T00:00:00.000Z</td>\n",
       "      <td>Null</td>\n",
       "      <td>Null</td>\n",
       "      <td>1</td>\n",
       "      <td>i don't like it.</td>\n",
       "      <td>One Star</td>\n",
       "      <td>byamazon customer</td>\n",
       "      <td>Negative</td>\n",
       "      <td>2016-11-13</td>\n",
       "      <td>11</td>\n",
       "      <td>2016</td>\n",
       "    </tr>\n",
       "    <tr>\n",
       "      <th>26503</th>\n",
       "      <td>AVpfPPkEilAPnD_xX3cP</td>\n",
       "      <td>Aveeno</td>\n",
       "      <td>Personal Care,Sun Care,Featured Brands,Health ...</td>\n",
       "      <td>Aveeno Baby</td>\n",
       "      <td>Aveeno Baby Continuous Protection Lotion Sunsc...</td>\n",
       "      <td>2016-08-06T00:00:00.000Z</td>\n",
       "      <td>Null</td>\n",
       "      <td>Null</td>\n",
       "      <td>1</td>\n",
       "      <td>I literally have no idea why a product for bab...</td>\n",
       "      <td>NOT TEARLESS</td>\n",
       "      <td>byamazon customer</td>\n",
       "      <td>Positive</td>\n",
       "      <td>2016-08-06</td>\n",
       "      <td>8</td>\n",
       "      <td>2016</td>\n",
       "    </tr>\n",
       "    <tr>\n",
       "      <th>26504</th>\n",
       "      <td>AVpfPPkEilAPnD_xX3cP</td>\n",
       "      <td>Aveeno</td>\n",
       "      <td>Personal Care,Sun Care,Featured Brands,Health ...</td>\n",
       "      <td>Aveeno Baby</td>\n",
       "      <td>Aveeno Baby Continuous Protection Lotion Sunsc...</td>\n",
       "      <td>2016-08-05T00:00:00.000Z</td>\n",
       "      <td>Null</td>\n",
       "      <td>Null</td>\n",
       "      <td>1</td>\n",
       "      <td>Really stings eyes. Wouldn't use on babySmears...</td>\n",
       "      <td>One Star</td>\n",
       "      <td>byamazon customer</td>\n",
       "      <td>Negative</td>\n",
       "      <td>2016-08-05</td>\n",
       "      <td>8</td>\n",
       "      <td>2016</td>\n",
       "    </tr>\n",
       "    <tr>\n",
       "      <th>26506</th>\n",
       "      <td>AVpfPPkEilAPnD_xX3cP</td>\n",
       "      <td>Aveeno</td>\n",
       "      <td>Personal Care,Sun Care,Featured Brands,Health ...</td>\n",
       "      <td>Aveeno Baby</td>\n",
       "      <td>Aveeno Baby Continuous Protection Lotion Sunsc...</td>\n",
       "      <td>2016-06-30T00:00:00.000Z</td>\n",
       "      <td>Null</td>\n",
       "      <td>Null</td>\n",
       "      <td>1</td>\n",
       "      <td>We used this product last summer while on vaca...</td>\n",
       "      <td>Aveenos WORST baby product!</td>\n",
       "      <td>byamazon customer</td>\n",
       "      <td>Negative</td>\n",
       "      <td>2016-06-30</td>\n",
       "      <td>6</td>\n",
       "      <td>2016</td>\n",
       "    </tr>\n",
       "    <tr>\n",
       "      <th>26510</th>\n",
       "      <td>AVpfPPkEilAPnD_xX3cP</td>\n",
       "      <td>Aveeno</td>\n",
       "      <td>Personal Care,Sun Care,Featured Brands,Health ...</td>\n",
       "      <td>Aveeno Baby</td>\n",
       "      <td>Aveeno Baby Continuous Protection Lotion Sunsc...</td>\n",
       "      <td>2016-04-03T00:00:00.000Z</td>\n",
       "      <td>Null</td>\n",
       "      <td>Null</td>\n",
       "      <td>1</td>\n",
       "      <td>My daughter had ezcema has a young baby but it...</td>\n",
       "      <td>I bought this thinking it would be fine but sh...</td>\n",
       "      <td>byamazon customer</td>\n",
       "      <td>Positive</td>\n",
       "      <td>2016-04-03</td>\n",
       "      <td>4</td>\n",
       "      <td>2016</td>\n",
       "    </tr>\n",
       "    <tr>\n",
       "      <th>26551</th>\n",
       "      <td>AVpfPPkEilAPnD_xX3cP</td>\n",
       "      <td>Aveeno</td>\n",
       "      <td>Personal Care,Sun Care,Featured Brands,Health ...</td>\n",
       "      <td>Aveeno Baby</td>\n",
       "      <td>Aveeno Baby Continuous Protection Lotion Sunsc...</td>\n",
       "      <td>2016-05-11T00:00:00.000Z</td>\n",
       "      <td>Null</td>\n",
       "      <td>Null</td>\n",
       "      <td>2</td>\n",
       "      <td>I thought this was working okay until I notice...</td>\n",
       "      <td>What a waste. Get something that is waterproof</td>\n",
       "      <td>byamazon customer</td>\n",
       "      <td>Positive</td>\n",
       "      <td>2016-05-11</td>\n",
       "      <td>5</td>\n",
       "      <td>2016</td>\n",
       "    </tr>\n",
       "    <tr>\n",
       "      <th>26646</th>\n",
       "      <td>AVpfPPkEilAPnD_xX3cP</td>\n",
       "      <td>Aveeno</td>\n",
       "      <td>Personal Care,Sun Care,Featured Brands,Health ...</td>\n",
       "      <td>Aveeno Baby</td>\n",
       "      <td>Aveeno Baby Continuous Protection Lotion Sunsc...</td>\n",
       "      <td>2016-12-09T00:00:00.000Z</td>\n",
       "      <td>Null</td>\n",
       "      <td>Null</td>\n",
       "      <td>5</td>\n",
       "      <td>very good</td>\n",
       "      <td>Five Stars</td>\n",
       "      <td>byamazon customer</td>\n",
       "      <td>Positive</td>\n",
       "      <td>2016-12-09</td>\n",
       "      <td>12</td>\n",
       "      <td>2016</td>\n",
       "    </tr>\n",
       "    <tr>\n",
       "      <th>26652</th>\n",
       "      <td>AVpfPPkEilAPnD_xX3cP</td>\n",
       "      <td>Aveeno</td>\n",
       "      <td>Personal Care,Sun Care,Featured Brands,Health ...</td>\n",
       "      <td>Aveeno Baby</td>\n",
       "      <td>Aveeno Baby Continuous Protection Lotion Sunsc...</td>\n",
       "      <td>2016-09-28T00:00:00.000Z</td>\n",
       "      <td>Null</td>\n",
       "      <td>Null</td>\n",
       "      <td>5</td>\n",
       "      <td>No bad smell</td>\n",
       "      <td>Five Stars</td>\n",
       "      <td>byamazon customer</td>\n",
       "      <td>Positive</td>\n",
       "      <td>2016-09-28</td>\n",
       "      <td>9</td>\n",
       "      <td>2016</td>\n",
       "    </tr>\n",
       "    <tr>\n",
       "      <th>26656</th>\n",
       "      <td>AVpfPPkEilAPnD_xX3cP</td>\n",
       "      <td>Aveeno</td>\n",
       "      <td>Personal Care,Sun Care,Featured Brands,Health ...</td>\n",
       "      <td>Aveeno Baby</td>\n",
       "      <td>Aveeno Baby Continuous Protection Lotion Sunsc...</td>\n",
       "      <td>2016-09-06T00:00:00.000Z</td>\n",
       "      <td>Null</td>\n",
       "      <td>Null</td>\n",
       "      <td>5</td>\n",
       "      <td>it is good.</td>\n",
       "      <td>Five Stars</td>\n",
       "      <td>byamazon customer</td>\n",
       "      <td>Positive</td>\n",
       "      <td>2016-09-06</td>\n",
       "      <td>9</td>\n",
       "      <td>2016</td>\n",
       "    </tr>\n",
       "    <tr>\n",
       "      <th>26668</th>\n",
       "      <td>AVpfPPkEilAPnD_xX3cP</td>\n",
       "      <td>Aveeno</td>\n",
       "      <td>Personal Care,Sun Care,Featured Brands,Health ...</td>\n",
       "      <td>Aveeno Baby</td>\n",
       "      <td>Aveeno Baby Continuous Protection Lotion Sunsc...</td>\n",
       "      <td>2016-07-03T00:00:00.000Z</td>\n",
       "      <td>Null</td>\n",
       "      <td>Null</td>\n",
       "      <td>5</td>\n",
       "      <td>Amazing!! After researching all the different ...</td>\n",
       "      <td>Great product!!</td>\n",
       "      <td>byamazon customer</td>\n",
       "      <td>Positive</td>\n",
       "      <td>2016-07-03</td>\n",
       "      <td>7</td>\n",
       "      <td>2016</td>\n",
       "    </tr>\n",
       "    <tr>\n",
       "      <th>26675</th>\n",
       "      <td>AVpfPPkEilAPnD_xX3cP</td>\n",
       "      <td>Aveeno</td>\n",
       "      <td>Personal Care,Sun Care,Featured Brands,Health ...</td>\n",
       "      <td>Aveeno Baby</td>\n",
       "      <td>Aveeno Baby Continuous Protection Lotion Sunsc...</td>\n",
       "      <td>2016-07-26T00:00:00.000Z</td>\n",
       "      <td>Null</td>\n",
       "      <td>Null</td>\n",
       "      <td>5</td>\n",
       "      <td>My favorite baby sunscreen! Not greasy, and it...</td>\n",
       "      <td>My favorite baby sunscreen</td>\n",
       "      <td>byamazon customer</td>\n",
       "      <td>Positive</td>\n",
       "      <td>2016-07-26</td>\n",
       "      <td>7</td>\n",
       "      <td>2016</td>\n",
       "    </tr>\n",
       "    <tr>\n",
       "      <th>26681</th>\n",
       "      <td>AVpfPPkEilAPnD_xX3cP</td>\n",
       "      <td>Aveeno</td>\n",
       "      <td>Personal Care,Sun Care,Featured Brands,Health ...</td>\n",
       "      <td>Aveeno Baby</td>\n",
       "      <td>Aveeno Baby Continuous Protection Lotion Sunsc...</td>\n",
       "      <td>2016-06-14T00:00:00.000Z</td>\n",
       "      <td>Null</td>\n",
       "      <td>Null</td>\n",
       "      <td>5</td>\n",
       "      <td>Love this product.</td>\n",
       "      <td>Five Stars</td>\n",
       "      <td>byamazon customer</td>\n",
       "      <td>Positive</td>\n",
       "      <td>2016-06-14</td>\n",
       "      <td>6</td>\n",
       "      <td>2016</td>\n",
       "    </tr>\n",
       "    <tr>\n",
       "      <th>26682</th>\n",
       "      <td>AVpfPPkEilAPnD_xX3cP</td>\n",
       "      <td>Aveeno</td>\n",
       "      <td>Personal Care,Sun Care,Featured Brands,Health ...</td>\n",
       "      <td>Aveeno Baby</td>\n",
       "      <td>Aveeno Baby Continuous Protection Lotion Sunsc...</td>\n",
       "      <td>2016-06-08T00:00:00.000Z</td>\n",
       "      <td>Null</td>\n",
       "      <td>Null</td>\n",
       "      <td>5</td>\n",
       "      <td>this is the only sunscreen I've found that doe...</td>\n",
       "      <td>Five Stars</td>\n",
       "      <td>byamazon customer</td>\n",
       "      <td>Negative</td>\n",
       "      <td>2016-06-08</td>\n",
       "      <td>6</td>\n",
       "      <td>2016</td>\n",
       "    </tr>\n",
       "    <tr>\n",
       "      <th>26689</th>\n",
       "      <td>AVpfPPkEilAPnD_xX3cP</td>\n",
       "      <td>Aveeno</td>\n",
       "      <td>Personal Care,Sun Care,Featured Brands,Health ...</td>\n",
       "      <td>Aveeno Baby</td>\n",
       "      <td>Aveeno Baby Continuous Protection Lotion Sunsc...</td>\n",
       "      <td>2016-05-24T00:00:00.000Z</td>\n",
       "      <td>Null</td>\n",
       "      <td>Null</td>\n",
       "      <td>5</td>\n",
       "      <td>No Issues!! prompt delivery. Use it everyday</td>\n",
       "      <td>Five Stars</td>\n",
       "      <td>byamazon customer</td>\n",
       "      <td>Negative</td>\n",
       "      <td>2016-05-24</td>\n",
       "      <td>5</td>\n",
       "      <td>2016</td>\n",
       "    </tr>\n",
       "    <tr>\n",
       "      <th>26695</th>\n",
       "      <td>AVpfPPkEilAPnD_xX3cP</td>\n",
       "      <td>Aveeno</td>\n",
       "      <td>Personal Care,Sun Care,Featured Brands,Health ...</td>\n",
       "      <td>Aveeno Baby</td>\n",
       "      <td>Aveeno Baby Continuous Protection Lotion Sunsc...</td>\n",
       "      <td>2016-04-07T00:00:00.000Z</td>\n",
       "      <td>Null</td>\n",
       "      <td>Null</td>\n",
       "      <td>5</td>\n",
       "      <td>good</td>\n",
       "      <td>Five Stars</td>\n",
       "      <td>byamazon customer</td>\n",
       "      <td>Positive</td>\n",
       "      <td>2016-04-07</td>\n",
       "      <td>4</td>\n",
       "      <td>2016</td>\n",
       "    </tr>\n",
       "    <tr>\n",
       "      <th>26699</th>\n",
       "      <td>AVpfPPkEilAPnD_xX3cP</td>\n",
       "      <td>Aveeno</td>\n",
       "      <td>Personal Care,Sun Care,Featured Brands,Health ...</td>\n",
       "      <td>Aveeno Baby</td>\n",
       "      <td>Aveeno Baby Continuous Protection Lotion Sunsc...</td>\n",
       "      <td>2016-03-22T00:00:00.000Z</td>\n",
       "      <td>Null</td>\n",
       "      <td>Null</td>\n",
       "      <td>5</td>\n",
       "      <td>Good product</td>\n",
       "      <td>Five Stars</td>\n",
       "      <td>byamazon customer</td>\n",
       "      <td>Positive</td>\n",
       "      <td>2016-03-22</td>\n",
       "      <td>3</td>\n",
       "      <td>2016</td>\n",
       "    </tr>\n",
       "    <tr>\n",
       "      <th>26732</th>\n",
       "      <td>AVpfPPkEilAPnD_xX3cP</td>\n",
       "      <td>Aveeno</td>\n",
       "      <td>Personal Care,Sun Care,Featured Brands,Health ...</td>\n",
       "      <td>Aveeno Baby</td>\n",
       "      <td>Aveeno Baby Continuous Protection Lotion Sunsc...</td>\n",
       "      <td>2016-03-11T00:00:00.000Z</td>\n",
       "      <td>Null</td>\n",
       "      <td>Null</td>\n",
       "      <td>5</td>\n",
       "      <td>Great product</td>\n",
       "      <td>Five Stars</td>\n",
       "      <td>byamazon customer</td>\n",
       "      <td>Positive</td>\n",
       "      <td>2016-03-11</td>\n",
       "      <td>3</td>\n",
       "      <td>2016</td>\n",
       "    </tr>\n",
       "    <tr>\n",
       "      <th>26741</th>\n",
       "      <td>AVpfPPkEilAPnD_xX3cP</td>\n",
       "      <td>Aveeno</td>\n",
       "      <td>Personal Care,Sun Care,Featured Brands,Health ...</td>\n",
       "      <td>Aveeno Baby</td>\n",
       "      <td>Aveeno Baby Continuous Protection Lotion Sunsc...</td>\n",
       "      <td>2015-08-25T00:00:00.000Z</td>\n",
       "      <td>Null</td>\n",
       "      <td>Null</td>\n",
       "      <td>5</td>\n",
       "      <td>Good</td>\n",
       "      <td>Five Stars</td>\n",
       "      <td>byamazon customer</td>\n",
       "      <td>Positive</td>\n",
       "      <td>2015-08-25</td>\n",
       "      <td>8</td>\n",
       "      <td>2015</td>\n",
       "    </tr>\n",
       "    <tr>\n",
       "      <th>26756</th>\n",
       "      <td>AVpfPPkEilAPnD_xX3cP</td>\n",
       "      <td>Aveeno</td>\n",
       "      <td>Personal Care,Sun Care,Featured Brands,Health ...</td>\n",
       "      <td>Aveeno Baby</td>\n",
       "      <td>Aveeno Baby Continuous Protection Lotion Sunsc...</td>\n",
       "      <td>2014-11-23T00:00:00.000Z</td>\n",
       "      <td>Null</td>\n",
       "      <td>Null</td>\n",
       "      <td>5</td>\n",
       "      <td>Perfect</td>\n",
       "      <td>Five Stars</td>\n",
       "      <td>byamazon customer</td>\n",
       "      <td>Positive</td>\n",
       "      <td>2014-11-23</td>\n",
       "      <td>11</td>\n",
       "      <td>2014</td>\n",
       "    </tr>\n",
       "  </tbody>\n",
       "</table>\n",
       "</div>"
      ],
      "text/plain": [
       "                         id     brand  \\\n",
       "16778  AVpf9pzn1cnluZ0-uNTM  Lundberg   \n",
       "16799  AVpf9pzn1cnluZ0-uNTM  Lundberg   \n",
       "16807  AVpf9pzn1cnluZ0-uNTM  Lundberg   \n",
       "16812  AVpf9pzn1cnluZ0-uNTM  Lundberg   \n",
       "16824  AVpf9pzn1cnluZ0-uNTM  Lundberg   \n",
       "16841  AVpf9pzn1cnluZ0-uNTM  Lundberg   \n",
       "16850  AVpf9pzn1cnluZ0-uNTM  Lundberg   \n",
       "16904  AVpf9pzn1cnluZ0-uNTM  Lundberg   \n",
       "16920  AVpf9pzn1cnluZ0-uNTM  Lundberg   \n",
       "16929  AVpf9pzn1cnluZ0-uNTM  Lundberg   \n",
       "16952  AVpf9pzn1cnluZ0-uNTM  Lundberg   \n",
       "17012  AVpf9pzn1cnluZ0-uNTM  Lundberg   \n",
       "17013  AVpf9pzn1cnluZ0-uNTM  Lundberg   \n",
       "17040  AVpf9pzn1cnluZ0-uNTM  Lundberg   \n",
       "17048  AVpf9pzn1cnluZ0-uNTM  Lundberg   \n",
       "17059  AVpf9pzn1cnluZ0-uNTM  Lundberg   \n",
       "17107  AVpf9pzn1cnluZ0-uNTM  Lundberg   \n",
       "17131  AVpf9pzn1cnluZ0-uNTM  Lundberg   \n",
       "17175  AVpf9pzn1cnluZ0-uNTM  Lundberg   \n",
       "26450  AVpfPPkEilAPnD_xX3cP    Aveeno   \n",
       "26500  AVpfPPkEilAPnD_xX3cP    Aveeno   \n",
       "26501  AVpfPPkEilAPnD_xX3cP    Aveeno   \n",
       "26502  AVpfPPkEilAPnD_xX3cP    Aveeno   \n",
       "26503  AVpfPPkEilAPnD_xX3cP    Aveeno   \n",
       "26504  AVpfPPkEilAPnD_xX3cP    Aveeno   \n",
       "26506  AVpfPPkEilAPnD_xX3cP    Aveeno   \n",
       "26510  AVpfPPkEilAPnD_xX3cP    Aveeno   \n",
       "26551  AVpfPPkEilAPnD_xX3cP    Aveeno   \n",
       "26646  AVpfPPkEilAPnD_xX3cP    Aveeno   \n",
       "26652  AVpfPPkEilAPnD_xX3cP    Aveeno   \n",
       "26656  AVpfPPkEilAPnD_xX3cP    Aveeno   \n",
       "26668  AVpfPPkEilAPnD_xX3cP    Aveeno   \n",
       "26675  AVpfPPkEilAPnD_xX3cP    Aveeno   \n",
       "26681  AVpfPPkEilAPnD_xX3cP    Aveeno   \n",
       "26682  AVpfPPkEilAPnD_xX3cP    Aveeno   \n",
       "26689  AVpfPPkEilAPnD_xX3cP    Aveeno   \n",
       "26695  AVpfPPkEilAPnD_xX3cP    Aveeno   \n",
       "26699  AVpfPPkEilAPnD_xX3cP    Aveeno   \n",
       "26732  AVpfPPkEilAPnD_xX3cP    Aveeno   \n",
       "26741  AVpfPPkEilAPnD_xX3cP    Aveeno   \n",
       "26756  AVpfPPkEilAPnD_xX3cP    Aveeno   \n",
       "\n",
       "                                              categories  \\\n",
       "16778  Food,Packaged Foods,Packaged Grains,Rice,Brown...   \n",
       "16799  Food,Packaged Foods,Packaged Grains,Rice,Brown...   \n",
       "16807  Food,Packaged Foods,Packaged Grains,Rice,Brown...   \n",
       "16812  Food,Packaged Foods,Packaged Grains,Rice,Brown...   \n",
       "16824  Food,Packaged Foods,Packaged Grains,Rice,Brown...   \n",
       "16841  Food,Packaged Foods,Packaged Grains,Rice,Brown...   \n",
       "16850  Food,Packaged Foods,Packaged Grains,Rice,Brown...   \n",
       "16904  Food,Packaged Foods,Packaged Grains,Rice,Brown...   \n",
       "16920  Food,Packaged Foods,Packaged Grains,Rice,Brown...   \n",
       "16929  Food,Packaged Foods,Packaged Grains,Rice,Brown...   \n",
       "16952  Food,Packaged Foods,Packaged Grains,Rice,Brown...   \n",
       "17012  Food,Packaged Foods,Packaged Grains,Rice,Brown...   \n",
       "17013  Food,Packaged Foods,Packaged Grains,Rice,Brown...   \n",
       "17040  Food,Packaged Foods,Packaged Grains,Rice,Brown...   \n",
       "17048  Food,Packaged Foods,Packaged Grains,Rice,Brown...   \n",
       "17059  Food,Packaged Foods,Packaged Grains,Rice,Brown...   \n",
       "17107  Food,Packaged Foods,Packaged Grains,Rice,Brown...   \n",
       "17131  Food,Packaged Foods,Packaged Grains,Rice,Brown...   \n",
       "17175  Food,Packaged Foods,Packaged Grains,Rice,Brown...   \n",
       "26450  Personal Care,Sun Care,Featured Brands,Health ...   \n",
       "26500  Personal Care,Sun Care,Featured Brands,Health ...   \n",
       "26501  Personal Care,Sun Care,Featured Brands,Health ...   \n",
       "26502  Personal Care,Sun Care,Featured Brands,Health ...   \n",
       "26503  Personal Care,Sun Care,Featured Brands,Health ...   \n",
       "26504  Personal Care,Sun Care,Featured Brands,Health ...   \n",
       "26506  Personal Care,Sun Care,Featured Brands,Health ...   \n",
       "26510  Personal Care,Sun Care,Featured Brands,Health ...   \n",
       "26551  Personal Care,Sun Care,Featured Brands,Health ...   \n",
       "26646  Personal Care,Sun Care,Featured Brands,Health ...   \n",
       "26652  Personal Care,Sun Care,Featured Brands,Health ...   \n",
       "26656  Personal Care,Sun Care,Featured Brands,Health ...   \n",
       "26668  Personal Care,Sun Care,Featured Brands,Health ...   \n",
       "26675  Personal Care,Sun Care,Featured Brands,Health ...   \n",
       "26681  Personal Care,Sun Care,Featured Brands,Health ...   \n",
       "26682  Personal Care,Sun Care,Featured Brands,Health ...   \n",
       "26689  Personal Care,Sun Care,Featured Brands,Health ...   \n",
       "26695  Personal Care,Sun Care,Featured Brands,Health ...   \n",
       "26699  Personal Care,Sun Care,Featured Brands,Health ...   \n",
       "26732  Personal Care,Sun Care,Featured Brands,Health ...   \n",
       "26741  Personal Care,Sun Care,Featured Brands,Health ...   \n",
       "26756  Personal Care,Sun Care,Featured Brands,Health ...   \n",
       "\n",
       "                manufacturer  \\\n",
       "16778  Lundberg Family Farms   \n",
       "16799  Lundberg Family Farms   \n",
       "16807  Lundberg Family Farms   \n",
       "16812  Lundberg Family Farms   \n",
       "16824  Lundberg Family Farms   \n",
       "16841  Lundberg Family Farms   \n",
       "16850  Lundberg Family Farms   \n",
       "16904  Lundberg Family Farms   \n",
       "16920  Lundberg Family Farms   \n",
       "16929  Lundberg Family Farms   \n",
       "16952  Lundberg Family Farms   \n",
       "17012  Lundberg Family Farms   \n",
       "17013  Lundberg Family Farms   \n",
       "17040  Lundberg Family Farms   \n",
       "17048  Lundberg Family Farms   \n",
       "17059  Lundberg Family Farms   \n",
       "17107  Lundberg Family Farms   \n",
       "17131  Lundberg Family Farms   \n",
       "17175  Lundberg Family Farms   \n",
       "26450            Aveeno Baby   \n",
       "26500            Aveeno Baby   \n",
       "26501            Aveeno Baby   \n",
       "26502            Aveeno Baby   \n",
       "26503            Aveeno Baby   \n",
       "26504            Aveeno Baby   \n",
       "26506            Aveeno Baby   \n",
       "26510            Aveeno Baby   \n",
       "26551            Aveeno Baby   \n",
       "26646            Aveeno Baby   \n",
       "26652            Aveeno Baby   \n",
       "26656            Aveeno Baby   \n",
       "26668            Aveeno Baby   \n",
       "26675            Aveeno Baby   \n",
       "26681            Aveeno Baby   \n",
       "26682            Aveeno Baby   \n",
       "26689            Aveeno Baby   \n",
       "26695            Aveeno Baby   \n",
       "26699            Aveeno Baby   \n",
       "26732            Aveeno Baby   \n",
       "26741            Aveeno Baby   \n",
       "26756            Aveeno Baby   \n",
       "\n",
       "                                                    name  \\\n",
       "16778                         Lundberg Wehani Rice, 25lb   \n",
       "16799                         Lundberg Wehani Rice, 25lb   \n",
       "16807                         Lundberg Wehani Rice, 25lb   \n",
       "16812                         Lundberg Wehani Rice, 25lb   \n",
       "16824                         Lundberg Wehani Rice, 25lb   \n",
       "16841                         Lundberg Wehani Rice, 25lb   \n",
       "16850                         Lundberg Wehani Rice, 25lb   \n",
       "16904                         Lundberg Wehani Rice, 25lb   \n",
       "16920                         Lundberg Wehani Rice, 25lb   \n",
       "16929                         Lundberg Wehani Rice, 25lb   \n",
       "16952                         Lundberg Wehani Rice, 25lb   \n",
       "17012                         Lundberg Wehani Rice, 25lb   \n",
       "17013                         Lundberg Wehani Rice, 25lb   \n",
       "17040                         Lundberg Wehani Rice, 25lb   \n",
       "17048                         Lundberg Wehani Rice, 25lb   \n",
       "17059                         Lundberg Wehani Rice, 25lb   \n",
       "17107                         Lundberg Wehani Rice, 25lb   \n",
       "17131                         Lundberg Wehani Rice, 25lb   \n",
       "17175                         Lundberg Wehani Rice, 25lb   \n",
       "26450  Aveeno Baby Continuous Protection Lotion Sunsc...   \n",
       "26500  Aveeno Baby Continuous Protection Lotion Sunsc...   \n",
       "26501  Aveeno Baby Continuous Protection Lotion Sunsc...   \n",
       "26502  Aveeno Baby Continuous Protection Lotion Sunsc...   \n",
       "26503  Aveeno Baby Continuous Protection Lotion Sunsc...   \n",
       "26504  Aveeno Baby Continuous Protection Lotion Sunsc...   \n",
       "26506  Aveeno Baby Continuous Protection Lotion Sunsc...   \n",
       "26510  Aveeno Baby Continuous Protection Lotion Sunsc...   \n",
       "26551  Aveeno Baby Continuous Protection Lotion Sunsc...   \n",
       "26646  Aveeno Baby Continuous Protection Lotion Sunsc...   \n",
       "26652  Aveeno Baby Continuous Protection Lotion Sunsc...   \n",
       "26656  Aveeno Baby Continuous Protection Lotion Sunsc...   \n",
       "26668  Aveeno Baby Continuous Protection Lotion Sunsc...   \n",
       "26675  Aveeno Baby Continuous Protection Lotion Sunsc...   \n",
       "26681  Aveeno Baby Continuous Protection Lotion Sunsc...   \n",
       "26682  Aveeno Baby Continuous Protection Lotion Sunsc...   \n",
       "26689  Aveeno Baby Continuous Protection Lotion Sunsc...   \n",
       "26695  Aveeno Baby Continuous Protection Lotion Sunsc...   \n",
       "26699  Aveeno Baby Continuous Protection Lotion Sunsc...   \n",
       "26732  Aveeno Baby Continuous Protection Lotion Sunsc...   \n",
       "26741  Aveeno Baby Continuous Protection Lotion Sunsc...   \n",
       "26756  Aveeno Baby Continuous Protection Lotion Sunsc...   \n",
       "\n",
       "                   reviews_date reviews_didPurchase reviews_doRecommend  \\\n",
       "16778  2016-02-03T00:00:00.000Z                Null                Null   \n",
       "16799  2017-01-07T00:00:00.000Z                Null                Null   \n",
       "16807  2015-08-19T00:00:00.000Z                Null                Null   \n",
       "16812  2015-04-08T00:00:00.000Z                Null                Null   \n",
       "16824  2011-07-20T00:00:00.000Z                Null                Null   \n",
       "16841  2017-06-05T00:00:00.000Z                Null                Null   \n",
       "16850  2017-04-20T00:00:00.000Z                Null                Null   \n",
       "16904  2016-07-03T00:00:00.000Z                Null                Null   \n",
       "16920  2016-06-23T00:00:00.000Z                Null                Null   \n",
       "16929  2016-02-20T00:00:00.000Z                Null                Null   \n",
       "16952  2015-12-13T00:00:00.000Z                Null                Null   \n",
       "17012  2014-12-01T00:00:00.000Z                Null                Null   \n",
       "17013  2014-11-27T00:00:00.000Z                Null                Null   \n",
       "17040  2014-10-12T00:00:00.000Z                Null                Null   \n",
       "17048  2014-10-11T00:00:00.000Z                Null                Null   \n",
       "17059  2014-06-09T00:00:00.000Z                Null                Null   \n",
       "17107  2013-05-10T00:00:00.000Z                Null                Null   \n",
       "17131  2012-11-17T00:00:00.000Z                Null                Null   \n",
       "17175  2010-06-05T00:00:00.000Z                Null                Null   \n",
       "26450  2017-07-05T00:00:00.000Z                Null                Null   \n",
       "26500  2017-02-03T00:00:00.000Z                Null                Null   \n",
       "26501  2016-12-12T00:00:00.000Z                Null                Null   \n",
       "26502  2016-11-13T00:00:00.000Z                Null                Null   \n",
       "26503  2016-08-06T00:00:00.000Z                Null                Null   \n",
       "26504  2016-08-05T00:00:00.000Z                Null                Null   \n",
       "26506  2016-06-30T00:00:00.000Z                Null                Null   \n",
       "26510  2016-04-03T00:00:00.000Z                Null                Null   \n",
       "26551  2016-05-11T00:00:00.000Z                Null                Null   \n",
       "26646  2016-12-09T00:00:00.000Z                Null                Null   \n",
       "26652  2016-09-28T00:00:00.000Z                Null                Null   \n",
       "26656  2016-09-06T00:00:00.000Z                Null                Null   \n",
       "26668  2016-07-03T00:00:00.000Z                Null                Null   \n",
       "26675  2016-07-26T00:00:00.000Z                Null                Null   \n",
       "26681  2016-06-14T00:00:00.000Z                Null                Null   \n",
       "26682  2016-06-08T00:00:00.000Z                Null                Null   \n",
       "26689  2016-05-24T00:00:00.000Z                Null                Null   \n",
       "26695  2016-04-07T00:00:00.000Z                Null                Null   \n",
       "26699  2016-03-22T00:00:00.000Z                Null                Null   \n",
       "26732  2016-03-11T00:00:00.000Z                Null                Null   \n",
       "26741  2015-08-25T00:00:00.000Z                Null                Null   \n",
       "26756  2014-11-23T00:00:00.000Z                Null                Null   \n",
       "\n",
       "       reviews_rating                                       reviews_text  \\\n",
       "16778               1  A waste of my money I don't know what kind of ...   \n",
       "16799               4        Good but if you like it, get it in quantity   \n",
       "16807               4                                   RICE LOOKS GOOD.   \n",
       "16812               4  I love the zip lock seal on these bags (unique...   \n",
       "16824               4  Lundberg Jubilee is a blend of sweet brown ric...   \n",
       "16841               5  This takes much longer to cook but the taste i...   \n",
       "16850               5  Great rice in a small package...I'll be buying...   \n",
       "16904               5  Very tasty! Very earthy rice great for breakfa...   \n",
       "16920               5    It was great. Very convenient in the 1 lb bags.   \n",
       "16929               5                                         Good rice.   \n",
       "16952               5  I tried my first 'Black Rice' at a Thai restau...   \n",
       "17012               5  I have always liked this brand of rice product...   \n",
       "17013               5                                    Love this rice.   \n",
       "17040               5  Delicious! Amazed that rice can be so healthy ...   \n",
       "17048               5  Bought for my grandson who eats clean. He love...   \n",
       "17059               5  Lundberg brown Basmati rice is my favorite bro...   \n",
       "17107               5  We eat a lot of rice at our house. This rice h...   \n",
       "17131               5  I love this blend! it makes rice not so ordina...   \n",
       "17175               5  The rich reddish-brown of this rice is beautif...   \n",
       "26450               1  The first time I used in my infant, he rubbed ...   \n",
       "26500               1                                  baby is allergic.   \n",
       "26501               1  Bought the sunscreen. Didn't like it. Baby's s...   \n",
       "26502               1                                   i don't like it.   \n",
       "26503               1  I literally have no idea why a product for bab...   \n",
       "26504               1  Really stings eyes. Wouldn't use on babySmears...   \n",
       "26506               1  We used this product last summer while on vaca...   \n",
       "26510               1  My daughter had ezcema has a young baby but it...   \n",
       "26551               2  I thought this was working okay until I notice...   \n",
       "26646               5                                          very good   \n",
       "26652               5                                       No bad smell   \n",
       "26656               5                                        it is good.   \n",
       "26668               5  Amazing!! After researching all the different ...   \n",
       "26675               5  My favorite baby sunscreen! Not greasy, and it...   \n",
       "26681               5                                 Love this product.   \n",
       "26682               5  this is the only sunscreen I've found that doe...   \n",
       "26689               5       No Issues!! prompt delivery. Use it everyday   \n",
       "26695               5                                               good   \n",
       "26699               5                                       Good product   \n",
       "26732               5                                      Great product   \n",
       "26741               5                                               Good   \n",
       "26756               5                                            Perfect   \n",
       "\n",
       "                                           reviews_title   reviews_username  \\\n",
       "16778                                          Dyed Rice  byamazon customer   \n",
       "16799                                                Yum  byamazon customer   \n",
       "16807                                       RICE IS FINE  byamazon customer   \n",
       "16812  I love the zip lock seal on these bags (unique...  byamazon customer   \n",
       "16824  Beautiful and High-Quality Rice But Too Much S...  byamazon customer   \n",
       "16841                                              Happy  byamazon customer   \n",
       "16850                                        Recommended  byamazon customer   \n",
       "16904                         Lindberg is just the best!  byamazon customer   \n",
       "16920                                         Five Stars  byamazon customer   \n",
       "16929                                         Five Stars  byamazon customer   \n",
       "16952       So very good for something such as a dessert  byamazon customer   \n",
       "17012  I have always liked this brand of rice product...  byamazon customer   \n",
       "17013                                         Five Stars  byamazon customer   \n",
       "17040         Amazed that rice can be so healthy for you  byamazon customer   \n",
       "17048                                         Cam's rice  byamazon customer   \n",
       "17059                     Excellent USA-Grown Brown Rice  byamazon customer   \n",
       "17107                                  A ice rice change  byamazon customer   \n",
       "17131                the best blend- nutty flavorful mix  byamazon customer   \n",
       "17175                   best brown rice I've even tasted  byamazon customer   \n",
       "26450                           Not Tear Free Not Useful  byamazon customer   \n",
       "26500                                         be careful  byamazon customer   \n",
       "26501                                       Disappointed  byamazon customer   \n",
       "26502                                           One Star  byamazon customer   \n",
       "26503                                       NOT TEARLESS  byamazon customer   \n",
       "26504                                           One Star  byamazon customer   \n",
       "26506                        Aveenos WORST baby product!  byamazon customer   \n",
       "26510  I bought this thinking it would be fine but sh...  byamazon customer   \n",
       "26551     What a waste. Get something that is waterproof  byamazon customer   \n",
       "26646                                         Five Stars  byamazon customer   \n",
       "26652                                         Five Stars  byamazon customer   \n",
       "26656                                         Five Stars  byamazon customer   \n",
       "26668                                    Great product!!  byamazon customer   \n",
       "26675                         My favorite baby sunscreen  byamazon customer   \n",
       "26681                                         Five Stars  byamazon customer   \n",
       "26682                                         Five Stars  byamazon customer   \n",
       "26689                                         Five Stars  byamazon customer   \n",
       "26695                                         Five Stars  byamazon customer   \n",
       "26699                                         Five Stars  byamazon customer   \n",
       "26732                                         Five Stars  byamazon customer   \n",
       "26741                                         Five Stars  byamazon customer   \n",
       "26756                                         Five Stars  byamazon customer   \n",
       "\n",
       "      user_sentiment reviews_onlydate  month  year  \n",
       "16778       Positive       2016-02-03      2  2016  \n",
       "16799       Positive       2017-01-07      1  2017  \n",
       "16807       Positive       2015-08-19      8  2015  \n",
       "16812       Positive       2015-04-08      4  2015  \n",
       "16824       Positive       2011-07-20      7  2011  \n",
       "16841       Positive       2017-06-05      6  2017  \n",
       "16850       Positive       2017-04-20      4  2017  \n",
       "16904       Positive       2016-07-03      7  2016  \n",
       "16920       Positive       2016-06-23      6  2016  \n",
       "16929       Positive       2016-02-20      2  2016  \n",
       "16952       Positive       2015-12-13     12  2015  \n",
       "17012       Positive       2014-12-01     12  2014  \n",
       "17013       Positive       2014-11-27     11  2014  \n",
       "17040       Positive       2014-10-12     10  2014  \n",
       "17048       Positive       2014-10-11     10  2014  \n",
       "17059       Positive       2014-06-09      6  2014  \n",
       "17107       Positive       2013-05-10      5  2013  \n",
       "17131       Positive       2012-11-17     11  2012  \n",
       "17175       Positive       2010-06-05      6  2010  \n",
       "26450       Positive       2017-07-05      7  2017  \n",
       "26500       Negative       2017-02-03      2  2017  \n",
       "26501       Positive       2016-12-12     12  2016  \n",
       "26502       Negative       2016-11-13     11  2016  \n",
       "26503       Positive       2016-08-06      8  2016  \n",
       "26504       Negative       2016-08-05      8  2016  \n",
       "26506       Negative       2016-06-30      6  2016  \n",
       "26510       Positive       2016-04-03      4  2016  \n",
       "26551       Positive       2016-05-11      5  2016  \n",
       "26646       Positive       2016-12-09     12  2016  \n",
       "26652       Positive       2016-09-28      9  2016  \n",
       "26656       Positive       2016-09-06      9  2016  \n",
       "26668       Positive       2016-07-03      7  2016  \n",
       "26675       Positive       2016-07-26      7  2016  \n",
       "26681       Positive       2016-06-14      6  2016  \n",
       "26682       Negative       2016-06-08      6  2016  \n",
       "26689       Negative       2016-05-24      5  2016  \n",
       "26695       Positive       2016-04-07      4  2016  \n",
       "26699       Positive       2016-03-22      3  2016  \n",
       "26732       Positive       2016-03-11      3  2016  \n",
       "26741       Positive       2015-08-25      8  2015  \n",
       "26756       Positive       2014-11-23     11  2014  "
      ]
     },
     "execution_count": 25,
     "metadata": {},
     "output_type": "execute_result"
    }
   ],
   "source": [
    "#customer with more duplicates\n",
    "df[df['reviews_username'] == 'byamazon customer']"
   ]
  },
  {
   "cell_type": "markdown",
   "metadata": {
    "id": "sTdAusqJDi0m"
   },
   "source": [
    "In the above data we can see that 'byamazon customer' gave the multiple product reviews at the same time which is not possible ethically, the product were same but different flavours hence counted as multiple products.\n",
    "Let's take average ratings of username to avoid confusion with such data."
   ]
  },
  {
   "cell_type": "code",
   "execution_count": 26,
   "metadata": {
    "colab": {
     "base_uri": "https://localhost:8080/",
     "height": 414
    },
    "id": "4j-mzL9bDFtj",
    "outputId": "27eba662-775e-42d2-a3b1-76e12eccbb74"
   },
   "outputs": [
    {
     "data": {
      "text/html": [
       "<div>\n",
       "<style scoped>\n",
       "    .dataframe tbody tr th:only-of-type {\n",
       "        vertical-align: middle;\n",
       "    }\n",
       "\n",
       "    .dataframe tbody tr th {\n",
       "        vertical-align: top;\n",
       "    }\n",
       "\n",
       "    .dataframe thead th {\n",
       "        text-align: right;\n",
       "    }\n",
       "</style>\n",
       "<table border=\"1\" class=\"dataframe\">\n",
       "  <thead>\n",
       "    <tr style=\"text-align: right;\">\n",
       "      <th></th>\n",
       "      <th>id</th>\n",
       "      <th>reviews_username</th>\n",
       "      <th>reviews_rating</th>\n",
       "      <th>avg_ratings</th>\n",
       "    </tr>\n",
       "  </thead>\n",
       "  <tbody>\n",
       "    <tr>\n",
       "      <th>0</th>\n",
       "      <td>AV13O1A8GV-KLJ3akUyj</td>\n",
       "      <td>joshua</td>\n",
       "      <td>5</td>\n",
       "      <td>5.0</td>\n",
       "    </tr>\n",
       "    <tr>\n",
       "      <th>1</th>\n",
       "      <td>AV14LG0R-jtxr-f38QfS</td>\n",
       "      <td>dorothy w</td>\n",
       "      <td>5</td>\n",
       "      <td>5.0</td>\n",
       "    </tr>\n",
       "    <tr>\n",
       "      <th>2</th>\n",
       "      <td>AV14LG0R-jtxr-f38QfS</td>\n",
       "      <td>dorothy w</td>\n",
       "      <td>5</td>\n",
       "      <td>5.0</td>\n",
       "    </tr>\n",
       "    <tr>\n",
       "      <th>3</th>\n",
       "      <td>AV16khLE-jtxr-f38VFn</td>\n",
       "      <td>rebecca</td>\n",
       "      <td>1</td>\n",
       "      <td>1.0</td>\n",
       "    </tr>\n",
       "    <tr>\n",
       "      <th>4</th>\n",
       "      <td>AV16khLE-jtxr-f38VFn</td>\n",
       "      <td>walker557</td>\n",
       "      <td>1</td>\n",
       "      <td>1.0</td>\n",
       "    </tr>\n",
       "    <tr>\n",
       "      <th>...</th>\n",
       "      <td>...</td>\n",
       "      <td>...</td>\n",
       "      <td>...</td>\n",
       "      <td>...</td>\n",
       "    </tr>\n",
       "    <tr>\n",
       "      <th>29995</th>\n",
       "      <td>AVpfW8y_LJeJML437ySW</td>\n",
       "      <td>laurasnchz</td>\n",
       "      <td>5</td>\n",
       "      <td>5.0</td>\n",
       "    </tr>\n",
       "    <tr>\n",
       "      <th>29996</th>\n",
       "      <td>AVpfW8y_LJeJML437ySW</td>\n",
       "      <td>scarlepadilla</td>\n",
       "      <td>5</td>\n",
       "      <td>5.0</td>\n",
       "    </tr>\n",
       "    <tr>\n",
       "      <th>29997</th>\n",
       "      <td>AVpfW8y_LJeJML437ySW</td>\n",
       "      <td>liviasuexo</td>\n",
       "      <td>5</td>\n",
       "      <td>5.0</td>\n",
       "    </tr>\n",
       "    <tr>\n",
       "      <th>29998</th>\n",
       "      <td>AVpfW8y_LJeJML437ySW</td>\n",
       "      <td>ktreed95</td>\n",
       "      <td>5</td>\n",
       "      <td>5.0</td>\n",
       "    </tr>\n",
       "    <tr>\n",
       "      <th>29999</th>\n",
       "      <td>AVpfW8y_LJeJML437ySW</td>\n",
       "      <td>kcoopxoxo</td>\n",
       "      <td>5</td>\n",
       "      <td>5.0</td>\n",
       "    </tr>\n",
       "  </tbody>\n",
       "</table>\n",
       "<p>30000 rows × 4 columns</p>\n",
       "</div>"
      ],
      "text/plain": [
       "                         id reviews_username  reviews_rating  avg_ratings\n",
       "0      AV13O1A8GV-KLJ3akUyj           joshua               5          5.0\n",
       "1      AV14LG0R-jtxr-f38QfS        dorothy w               5          5.0\n",
       "2      AV14LG0R-jtxr-f38QfS        dorothy w               5          5.0\n",
       "3      AV16khLE-jtxr-f38VFn          rebecca               1          1.0\n",
       "4      AV16khLE-jtxr-f38VFn        walker557               1          1.0\n",
       "...                     ...              ...             ...          ...\n",
       "29995  AVpfW8y_LJeJML437ySW       laurasnchz               5          5.0\n",
       "29996  AVpfW8y_LJeJML437ySW    scarlepadilla               5          5.0\n",
       "29997  AVpfW8y_LJeJML437ySW       liviasuexo               5          5.0\n",
       "29998  AVpfW8y_LJeJML437ySW         ktreed95               5          5.0\n",
       "29999  AVpfW8y_LJeJML437ySW        kcoopxoxo               5          5.0\n",
       "\n",
       "[30000 rows x 4 columns]"
      ]
     },
     "execution_count": 26,
     "metadata": {},
     "output_type": "execute_result"
    }
   ],
   "source": [
    "#--average ratings\n",
    "df['avg_ratings'] = df.groupby(['id','reviews_username'])['reviews_rating'].transform('mean')\n",
    "df['avg_ratings']=df['avg_ratings'].round(2)\n",
    "df[['id','reviews_username','reviews_rating','avg_ratings']]"
   ]
  },
  {
   "cell_type": "code",
   "execution_count": 27,
   "metadata": {
    "colab": {
     "base_uri": "https://localhost:8080/",
     "height": 1000
    },
    "id": "kE6IH6WnDmaK",
    "outputId": "353d6b81-056a-46d4-cb4b-544913e04523"
   },
   "outputs": [
    {
     "data": {
      "text/html": [
       "<div>\n",
       "<style scoped>\n",
       "    .dataframe tbody tr th:only-of-type {\n",
       "        vertical-align: middle;\n",
       "    }\n",
       "\n",
       "    .dataframe tbody tr th {\n",
       "        vertical-align: top;\n",
       "    }\n",
       "\n",
       "    .dataframe thead th {\n",
       "        text-align: right;\n",
       "    }\n",
       "</style>\n",
       "<table border=\"1\" class=\"dataframe\">\n",
       "  <thead>\n",
       "    <tr style=\"text-align: right;\">\n",
       "      <th></th>\n",
       "      <th>id</th>\n",
       "      <th>reviews_username</th>\n",
       "      <th>reviews_rating</th>\n",
       "      <th>avg_ratings</th>\n",
       "    </tr>\n",
       "  </thead>\n",
       "  <tbody>\n",
       "    <tr>\n",
       "      <th>16778</th>\n",
       "      <td>AVpf9pzn1cnluZ0-uNTM</td>\n",
       "      <td>byamazon customer</td>\n",
       "      <td>1</td>\n",
       "      <td>4.58</td>\n",
       "    </tr>\n",
       "    <tr>\n",
       "      <th>16799</th>\n",
       "      <td>AVpf9pzn1cnluZ0-uNTM</td>\n",
       "      <td>byamazon customer</td>\n",
       "      <td>4</td>\n",
       "      <td>4.58</td>\n",
       "    </tr>\n",
       "    <tr>\n",
       "      <th>16807</th>\n",
       "      <td>AVpf9pzn1cnluZ0-uNTM</td>\n",
       "      <td>byamazon customer</td>\n",
       "      <td>4</td>\n",
       "      <td>4.58</td>\n",
       "    </tr>\n",
       "    <tr>\n",
       "      <th>16812</th>\n",
       "      <td>AVpf9pzn1cnluZ0-uNTM</td>\n",
       "      <td>byamazon customer</td>\n",
       "      <td>4</td>\n",
       "      <td>4.58</td>\n",
       "    </tr>\n",
       "    <tr>\n",
       "      <th>16824</th>\n",
       "      <td>AVpf9pzn1cnluZ0-uNTM</td>\n",
       "      <td>byamazon customer</td>\n",
       "      <td>4</td>\n",
       "      <td>4.58</td>\n",
       "    </tr>\n",
       "    <tr>\n",
       "      <th>16841</th>\n",
       "      <td>AVpf9pzn1cnluZ0-uNTM</td>\n",
       "      <td>byamazon customer</td>\n",
       "      <td>5</td>\n",
       "      <td>4.58</td>\n",
       "    </tr>\n",
       "    <tr>\n",
       "      <th>16850</th>\n",
       "      <td>AVpf9pzn1cnluZ0-uNTM</td>\n",
       "      <td>byamazon customer</td>\n",
       "      <td>5</td>\n",
       "      <td>4.58</td>\n",
       "    </tr>\n",
       "    <tr>\n",
       "      <th>16904</th>\n",
       "      <td>AVpf9pzn1cnluZ0-uNTM</td>\n",
       "      <td>byamazon customer</td>\n",
       "      <td>5</td>\n",
       "      <td>4.58</td>\n",
       "    </tr>\n",
       "    <tr>\n",
       "      <th>16920</th>\n",
       "      <td>AVpf9pzn1cnluZ0-uNTM</td>\n",
       "      <td>byamazon customer</td>\n",
       "      <td>5</td>\n",
       "      <td>4.58</td>\n",
       "    </tr>\n",
       "    <tr>\n",
       "      <th>16929</th>\n",
       "      <td>AVpf9pzn1cnluZ0-uNTM</td>\n",
       "      <td>byamazon customer</td>\n",
       "      <td>5</td>\n",
       "      <td>4.58</td>\n",
       "    </tr>\n",
       "    <tr>\n",
       "      <th>16952</th>\n",
       "      <td>AVpf9pzn1cnluZ0-uNTM</td>\n",
       "      <td>byamazon customer</td>\n",
       "      <td>5</td>\n",
       "      <td>4.58</td>\n",
       "    </tr>\n",
       "    <tr>\n",
       "      <th>17012</th>\n",
       "      <td>AVpf9pzn1cnluZ0-uNTM</td>\n",
       "      <td>byamazon customer</td>\n",
       "      <td>5</td>\n",
       "      <td>4.58</td>\n",
       "    </tr>\n",
       "    <tr>\n",
       "      <th>17013</th>\n",
       "      <td>AVpf9pzn1cnluZ0-uNTM</td>\n",
       "      <td>byamazon customer</td>\n",
       "      <td>5</td>\n",
       "      <td>4.58</td>\n",
       "    </tr>\n",
       "    <tr>\n",
       "      <th>17040</th>\n",
       "      <td>AVpf9pzn1cnluZ0-uNTM</td>\n",
       "      <td>byamazon customer</td>\n",
       "      <td>5</td>\n",
       "      <td>4.58</td>\n",
       "    </tr>\n",
       "    <tr>\n",
       "      <th>17048</th>\n",
       "      <td>AVpf9pzn1cnluZ0-uNTM</td>\n",
       "      <td>byamazon customer</td>\n",
       "      <td>5</td>\n",
       "      <td>4.58</td>\n",
       "    </tr>\n",
       "    <tr>\n",
       "      <th>17059</th>\n",
       "      <td>AVpf9pzn1cnluZ0-uNTM</td>\n",
       "      <td>byamazon customer</td>\n",
       "      <td>5</td>\n",
       "      <td>4.58</td>\n",
       "    </tr>\n",
       "    <tr>\n",
       "      <th>17107</th>\n",
       "      <td>AVpf9pzn1cnluZ0-uNTM</td>\n",
       "      <td>byamazon customer</td>\n",
       "      <td>5</td>\n",
       "      <td>4.58</td>\n",
       "    </tr>\n",
       "    <tr>\n",
       "      <th>17131</th>\n",
       "      <td>AVpf9pzn1cnluZ0-uNTM</td>\n",
       "      <td>byamazon customer</td>\n",
       "      <td>5</td>\n",
       "      <td>4.58</td>\n",
       "    </tr>\n",
       "    <tr>\n",
       "      <th>17175</th>\n",
       "      <td>AVpf9pzn1cnluZ0-uNTM</td>\n",
       "      <td>byamazon customer</td>\n",
       "      <td>5</td>\n",
       "      <td>4.58</td>\n",
       "    </tr>\n",
       "    <tr>\n",
       "      <th>26450</th>\n",
       "      <td>AVpfPPkEilAPnD_xX3cP</td>\n",
       "      <td>byamazon customer</td>\n",
       "      <td>1</td>\n",
       "      <td>3.41</td>\n",
       "    </tr>\n",
       "    <tr>\n",
       "      <th>26500</th>\n",
       "      <td>AVpfPPkEilAPnD_xX3cP</td>\n",
       "      <td>byamazon customer</td>\n",
       "      <td>1</td>\n",
       "      <td>3.41</td>\n",
       "    </tr>\n",
       "    <tr>\n",
       "      <th>26501</th>\n",
       "      <td>AVpfPPkEilAPnD_xX3cP</td>\n",
       "      <td>byamazon customer</td>\n",
       "      <td>1</td>\n",
       "      <td>3.41</td>\n",
       "    </tr>\n",
       "    <tr>\n",
       "      <th>26502</th>\n",
       "      <td>AVpfPPkEilAPnD_xX3cP</td>\n",
       "      <td>byamazon customer</td>\n",
       "      <td>1</td>\n",
       "      <td>3.41</td>\n",
       "    </tr>\n",
       "    <tr>\n",
       "      <th>26503</th>\n",
       "      <td>AVpfPPkEilAPnD_xX3cP</td>\n",
       "      <td>byamazon customer</td>\n",
       "      <td>1</td>\n",
       "      <td>3.41</td>\n",
       "    </tr>\n",
       "    <tr>\n",
       "      <th>26504</th>\n",
       "      <td>AVpfPPkEilAPnD_xX3cP</td>\n",
       "      <td>byamazon customer</td>\n",
       "      <td>1</td>\n",
       "      <td>3.41</td>\n",
       "    </tr>\n",
       "    <tr>\n",
       "      <th>26506</th>\n",
       "      <td>AVpfPPkEilAPnD_xX3cP</td>\n",
       "      <td>byamazon customer</td>\n",
       "      <td>1</td>\n",
       "      <td>3.41</td>\n",
       "    </tr>\n",
       "    <tr>\n",
       "      <th>26510</th>\n",
       "      <td>AVpfPPkEilAPnD_xX3cP</td>\n",
       "      <td>byamazon customer</td>\n",
       "      <td>1</td>\n",
       "      <td>3.41</td>\n",
       "    </tr>\n",
       "    <tr>\n",
       "      <th>26551</th>\n",
       "      <td>AVpfPPkEilAPnD_xX3cP</td>\n",
       "      <td>byamazon customer</td>\n",
       "      <td>2</td>\n",
       "      <td>3.41</td>\n",
       "    </tr>\n",
       "    <tr>\n",
       "      <th>26646</th>\n",
       "      <td>AVpfPPkEilAPnD_xX3cP</td>\n",
       "      <td>byamazon customer</td>\n",
       "      <td>5</td>\n",
       "      <td>3.41</td>\n",
       "    </tr>\n",
       "    <tr>\n",
       "      <th>26652</th>\n",
       "      <td>AVpfPPkEilAPnD_xX3cP</td>\n",
       "      <td>byamazon customer</td>\n",
       "      <td>5</td>\n",
       "      <td>3.41</td>\n",
       "    </tr>\n",
       "    <tr>\n",
       "      <th>26656</th>\n",
       "      <td>AVpfPPkEilAPnD_xX3cP</td>\n",
       "      <td>byamazon customer</td>\n",
       "      <td>5</td>\n",
       "      <td>3.41</td>\n",
       "    </tr>\n",
       "    <tr>\n",
       "      <th>26668</th>\n",
       "      <td>AVpfPPkEilAPnD_xX3cP</td>\n",
       "      <td>byamazon customer</td>\n",
       "      <td>5</td>\n",
       "      <td>3.41</td>\n",
       "    </tr>\n",
       "    <tr>\n",
       "      <th>26675</th>\n",
       "      <td>AVpfPPkEilAPnD_xX3cP</td>\n",
       "      <td>byamazon customer</td>\n",
       "      <td>5</td>\n",
       "      <td>3.41</td>\n",
       "    </tr>\n",
       "    <tr>\n",
       "      <th>26681</th>\n",
       "      <td>AVpfPPkEilAPnD_xX3cP</td>\n",
       "      <td>byamazon customer</td>\n",
       "      <td>5</td>\n",
       "      <td>3.41</td>\n",
       "    </tr>\n",
       "    <tr>\n",
       "      <th>26682</th>\n",
       "      <td>AVpfPPkEilAPnD_xX3cP</td>\n",
       "      <td>byamazon customer</td>\n",
       "      <td>5</td>\n",
       "      <td>3.41</td>\n",
       "    </tr>\n",
       "    <tr>\n",
       "      <th>26689</th>\n",
       "      <td>AVpfPPkEilAPnD_xX3cP</td>\n",
       "      <td>byamazon customer</td>\n",
       "      <td>5</td>\n",
       "      <td>3.41</td>\n",
       "    </tr>\n",
       "    <tr>\n",
       "      <th>26695</th>\n",
       "      <td>AVpfPPkEilAPnD_xX3cP</td>\n",
       "      <td>byamazon customer</td>\n",
       "      <td>5</td>\n",
       "      <td>3.41</td>\n",
       "    </tr>\n",
       "    <tr>\n",
       "      <th>26699</th>\n",
       "      <td>AVpfPPkEilAPnD_xX3cP</td>\n",
       "      <td>byamazon customer</td>\n",
       "      <td>5</td>\n",
       "      <td>3.41</td>\n",
       "    </tr>\n",
       "    <tr>\n",
       "      <th>26732</th>\n",
       "      <td>AVpfPPkEilAPnD_xX3cP</td>\n",
       "      <td>byamazon customer</td>\n",
       "      <td>5</td>\n",
       "      <td>3.41</td>\n",
       "    </tr>\n",
       "    <tr>\n",
       "      <th>26741</th>\n",
       "      <td>AVpfPPkEilAPnD_xX3cP</td>\n",
       "      <td>byamazon customer</td>\n",
       "      <td>5</td>\n",
       "      <td>3.41</td>\n",
       "    </tr>\n",
       "    <tr>\n",
       "      <th>26756</th>\n",
       "      <td>AVpfPPkEilAPnD_xX3cP</td>\n",
       "      <td>byamazon customer</td>\n",
       "      <td>5</td>\n",
       "      <td>3.41</td>\n",
       "    </tr>\n",
       "  </tbody>\n",
       "</table>\n",
       "</div>"
      ],
      "text/plain": [
       "                         id   reviews_username  reviews_rating  avg_ratings\n",
       "16778  AVpf9pzn1cnluZ0-uNTM  byamazon customer               1         4.58\n",
       "16799  AVpf9pzn1cnluZ0-uNTM  byamazon customer               4         4.58\n",
       "16807  AVpf9pzn1cnluZ0-uNTM  byamazon customer               4         4.58\n",
       "16812  AVpf9pzn1cnluZ0-uNTM  byamazon customer               4         4.58\n",
       "16824  AVpf9pzn1cnluZ0-uNTM  byamazon customer               4         4.58\n",
       "16841  AVpf9pzn1cnluZ0-uNTM  byamazon customer               5         4.58\n",
       "16850  AVpf9pzn1cnluZ0-uNTM  byamazon customer               5         4.58\n",
       "16904  AVpf9pzn1cnluZ0-uNTM  byamazon customer               5         4.58\n",
       "16920  AVpf9pzn1cnluZ0-uNTM  byamazon customer               5         4.58\n",
       "16929  AVpf9pzn1cnluZ0-uNTM  byamazon customer               5         4.58\n",
       "16952  AVpf9pzn1cnluZ0-uNTM  byamazon customer               5         4.58\n",
       "17012  AVpf9pzn1cnluZ0-uNTM  byamazon customer               5         4.58\n",
       "17013  AVpf9pzn1cnluZ0-uNTM  byamazon customer               5         4.58\n",
       "17040  AVpf9pzn1cnluZ0-uNTM  byamazon customer               5         4.58\n",
       "17048  AVpf9pzn1cnluZ0-uNTM  byamazon customer               5         4.58\n",
       "17059  AVpf9pzn1cnluZ0-uNTM  byamazon customer               5         4.58\n",
       "17107  AVpf9pzn1cnluZ0-uNTM  byamazon customer               5         4.58\n",
       "17131  AVpf9pzn1cnluZ0-uNTM  byamazon customer               5         4.58\n",
       "17175  AVpf9pzn1cnluZ0-uNTM  byamazon customer               5         4.58\n",
       "26450  AVpfPPkEilAPnD_xX3cP  byamazon customer               1         3.41\n",
       "26500  AVpfPPkEilAPnD_xX3cP  byamazon customer               1         3.41\n",
       "26501  AVpfPPkEilAPnD_xX3cP  byamazon customer               1         3.41\n",
       "26502  AVpfPPkEilAPnD_xX3cP  byamazon customer               1         3.41\n",
       "26503  AVpfPPkEilAPnD_xX3cP  byamazon customer               1         3.41\n",
       "26504  AVpfPPkEilAPnD_xX3cP  byamazon customer               1         3.41\n",
       "26506  AVpfPPkEilAPnD_xX3cP  byamazon customer               1         3.41\n",
       "26510  AVpfPPkEilAPnD_xX3cP  byamazon customer               1         3.41\n",
       "26551  AVpfPPkEilAPnD_xX3cP  byamazon customer               2         3.41\n",
       "26646  AVpfPPkEilAPnD_xX3cP  byamazon customer               5         3.41\n",
       "26652  AVpfPPkEilAPnD_xX3cP  byamazon customer               5         3.41\n",
       "26656  AVpfPPkEilAPnD_xX3cP  byamazon customer               5         3.41\n",
       "26668  AVpfPPkEilAPnD_xX3cP  byamazon customer               5         3.41\n",
       "26675  AVpfPPkEilAPnD_xX3cP  byamazon customer               5         3.41\n",
       "26681  AVpfPPkEilAPnD_xX3cP  byamazon customer               5         3.41\n",
       "26682  AVpfPPkEilAPnD_xX3cP  byamazon customer               5         3.41\n",
       "26689  AVpfPPkEilAPnD_xX3cP  byamazon customer               5         3.41\n",
       "26695  AVpfPPkEilAPnD_xX3cP  byamazon customer               5         3.41\n",
       "26699  AVpfPPkEilAPnD_xX3cP  byamazon customer               5         3.41\n",
       "26732  AVpfPPkEilAPnD_xX3cP  byamazon customer               5         3.41\n",
       "26741  AVpfPPkEilAPnD_xX3cP  byamazon customer               5         3.41\n",
       "26756  AVpfPPkEilAPnD_xX3cP  byamazon customer               5         3.41"
      ]
     },
     "execution_count": 27,
     "metadata": {},
     "output_type": "execute_result"
    }
   ],
   "source": [
    "#check average ratings of customer with more duplicates\n",
    "df[df.reviews_username == 'byamazon customer'][['id','reviews_username','reviews_rating','avg_ratings']]"
   ]
  },
  {
   "cell_type": "code",
   "execution_count": 28,
   "metadata": {
    "id": "wF_Mz4b8Dpg9"
   },
   "outputs": [],
   "source": [
    "#Deleting all the duplicates having the same product id and username.\n",
    "dfFinal =  df.drop_duplicates(subset={\"reviews_username\",\"id\"},keep=\"first\")"
   ]
  },
  {
   "cell_type": "code",
   "execution_count": 29,
   "metadata": {
    "colab": {
     "base_uri": "https://localhost:8080/"
    },
    "id": "LkYhTd2gD0_p",
    "outputId": "6782e31f-e6a6-45e4-c538-150db7218542"
   },
   "outputs": [
    {
     "name": "stdout",
     "output_type": "stream",
     "text": [
      "8.0 % reduction in data after deleting duplicates\n",
      "Size of data 27605  rows \n"
     ]
    }
   ],
   "source": [
    "size_diff = dfFinal['id'].size/df['id'].size\n",
    "print(\"%.1f %% reduction in data after deleting duplicates\"%((1-size_diff)*100))\n",
    "print(\"Size of data\",dfFinal['id'].size,\" rows \")\n",
    "\n",
    "#---- Data is cleaned and no Duplicates are there"
   ]
  },
  {
   "cell_type": "code",
   "execution_count": 30,
   "metadata": {
    "colab": {
     "base_uri": "https://localhost:8080/",
     "height": 263
    },
    "id": "WRJdHNQKD1ik",
    "outputId": "8d37655f-d545-418e-af86-69128e242498"
   },
   "outputs": [
    {
     "data": {
      "text/html": [
       "<div>\n",
       "<style scoped>\n",
       "    .dataframe tbody tr th:only-of-type {\n",
       "        vertical-align: middle;\n",
       "    }\n",
       "\n",
       "    .dataframe tbody tr th {\n",
       "        vertical-align: top;\n",
       "    }\n",
       "\n",
       "    .dataframe thead th {\n",
       "        text-align: right;\n",
       "    }\n",
       "</style>\n",
       "<table border=\"1\" class=\"dataframe\">\n",
       "  <thead>\n",
       "    <tr style=\"text-align: right;\">\n",
       "      <th></th>\n",
       "      <th>id</th>\n",
       "      <th>brand</th>\n",
       "      <th>categories</th>\n",
       "      <th>manufacturer</th>\n",
       "      <th>name</th>\n",
       "      <th>reviews_date</th>\n",
       "      <th>reviews_didPurchase</th>\n",
       "      <th>reviews_doRecommend</th>\n",
       "      <th>reviews_rating</th>\n",
       "      <th>reviews_text</th>\n",
       "      <th>reviews_title</th>\n",
       "      <th>reviews_username</th>\n",
       "      <th>user_sentiment</th>\n",
       "      <th>reviews_onlydate</th>\n",
       "      <th>month</th>\n",
       "      <th>year</th>\n",
       "      <th>avg_ratings</th>\n",
       "    </tr>\n",
       "  </thead>\n",
       "  <tbody>\n",
       "    <tr>\n",
       "      <th>16778</th>\n",
       "      <td>AVpf9pzn1cnluZ0-uNTM</td>\n",
       "      <td>Lundberg</td>\n",
       "      <td>Food,Packaged Foods,Packaged Grains,Rice,Brown...</td>\n",
       "      <td>Lundberg Family Farms</td>\n",
       "      <td>Lundberg Wehani Rice, 25lb</td>\n",
       "      <td>2016-02-03T00:00:00.000Z</td>\n",
       "      <td>Null</td>\n",
       "      <td>Null</td>\n",
       "      <td>1</td>\n",
       "      <td>A waste of my money I don't know what kind of ...</td>\n",
       "      <td>Dyed Rice</td>\n",
       "      <td>byamazon customer</td>\n",
       "      <td>Positive</td>\n",
       "      <td>2016-02-03</td>\n",
       "      <td>2</td>\n",
       "      <td>2016</td>\n",
       "      <td>4.58</td>\n",
       "    </tr>\n",
       "    <tr>\n",
       "      <th>26450</th>\n",
       "      <td>AVpfPPkEilAPnD_xX3cP</td>\n",
       "      <td>Aveeno</td>\n",
       "      <td>Personal Care,Sun Care,Featured Brands,Health ...</td>\n",
       "      <td>Aveeno Baby</td>\n",
       "      <td>Aveeno Baby Continuous Protection Lotion Sunsc...</td>\n",
       "      <td>2017-07-05T00:00:00.000Z</td>\n",
       "      <td>Null</td>\n",
       "      <td>Null</td>\n",
       "      <td>1</td>\n",
       "      <td>The first time I used in my infant, he rubbed ...</td>\n",
       "      <td>Not Tear Free Not Useful</td>\n",
       "      <td>byamazon customer</td>\n",
       "      <td>Positive</td>\n",
       "      <td>2017-07-05</td>\n",
       "      <td>7</td>\n",
       "      <td>2017</td>\n",
       "      <td>3.41</td>\n",
       "    </tr>\n",
       "  </tbody>\n",
       "</table>\n",
       "</div>"
      ],
      "text/plain": [
       "                         id     brand  \\\n",
       "16778  AVpf9pzn1cnluZ0-uNTM  Lundberg   \n",
       "26450  AVpfPPkEilAPnD_xX3cP    Aveeno   \n",
       "\n",
       "                                              categories  \\\n",
       "16778  Food,Packaged Foods,Packaged Grains,Rice,Brown...   \n",
       "26450  Personal Care,Sun Care,Featured Brands,Health ...   \n",
       "\n",
       "                manufacturer  \\\n",
       "16778  Lundberg Family Farms   \n",
       "26450            Aveeno Baby   \n",
       "\n",
       "                                                    name  \\\n",
       "16778                         Lundberg Wehani Rice, 25lb   \n",
       "26450  Aveeno Baby Continuous Protection Lotion Sunsc...   \n",
       "\n",
       "                   reviews_date reviews_didPurchase reviews_doRecommend  \\\n",
       "16778  2016-02-03T00:00:00.000Z                Null                Null   \n",
       "26450  2017-07-05T00:00:00.000Z                Null                Null   \n",
       "\n",
       "       reviews_rating                                       reviews_text  \\\n",
       "16778               1  A waste of my money I don't know what kind of ...   \n",
       "26450               1  The first time I used in my infant, he rubbed ...   \n",
       "\n",
       "                  reviews_title   reviews_username user_sentiment  \\\n",
       "16778                 Dyed Rice  byamazon customer       Positive   \n",
       "26450  Not Tear Free Not Useful  byamazon customer       Positive   \n",
       "\n",
       "      reviews_onlydate  month  year  avg_ratings  \n",
       "16778       2016-02-03      2  2016         4.58  \n",
       "26450       2017-07-05      7  2017         3.41  "
      ]
     },
     "execution_count": 30,
     "metadata": {},
     "output_type": "execute_result"
    }
   ],
   "source": [
    "#Verification\n",
    "dfFinal[dfFinal['reviews_username'] == 'byamazon customer']"
   ]
  },
  {
   "cell_type": "code",
   "execution_count": 31,
   "metadata": {
    "colab": {
     "base_uri": "https://localhost:8080/"
    },
    "id": "jwx6pIhUD8U1",
    "outputId": "af7e93bb-69ac-4687-ce09-529d1801701d"
   },
   "outputs": [
    {
     "data": {
      "text/plain": [
       "4.522550384225026"
      ]
     },
     "execution_count": 31,
     "metadata": {},
     "output_type": "execute_result"
    }
   ],
   "source": [
    "dfFinal[\"avg_ratings\"].mean()"
   ]
  },
  {
   "cell_type": "markdown",
   "metadata": {
    "id": "0q4udLmzEIM3"
   },
   "source": [
    "- Let's combine Reviews Title and Reviews text as both of them gives significant sentiment analysis.\n",
    "- As the review is mostly text data, we might need to clean the data to gain some useful insights from the data "
   ]
  },
  {
   "cell_type": "code",
   "execution_count": 32,
   "metadata": {
    "colab": {
     "base_uri": "https://localhost:8080/",
     "height": 414
    },
    "id": "HMkyq_R0EAnC",
    "outputId": "01809430-f1b3-491e-bab2-1ea67801715e"
   },
   "outputs": [
    {
     "data": {
      "text/html": [
       "<div>\n",
       "<style scoped>\n",
       "    .dataframe tbody tr th:only-of-type {\n",
       "        vertical-align: middle;\n",
       "    }\n",
       "\n",
       "    .dataframe tbody tr th {\n",
       "        vertical-align: top;\n",
       "    }\n",
       "\n",
       "    .dataframe thead th {\n",
       "        text-align: right;\n",
       "    }\n",
       "</style>\n",
       "<table border=\"1\" class=\"dataframe\">\n",
       "  <thead>\n",
       "    <tr style=\"text-align: right;\">\n",
       "      <th></th>\n",
       "      <th>reviews_title</th>\n",
       "      <th>reviews_text</th>\n",
       "      <th>user_reviews</th>\n",
       "    </tr>\n",
       "  </thead>\n",
       "  <tbody>\n",
       "    <tr>\n",
       "      <th>0</th>\n",
       "      <td>Just Awesome</td>\n",
       "      <td>i love this album. it's very good. more to the...</td>\n",
       "      <td>Just Awesome. i love this album. it's very goo...</td>\n",
       "    </tr>\n",
       "    <tr>\n",
       "      <th>1</th>\n",
       "      <td>Good</td>\n",
       "      <td>Good flavor. This review was collected as part...</td>\n",
       "      <td>Good. Good flavor. This review was collected a...</td>\n",
       "    </tr>\n",
       "    <tr>\n",
       "      <th>3</th>\n",
       "      <td>Disappointed</td>\n",
       "      <td>I read through the reviews on here before look...</td>\n",
       "      <td>Disappointed. I read through the reviews on he...</td>\n",
       "    </tr>\n",
       "    <tr>\n",
       "      <th>4</th>\n",
       "      <td>Irritation</td>\n",
       "      <td>My husband bought this gel for us. The gel cau...</td>\n",
       "      <td>Irritation. My husband bought this gel for us....</td>\n",
       "    </tr>\n",
       "    <tr>\n",
       "      <th>5</th>\n",
       "      <td>Not worth it</td>\n",
       "      <td>My boyfriend and I bought this to spice things...</td>\n",
       "      <td>Not worth it. My boyfriend and I bought this t...</td>\n",
       "    </tr>\n",
       "    <tr>\n",
       "      <th>...</th>\n",
       "      <td>...</td>\n",
       "      <td>...</td>\n",
       "      <td>...</td>\n",
       "    </tr>\n",
       "    <tr>\n",
       "      <th>29995</th>\n",
       "      <td>Softness!!</td>\n",
       "      <td>I got this conditioner with Influenster to try...</td>\n",
       "      <td>Softness!!. I got this conditioner with Influe...</td>\n",
       "    </tr>\n",
       "    <tr>\n",
       "      <th>29996</th>\n",
       "      <td>I love it</td>\n",
       "      <td>I love it , I received this for review purpose...</td>\n",
       "      <td>I love it. I love it , I received this for rev...</td>\n",
       "    </tr>\n",
       "    <tr>\n",
       "      <th>29997</th>\n",
       "      <td>Hair is so smooth after use</td>\n",
       "      <td>First of all I love the smell of this product....</td>\n",
       "      <td>Hair is so smooth after use. First of all I lo...</td>\n",
       "    </tr>\n",
       "    <tr>\n",
       "      <th>29998</th>\n",
       "      <td>Perfect for my oily hair!</td>\n",
       "      <td>I received this through Influenster and will n...</td>\n",
       "      <td>Perfect for my oily hair!. I received this thr...</td>\n",
       "    </tr>\n",
       "    <tr>\n",
       "      <th>29999</th>\n",
       "      <td>Conditioned into healthy</td>\n",
       "      <td>I received this product complimentary from inf...</td>\n",
       "      <td>Conditioned into healthy. I received this prod...</td>\n",
       "    </tr>\n",
       "  </tbody>\n",
       "</table>\n",
       "<p>27605 rows × 3 columns</p>\n",
       "</div>"
      ],
      "text/plain": [
       "                     reviews_title  \\\n",
       "0                     Just Awesome   \n",
       "1                             Good   \n",
       "3                     Disappointed   \n",
       "4                       Irritation   \n",
       "5                     Not worth it   \n",
       "...                            ...   \n",
       "29995                   Softness!!   \n",
       "29996                    I love it   \n",
       "29997  Hair is so smooth after use   \n",
       "29998    Perfect for my oily hair!   \n",
       "29999     Conditioned into healthy   \n",
       "\n",
       "                                            reviews_text  \\\n",
       "0      i love this album. it's very good. more to the...   \n",
       "1      Good flavor. This review was collected as part...   \n",
       "3      I read through the reviews on here before look...   \n",
       "4      My husband bought this gel for us. The gel cau...   \n",
       "5      My boyfriend and I bought this to spice things...   \n",
       "...                                                  ...   \n",
       "29995  I got this conditioner with Influenster to try...   \n",
       "29996  I love it , I received this for review purpose...   \n",
       "29997  First of all I love the smell of this product....   \n",
       "29998  I received this through Influenster and will n...   \n",
       "29999  I received this product complimentary from inf...   \n",
       "\n",
       "                                            user_reviews  \n",
       "0      Just Awesome. i love this album. it's very goo...  \n",
       "1      Good. Good flavor. This review was collected a...  \n",
       "3      Disappointed. I read through the reviews on he...  \n",
       "4      Irritation. My husband bought this gel for us....  \n",
       "5      Not worth it. My boyfriend and I bought this t...  \n",
       "...                                                  ...  \n",
       "29995  Softness!!. I got this conditioner with Influe...  \n",
       "29996  I love it. I love it , I received this for rev...  \n",
       "29997  Hair is so smooth after use. First of all I lo...  \n",
       "29998  Perfect for my oily hair!. I received this thr...  \n",
       "29999  Conditioned into healthy. I received this prod...  \n",
       "\n",
       "[27605 rows x 3 columns]"
      ]
     },
     "execution_count": 32,
     "metadata": {},
     "output_type": "execute_result"
    }
   ],
   "source": [
    "#concatenate user_text and user_title\n",
    "# Filling missing values in Reviews title with blank space\n",
    "dfFinal['reviews_title'] = dfFinal['reviews_title'].fillna('')\n",
    "dfFinal['user_reviews'] = dfFinal[['reviews_title', 'reviews_text']].agg('. '.join, axis=1).str.lstrip('. ')\n",
    "dfFinal[['reviews_title','reviews_text','user_reviews']]"
   ]
  },
  {
   "cell_type": "code",
   "execution_count": 33,
   "metadata": {
    "colab": {
     "base_uri": "https://localhost:8080/",
     "height": 35
    },
    "id": "mJiUq7SjEQVn",
    "outputId": "3a7eef3c-fb19-408b-f0f5-dd97084fcbd4"
   },
   "outputs": [
    {
     "data": {
      "text/plain": [
       "'My Name is   Sharukh Shaikh!'"
      ]
     },
     "execution_count": 33,
     "metadata": {},
     "output_type": "execute_result"
    }
   ],
   "source": [
    "#--- HTML Tag Removal\n",
    "import re #Regex (Regular Expr Operations)\n",
    "#string = r\"sdfsdfd\" :- r is for raw string as Regex often uses \\ backslashes(\\w), so they are often raw strings(r’\\d’)\n",
    "########Function to remove html tags from data\n",
    "def striphtml(data):\n",
    "    p = re.compile('<.*?>')#Find this kind of pattern\n",
    "    #print(p.findall(data))#List of strings which follow the regex pattern\n",
    "    return p.sub('',data) #Substitute nothing at the place of strings which matched the patterns\n",
    "\n",
    "striphtml('<a href=\"foo.com\" class=\"bar\">My Name is  <b> Sharukh Shaikh!</b></a><>')"
   ]
  },
  {
   "cell_type": "code",
   "execution_count": 34,
   "metadata": {
    "colab": {
     "base_uri": "https://localhost:8080/",
     "height": 35
    },
    "id": "c-vWlB4-EVcm",
    "outputId": "ba08f195-8250-4e24-dba2-393c1b24308b"
   },
   "outputs": [
    {
     "data": {
      "text/plain": [
       "'Sharukh Shaikh'"
      ]
     },
     "execution_count": 34,
     "metadata": {},
     "output_type": "execute_result"
    }
   ],
   "source": [
    "#--- Punctuation removal\n",
    "########Function to remove All the punctuations from the text\n",
    "def strippunc(data):\n",
    "    p = re.compile(r'[?|!|\\'|\"|#|.|,|)|(|\\|/|~|%|*]')\n",
    "    return p.sub('',data)\n",
    "strippunc(\"Sharukh*?~,,,( Shaikh)#\")"
   ]
  },
  {
   "cell_type": "code",
   "execution_count": 35,
   "metadata": {
    "id": "nAwRho2zEauB"
   },
   "outputs": [],
   "source": [
    "#--- StopWords\n",
    "\n",
    "from nltk.corpus import stopwords\n",
    "from nltk.stem import PorterStemmer\n",
    "from nltk.stem.wordnet import WordNetLemmatizer\n",
    "\n",
    "stop = stopwords.words('english') #All the stopwords in English language\n",
    "\n",
    "from nltk.stem import SnowballStemmer\n"
   ]
  },
  {
   "cell_type": "code",
   "execution_count": 36,
   "metadata": {
    "colab": {
     "base_uri": "https://localhost:8080/"
    },
    "id": "loCvOhG-E9NQ",
    "outputId": "4dfca080-579a-4130-e32c-f9ddf9857b22"
   },
   "outputs": [
    {
     "name": "stdout",
     "output_type": "stream",
     "text": [
      "Stem/Root words of the some of the words using SnowBall Stemmer:\n",
      "tasti\n",
      "tast\n",
      "tastiest\n",
      "delici\n",
      "amaz\n"
     ]
    }
   ],
   "source": [
    "snow = SnowballStemmer('english') #initialising the snowball stemmer\n",
    "print(\"Stem/Root words of the some of the words using SnowBall Stemmer:\")\n",
    "print(snow.stem('tasty'))\n",
    "print(snow.stem('tasteful'))\n",
    "print(snow.stem('tastiest'))\n",
    "print(snow.stem('delicious'))\n",
    "print(snow.stem('amazing'))"
   ]
  },
  {
   "cell_type": "code",
   "execution_count": 37,
   "metadata": {
    "id": "6ShzcX57FLgH"
   },
   "outputs": [],
   "source": [
    "def nltk_tag_to_wordnet_tag(nltk_tag):\n",
    "    if nltk_tag.startswith('J'):\n",
    "        return wordnet.ADJ\n",
    "    elif nltk_tag.startswith('V'):\n",
    "        return wordnet.VERB\n",
    "    elif nltk_tag.startswith('N'):\n",
    "        return wordnet.NOUN\n",
    "    elif nltk_tag.startswith('R'):\n",
    "        return wordnet.ADV\n",
    "    else:\n",
    "        return None"
   ]
  },
  {
   "cell_type": "code",
   "execution_count": 38,
   "metadata": {
    "id": "xLHl5u00GEwk"
   },
   "outputs": [],
   "source": [
    "def lemmatize_sentence(sentence):\n",
    "    #tokenize the sentence and find the POS tag for each token\n",
    "    nltk_tagged = nltk.pos_tag(nltk.word_tokenize(sentence))\n",
    "    #tuple of (token, wordnet_tag)\n",
    "    wordnet_tagged = map(lambda x: (x[0], nltk_tag_to_wordnet_tag(x[1])), nltk_tagged)\n",
    "    lemmatized_sentence = []\n",
    "    for word, tag in wordnet_tagged:\n",
    "        if tag is None:\n",
    "            #if there is no available tag, append the token as is\n",
    "            lemmatized_sentence.append(snow.stem(word)) # stem the word if no lemma is obtaines\n",
    "        else:\n",
    "            #else use the tag to lemmatize the token\n",
    "            lemmatized_sentence.append(lemmatizer.lemmatize(word, tag))\n",
    "    return \" \".join(lemmatized_sentence)"
   ]
  },
  {
   "cell_type": "code",
   "execution_count": 39,
   "metadata": {
    "colab": {
     "base_uri": "https://localhost:8080/"
    },
    "id": "8RY9nhtTGMXb",
    "outputId": "a00f6577-c890-4237-e70b-ae70a4c59d8c"
   },
   "outputs": [
    {
     "name": "stdout",
     "output_type": "stream",
     "text": [
      "---- Uncleaned Text ----\n",
      "Just Awesome. i love this album. it's very good. more to the hip hop side than her current pop sound.. SO HYPE! i listen to this everyday at the gym! i give it 5star rating all the way. her metaphors are just crazy.\n",
      "---- Cleaned Text ----\n",
      "just awesome i love this album it very good more to the hip hop side than her current pop sound so hype i listen to this everyday at the gym i give it 5star rating all the way her metaphor be just crazy\n"
     ]
    }
   ],
   "source": [
    "#pre-processing output for one Review\n",
    "def preprocessText(text, stem=False):\n",
    "  \n",
    "  #filtered_sentence = []\n",
    "  #final_string = ''\n",
    "  #print(text)\n",
    "  text=text.lower() #--- transform to lower case\n",
    "  text = striphtml(text) #--- remove HTML Tags\n",
    "  text = strippunc(text) #--- remove Punctuation\n",
    "  # for w in text.split(): #--- isalpha() methods returns “True” if all characters in the string are alphabets, Otherwise, It returns “False”.\n",
    "  #   if(w.isalpha() and (len(w) > 2)):  #--- Check is value is not numeric and has length > 2\n",
    "  #     if(w.lower() not in stop):       #--- Check if it is a stopword\n",
    "  #       if stem : \n",
    "  #         s = (snow.stem(w.lower())).encode('utf8') #--- Stemming the word using snowball stemmer\n",
    "  #       else:\n",
    "  #         s = (w.lower()).encode('utf8') #--- Stemming the word using snowball stemmer\n",
    "  #       filtered_sentence.append(s)\n",
    "  #     else:\n",
    "  #       continue\n",
    "  #   else:\n",
    "  #     continue\n",
    "  #cleanedText = b\" \".join(filtered_sentence) # string of cleaned words\n",
    "  # cleanedText =lemmatize_sentence(text)\n",
    "  # final_string=cleanedText\n",
    "  return lemmatize_sentence(text)\n",
    "\n",
    "print('---- Uncleaned Text ----')\n",
    "print(dfFinal.user_reviews[0])\n",
    "print('---- Cleaned Text ----')\n",
    "print(preprocessText(dfFinal.user_reviews[0],True))\n"
   ]
  },
  {
   "cell_type": "code",
   "execution_count": 40,
   "metadata": {
    "colab": {
     "base_uri": "https://localhost:8080/",
     "height": 572
    },
    "id": "m15RYbbNGYvY",
    "outputId": "b452d85b-6f6b-4973-ac88-6322625c7438"
   },
   "outputs": [
    {
     "data": {
      "text/html": [
       "<div>\n",
       "<style scoped>\n",
       "    .dataframe tbody tr th:only-of-type {\n",
       "        vertical-align: middle;\n",
       "    }\n",
       "\n",
       "    .dataframe tbody tr th {\n",
       "        vertical-align: top;\n",
       "    }\n",
       "\n",
       "    .dataframe thead th {\n",
       "        text-align: right;\n",
       "    }\n",
       "</style>\n",
       "<table border=\"1\" class=\"dataframe\">\n",
       "  <thead>\n",
       "    <tr style=\"text-align: right;\">\n",
       "      <th></th>\n",
       "      <th>id</th>\n",
       "      <th>brand</th>\n",
       "      <th>categories</th>\n",
       "      <th>manufacturer</th>\n",
       "      <th>name</th>\n",
       "      <th>reviews_date</th>\n",
       "      <th>reviews_didPurchase</th>\n",
       "      <th>reviews_doRecommend</th>\n",
       "      <th>reviews_rating</th>\n",
       "      <th>reviews_text</th>\n",
       "      <th>reviews_title</th>\n",
       "      <th>reviews_username</th>\n",
       "      <th>user_sentiment</th>\n",
       "      <th>reviews_onlydate</th>\n",
       "      <th>month</th>\n",
       "      <th>year</th>\n",
       "      <th>avg_ratings</th>\n",
       "      <th>user_reviews</th>\n",
       "      <th>Review</th>\n",
       "    </tr>\n",
       "  </thead>\n",
       "  <tbody>\n",
       "    <tr>\n",
       "      <th>0</th>\n",
       "      <td>AV13O1A8GV-KLJ3akUyj</td>\n",
       "      <td>Universal Music</td>\n",
       "      <td>Movies, Music &amp; Books,Music,R&amp;b,Movies &amp; TV,Mo...</td>\n",
       "      <td>Universal Music Group / Cash Money</td>\n",
       "      <td>Pink Friday: Roman Reloaded Re-Up (w/dvd)</td>\n",
       "      <td>2012-11-30T06:21:45.000Z</td>\n",
       "      <td>Null</td>\n",
       "      <td>Null</td>\n",
       "      <td>5</td>\n",
       "      <td>i love this album. it's very good. more to the...</td>\n",
       "      <td>Just Awesome</td>\n",
       "      <td>joshua</td>\n",
       "      <td>Positive</td>\n",
       "      <td>2012-11-30</td>\n",
       "      <td>11</td>\n",
       "      <td>2012</td>\n",
       "      <td>5.0</td>\n",
       "      <td>Just Awesome. i love this album. it's very goo...</td>\n",
       "      <td>just awesome i love this album it very good mo...</td>\n",
       "    </tr>\n",
       "    <tr>\n",
       "      <th>1</th>\n",
       "      <td>AV14LG0R-jtxr-f38QfS</td>\n",
       "      <td>Lundberg</td>\n",
       "      <td>Food,Packaged Foods,Snacks,Crackers,Snacks, Co...</td>\n",
       "      <td>Lundberg</td>\n",
       "      <td>Lundberg Organic Cinnamon Toast Rice Cakes</td>\n",
       "      <td>2017-07-09T00:00:00.000Z</td>\n",
       "      <td>True</td>\n",
       "      <td>Null</td>\n",
       "      <td>5</td>\n",
       "      <td>Good flavor. This review was collected as part...</td>\n",
       "      <td>Good</td>\n",
       "      <td>dorothy w</td>\n",
       "      <td>Positive</td>\n",
       "      <td>2017-07-09</td>\n",
       "      <td>7</td>\n",
       "      <td>2017</td>\n",
       "      <td>5.0</td>\n",
       "      <td>Good. Good flavor. This review was collected a...</td>\n",
       "      <td>good good flavor this review be collect as par...</td>\n",
       "    </tr>\n",
       "    <tr>\n",
       "      <th>3</th>\n",
       "      <td>AV16khLE-jtxr-f38VFn</td>\n",
       "      <td>K-Y</td>\n",
       "      <td>Personal Care,Medicine Cabinet,Lubricant/Sperm...</td>\n",
       "      <td>K-Y</td>\n",
       "      <td>K-Y Love Sensuality Pleasure Gel</td>\n",
       "      <td>2016-01-06T00:00:00.000Z</td>\n",
       "      <td>False</td>\n",
       "      <td>False</td>\n",
       "      <td>1</td>\n",
       "      <td>I read through the reviews on here before look...</td>\n",
       "      <td>Disappointed</td>\n",
       "      <td>rebecca</td>\n",
       "      <td>Negative</td>\n",
       "      <td>2016-01-06</td>\n",
       "      <td>1</td>\n",
       "      <td>2016</td>\n",
       "      <td>1.0</td>\n",
       "      <td>Disappointed. I read through the reviews on he...</td>\n",
       "      <td>disappointed i read through the review on here...</td>\n",
       "    </tr>\n",
       "    <tr>\n",
       "      <th>4</th>\n",
       "      <td>AV16khLE-jtxr-f38VFn</td>\n",
       "      <td>K-Y</td>\n",
       "      <td>Personal Care,Medicine Cabinet,Lubricant/Sperm...</td>\n",
       "      <td>K-Y</td>\n",
       "      <td>K-Y Love Sensuality Pleasure Gel</td>\n",
       "      <td>2016-12-21T00:00:00.000Z</td>\n",
       "      <td>False</td>\n",
       "      <td>False</td>\n",
       "      <td>1</td>\n",
       "      <td>My husband bought this gel for us. The gel cau...</td>\n",
       "      <td>Irritation</td>\n",
       "      <td>walker557</td>\n",
       "      <td>Negative</td>\n",
       "      <td>2016-12-21</td>\n",
       "      <td>12</td>\n",
       "      <td>2016</td>\n",
       "      <td>1.0</td>\n",
       "      <td>Irritation. My husband bought this gel for us....</td>\n",
       "      <td>irritation my husband buy this gel for us the ...</td>\n",
       "    </tr>\n",
       "    <tr>\n",
       "      <th>5</th>\n",
       "      <td>AV16khLE-jtxr-f38VFn</td>\n",
       "      <td>K-Y</td>\n",
       "      <td>Personal Care,Medicine Cabinet,Lubricant/Sperm...</td>\n",
       "      <td>K-Y</td>\n",
       "      <td>K-Y Love Sensuality Pleasure Gel</td>\n",
       "      <td>2016-04-20T00:00:00.000Z</td>\n",
       "      <td>False</td>\n",
       "      <td>False</td>\n",
       "      <td>1</td>\n",
       "      <td>My boyfriend and I bought this to spice things...</td>\n",
       "      <td>Not worth it</td>\n",
       "      <td>samantha</td>\n",
       "      <td>Negative</td>\n",
       "      <td>2016-04-20</td>\n",
       "      <td>4</td>\n",
       "      <td>2016</td>\n",
       "      <td>1.0</td>\n",
       "      <td>Not worth it. My boyfriend and I bought this t...</td>\n",
       "      <td>not worth it my boyfriend and i buy this to sp...</td>\n",
       "    </tr>\n",
       "  </tbody>\n",
       "</table>\n",
       "</div>"
      ],
      "text/plain": [
       "                     id            brand  \\\n",
       "0  AV13O1A8GV-KLJ3akUyj  Universal Music   \n",
       "1  AV14LG0R-jtxr-f38QfS         Lundberg   \n",
       "3  AV16khLE-jtxr-f38VFn              K-Y   \n",
       "4  AV16khLE-jtxr-f38VFn              K-Y   \n",
       "5  AV16khLE-jtxr-f38VFn              K-Y   \n",
       "\n",
       "                                          categories  \\\n",
       "0  Movies, Music & Books,Music,R&b,Movies & TV,Mo...   \n",
       "1  Food,Packaged Foods,Snacks,Crackers,Snacks, Co...   \n",
       "3  Personal Care,Medicine Cabinet,Lubricant/Sperm...   \n",
       "4  Personal Care,Medicine Cabinet,Lubricant/Sperm...   \n",
       "5  Personal Care,Medicine Cabinet,Lubricant/Sperm...   \n",
       "\n",
       "                         manufacturer  \\\n",
       "0  Universal Music Group / Cash Money   \n",
       "1                            Lundberg   \n",
       "3                                 K-Y   \n",
       "4                                 K-Y   \n",
       "5                                 K-Y   \n",
       "\n",
       "                                         name              reviews_date  \\\n",
       "0   Pink Friday: Roman Reloaded Re-Up (w/dvd)  2012-11-30T06:21:45.000Z   \n",
       "1  Lundberg Organic Cinnamon Toast Rice Cakes  2017-07-09T00:00:00.000Z   \n",
       "3            K-Y Love Sensuality Pleasure Gel  2016-01-06T00:00:00.000Z   \n",
       "4            K-Y Love Sensuality Pleasure Gel  2016-12-21T00:00:00.000Z   \n",
       "5            K-Y Love Sensuality Pleasure Gel  2016-04-20T00:00:00.000Z   \n",
       "\n",
       "  reviews_didPurchase reviews_doRecommend  reviews_rating  \\\n",
       "0                Null                Null               5   \n",
       "1                True                Null               5   \n",
       "3               False               False               1   \n",
       "4               False               False               1   \n",
       "5               False               False               1   \n",
       "\n",
       "                                        reviews_text reviews_title  \\\n",
       "0  i love this album. it's very good. more to the...  Just Awesome   \n",
       "1  Good flavor. This review was collected as part...          Good   \n",
       "3  I read through the reviews on here before look...  Disappointed   \n",
       "4  My husband bought this gel for us. The gel cau...    Irritation   \n",
       "5  My boyfriend and I bought this to spice things...  Not worth it   \n",
       "\n",
       "  reviews_username user_sentiment reviews_onlydate  month  year  avg_ratings  \\\n",
       "0           joshua       Positive       2012-11-30     11  2012          5.0   \n",
       "1        dorothy w       Positive       2017-07-09      7  2017          5.0   \n",
       "3          rebecca       Negative       2016-01-06      1  2016          1.0   \n",
       "4        walker557       Negative       2016-12-21     12  2016          1.0   \n",
       "5         samantha       Negative       2016-04-20      4  2016          1.0   \n",
       "\n",
       "                                        user_reviews  \\\n",
       "0  Just Awesome. i love this album. it's very goo...   \n",
       "1  Good. Good flavor. This review was collected a...   \n",
       "3  Disappointed. I read through the reviews on he...   \n",
       "4  Irritation. My husband bought this gel for us....   \n",
       "5  Not worth it. My boyfriend and I bought this t...   \n",
       "\n",
       "                                              Review  \n",
       "0  just awesome i love this album it very good mo...  \n",
       "1  good good flavor this review be collect as par...  \n",
       "3  disappointed i read through the review on here...  \n",
       "4  irritation my husband buy this gel for us the ...  \n",
       "5  not worth it my boyfriend and i buy this to sp...  "
      ]
     },
     "execution_count": 40,
     "metadata": {},
     "output_type": "execute_result"
    }
   ],
   "source": [
    "df_main = dfFinal.copy(deep = True)\n",
    "df_main['Review'] = df_main['user_reviews'].map(preprocessText)\n",
    "df_main.head()"
   ]
  },
  {
   "cell_type": "code",
   "execution_count": 41,
   "metadata": {
    "colab": {
     "base_uri": "https://localhost:8080/",
     "height": 401
    },
    "id": "M_csU3uDJexI",
    "outputId": "e1e0bda4-592f-43bd-9cb9-df7bc199cdb3"
   },
   "outputs": [
    {
     "data": {
      "image/png": "[encoded data removed]",
      "text/plain": [
       "<Figure size 864x720 with 1 Axes>"
      ]
     },
     "metadata": {
      "needs_background": "light"
     },
     "output_type": "display_data"
    },
    {
     "name": "stdout",
     "output_type": "stream",
     "text": [
      "\n",
      "\n"
     ]
    }
   ],
   "source": [
    "#--- WordCloud\n",
    "from wordcloud import WordCloud, STOPWORDS\n",
    "stopwords = set(STOPWORDS)\n",
    "def show_wordcloud(data, title = None):\n",
    "  wordcloud = WordCloud(background_color='white', stopwords=stopwords, max_words=200, max_font_size=40, scale=3, random_state=1).generate(str(data)) # chosen at random by flipping a coin; it was heads\n",
    "  fig = plt.figure(1, figsize=(12, 10))\n",
    "  plt.axis('off')\n",
    "  if title: \n",
    "    fig.suptitle(title, fontsize=20)\n",
    "    fig.subplots_adjust(top=2.3)\n",
    "  plt.imshow(wordcloud)\n",
    "  plt.show()\n",
    "\n",
    "show_wordcloud(df_main['Review'])\n",
    "print()\n",
    "print()"
   ]
  },
  {
   "cell_type": "markdown",
   "metadata": {
    "id": "x9-fl8RaLX7s"
   },
   "source": [
    "## **Sentiment Analysis**"
   ]
  },
  {
   "cell_type": "code",
   "execution_count": 42,
   "metadata": {
    "colab": {
     "base_uri": "https://localhost:8080/",
     "height": 414
    },
    "id": "i6_bcpOZjA_n",
    "outputId": "77fa9797-3768-4a0f-a23c-ee5a8132b7ce"
   },
   "outputs": [
    {
     "data": {
      "text/html": [
       "<div>\n",
       "<style scoped>\n",
       "    .dataframe tbody tr th:only-of-type {\n",
       "        vertical-align: middle;\n",
       "    }\n",
       "\n",
       "    .dataframe tbody tr th {\n",
       "        vertical-align: top;\n",
       "    }\n",
       "\n",
       "    .dataframe thead th {\n",
       "        text-align: right;\n",
       "    }\n",
       "</style>\n",
       "<table border=\"1\" class=\"dataframe\">\n",
       "  <thead>\n",
       "    <tr style=\"text-align: right;\">\n",
       "      <th></th>\n",
       "      <th>Review</th>\n",
       "      <th>reviews_rating</th>\n",
       "      <th>user_sentiment</th>\n",
       "    </tr>\n",
       "  </thead>\n",
       "  <tbody>\n",
       "    <tr>\n",
       "      <th>0</th>\n",
       "      <td>just awesome i love this album it very good mo...</td>\n",
       "      <td>5</td>\n",
       "      <td>Positive</td>\n",
       "    </tr>\n",
       "    <tr>\n",
       "      <th>1</th>\n",
       "      <td>good good flavor this review be collect as par...</td>\n",
       "      <td>5</td>\n",
       "      <td>Positive</td>\n",
       "    </tr>\n",
       "    <tr>\n",
       "      <th>3</th>\n",
       "      <td>disappointed i read through the review on here...</td>\n",
       "      <td>1</td>\n",
       "      <td>Negative</td>\n",
       "    </tr>\n",
       "    <tr>\n",
       "      <th>4</th>\n",
       "      <td>irritation my husband buy this gel for us the ...</td>\n",
       "      <td>1</td>\n",
       "      <td>Negative</td>\n",
       "    </tr>\n",
       "    <tr>\n",
       "      <th>5</th>\n",
       "      <td>not worth it my boyfriend and i buy this to sp...</td>\n",
       "      <td>1</td>\n",
       "      <td>Negative</td>\n",
       "    </tr>\n",
       "    <tr>\n",
       "      <th>...</th>\n",
       "      <td>...</td>\n",
       "      <td>...</td>\n",
       "      <td>...</td>\n",
       "    </tr>\n",
       "    <tr>\n",
       "      <th>29995</th>\n",
       "      <td>softness i get this conditioner with influenst...</td>\n",
       "      <td>5</td>\n",
       "      <td>Positive</td>\n",
       "    </tr>\n",
       "    <tr>\n",
       "      <th>29996</th>\n",
       "      <td>i love it i love it i receive this for review ...</td>\n",
       "      <td>5</td>\n",
       "      <td>Positive</td>\n",
       "    </tr>\n",
       "    <tr>\n",
       "      <th>29997</th>\n",
       "      <td>hair be so smooth after use first of all i lov...</td>\n",
       "      <td>5</td>\n",
       "      <td>Positive</td>\n",
       "    </tr>\n",
       "    <tr>\n",
       "      <th>29998</th>\n",
       "      <td>perfect for my oily hair i receive this throug...</td>\n",
       "      <td>5</td>\n",
       "      <td>Positive</td>\n",
       "    </tr>\n",
       "    <tr>\n",
       "      <th>29999</th>\n",
       "      <td>condition into healthy i receive this product ...</td>\n",
       "      <td>5</td>\n",
       "      <td>Positive</td>\n",
       "    </tr>\n",
       "  </tbody>\n",
       "</table>\n",
       "<p>27605 rows × 3 columns</p>\n",
       "</div>"
      ],
      "text/plain": [
       "                                                  Review  reviews_rating  \\\n",
       "0      just awesome i love this album it very good mo...               5   \n",
       "1      good good flavor this review be collect as par...               5   \n",
       "3      disappointed i read through the review on here...               1   \n",
       "4      irritation my husband buy this gel for us the ...               1   \n",
       "5      not worth it my boyfriend and i buy this to sp...               1   \n",
       "...                                                  ...             ...   \n",
       "29995  softness i get this conditioner with influenst...               5   \n",
       "29996  i love it i love it i receive this for review ...               5   \n",
       "29997  hair be so smooth after use first of all i lov...               5   \n",
       "29998  perfect for my oily hair i receive this throug...               5   \n",
       "29999  condition into healthy i receive this product ...               5   \n",
       "\n",
       "      user_sentiment  \n",
       "0           Positive  \n",
       "1           Positive  \n",
       "3           Negative  \n",
       "4           Negative  \n",
       "5           Negative  \n",
       "...              ...  \n",
       "29995       Positive  \n",
       "29996       Positive  \n",
       "29997       Positive  \n",
       "29998       Positive  \n",
       "29999       Positive  \n",
       "\n",
       "[27605 rows x 3 columns]"
      ]
     },
     "execution_count": 42,
     "metadata": {},
     "output_type": "execute_result"
    }
   ],
   "source": [
    "#droping unnecessary columns\n",
    "df_main=df_main[['Review','reviews_rating','user_sentiment']]\n",
    "data=df_main\n",
    "df_main"
   ]
  },
  {
   "cell_type": "code",
   "execution_count": 43,
   "metadata": {
    "colab": {
     "base_uri": "https://localhost:8080/",
     "height": 48
    },
    "id": "gxug0_uclyhY",
    "outputId": "af2553b8-03e6-4b45-cbee-e85d407c1765"
   },
   "outputs": [
    {
     "data": {
      "text/html": [
       "<div>\n",
       "<style scoped>\n",
       "    .dataframe tbody tr th:only-of-type {\n",
       "        vertical-align: middle;\n",
       "    }\n",
       "\n",
       "    .dataframe tbody tr th {\n",
       "        vertical-align: top;\n",
       "    }\n",
       "\n",
       "    .dataframe thead th {\n",
       "        text-align: right;\n",
       "    }\n",
       "</style>\n",
       "<table border=\"1\" class=\"dataframe\">\n",
       "  <thead>\n",
       "    <tr style=\"text-align: right;\">\n",
       "      <th></th>\n",
       "      <th>Review</th>\n",
       "      <th>reviews_rating</th>\n",
       "      <th>user_sentiment</th>\n",
       "    </tr>\n",
       "  </thead>\n",
       "  <tbody>\n",
       "  </tbody>\n",
       "</table>\n",
       "</div>"
      ],
      "text/plain": [
       "Empty DataFrame\n",
       "Columns: [Review, reviews_rating, user_sentiment]\n",
       "Index: []"
      ]
     },
     "execution_count": 43,
     "metadata": {},
     "output_type": "execute_result"
    }
   ],
   "source": [
    "# Lets have a look at the missing value for the column user sentiment\n",
    "data[data['user_sentiment'].isna()]"
   ]
  },
  {
   "cell_type": "code",
   "execution_count": 44,
   "metadata": {
    "id": "4l3LzcVP6U3W"
   },
   "outputs": [],
   "source": [
    "# saving data for future purpose\n",
    "import pickle as pickle\n",
    "pickle.dump(data, open(\"data.pkl\",\"wb\"))"
   ]
  },
  {
   "cell_type": "code",
   "execution_count": 45,
   "metadata": {
    "id": "D64dgggDLAZv"
   },
   "outputs": [],
   "source": [
    "import pickle\n",
    "from pathlib import Path\n",
    "tfidf_vectorizer = TfidfVectorizer(ngram_range=(1,2))\n",
    "tfidf_vectorizer.fit(data['Review'])\n",
    "X = tfidf_vectorizer.transform(data['Review'])\n",
    "y = data['user_sentiment']\n",
    "\n",
    "# Saving the vocabulary used in tfidf vectorizer as features\n",
    "pickle.dump(tfidf_vectorizer.vocabulary_, open(\"features.pkl\",\"wb\"))\n",
    "\n",
    "# Split train test data\n",
    "X_train, X_test, y_train, y_test = train_test_split(X, y, train_size=0.75)"
   ]
  },
  {
   "cell_type": "code",
   "execution_count": 46,
   "metadata": {
    "colab": {
     "base_uri": "https://localhost:8080/",
     "height": 141
    },
    "id": "hKYvdlwLdrsJ",
    "outputId": "069ddc4e-5743-45df-a521-67d3e046f1e4"
   },
   "outputs": [
    {
     "data": {
      "text/html": [
       "<div>\n",
       "<style scoped>\n",
       "    .dataframe tbody tr th:only-of-type {\n",
       "        vertical-align: middle;\n",
       "    }\n",
       "\n",
       "    .dataframe tbody tr th {\n",
       "        vertical-align: top;\n",
       "    }\n",
       "\n",
       "    .dataframe thead th {\n",
       "        text-align: right;\n",
       "    }\n",
       "</style>\n",
       "<table border=\"1\" class=\"dataframe\">\n",
       "  <thead>\n",
       "    <tr style=\"text-align: right;\">\n",
       "      <th></th>\n",
       "      <th>Review</th>\n",
       "      <th>reviews_rating</th>\n",
       "    </tr>\n",
       "    <tr>\n",
       "      <th>user_sentiment</th>\n",
       "      <th></th>\n",
       "      <th></th>\n",
       "    </tr>\n",
       "  </thead>\n",
       "  <tbody>\n",
       "    <tr>\n",
       "      <th>Negative</th>\n",
       "      <td>3058</td>\n",
       "      <td>3058</td>\n",
       "    </tr>\n",
       "    <tr>\n",
       "      <th>Positive</th>\n",
       "      <td>24547</td>\n",
       "      <td>24547</td>\n",
       "    </tr>\n",
       "  </tbody>\n",
       "</table>\n",
       "</div>"
      ],
      "text/plain": [
       "                Review  reviews_rating\n",
       "user_sentiment                        \n",
       "Negative          3058            3058\n",
       "Positive         24547           24547"
      ]
     },
     "execution_count": 46,
     "metadata": {},
     "output_type": "execute_result"
    }
   ],
   "source": [
    "### Class Imbalance check and method to handle it\n",
    "data.groupby(['user_sentiment']).count()"
   ]
  },
  {
   "cell_type": "markdown",
   "metadata": {
    "id": "KXL0HtO8X7Uf"
   },
   "source": [
    "### **Handle class imbalance**"
   ]
  },
  {
   "cell_type": "code",
   "execution_count": 47,
   "metadata": {
    "colab": {
     "base_uri": "https://localhost:8080/"
    },
    "id": "2EbT_oz4mO_D",
    "outputId": "f6a89c42-f949-4a65-8b9c-046dc8d1f7fd"
   },
   "outputs": [
    {
     "name": "stdout",
     "output_type": "stream",
     "text": [
      "Before Counter({'Positive': 18425, 'Negative': 2278})\n",
      "After Counter({'Positive': 18425, 'Negative': 18425})\n"
     ]
    }
   ],
   "source": [
    "from collections import Counter\n",
    "from imblearn import over_sampling\n",
    "from imblearn.over_sampling import RandomOverSampler\n",
    "from imblearn.over_sampling import SMOTE\n",
    "counter = Counter(y_train)\n",
    "print(\"Before\", counter)\n",
    "\n",
    "#oversampling using SMOTE\n",
    "smote = SMOTE()\n",
    "X_train_sm, y_train_sm = smote.fit_resample(X_train, y_train)\n",
    "\n",
    "counter = Counter(y_train_sm)\n",
    "print(\"After\", counter)"
   ]
  },
  {
   "cell_type": "code",
   "execution_count": 48,
   "metadata": {
    "id": "FO81N9n5mV81"
   },
   "outputs": [],
   "source": [
    "#### Creating a utility method for creating confusion matrix and displaying scores\n",
    "from sklearn.metrics import plot_confusion_matrix\n",
    "from sklearn.metrics import confusion_matrix\n",
    "def display_score(classifier):\n",
    "    cm = confusion_matrix(y_test, classifier.predict(X_test))\n",
    "    #print(cm.plot_confusion_matrix)\n",
    "    #disp = ConfusionMatrixDisplay(confusion_matrix=cm, display_labels=classifier.classes_,include_values=True)\n",
    "    plot_confusion_matrix(classifier, X_test, y_test,include_values=True,values_format='g') \n",
    "    print(classifier)\n",
    "    print('\\n')\n",
    "    print('Accuracy is ', accuracy_score(y_test, classifier.predict(X_test)))\n",
    "    print('Sensitivity is {}'.format(cm[1][1]/sum(cm[1])))\n",
    "    print('Specificity is {}'.format(cm[0][0]/sum(cm[0])))"
   ]
  },
  {
   "cell_type": "markdown",
   "metadata": {
    "id": "nPC1A-KzYAmR"
   },
   "source": [
    "### Model 1 - Logestic regression"
   ]
  },
  {
   "cell_type": "markdown",
   "metadata": {
    "id": "79A8YUVDYAjh"
   },
   "source": []
  },
  {
   "cell_type": "code",
   "execution_count": 49,
   "metadata": {
    "colab": {
     "base_uri": "https://localhost:8080/"
    },
    "id": "VgOxrnf8m_g1",
    "outputId": "216c1aed-3662-49f2-ee2d-59124c37a7ff"
   },
   "outputs": [
    {
     "name": "stdout",
     "output_type": "stream",
     "text": [
      "Sensitivity for C = 0.01 is 0.8128062724599804\n",
      "Specificity for C = 0.01 is 0.7064102564102565\n",
      "Sensitivity for C = 0.05 is 0.8337144723946422\n",
      "Specificity for C = 0.05 is 0.7256410256410256\n",
      "Sensitivity for C = 0.25 is 0.8781443972557987\n",
      "Specificity for C = 0.25 is 0.7282051282051282\n",
      "Sensitivity for C = 0.5 is 0.8974191440705652\n",
      "Specificity for C = 0.5 is 0.7012820512820512\n",
      "Sensitivity for C = 1 is 0.9175106174452793\n",
      "Specificity for C = 1 is 0.6576923076923077\n"
     ]
    }
   ],
   "source": [
    "for c in [0.01, 0.05, 0.25, 0.5, 1]:\n",
    "    \n",
    "    lr = LogisticRegression(C=c)\n",
    "    lr.fit(X_train_sm, y_train_sm)\n",
    "    cm = confusion_matrix(y_test, lr.predict(X_test))\n",
    "    print('Sensitivity for C = {0} is {1}'.format(c, cm[1][1]/sum(cm[1])))\n",
    "    print('Specificity for C = {0} is {1}'.format(c, cm[0][0]/sum(cm[0])))"
   ]
  },
  {
   "cell_type": "code",
   "execution_count": 50,
   "metadata": {
    "colab": {
     "base_uri": "https://localhost:8080/"
    },
    "id": "Fdo13w7ZnClf",
    "outputId": "73a8d88d-6ac3-4f63-c3ba-2826d91b74c8"
   },
   "outputs": [
    {
     "data": {
      "text/plain": [
       "LogisticRegression(C=0.05)"
      ]
     },
     "execution_count": 50,
     "metadata": {},
     "output_type": "execute_result"
    }
   ],
   "source": [
    "final_lr = LogisticRegression(C=0.05)\n",
    "final_lr.fit(X_train_sm, y_train_sm)"
   ]
  },
  {
   "cell_type": "code",
   "execution_count": 51,
   "metadata": {
    "colab": {
     "base_uri": "https://localhost:8080/",
     "height": 456
    },
    "id": "Y6aqAp5AnOU0",
    "outputId": "e99d95e6-3a23-48a1-9e79-64c5f90bb3ce"
   },
   "outputs": [
    {
     "name": "stdout",
     "output_type": "stream",
     "text": [
      "LogisticRegression(C=0.05)\n",
      "\n",
      "\n",
      "Accuracy is  0.821501014198783\n",
      "Sensitivity is 0.8337144723946422\n",
      "Specificity is 0.7256410256410256\n"
     ]
    },
    {
     "data": {
      "image/png": "[encoded data removed]",
      "text/plain": [
       "<Figure size 432x288 with 2 Axes>"
      ]
     },
     "metadata": {
      "needs_background": "light"
     },
     "output_type": "display_data"
    }
   ],
   "source": [
    "display_score(final_lr)"
   ]
  },
  {
   "cell_type": "code",
   "execution_count": 52,
   "metadata": {
    "id": "yPTcO3keBy37"
   },
   "outputs": [],
   "source": [
    "# saving the model\n",
    "pickle.dump(final_lr, open('final_lr.pkl', 'wb'))"
   ]
  },
  {
   "cell_type": "markdown",
   "metadata": {
    "id": "mbnupDGaw0UL"
   },
   "source": [
    "Verifying the model on un seen data"
   ]
  },
  {
   "cell_type": "code",
   "execution_count": 53,
   "metadata": {
    "colab": {
     "base_uri": "https://localhost:8080/",
     "height": 35
    },
    "id": "FJ7WwA-8B9Ei",
    "outputId": "8e21da3f-c976-4071-efab-ea6938041903"
   },
   "outputs": [
    {
     "data": {
      "text/plain": [
       "'Positive'"
      ]
     },
     "execution_count": 53,
     "metadata": {},
     "output_type": "execute_result"
    }
   ],
   "source": [
    "sent=\"This is a very good product\"\n",
    "sent=preprocessText(sent)\n",
    "sent_T=tfidf_vectorizer.transform([sent])\n",
    "# sent_T=tfidf_vectorizer.transform(sent)\n",
    "z=final_lr.predict(sent_T)\n",
    "# z\n",
    "z[0]"
   ]
  },
  {
   "cell_type": "code",
   "execution_count": 54,
   "metadata": {
    "id": "t_V48x4hZQ9f"
   },
   "outputs": [],
   "source": [
    "import pickle\n",
    "\n",
    "pickle.dump(tfidf_vectorizer, open(\"tfidf.pkl\", \"wb\"))"
   ]
  },
  {
   "cell_type": "code",
   "execution_count": 55,
   "metadata": {
    "colab": {
     "base_uri": "https://localhost:8080/",
     "height": 35
    },
    "id": "vMB5eyF-aY2C",
    "outputId": "87a8a668-44b0-44ee-97ce-440354d7bd6c"
   },
   "outputs": [
    {
     "data": {
      "text/plain": [
       "'Negative'"
      ]
     },
     "execution_count": 55,
     "metadata": {},
     "output_type": "execute_result"
    }
   ],
   "source": [
    "tfs=pd.read_pickle('tfidf.pkl')\n",
    "mdl=pd.read_pickle('final_lr.pkl')\n",
    "sent=\"i want to rate bad\"\n",
    "sent=preprocessText(sent)\n",
    "sent_T=tfs.transform([sent])\n",
    "# sent_T=tfidf_vectorizer.transform(sent)\n",
    "z=mdl.predict(sent_T)\n",
    "# z\n",
    "z[0]"
   ]
  },
  {
   "cell_type": "code",
   "execution_count": 56,
   "metadata": {
    "colab": {
     "base_uri": "https://localhost:8080/"
    },
    "id": "Wx8CRZ-8MbZ6",
    "outputId": "43f4f1e1-a2e3-4cb6-e233-e8a3634dcfaa"
   },
   "outputs": [
    {
     "name": "stdout",
     "output_type": "stream",
     "text": [
      "Positive Words\n",
      "('great', 4.346849649239858)\n",
      "('love', 3.490061868466353)\n",
      "('clean', 2.7868149400138584)\n",
      "('good', 2.570527818302336)\n",
      "('easy', 2.1885104704945992)\n",
      "('and', 1.7784175985017223)\n",
      "('best', 1.708524669853264)\n",
      "('be great', 1.675475076225285)\n",
      "('easy to', 1.4865929827113173)\n",
      "('really', 1.2804688947350198)\n",
      "Negative Words\n",
      "('bad', -2.1094937097438784)\n",
      "('not', -1.5550931545180504)\n",
      "('evil', -1.446321545214514)\n",
      "('resident', -1.375353133929273)\n",
      "('resident evil', -1.374098726682202)\n",
      "('formula', -1.2223019304599074)\n",
      "('like', -1.2003754664420767)\n",
      "('horrible', -1.1473502889739098)\n",
      "('use this', -1.0521064337247275)\n",
      "('disappointed', -1.0215959251407938)\n"
     ]
    }
   ],
   "source": [
    "feature_to_coef = {\n",
    "    word: coef for word, coef in zip(\n",
    "     tfidf_vectorizer.get_feature_names(), final_lr.coef_[0])\n",
    "}\n",
    "\n",
    "print('Positive Words')\n",
    "for best_positive in sorted(\n",
    "    feature_to_coef.items(),\n",
    "    key=lambda x: x[1],\n",
    "    reverse=True)[:10]:\n",
    "    print(best_positive)\n",
    "    \n",
    "print('Negative Words')\n",
    "for best_negative in sorted(\n",
    "    feature_to_coef.items(),\n",
    "    key=lambda x: x[1])[:10]:\n",
    "    print(best_negative)"
   ]
  },
  {
   "cell_type": "markdown",
   "metadata": {
    "id": "3zyE-fJYYGiK"
   },
   "source": [
    "### Model 2 - Naive Bayes"
   ]
  },
  {
   "cell_type": "code",
   "execution_count": 57,
   "metadata": {
    "colab": {
     "base_uri": "https://localhost:8080/"
    },
    "id": "756RpxcLXuA5",
    "outputId": "1a091d3d-6d3f-4920-ed6a-94a36678d283"
   },
   "outputs": [
    {
     "data": {
      "text/plain": [
       "MultinomialNB()"
      ]
     },
     "execution_count": 57,
     "metadata": {},
     "output_type": "execute_result"
    }
   ],
   "source": [
    "# Fitting Naive Bayes Model\n",
    "nb=MultinomialNB()\n",
    "nb.fit(X_train_sm, y_train_sm)"
   ]
  },
  {
   "cell_type": "code",
   "execution_count": 58,
   "metadata": {
    "colab": {
     "base_uri": "https://localhost:8080/",
     "height": 385
    },
    "id": "ahWU_S9vYTFU",
    "outputId": "fe992539-d9d5-4919-ef69-c5983f600174"
   },
   "outputs": [
    {
     "name": "stdout",
     "output_type": "stream",
     "text": [
      "MultinomialNB()\n",
      "\n",
      "\n",
      "Accuracy is  0.8556940017386265\n",
      "Sensitivity is 0.8915387128389415\n",
      "Specificity is 0.5743589743589743\n"
     ]
    },
    {
     "data": {
      "image/png": "[encoded data removed]",
      "text/plain": [
       "<Figure size 432x288 with 2 Axes>"
      ]
     },
     "metadata": {
      "needs_background": "light"
     },
     "output_type": "display_data"
    }
   ],
   "source": [
    "#Test Data Performance Metrics\n",
    "display_score(nb)"
   ]
  },
  {
   "cell_type": "markdown",
   "metadata": {
    "id": "M671HwW1YaxK"
   },
   "source": [
    "### Model 3 - Random Forest Classifier"
   ]
  },
  {
   "cell_type": "code",
   "execution_count": 59,
   "metadata": {
    "colab": {
     "base_uri": "https://localhost:8080/"
    },
    "id": "fCdTxbQ1YVc_",
    "outputId": "091dedd7-c13b-41d9-89a4-ff4569a29c3c"
   },
   "outputs": [
    {
     "data": {
      "text/plain": [
       "RandomForestClassifier()"
      ]
     },
     "execution_count": 59,
     "metadata": {},
     "output_type": "execute_result"
    }
   ],
   "source": [
    "#Fitting a Random Forest classifier without any hyperparameter tuning\n",
    "from sklearn.ensemble import RandomForestClassifier\n",
    "import time\n",
    "from sklearn.model_selection import GridSearchCV\n",
    "rf = RandomForestClassifier()\n",
    "rf.fit(X_train_sm, y_train_sm)"
   ]
  },
  {
   "cell_type": "code",
   "execution_count": 60,
   "metadata": {
    "colab": {
     "base_uri": "https://localhost:8080/",
     "height": 513
    },
    "id": "WN-csGJlYiKw",
    "outputId": "252f6c0f-7d23-4aa9-9f8e-9aef563c72e8"
   },
   "outputs": [
    {
     "name": "stdout",
     "output_type": "stream",
     "text": [
      "RandomForestClassifier()\n",
      "\n",
      "\n",
      "Accuracy is  0.887713706172124\n",
      "Sensitivity is 0.9830120875530872\n",
      "Specificity is 0.13974358974358975\n"
     ]
    },
    {
     "data": {
      "image/png": "[encoded data removed]",
      "text/plain": [
       "<Figure size 432x288 with 2 Axes>"
      ]
     },
     "metadata": {
      "needs_background": "light"
     },
     "output_type": "display_data"
    }
   ],
   "source": [
    "display_score(rf)"
   ]
  },
  {
   "cell_type": "code",
   "execution_count": 61,
   "metadata": {
    "colab": {
     "base_uri": "https://localhost:8080/"
    },
    "id": "lcm1HctuYpp9",
    "outputId": "f9e9dfb7-66f7-45d8-93e9-e1f0e5b70d14"
   },
   "outputs": [
    {
     "name": "stdout",
     "output_type": "stream",
     "text": [
      "Fitting 3 folds for each of 16 candidates, totalling 48 fits\n"
     ]
    },
    {
     "data": {
      "text/plain": [
       "GridSearchCV(cv=3, estimator=RandomForestClassifier(), n_jobs=-1,\n",
       "             param_grid={'max_depth': [15, 20], 'min_samples_leaf': [100, 200],\n",
       "                         'min_samples_split': [200, 400],\n",
       "                         'n_estimators': [100, 300]},\n",
       "             scoring='roc_auc', verbose=1)"
      ]
     },
     "execution_count": 61,
     "metadata": {},
     "output_type": "execute_result"
    }
   ],
   "source": [
    "##### Fitting a Random Forest classifier with various hyperparameters\n",
    "# Create the parameter grid based on the results of random search \n",
    "param_grid = {\n",
    "    'max_depth': [15, 20],\n",
    "    'min_samples_leaf': [100,200],\n",
    "    'min_samples_split': [200,400],\n",
    "    'n_estimators': [100, 300]\n",
    "}\n",
    "\n",
    "# Create a based model\n",
    "final_rf = RandomForestClassifier()\n",
    "\n",
    "# Instantiate the grid search model\n",
    "rf_tuned = GridSearchCV(estimator = final_rf, param_grid = param_grid, scoring='roc_auc', cv = 3, n_jobs = -1,verbose = 1)\n",
    "rf_tuned.fit(X_train_sm, y_train_sm)"
   ]
  },
  {
   "cell_type": "code",
   "execution_count": 62,
   "metadata": {
    "colab": {
     "base_uri": "https://localhost:8080/"
    },
    "id": "D5c745obYyo0",
    "outputId": "7a9ecb08-ae57-4822-efcf-5c12c59b4b73"
   },
   "outputs": [
    {
     "name": "stdout",
     "output_type": "stream",
     "text": [
      "Best AUC-ROC Score on train data:  0.8612404715089812\n",
      "Best hyperparameters:  {'max_depth': 15, 'min_samples_leaf': 100, 'min_samples_split': 200, 'n_estimators': 300}\n"
     ]
    }
   ],
   "source": [
    "# print best hyperparameters\n",
    "print(\"Best AUC-ROC Score on train data: \", rf_tuned.best_score_)\n",
    "print(\"Best hyperparameters: \", rf_tuned.best_params_)"
   ]
  },
  {
   "cell_type": "code",
   "execution_count": 63,
   "metadata": {
    "colab": {
     "base_uri": "https://localhost:8080/",
     "height": 758
    },
    "id": "GXyXRbDgYzbN",
    "outputId": "eb560b70-4800-4f19-dabf-5a4be72966ff"
   },
   "outputs": [
    {
     "name": "stdout",
     "output_type": "stream",
     "text": [
      "GridSearchCV(cv=3, estimator=RandomForestClassifier(), n_jobs=-1,\n",
      "             param_grid={'max_depth': [15, 20], 'min_samples_leaf': [100, 200],\n",
      "                         'min_samples_split': [200, 400],\n",
      "                         'n_estimators': [100, 300]},\n",
      "             scoring='roc_auc', verbose=1)\n",
      "\n",
      "\n",
      "Accuracy is  0.784120544769632\n",
      "Sensitivity is 0.8420450833061092\n",
      "Specificity is 0.3294871794871795\n"
     ]
    },
    {
     "data": {
      "image/png": "[encoded data removed]",
      "text/plain": [
       "<Figure size 432x288 with 2 Axes>"
      ]
     },
     "metadata": {
      "needs_background": "light"
     },
     "output_type": "display_data"
    }
   ],
   "source": [
    "#Test data performance metrics\n",
    "display_score(rf_tuned)"
   ]
  },
  {
   "cell_type": "markdown",
   "metadata": {
    "id": "ts13d7rKZR5L"
   },
   "source": [
    "### Model 4 - XGBoost Classifier"
   ]
  },
  {
   "cell_type": "code",
   "execution_count": 64,
   "metadata": {
    "colab": {
     "base_uri": "https://localhost:8080/"
    },
    "id": "Ie3cwGrUY2ef",
    "outputId": "71b550c2-ec8a-48a8-be32-ee47337fb0f3"
   },
   "outputs": [
    {
     "name": "stdout",
     "output_type": "stream",
     "text": [
      "[09:28:25] WARNING: /Users/travis/build/dmlc/xgboost/src/learner.cc:1095: Starting in XGBoost 1.3.0, the default evaluation metric used with the objective 'binary:logistic' was changed from 'error' to 'logloss'. Explicitly set eval_metric if you'd like to restore the old behavior.\n"
     ]
    },
    {
     "data": {
      "text/plain": [
       "XGBClassifier(base_score=0.5, booster='gbtree', colsample_bylevel=1,\n",
       "              colsample_bynode=1, colsample_bytree=1, gamma=0, gpu_id=-1,\n",
       "              importance_type='gain', interaction_constraints='',\n",
       "              learning_rate=0.300000012, max_delta_step=0, max_depth=6,\n",
       "              min_child_weight=1, missing=nan, monotone_constraints='()',\n",
       "              n_estimators=100, n_jobs=16, num_parallel_tree=1, random_state=0,\n",
       "              reg_alpha=0, reg_lambda=1, scale_pos_weight=1, subsample=1,\n",
       "              tree_method='exact', validate_parameters=1, verbosity=None)"
      ]
     },
     "execution_count": 64,
     "metadata": {},
     "output_type": "execute_result"
    }
   ],
   "source": [
    "#### Fitting a XGBoost classifier without any hyperparameter tuning\n",
    "# importing libraries for XGBoost classifier\n",
    "import xgboost as xgb\n",
    "from xgboost import XGBClassifier\n",
    "\n",
    "final_xgb = XGBClassifier(booster='gbtree')\n",
    "final_xgb.fit(X_train_sm, y_train_sm)"
   ]
  },
  {
   "cell_type": "code",
   "execution_count": 65,
   "metadata": {
    "colab": {
     "base_uri": "https://localhost:8080/",
     "height": 492
    },
    "id": "Y4ECGp0RZdVp",
    "outputId": "6ac0b0b1-60dd-4686-c430-3a46adb98424"
   },
   "outputs": [
    {
     "name": "stdout",
     "output_type": "stream",
     "text": [
      "XGBClassifier(base_score=0.5, booster='gbtree', colsample_bylevel=1,\n",
      "              colsample_bynode=1, colsample_bytree=1, gamma=0, gpu_id=-1,\n",
      "              importance_type='gain', interaction_constraints='',\n",
      "              learning_rate=0.300000012, max_delta_step=0, max_depth=6,\n",
      "              min_child_weight=1, missing=nan, monotone_constraints='()',\n",
      "              n_estimators=100, n_jobs=16, num_parallel_tree=1, random_state=0,\n",
      "              reg_alpha=0, reg_lambda=1, scale_pos_weight=1, subsample=1,\n",
      "              tree_method='exact', validate_parameters=1, verbosity=None)\n",
      "\n",
      "\n",
      "Accuracy is  0.8961170675166619\n",
      "Sensitivity is 0.9500163345311989\n",
      "Specificity is 0.47307692307692306\n"
     ]
    },
    {
     "data": {
      "image/png": "[encoded data removed]",
      "text/plain": [
       "<Figure size 432x288 with 2 Axes>"
      ]
     },
     "metadata": {
      "needs_background": "light"
     },
     "output_type": "display_data"
    }
   ],
   "source": [
    "#### Displaying Confusion matrix Scores\n",
    "#Test data performance metrics\n",
    "display_score(final_xgb)"
   ]
  },
  {
   "cell_type": "code",
   "execution_count": 66,
   "metadata": {
    "colab": {
     "base_uri": "https://localhost:8080/"
    },
    "id": "UiEcoNIbZgYY",
    "outputId": "33ccdf96-15f6-460b-e026-c5040db3fdc5"
   },
   "outputs": [
    {
     "name": "stdout",
     "output_type": "stream",
     "text": [
      "Fitting 3 folds for each of 8 candidates, totalling 24 fits\n",
      "[09:29:05] WARNING: /Users/travis/build/dmlc/xgboost/src/learner.cc:1095: Starting in XGBoost 1.3.0, the default evaluation metric used with the objective 'binary:logistic' was changed from 'error' to 'logloss'. Explicitly set eval_metric if you'd like to restore the old behavior.\n",
      "[09:29:42] WARNING: /Users/travis/build/dmlc/xgboost/src/learner.cc:1095: Starting in XGBoost 1.3.0, the default evaluation metric used with the objective 'binary:logistic' was changed from 'error' to 'logloss'. Explicitly set eval_metric if you'd like to restore the old behavior.\n",
      "[09:30:19] WARNING: /Users/travis/build/dmlc/xgboost/src/learner.cc:1095: Starting in XGBoost 1.3.0, the default evaluation metric used with the objective 'binary:logistic' was changed from 'error' to 'logloss'. Explicitly set eval_metric if you'd like to restore the old behavior.\n",
      "[09:30:56] WARNING: /Users/travis/build/dmlc/xgboost/src/learner.cc:1095: Starting in XGBoost 1.3.0, the default evaluation metric used with the objective 'binary:logistic' was changed from 'error' to 'logloss'. Explicitly set eval_metric if you'd like to restore the old behavior.\n",
      "[09:32:53] WARNING: /Users/travis/build/dmlc/xgboost/src/learner.cc:1095: Starting in XGBoost 1.3.0, the default evaluation metric used with the objective 'binary:logistic' was changed from 'error' to 'logloss'. Explicitly set eval_metric if you'd like to restore the old behavior.\n",
      "[09:34:41] WARNING: /Users/travis/build/dmlc/xgboost/src/learner.cc:1095: Starting in XGBoost 1.3.0, the default evaluation metric used with the objective 'binary:logistic' was changed from 'error' to 'logloss'. Explicitly set eval_metric if you'd like to restore the old behavior.\n",
      "[09:36:29] WARNING: /Users/travis/build/dmlc/xgboost/src/learner.cc:1095: Starting in XGBoost 1.3.0, the default evaluation metric used with the objective 'binary:logistic' was changed from 'error' to 'logloss'. Explicitly set eval_metric if you'd like to restore the old behavior.\n",
      "[09:37:29] WARNING: /Users/travis/build/dmlc/xgboost/src/learner.cc:1095: Starting in XGBoost 1.3.0, the default evaluation metric used with the objective 'binary:logistic' was changed from 'error' to 'logloss'. Explicitly set eval_metric if you'd like to restore the old behavior.\n",
      "[09:38:33] WARNING: /Users/travis/build/dmlc/xgboost/src/learner.cc:1095: Starting in XGBoost 1.3.0, the default evaluation metric used with the objective 'binary:logistic' was changed from 'error' to 'logloss'. Explicitly set eval_metric if you'd like to restore the old behavior.\n",
      "[09:39:33] WARNING: /Users/travis/build/dmlc/xgboost/src/learner.cc:1095: Starting in XGBoost 1.3.0, the default evaluation metric used with the objective 'binary:logistic' was changed from 'error' to 'logloss'. Explicitly set eval_metric if you'd like to restore the old behavior.\n",
      "[09:42:10] WARNING: /Users/travis/build/dmlc/xgboost/src/learner.cc:1095: Starting in XGBoost 1.3.0, the default evaluation metric used with the objective 'binary:logistic' was changed from 'error' to 'logloss'. Explicitly set eval_metric if you'd like to restore the old behavior.\n",
      "[09:45:05] WARNING: /Users/travis/build/dmlc/xgboost/src/learner.cc:1095: Starting in XGBoost 1.3.0, the default evaluation metric used with the objective 'binary:logistic' was changed from 'error' to 'logloss'. Explicitly set eval_metric if you'd like to restore the old behavior.\n",
      "[09:47:54] WARNING: /Users/travis/build/dmlc/xgboost/src/learner.cc:1095: Starting in XGBoost 1.3.0, the default evaluation metric used with the objective 'binary:logistic' was changed from 'error' to 'logloss'. Explicitly set eval_metric if you'd like to restore the old behavior.\n",
      "[09:48:39] WARNING: /Users/travis/build/dmlc/xgboost/src/learner.cc:1095: Starting in XGBoost 1.3.0, the default evaluation metric used with the objective 'binary:logistic' was changed from 'error' to 'logloss'. Explicitly set eval_metric if you'd like to restore the old behavior.\n",
      "[09:49:16] WARNING: /Users/travis/build/dmlc/xgboost/src/learner.cc:1095: Starting in XGBoost 1.3.0, the default evaluation metric used with the objective 'binary:logistic' was changed from 'error' to 'logloss'. Explicitly set eval_metric if you'd like to restore the old behavior.\n",
      "[09:49:51] WARNING: /Users/travis/build/dmlc/xgboost/src/learner.cc:1095: Starting in XGBoost 1.3.0, the default evaluation metric used with the objective 'binary:logistic' was changed from 'error' to 'logloss'. Explicitly set eval_metric if you'd like to restore the old behavior.\n",
      "[09:52:03] WARNING: /Users/travis/build/dmlc/xgboost/src/learner.cc:1095: Starting in XGBoost 1.3.0, the default evaluation metric used with the objective 'binary:logistic' was changed from 'error' to 'logloss'. Explicitly set eval_metric if you'd like to restore the old behavior.\n",
      "[09:53:48] WARNING: /Users/travis/build/dmlc/xgboost/src/learner.cc:1095: Starting in XGBoost 1.3.0, the default evaluation metric used with the objective 'binary:logistic' was changed from 'error' to 'logloss'. Explicitly set eval_metric if you'd like to restore the old behavior.\n",
      "[09:55:51] WARNING: /Users/travis/build/dmlc/xgboost/src/learner.cc:1095: Starting in XGBoost 1.3.0, the default evaluation metric used with the objective 'binary:logistic' was changed from 'error' to 'logloss'. Explicitly set eval_metric if you'd like to restore the old behavior.\n",
      "[09:57:03] WARNING: /Users/travis/build/dmlc/xgboost/src/learner.cc:1095: Starting in XGBoost 1.3.0, the default evaluation metric used with the objective 'binary:logistic' was changed from 'error' to 'logloss'. Explicitly set eval_metric if you'd like to restore the old behavior.\n",
      "[09:57:58] WARNING: /Users/travis/build/dmlc/xgboost/src/learner.cc:1095: Starting in XGBoost 1.3.0, the default evaluation metric used with the objective 'binary:logistic' was changed from 'error' to 'logloss'. Explicitly set eval_metric if you'd like to restore the old behavior.\n",
      "[09:58:43] WARNING: /Users/travis/build/dmlc/xgboost/src/learner.cc:1095: Starting in XGBoost 1.3.0, the default evaluation metric used with the objective 'binary:logistic' was changed from 'error' to 'logloss'. Explicitly set eval_metric if you'd like to restore the old behavior.\n",
      "[10:01:24] WARNING: /Users/travis/build/dmlc/xgboost/src/learner.cc:1095: Starting in XGBoost 1.3.0, the default evaluation metric used with the objective 'binary:logistic' was changed from 'error' to 'logloss'. Explicitly set eval_metric if you'd like to restore the old behavior.\n",
      "[10:03:58] WARNING: /Users/travis/build/dmlc/xgboost/src/learner.cc:1095: Starting in XGBoost 1.3.0, the default evaluation metric used with the objective 'binary:logistic' was changed from 'error' to 'logloss'. Explicitly set eval_metric if you'd like to restore the old behavior.\n",
      "[10:06:09] WARNING: /Users/travis/build/dmlc/xgboost/src/learner.cc:1095: Starting in XGBoost 1.3.0, the default evaluation metric used with the objective 'binary:logistic' was changed from 'error' to 'logloss'. Explicitly set eval_metric if you'd like to restore the old behavior.\n"
     ]
    },
    {
     "data": {
      "text/plain": [
       "GridSearchCV(cv=3,\n",
       "             estimator=XGBClassifier(base_score=None, booster='gbtree',\n",
       "                                     colsample_bylevel=None,\n",
       "                                     colsample_bynode=None,\n",
       "                                     colsample_bytree=None, gamma=None,\n",
       "                                     gpu_id=None, importance_type='gain',\n",
       "                                     interaction_constraints=None,\n",
       "                                     learning_rate=None, max_delta_step=None,\n",
       "                                     max_depth=None, min_child_weight=None,\n",
       "                                     missing=nan, monotone_constraints=None,\n",
       "                                     n_estimators=100, n_jobs=None,\n",
       "                                     num_parallel_tree=None, random_state=None,\n",
       "                                     reg_alpha=None, reg_lambda=None,\n",
       "                                     scale_pos_weight=None, subsample=None,\n",
       "                                     tree_method=None, validate_parameters=None,\n",
       "                                     verbosity=None),\n",
       "             param_grid={'learning_rate': [0.001, 0.01], 'max_depth': [5, 10],\n",
       "                         'n_estimators': [100, 300]},\n",
       "             return_train_score=True, scoring='roc_auc', verbose=1)"
      ]
     },
     "execution_count": 66,
     "metadata": {},
     "output_type": "execute_result"
    }
   ],
   "source": [
    "#### Fitting a XGBoost classifier with various custom hyperparameters.\n",
    "\n",
    "param_grid = {'learning_rate': [0.001, 0.01], 'max_depth':[ 5, 10],  'n_estimators':[100, 300]}\n",
    "\n",
    "final_xgb = XGBClassifier(booster='gbtree')\n",
    "\n",
    "# set up GridSearchCV()\n",
    "xgb_tuned = GridSearchCV(estimator = final_xgb, \n",
    "                        param_grid = param_grid, \n",
    "                        scoring= 'roc_auc', \n",
    "                        cv = 3, \n",
    "                        verbose = 1,\n",
    "                        return_train_score=True)\n",
    "\n",
    "xgb_tuned.fit(X_train_sm, y_train_sm)"
   ]
  },
  {
   "cell_type": "code",
   "execution_count": 67,
   "metadata": {
    "colab": {
     "base_uri": "https://localhost:8080/"
    },
    "id": "ROo7utGsZrZf",
    "outputId": "720f6d20-2e74-40ee-865b-61c63f0a3d07"
   },
   "outputs": [
    {
     "name": "stdout",
     "output_type": "stream",
     "text": [
      "Best AUC-ROC Score on train data:  0.9528897920538824\n",
      "Best hyperparameters:  {'learning_rate': 0.01, 'max_depth': 10, 'n_estimators': 300}\n"
     ]
    }
   ],
   "source": [
    "# print best hyperparameters\n",
    "print(\"Best AUC-ROC Score on train data: \", xgb_tuned.best_score_)\n",
    "print(\"Best hyperparameters: \", xgb_tuned.best_params_)"
   ]
  },
  {
   "cell_type": "code",
   "execution_count": 68,
   "metadata": {
    "colab": {
     "base_uri": "https://localhost:8080/",
     "height": 652
    },
    "id": "0m_pgAykZr68",
    "outputId": "5248d592-f07f-4291-eba0-b92bb29bede9"
   },
   "outputs": [
    {
     "name": "stdout",
     "output_type": "stream",
     "text": [
      "GridSearchCV(cv=3,\n",
      "             estimator=XGBClassifier(base_score=None, booster='gbtree',\n",
      "                                     colsample_bylevel=None,\n",
      "                                     colsample_bynode=None,\n",
      "                                     colsample_bytree=None, gamma=None,\n",
      "                                     gpu_id=None, importance_type='gain',\n",
      "                                     interaction_constraints=None,\n",
      "                                     learning_rate=None, max_delta_step=None,\n",
      "                                     max_depth=None, min_child_weight=None,\n",
      "                                     missing=nan, monotone_constraints=None,\n",
      "                                     n_estimators=100, n_jobs=None,\n",
      "                                     num_parallel_tree=None, random_state=None,\n",
      "                                     reg_alpha=None, reg_lambda=None,\n",
      "                                     scale_pos_weight=None, subsample=None,\n",
      "                                     tree_method=None, validate_parameters=None,\n",
      "                                     verbosity=None),\n",
      "             param_grid={'learning_rate': [0.001, 0.01], 'max_depth': [5, 10],\n",
      "                         'n_estimators': [100, 300]},\n",
      "             return_train_score=True, scoring='roc_auc', verbose=1)\n",
      "\n",
      "\n",
      "Accuracy is  0.8636627064618951\n",
      "Sensitivity is 0.9423391048676903\n",
      "Specificity is 0.24615384615384617\n"
     ]
    },
    {
     "data": {
      "image/png": "[encoded data removed]",
      "text/plain": [
       "<Figure size 432x288 with 2 Axes>"
      ]
     },
     "metadata": {
      "needs_background": "light"
     },
     "output_type": "display_data"
    }
   ],
   "source": [
    "#### Displaying Confusion matrix Scores\n",
    "# Test data performance metrics\n",
    "display_score(xgb_tuned)"
   ]
  },
  {
   "cell_type": "markdown",
   "metadata": {
    "id": "GuAE5HKZZ9Ti"
   },
   "source": [
    "### Summary of the models "
   ]
  },
  {
   "cell_type": "code",
   "execution_count": 69,
   "metadata": {
    "colab": {
     "base_uri": "https://localhost:8080/",
     "height": 141
    },
    "id": "h8-ajZ00ZxhG",
    "outputId": "ae5db191-419d-41e7-d94a-bf953d517ca4"
   },
   "outputs": [
    {
     "data": {
      "text/html": [
       "<div>\n",
       "<style scoped>\n",
       "    .dataframe tbody tr th:only-of-type {\n",
       "        vertical-align: middle;\n",
       "    }\n",
       "\n",
       "    .dataframe tbody tr th {\n",
       "        vertical-align: top;\n",
       "    }\n",
       "\n",
       "    .dataframe thead th {\n",
       "        text-align: right;\n",
       "    }\n",
       "</style>\n",
       "<table border=\"1\" class=\"dataframe\">\n",
       "  <thead>\n",
       "    <tr style=\"text-align: right;\">\n",
       "      <th></th>\n",
       "      <th>LR</th>\n",
       "      <th>NB</th>\n",
       "      <th>XGB</th>\n",
       "      <th>XGB Tuned</th>\n",
       "      <th>RF</th>\n",
       "      <th>RF Tuned</th>\n",
       "    </tr>\n",
       "  </thead>\n",
       "  <tbody>\n",
       "    <tr>\n",
       "      <th>Accuracy</th>\n",
       "      <td>0.83</td>\n",
       "      <td>0.86</td>\n",
       "      <td>0.90</td>\n",
       "      <td>0.85</td>\n",
       "      <td>0.91</td>\n",
       "      <td>0.81</td>\n",
       "    </tr>\n",
       "    <tr>\n",
       "      <th>Sensitivity</th>\n",
       "      <td>0.85</td>\n",
       "      <td>0.89</td>\n",
       "      <td>0.94</td>\n",
       "      <td>0.87</td>\n",
       "      <td>0.99</td>\n",
       "      <td>0.86</td>\n",
       "    </tr>\n",
       "    <tr>\n",
       "      <th>Specificity</th>\n",
       "      <td>0.74</td>\n",
       "      <td>60.00</td>\n",
       "      <td>0.59</td>\n",
       "      <td>0.64</td>\n",
       "      <td>0.23</td>\n",
       "      <td>0.36</td>\n",
       "    </tr>\n",
       "  </tbody>\n",
       "</table>\n",
       "</div>"
      ],
      "text/plain": [
       "               LR     NB   XGB  XGB Tuned    RF  RF Tuned\n",
       "Accuracy     0.83   0.86  0.90       0.85  0.91      0.81\n",
       "Sensitivity  0.85   0.89  0.94       0.87  0.99      0.86\n",
       "Specificity  0.74  60.00  0.59       0.64  0.23      0.36"
      ]
     },
     "execution_count": 69,
     "metadata": {},
     "output_type": "execute_result"
    }
   ],
   "source": [
    "results = {('LR'):[0.83, 0.85, 0.74], ('NB'):[0.86, 0.89, 60], ('XGB'):[0.90, 0.94, 0.59], ('XGB Tuned'):[0.85, 0.87, 0.64],\n",
    " ('RF'):[0.91, 0.99, 0.23], ('RF Tuned'):[0.81, 0.86, 0.36]}\n",
    "pd.DataFrame(results, index=['Accuracy', 'Sensitivity', 'Specificity'])"
   ]
  },
  {
   "cell_type": "code",
   "execution_count": 70,
   "metadata": {
    "id": "jr5kaCOvZ7TY"
   },
   "outputs": [],
   "source": [
    "import pickle\n",
    "# Save the best trained model as a pickle string.\n",
    "saved_model = pickle.dump(final_lr, open('logistic_regression.pkl', 'wb'))"
   ]
  },
  {
   "cell_type": "markdown",
   "metadata": {
    "id": "l9nmM2Mtff51"
   },
   "source": [
    "# Recommendation System Notebook\n",
    "- User based recommendation\n",
    "- User based prediction & evaluation\n",
    "- Item based recommendation\n",
    "- Item based prediction & evaluation"
   ]
  },
  {
   "cell_type": "code",
   "execution_count": 71,
   "metadata": {
    "id": "rOvowyp-fkUA"
   },
   "outputs": [],
   "source": [
    "# import libraties\n",
    "import pandas as pd\n",
    "import numpy as np\n",
    "import matplotlib.pyplot as plt\n",
    "# Importing Libraries\n",
    "from sklearn.metrics.pairwise import pairwise_distances"
   ]
  },
  {
   "cell_type": "code",
   "execution_count": 72,
   "metadata": {
    "colab": {
     "base_uri": "https://localhost:8080/",
     "height": 572
    },
    "id": "4QudQ-97fq_y",
    "outputId": "d8405117-e6dc-444c-88c8-ac924bfb585c"
   },
   "outputs": [
    {
     "data": {
      "text/html": [
       "<div>\n",
       "<style scoped>\n",
       "    .dataframe tbody tr th:only-of-type {\n",
       "        vertical-align: middle;\n",
       "    }\n",
       "\n",
       "    .dataframe tbody tr th {\n",
       "        vertical-align: top;\n",
       "    }\n",
       "\n",
       "    .dataframe thead th {\n",
       "        text-align: right;\n",
       "    }\n",
       "</style>\n",
       "<table border=\"1\" class=\"dataframe\">\n",
       "  <thead>\n",
       "    <tr style=\"text-align: right;\">\n",
       "      <th></th>\n",
       "      <th>id</th>\n",
       "      <th>brand</th>\n",
       "      <th>categories</th>\n",
       "      <th>manufacturer</th>\n",
       "      <th>name</th>\n",
       "      <th>reviews_date</th>\n",
       "      <th>reviews_didPurchase</th>\n",
       "      <th>reviews_doRecommend</th>\n",
       "      <th>reviews_rating</th>\n",
       "      <th>reviews_text</th>\n",
       "      <th>reviews_title</th>\n",
       "      <th>reviews_userCity</th>\n",
       "      <th>reviews_userProvince</th>\n",
       "      <th>reviews_username</th>\n",
       "      <th>user_sentiment</th>\n",
       "    </tr>\n",
       "  </thead>\n",
       "  <tbody>\n",
       "    <tr>\n",
       "      <th>0</th>\n",
       "      <td>AV13O1A8GV-KLJ3akUyj</td>\n",
       "      <td>Universal Music</td>\n",
       "      <td>Movies, Music &amp; Books,Music,R&amp;b,Movies &amp; TV,Mo...</td>\n",
       "      <td>Universal Music Group / Cash Money</td>\n",
       "      <td>Pink Friday: Roman Reloaded Re-Up (w/dvd)</td>\n",
       "      <td>2012-11-30T06:21:45.000Z</td>\n",
       "      <td>NaN</td>\n",
       "      <td>NaN</td>\n",
       "      <td>5</td>\n",
       "      <td>i love this album. it's very good. more to the...</td>\n",
       "      <td>Just Awesome</td>\n",
       "      <td>Los Angeles</td>\n",
       "      <td>NaN</td>\n",
       "      <td>joshua</td>\n",
       "      <td>Positive</td>\n",
       "    </tr>\n",
       "    <tr>\n",
       "      <th>1</th>\n",
       "      <td>AV14LG0R-jtxr-f38QfS</td>\n",
       "      <td>Lundberg</td>\n",
       "      <td>Food,Packaged Foods,Snacks,Crackers,Snacks, Co...</td>\n",
       "      <td>Lundberg</td>\n",
       "      <td>Lundberg Organic Cinnamon Toast Rice Cakes</td>\n",
       "      <td>2017-07-09T00:00:00.000Z</td>\n",
       "      <td>True</td>\n",
       "      <td>NaN</td>\n",
       "      <td>5</td>\n",
       "      <td>Good flavor. This review was collected as part...</td>\n",
       "      <td>Good</td>\n",
       "      <td>NaN</td>\n",
       "      <td>NaN</td>\n",
       "      <td>dorothy w</td>\n",
       "      <td>Positive</td>\n",
       "    </tr>\n",
       "    <tr>\n",
       "      <th>2</th>\n",
       "      <td>AV14LG0R-jtxr-f38QfS</td>\n",
       "      <td>Lundberg</td>\n",
       "      <td>Food,Packaged Foods,Snacks,Crackers,Snacks, Co...</td>\n",
       "      <td>Lundberg</td>\n",
       "      <td>Lundberg Organic Cinnamon Toast Rice Cakes</td>\n",
       "      <td>2017-07-09T00:00:00.000Z</td>\n",
       "      <td>True</td>\n",
       "      <td>NaN</td>\n",
       "      <td>5</td>\n",
       "      <td>Good flavor.</td>\n",
       "      <td>Good</td>\n",
       "      <td>NaN</td>\n",
       "      <td>NaN</td>\n",
       "      <td>dorothy w</td>\n",
       "      <td>Positive</td>\n",
       "    </tr>\n",
       "    <tr>\n",
       "      <th>3</th>\n",
       "      <td>AV16khLE-jtxr-f38VFn</td>\n",
       "      <td>K-Y</td>\n",
       "      <td>Personal Care,Medicine Cabinet,Lubricant/Sperm...</td>\n",
       "      <td>K-Y</td>\n",
       "      <td>K-Y Love Sensuality Pleasure Gel</td>\n",
       "      <td>2016-01-06T00:00:00.000Z</td>\n",
       "      <td>False</td>\n",
       "      <td>False</td>\n",
       "      <td>1</td>\n",
       "      <td>I read through the reviews on here before look...</td>\n",
       "      <td>Disappointed</td>\n",
       "      <td>NaN</td>\n",
       "      <td>NaN</td>\n",
       "      <td>rebecca</td>\n",
       "      <td>Negative</td>\n",
       "    </tr>\n",
       "    <tr>\n",
       "      <th>4</th>\n",
       "      <td>AV16khLE-jtxr-f38VFn</td>\n",
       "      <td>K-Y</td>\n",
       "      <td>Personal Care,Medicine Cabinet,Lubricant/Sperm...</td>\n",
       "      <td>K-Y</td>\n",
       "      <td>K-Y Love Sensuality Pleasure Gel</td>\n",
       "      <td>2016-12-21T00:00:00.000Z</td>\n",
       "      <td>False</td>\n",
       "      <td>False</td>\n",
       "      <td>1</td>\n",
       "      <td>My husband bought this gel for us. The gel cau...</td>\n",
       "      <td>Irritation</td>\n",
       "      <td>NaN</td>\n",
       "      <td>NaN</td>\n",
       "      <td>walker557</td>\n",
       "      <td>Negative</td>\n",
       "    </tr>\n",
       "  </tbody>\n",
       "</table>\n",
       "</div>"
      ],
      "text/plain": [
       "                     id            brand  \\\n",
       "0  AV13O1A8GV-KLJ3akUyj  Universal Music   \n",
       "1  AV14LG0R-jtxr-f38QfS         Lundberg   \n",
       "2  AV14LG0R-jtxr-f38QfS         Lundberg   \n",
       "3  AV16khLE-jtxr-f38VFn              K-Y   \n",
       "4  AV16khLE-jtxr-f38VFn              K-Y   \n",
       "\n",
       "                                          categories  \\\n",
       "0  Movies, Music & Books,Music,R&b,Movies & TV,Mo...   \n",
       "1  Food,Packaged Foods,Snacks,Crackers,Snacks, Co...   \n",
       "2  Food,Packaged Foods,Snacks,Crackers,Snacks, Co...   \n",
       "3  Personal Care,Medicine Cabinet,Lubricant/Sperm...   \n",
       "4  Personal Care,Medicine Cabinet,Lubricant/Sperm...   \n",
       "\n",
       "                         manufacturer  \\\n",
       "0  Universal Music Group / Cash Money   \n",
       "1                            Lundberg   \n",
       "2                            Lundberg   \n",
       "3                                 K-Y   \n",
       "4                                 K-Y   \n",
       "\n",
       "                                         name              reviews_date  \\\n",
       "0   Pink Friday: Roman Reloaded Re-Up (w/dvd)  2012-11-30T06:21:45.000Z   \n",
       "1  Lundberg Organic Cinnamon Toast Rice Cakes  2017-07-09T00:00:00.000Z   \n",
       "2  Lundberg Organic Cinnamon Toast Rice Cakes  2017-07-09T00:00:00.000Z   \n",
       "3            K-Y Love Sensuality Pleasure Gel  2016-01-06T00:00:00.000Z   \n",
       "4            K-Y Love Sensuality Pleasure Gel  2016-12-21T00:00:00.000Z   \n",
       "\n",
       "  reviews_didPurchase reviews_doRecommend  reviews_rating  \\\n",
       "0                 NaN                 NaN               5   \n",
       "1                True                 NaN               5   \n",
       "2                True                 NaN               5   \n",
       "3               False               False               1   \n",
       "4               False               False               1   \n",
       "\n",
       "                                        reviews_text reviews_title  \\\n",
       "0  i love this album. it's very good. more to the...  Just Awesome   \n",
       "1  Good flavor. This review was collected as part...          Good   \n",
       "2                                       Good flavor.          Good   \n",
       "3  I read through the reviews on here before look...  Disappointed   \n",
       "4  My husband bought this gel for us. The gel cau...    Irritation   \n",
       "\n",
       "  reviews_userCity reviews_userProvince reviews_username user_sentiment  \n",
       "0      Los Angeles                  NaN           joshua       Positive  \n",
       "1              NaN                  NaN        dorothy w       Positive  \n",
       "2              NaN                  NaN        dorothy w       Positive  \n",
       "3              NaN                  NaN          rebecca       Negative  \n",
       "4              NaN                  NaN        walker557       Negative  "
      ]
     },
     "execution_count": 72,
     "metadata": {},
     "output_type": "execute_result"
    }
   ],
   "source": [
    "# Read the dataset \n",
    "ratings = pd.read_csv(\"sample30.csv\", sep=',')\n",
    "#ratings = pd.read_csv('https://cdn.upgrad.com/uploads/production/c2504c0d-6080-4e1e-8d4c-852b3e68a0ed/sample30.csv')\n",
    "ratings.head()"
   ]
  },
  {
   "cell_type": "code",
   "execution_count": 73,
   "metadata": {
    "id": "FS10Jm_IfrUY"
   },
   "outputs": [],
   "source": [
    "ratings=ratings[['id', 'reviews_rating', 'reviews_username']]\n"
   ]
  },
  {
   "cell_type": "code",
   "execution_count": 74,
   "metadata": {
    "colab": {
     "base_uri": "https://localhost:8080/"
    },
    "id": "AD_SaqWXgI-j",
    "outputId": "4640f47a-dd3a-4535-b6cb-1ebd42920fb6"
   },
   "outputs": [
    {
     "name": "stdout",
     "output_type": "stream",
     "text": [
      "<class 'pandas.core.frame.DataFrame'>\n",
      "RangeIndex: 30000 entries, 0 to 29999\n",
      "Data columns (total 3 columns):\n",
      " #   Column            Non-Null Count  Dtype \n",
      "---  ------            --------------  ----- \n",
      " 0   id                30000 non-null  object\n",
      " 1   reviews_rating    30000 non-null  int64 \n",
      " 2   reviews_username  29937 non-null  object\n",
      "dtypes: int64(1), object(2)\n",
      "memory usage: 703.2+ KB\n"
     ]
    }
   ],
   "source": [
    "# Checking for null values\n",
    "ratings.info()"
   ]
  },
  {
   "cell_type": "code",
   "execution_count": 75,
   "metadata": {
    "colab": {
     "base_uri": "https://localhost:8080/",
     "height": 202
    },
    "id": "AexC_CdWgJz-",
    "outputId": "839418da-dcb1-4c27-89a9-a5fbb5157f42"
   },
   "outputs": [
    {
     "data": {
      "text/html": [
       "<div>\n",
       "<style scoped>\n",
       "    .dataframe tbody tr th:only-of-type {\n",
       "        vertical-align: middle;\n",
       "    }\n",
       "\n",
       "    .dataframe tbody tr th {\n",
       "        vertical-align: top;\n",
       "    }\n",
       "\n",
       "    .dataframe thead th {\n",
       "        text-align: right;\n",
       "    }\n",
       "</style>\n",
       "<table border=\"1\" class=\"dataframe\">\n",
       "  <thead>\n",
       "    <tr style=\"text-align: right;\">\n",
       "      <th></th>\n",
       "      <th>productId</th>\n",
       "      <th>rating</th>\n",
       "      <th>user</th>\n",
       "    </tr>\n",
       "  </thead>\n",
       "  <tbody>\n",
       "    <tr>\n",
       "      <th>0</th>\n",
       "      <td>AV13O1A8GV-KLJ3akUyj</td>\n",
       "      <td>5</td>\n",
       "      <td>joshua</td>\n",
       "    </tr>\n",
       "    <tr>\n",
       "      <th>1</th>\n",
       "      <td>AV14LG0R-jtxr-f38QfS</td>\n",
       "      <td>5</td>\n",
       "      <td>dorothy w</td>\n",
       "    </tr>\n",
       "    <tr>\n",
       "      <th>2</th>\n",
       "      <td>AV14LG0R-jtxr-f38QfS</td>\n",
       "      <td>5</td>\n",
       "      <td>dorothy w</td>\n",
       "    </tr>\n",
       "    <tr>\n",
       "      <th>3</th>\n",
       "      <td>AV16khLE-jtxr-f38VFn</td>\n",
       "      <td>1</td>\n",
       "      <td>rebecca</td>\n",
       "    </tr>\n",
       "    <tr>\n",
       "      <th>4</th>\n",
       "      <td>AV16khLE-jtxr-f38VFn</td>\n",
       "      <td>1</td>\n",
       "      <td>walker557</td>\n",
       "    </tr>\n",
       "  </tbody>\n",
       "</table>\n",
       "</div>"
      ],
      "text/plain": [
       "              productId  rating       user\n",
       "0  AV13O1A8GV-KLJ3akUyj       5     joshua\n",
       "1  AV14LG0R-jtxr-f38QfS       5  dorothy w\n",
       "2  AV14LG0R-jtxr-f38QfS       5  dorothy w\n",
       "3  AV16khLE-jtxr-f38VFn       1    rebecca\n",
       "4  AV16khLE-jtxr-f38VFn       1  walker557"
      ]
     },
     "execution_count": 75,
     "metadata": {},
     "output_type": "execute_result"
    }
   ],
   "source": [
    "ratings = ratings[~ratings.reviews_username.isna()]\n",
    "ratings.columns=['productId', 'rating', 'user']\n",
    "ratings.head()"
   ]
  },
  {
   "cell_type": "markdown",
   "metadata": {
    "id": "jkfsTP9PgQkd"
   },
   "source": [
    "## Dividing the dataset into train and test"
   ]
  },
  {
   "cell_type": "code",
   "execution_count": 76,
   "metadata": {
    "colab": {
     "base_uri": "https://localhost:8080/"
    },
    "id": "0QN-JLAqgLn_",
    "outputId": "db9d1a14-d37f-4724-e0cb-9819b0afb9c3"
   },
   "outputs": [
    {
     "name": "stdout",
     "output_type": "stream",
     "text": [
      "(20955, 3)\n",
      "(8982, 3)\n"
     ]
    }
   ],
   "source": [
    "# Test and Train split of the dataset.\n",
    "from sklearn.model_selection import train_test_split\n",
    "train, test = train_test_split(ratings, test_size=0.30, random_state=31)\n",
    "print(train.shape)\n",
    "print(test.shape)"
   ]
  },
  {
   "cell_type": "code",
   "execution_count": 77,
   "metadata": {
    "colab": {
     "base_uri": "https://localhost:8080/",
     "height": 253
    },
    "id": "T2YRWUbBgX9K",
    "outputId": "7cc9c858-a672-4c3b-cbf4-06463d5f3ea5"
   },
   "outputs": [
    {
     "data": {
      "text/html": [
       "<div>\n",
       "<style scoped>\n",
       "    .dataframe tbody tr th:only-of-type {\n",
       "        vertical-align: middle;\n",
       "    }\n",
       "\n",
       "    .dataframe tbody tr th {\n",
       "        vertical-align: top;\n",
       "    }\n",
       "\n",
       "    .dataframe thead th {\n",
       "        text-align: right;\n",
       "    }\n",
       "</style>\n",
       "<table border=\"1\" class=\"dataframe\">\n",
       "  <thead>\n",
       "    <tr style=\"text-align: right;\">\n",
       "      <th>productId</th>\n",
       "      <th>AV13O1A8GV-KLJ3akUyj</th>\n",
       "      <th>AV14LG0R-jtxr-f38QfS</th>\n",
       "      <th>AV16khLE-jtxr-f38VFn</th>\n",
       "      <th>AV1YGDqsGV-KLJ3adc-O</th>\n",
       "      <th>AV1YIch7GV-KLJ3addeG</th>\n",
       "      <th>AV1YlENIglJLPUi8IHsX</th>\n",
       "      <th>AV1YmBrdGV-KLJ3adewb</th>\n",
       "      <th>AV1YmDL9vKc47QAVgr7_</th>\n",
       "      <th>AV1Ymf_rglJLPUi8II2v</th>\n",
       "      <th>AV1Yn94nvKc47QAVgtst</th>\n",
       "      <th>...</th>\n",
       "      <th>AVpfr5cb1cnluZ0-pZFp</th>\n",
       "      <th>AVpfrFDZLJeJML43Bmv0</th>\n",
       "      <th>AVpfrTyiLJeJML43BrSI</th>\n",
       "      <th>AVpfrfHF1cnluZ0-pRai</th>\n",
       "      <th>AVpfrgjFLJeJML43BvCc</th>\n",
       "      <th>AVpfshNsLJeJML43CB8q</th>\n",
       "      <th>AVpfthSailAPnD_xg3ON</th>\n",
       "      <th>AVpftikC1cnluZ0-p31V</th>\n",
       "      <th>AVpfv4TlilAPnD_xhjNS</th>\n",
       "      <th>AVpfvieo1cnluZ0-qdnu</th>\n",
       "    </tr>\n",
       "    <tr>\n",
       "      <th>user</th>\n",
       "      <th></th>\n",
       "      <th></th>\n",
       "      <th></th>\n",
       "      <th></th>\n",
       "      <th></th>\n",
       "      <th></th>\n",
       "      <th></th>\n",
       "      <th></th>\n",
       "      <th></th>\n",
       "      <th></th>\n",
       "      <th></th>\n",
       "      <th></th>\n",
       "      <th></th>\n",
       "      <th></th>\n",
       "      <th></th>\n",
       "      <th></th>\n",
       "      <th></th>\n",
       "      <th></th>\n",
       "      <th></th>\n",
       "      <th></th>\n",
       "      <th></th>\n",
       "    </tr>\n",
       "  </thead>\n",
       "  <tbody>\n",
       "    <tr>\n",
       "      <th>00sab00</th>\n",
       "      <td>0.0</td>\n",
       "      <td>0.0</td>\n",
       "      <td>0.0</td>\n",
       "      <td>0.0</td>\n",
       "      <td>0.0</td>\n",
       "      <td>0.0</td>\n",
       "      <td>0.0</td>\n",
       "      <td>0.0</td>\n",
       "      <td>0.0</td>\n",
       "      <td>0.0</td>\n",
       "      <td>...</td>\n",
       "      <td>0.0</td>\n",
       "      <td>0.0</td>\n",
       "      <td>0.0</td>\n",
       "      <td>0.0</td>\n",
       "      <td>0.0</td>\n",
       "      <td>0.0</td>\n",
       "      <td>0.0</td>\n",
       "      <td>0.0</td>\n",
       "      <td>0.0</td>\n",
       "      <td>0.0</td>\n",
       "    </tr>\n",
       "    <tr>\n",
       "      <th>01impala</th>\n",
       "      <td>0.0</td>\n",
       "      <td>0.0</td>\n",
       "      <td>0.0</td>\n",
       "      <td>0.0</td>\n",
       "      <td>0.0</td>\n",
       "      <td>0.0</td>\n",
       "      <td>0.0</td>\n",
       "      <td>0.0</td>\n",
       "      <td>0.0</td>\n",
       "      <td>0.0</td>\n",
       "      <td>...</td>\n",
       "      <td>0.0</td>\n",
       "      <td>0.0</td>\n",
       "      <td>0.0</td>\n",
       "      <td>0.0</td>\n",
       "      <td>0.0</td>\n",
       "      <td>0.0</td>\n",
       "      <td>0.0</td>\n",
       "      <td>0.0</td>\n",
       "      <td>0.0</td>\n",
       "      <td>0.0</td>\n",
       "    </tr>\n",
       "    <tr>\n",
       "      <th>02dakota</th>\n",
       "      <td>0.0</td>\n",
       "      <td>0.0</td>\n",
       "      <td>0.0</td>\n",
       "      <td>0.0</td>\n",
       "      <td>0.0</td>\n",
       "      <td>0.0</td>\n",
       "      <td>0.0</td>\n",
       "      <td>0.0</td>\n",
       "      <td>0.0</td>\n",
       "      <td>0.0</td>\n",
       "      <td>...</td>\n",
       "      <td>0.0</td>\n",
       "      <td>0.0</td>\n",
       "      <td>0.0</td>\n",
       "      <td>0.0</td>\n",
       "      <td>0.0</td>\n",
       "      <td>0.0</td>\n",
       "      <td>0.0</td>\n",
       "      <td>0.0</td>\n",
       "      <td>0.0</td>\n",
       "      <td>0.0</td>\n",
       "    </tr>\n",
       "  </tbody>\n",
       "</table>\n",
       "<p>3 rows × 255 columns</p>\n",
       "</div>"
      ],
      "text/plain": [
       "productId  AV13O1A8GV-KLJ3akUyj  AV14LG0R-jtxr-f38QfS  AV16khLE-jtxr-f38VFn  \\\n",
       "user                                                                          \n",
       "00sab00                     0.0                   0.0                   0.0   \n",
       "01impala                    0.0                   0.0                   0.0   \n",
       "02dakota                    0.0                   0.0                   0.0   \n",
       "\n",
       "productId  AV1YGDqsGV-KLJ3adc-O  AV1YIch7GV-KLJ3addeG  AV1YlENIglJLPUi8IHsX  \\\n",
       "user                                                                          \n",
       "00sab00                     0.0                   0.0                   0.0   \n",
       "01impala                    0.0                   0.0                   0.0   \n",
       "02dakota                    0.0                   0.0                   0.0   \n",
       "\n",
       "productId  AV1YmBrdGV-KLJ3adewb  AV1YmDL9vKc47QAVgr7_  AV1Ymf_rglJLPUi8II2v  \\\n",
       "user                                                                          \n",
       "00sab00                     0.0                   0.0                   0.0   \n",
       "01impala                    0.0                   0.0                   0.0   \n",
       "02dakota                    0.0                   0.0                   0.0   \n",
       "\n",
       "productId  AV1Yn94nvKc47QAVgtst  ...  AVpfr5cb1cnluZ0-pZFp  \\\n",
       "user                             ...                         \n",
       "00sab00                     0.0  ...                   0.0   \n",
       "01impala                    0.0  ...                   0.0   \n",
       "02dakota                    0.0  ...                   0.0   \n",
       "\n",
       "productId  AVpfrFDZLJeJML43Bmv0  AVpfrTyiLJeJML43BrSI  AVpfrfHF1cnluZ0-pRai  \\\n",
       "user                                                                          \n",
       "00sab00                     0.0                   0.0                   0.0   \n",
       "01impala                    0.0                   0.0                   0.0   \n",
       "02dakota                    0.0                   0.0                   0.0   \n",
       "\n",
       "productId  AVpfrgjFLJeJML43BvCc  AVpfshNsLJeJML43CB8q  AVpfthSailAPnD_xg3ON  \\\n",
       "user                                                                          \n",
       "00sab00                     0.0                   0.0                   0.0   \n",
       "01impala                    0.0                   0.0                   0.0   \n",
       "02dakota                    0.0                   0.0                   0.0   \n",
       "\n",
       "productId  AVpftikC1cnluZ0-p31V  AVpfv4TlilAPnD_xhjNS  AVpfvieo1cnluZ0-qdnu  \n",
       "user                                                                         \n",
       "00sab00                     0.0                   0.0                   0.0  \n",
       "01impala                    0.0                   0.0                   0.0  \n",
       "02dakota                    0.0                   0.0                   0.0  \n",
       "\n",
       "[3 rows x 255 columns]"
      ]
     },
     "execution_count": 77,
     "metadata": {},
     "output_type": "execute_result"
    }
   ],
   "source": [
    "# Pivot the train ratings' dataset into matrix format in which columns are products and the rows are user IDs.\n",
    "df_pivot = train.pivot_table(\n",
    "    index='user',\n",
    "    columns='productId',\n",
    "    values='rating'\n",
    ").fillna(0)\n",
    "\n",
    "df_pivot.head(3)"
   ]
  },
  {
   "cell_type": "markdown",
   "metadata": {
    "id": "pV6hD7GUgcvY"
   },
   "source": [
    "### Creating dummy train & dummy test dataset\n",
    "These dataset will be used for prediction \n",
    "- Dummy train will be used later for prediction of the products which has not been rated by the user. To ignore the products rated by the user, we will mark it as 0 during prediction. The products not rated by user is marked as 1 for prediction in dummy train dataset. \n",
    "\n",
    "- Dummy test will be used for evaluation. To evaluate, we will only make prediction on the products rated by the user. So, this is marked as 1. This is just opposite of dummy_train."
   ]
  },
  {
   "cell_type": "code",
   "execution_count": 78,
   "metadata": {
    "colab": {
     "base_uri": "https://localhost:8080/",
     "height": 202
    },
    "id": "LFpdXwNFgYRd",
    "outputId": "c6226751-b516-4ba4-eeff-623e2504b1d9"
   },
   "outputs": [
    {
     "data": {
      "text/html": [
       "<div>\n",
       "<style scoped>\n",
       "    .dataframe tbody tr th:only-of-type {\n",
       "        vertical-align: middle;\n",
       "    }\n",
       "\n",
       "    .dataframe tbody tr th {\n",
       "        vertical-align: top;\n",
       "    }\n",
       "\n",
       "    .dataframe thead th {\n",
       "        text-align: right;\n",
       "    }\n",
       "</style>\n",
       "<table border=\"1\" class=\"dataframe\">\n",
       "  <thead>\n",
       "    <tr style=\"text-align: right;\">\n",
       "      <th></th>\n",
       "      <th>productId</th>\n",
       "      <th>rating</th>\n",
       "      <th>user</th>\n",
       "    </tr>\n",
       "  </thead>\n",
       "  <tbody>\n",
       "    <tr>\n",
       "      <th>5704</th>\n",
       "      <td>AVpf2tw1ilAPnD_xjflC</td>\n",
       "      <td>4</td>\n",
       "      <td>dwof</td>\n",
       "    </tr>\n",
       "    <tr>\n",
       "      <th>12549</th>\n",
       "      <td>AVpf3VOfilAPnD_xjpun</td>\n",
       "      <td>5</td>\n",
       "      <td>josie225</td>\n",
       "    </tr>\n",
       "    <tr>\n",
       "      <th>8534</th>\n",
       "      <td>AVpf3VOfilAPnD_xjpun</td>\n",
       "      <td>5</td>\n",
       "      <td>mellin1</td>\n",
       "    </tr>\n",
       "    <tr>\n",
       "      <th>5671</th>\n",
       "      <td>AVpf2tw1ilAPnD_xjflC</td>\n",
       "      <td>4</td>\n",
       "      <td>jerry64gd</td>\n",
       "    </tr>\n",
       "    <tr>\n",
       "      <th>21698</th>\n",
       "      <td>AVpfm8yiLJeJML43AYyu</td>\n",
       "      <td>1</td>\n",
       "      <td>augale</td>\n",
       "    </tr>\n",
       "  </tbody>\n",
       "</table>\n",
       "</div>"
      ],
      "text/plain": [
       "                  productId  rating       user\n",
       "5704   AVpf2tw1ilAPnD_xjflC       4       dwof\n",
       "12549  AVpf3VOfilAPnD_xjpun       5   josie225\n",
       "8534   AVpf3VOfilAPnD_xjpun       5    mellin1\n",
       "5671   AVpf2tw1ilAPnD_xjflC       4  jerry64gd\n",
       "21698  AVpfm8yiLJeJML43AYyu       1     augale"
      ]
     },
     "execution_count": 78,
     "metadata": {},
     "output_type": "execute_result"
    }
   ],
   "source": [
    "# Copy the train dataset into dummy_train\n",
    "dummy_train = train.copy()\n",
    "\n",
    "dummy_train.head()"
   ]
  },
  {
   "cell_type": "code",
   "execution_count": 79,
   "metadata": {
    "id": "a5Sd8vGTgh9r"
   },
   "outputs": [],
   "source": [
    "# The products not rated by user is marked as 1 for prediction. \n",
    "dummy_train['rating'] = dummy_train['rating'].apply(lambda x: 0 if x>=1 else 1)"
   ]
  },
  {
   "cell_type": "code",
   "execution_count": 80,
   "metadata": {
    "colab": {
     "base_uri": "https://localhost:8080/",
     "height": 314
    },
    "id": "gE4lrg_egjup",
    "outputId": "6187afa4-d99d-41da-8d98-82f1c6a7a0cd"
   },
   "outputs": [
    {
     "data": {
      "text/html": [
       "<div>\n",
       "<style scoped>\n",
       "    .dataframe tbody tr th:only-of-type {\n",
       "        vertical-align: middle;\n",
       "    }\n",
       "\n",
       "    .dataframe tbody tr th {\n",
       "        vertical-align: top;\n",
       "    }\n",
       "\n",
       "    .dataframe thead th {\n",
       "        text-align: right;\n",
       "    }\n",
       "</style>\n",
       "<table border=\"1\" class=\"dataframe\">\n",
       "  <thead>\n",
       "    <tr style=\"text-align: right;\">\n",
       "      <th>productId</th>\n",
       "      <th>AV13O1A8GV-KLJ3akUyj</th>\n",
       "      <th>AV14LG0R-jtxr-f38QfS</th>\n",
       "      <th>AV16khLE-jtxr-f38VFn</th>\n",
       "      <th>AV1YGDqsGV-KLJ3adc-O</th>\n",
       "      <th>AV1YIch7GV-KLJ3addeG</th>\n",
       "      <th>AV1YlENIglJLPUi8IHsX</th>\n",
       "      <th>AV1YmBrdGV-KLJ3adewb</th>\n",
       "      <th>AV1YmDL9vKc47QAVgr7_</th>\n",
       "      <th>AV1Ymf_rglJLPUi8II2v</th>\n",
       "      <th>AV1Yn94nvKc47QAVgtst</th>\n",
       "      <th>...</th>\n",
       "      <th>AVpfr5cb1cnluZ0-pZFp</th>\n",
       "      <th>AVpfrFDZLJeJML43Bmv0</th>\n",
       "      <th>AVpfrTyiLJeJML43BrSI</th>\n",
       "      <th>AVpfrfHF1cnluZ0-pRai</th>\n",
       "      <th>AVpfrgjFLJeJML43BvCc</th>\n",
       "      <th>AVpfshNsLJeJML43CB8q</th>\n",
       "      <th>AVpfthSailAPnD_xg3ON</th>\n",
       "      <th>AVpftikC1cnluZ0-p31V</th>\n",
       "      <th>AVpfv4TlilAPnD_xhjNS</th>\n",
       "      <th>AVpfvieo1cnluZ0-qdnu</th>\n",
       "    </tr>\n",
       "    <tr>\n",
       "      <th>user</th>\n",
       "      <th></th>\n",
       "      <th></th>\n",
       "      <th></th>\n",
       "      <th></th>\n",
       "      <th></th>\n",
       "      <th></th>\n",
       "      <th></th>\n",
       "      <th></th>\n",
       "      <th></th>\n",
       "      <th></th>\n",
       "      <th></th>\n",
       "      <th></th>\n",
       "      <th></th>\n",
       "      <th></th>\n",
       "      <th></th>\n",
       "      <th></th>\n",
       "      <th></th>\n",
       "      <th></th>\n",
       "      <th></th>\n",
       "      <th></th>\n",
       "      <th></th>\n",
       "    </tr>\n",
       "  </thead>\n",
       "  <tbody>\n",
       "    <tr>\n",
       "      <th>00sab00</th>\n",
       "      <td>1.0</td>\n",
       "      <td>1.0</td>\n",
       "      <td>1.0</td>\n",
       "      <td>1.0</td>\n",
       "      <td>1.0</td>\n",
       "      <td>1.0</td>\n",
       "      <td>1.0</td>\n",
       "      <td>1.0</td>\n",
       "      <td>1.0</td>\n",
       "      <td>1.0</td>\n",
       "      <td>...</td>\n",
       "      <td>1.0</td>\n",
       "      <td>1.0</td>\n",
       "      <td>1.0</td>\n",
       "      <td>1.0</td>\n",
       "      <td>1.0</td>\n",
       "      <td>1.0</td>\n",
       "      <td>1.0</td>\n",
       "      <td>1.0</td>\n",
       "      <td>1.0</td>\n",
       "      <td>1.0</td>\n",
       "    </tr>\n",
       "    <tr>\n",
       "      <th>01impala</th>\n",
       "      <td>1.0</td>\n",
       "      <td>1.0</td>\n",
       "      <td>1.0</td>\n",
       "      <td>1.0</td>\n",
       "      <td>1.0</td>\n",
       "      <td>1.0</td>\n",
       "      <td>1.0</td>\n",
       "      <td>1.0</td>\n",
       "      <td>1.0</td>\n",
       "      <td>1.0</td>\n",
       "      <td>...</td>\n",
       "      <td>1.0</td>\n",
       "      <td>1.0</td>\n",
       "      <td>1.0</td>\n",
       "      <td>1.0</td>\n",
       "      <td>1.0</td>\n",
       "      <td>1.0</td>\n",
       "      <td>1.0</td>\n",
       "      <td>1.0</td>\n",
       "      <td>1.0</td>\n",
       "      <td>1.0</td>\n",
       "    </tr>\n",
       "    <tr>\n",
       "      <th>02dakota</th>\n",
       "      <td>1.0</td>\n",
       "      <td>1.0</td>\n",
       "      <td>1.0</td>\n",
       "      <td>1.0</td>\n",
       "      <td>1.0</td>\n",
       "      <td>1.0</td>\n",
       "      <td>1.0</td>\n",
       "      <td>1.0</td>\n",
       "      <td>1.0</td>\n",
       "      <td>1.0</td>\n",
       "      <td>...</td>\n",
       "      <td>1.0</td>\n",
       "      <td>1.0</td>\n",
       "      <td>1.0</td>\n",
       "      <td>1.0</td>\n",
       "      <td>1.0</td>\n",
       "      <td>1.0</td>\n",
       "      <td>1.0</td>\n",
       "      <td>1.0</td>\n",
       "      <td>1.0</td>\n",
       "      <td>1.0</td>\n",
       "    </tr>\n",
       "    <tr>\n",
       "      <th>02deuce</th>\n",
       "      <td>1.0</td>\n",
       "      <td>1.0</td>\n",
       "      <td>1.0</td>\n",
       "      <td>1.0</td>\n",
       "      <td>1.0</td>\n",
       "      <td>1.0</td>\n",
       "      <td>1.0</td>\n",
       "      <td>1.0</td>\n",
       "      <td>1.0</td>\n",
       "      <td>1.0</td>\n",
       "      <td>...</td>\n",
       "      <td>1.0</td>\n",
       "      <td>1.0</td>\n",
       "      <td>1.0</td>\n",
       "      <td>1.0</td>\n",
       "      <td>1.0</td>\n",
       "      <td>1.0</td>\n",
       "      <td>1.0</td>\n",
       "      <td>1.0</td>\n",
       "      <td>1.0</td>\n",
       "      <td>1.0</td>\n",
       "    </tr>\n",
       "    <tr>\n",
       "      <th>06stidriver</th>\n",
       "      <td>1.0</td>\n",
       "      <td>1.0</td>\n",
       "      <td>1.0</td>\n",
       "      <td>1.0</td>\n",
       "      <td>1.0</td>\n",
       "      <td>1.0</td>\n",
       "      <td>1.0</td>\n",
       "      <td>1.0</td>\n",
       "      <td>1.0</td>\n",
       "      <td>1.0</td>\n",
       "      <td>...</td>\n",
       "      <td>1.0</td>\n",
       "      <td>1.0</td>\n",
       "      <td>1.0</td>\n",
       "      <td>1.0</td>\n",
       "      <td>1.0</td>\n",
       "      <td>1.0</td>\n",
       "      <td>1.0</td>\n",
       "      <td>1.0</td>\n",
       "      <td>1.0</td>\n",
       "      <td>1.0</td>\n",
       "    </tr>\n",
       "  </tbody>\n",
       "</table>\n",
       "<p>5 rows × 255 columns</p>\n",
       "</div>"
      ],
      "text/plain": [
       "productId    AV13O1A8GV-KLJ3akUyj  AV14LG0R-jtxr-f38QfS  AV16khLE-jtxr-f38VFn  \\\n",
       "user                                                                            \n",
       "00sab00                       1.0                   1.0                   1.0   \n",
       "01impala                      1.0                   1.0                   1.0   \n",
       "02dakota                      1.0                   1.0                   1.0   \n",
       "02deuce                       1.0                   1.0                   1.0   \n",
       "06stidriver                   1.0                   1.0                   1.0   \n",
       "\n",
       "productId    AV1YGDqsGV-KLJ3adc-O  AV1YIch7GV-KLJ3addeG  AV1YlENIglJLPUi8IHsX  \\\n",
       "user                                                                            \n",
       "00sab00                       1.0                   1.0                   1.0   \n",
       "01impala                      1.0                   1.0                   1.0   \n",
       "02dakota                      1.0                   1.0                   1.0   \n",
       "02deuce                       1.0                   1.0                   1.0   \n",
       "06stidriver                   1.0                   1.0                   1.0   \n",
       "\n",
       "productId    AV1YmBrdGV-KLJ3adewb  AV1YmDL9vKc47QAVgr7_  AV1Ymf_rglJLPUi8II2v  \\\n",
       "user                                                                            \n",
       "00sab00                       1.0                   1.0                   1.0   \n",
       "01impala                      1.0                   1.0                   1.0   \n",
       "02dakota                      1.0                   1.0                   1.0   \n",
       "02deuce                       1.0                   1.0                   1.0   \n",
       "06stidriver                   1.0                   1.0                   1.0   \n",
       "\n",
       "productId    AV1Yn94nvKc47QAVgtst  ...  AVpfr5cb1cnluZ0-pZFp  \\\n",
       "user                               ...                         \n",
       "00sab00                       1.0  ...                   1.0   \n",
       "01impala                      1.0  ...                   1.0   \n",
       "02dakota                      1.0  ...                   1.0   \n",
       "02deuce                       1.0  ...                   1.0   \n",
       "06stidriver                   1.0  ...                   1.0   \n",
       "\n",
       "productId    AVpfrFDZLJeJML43Bmv0  AVpfrTyiLJeJML43BrSI  AVpfrfHF1cnluZ0-pRai  \\\n",
       "user                                                                            \n",
       "00sab00                       1.0                   1.0                   1.0   \n",
       "01impala                      1.0                   1.0                   1.0   \n",
       "02dakota                      1.0                   1.0                   1.0   \n",
       "02deuce                       1.0                   1.0                   1.0   \n",
       "06stidriver                   1.0                   1.0                   1.0   \n",
       "\n",
       "productId    AVpfrgjFLJeJML43BvCc  AVpfshNsLJeJML43CB8q  AVpfthSailAPnD_xg3ON  \\\n",
       "user                                                                            \n",
       "00sab00                       1.0                   1.0                   1.0   \n",
       "01impala                      1.0                   1.0                   1.0   \n",
       "02dakota                      1.0                   1.0                   1.0   \n",
       "02deuce                       1.0                   1.0                   1.0   \n",
       "06stidriver                   1.0                   1.0                   1.0   \n",
       "\n",
       "productId    AVpftikC1cnluZ0-p31V  AVpfv4TlilAPnD_xhjNS  AVpfvieo1cnluZ0-qdnu  \n",
       "user                                                                           \n",
       "00sab00                       1.0                   1.0                   1.0  \n",
       "01impala                      1.0                   1.0                   1.0  \n",
       "02dakota                      1.0                   1.0                   1.0  \n",
       "02deuce                       1.0                   1.0                   1.0  \n",
       "06stidriver                   1.0                   1.0                   1.0  \n",
       "\n",
       "[5 rows x 255 columns]"
      ]
     },
     "execution_count": 80,
     "metadata": {},
     "output_type": "execute_result"
    }
   ],
   "source": [
    "# Convert the dummy train dataset into matrix format.\n",
    "dummy_train = dummy_train.pivot_table(\n",
    "    index='user',\n",
    "    columns='productId',\n",
    "    values='rating'\n",
    ").fillna(1)\n",
    "\n",
    "\n",
    "dummy_train.head()"
   ]
  },
  {
   "cell_type": "markdown",
   "metadata": {
    "id": "vVc9jCLHgs2T"
   },
   "source": [
    "**Cosine Similarity**\n",
    "\n",
    "Cosine Similarity is a measurement that quantifies the similarity between two vectors [Which is Rating Vector in this case] \n",
    "\n",
    "**Adjusted Cosine**\n",
    "\n",
    "Adjusted cosine similarity is a modified version of vector-based similarity where we incorporate the fact that different users have different ratings schemes. In other words, some users might rate items highly in general, and others might give items lower ratings as a preference. To handle this nature from rating given by user , we subtract average ratings for each user from each user's rating for different products.\n",
    "\n"
   ]
  },
  {
   "cell_type": "markdown",
   "metadata": {
    "id": "TfhxOmqCg4bc"
   },
   "source": [
    "## User Similarity Matrix"
   ]
  },
  {
   "cell_type": "code",
   "execution_count": 81,
   "metadata": {
    "colab": {
     "base_uri": "https://localhost:8080/"
    },
    "id": "FoQfWR9fgljL",
    "outputId": "ba78f03d-c3bb-42b2-a8bb-d600bfc90856"
   },
   "outputs": [
    {
     "data": {
      "text/plain": [
       "18212"
      ]
     },
     "execution_count": 81,
     "metadata": {},
     "output_type": "execute_result"
    }
   ],
   "source": [
    "df_pivot.index.nunique()"
   ]
  },
  {
   "cell_type": "code",
   "execution_count": 82,
   "metadata": {
    "colab": {
     "base_uri": "https://localhost:8080/"
    },
    "id": "88EAyNxvi71d",
    "outputId": "b5df45de-b6f7-42b3-9be5-445104e7329a"
   },
   "outputs": [
    {
     "name": "stdout",
     "output_type": "stream",
     "text": [
      "[[1. 0. 0. ... 0. 0. 0.]\n",
      " [0. 1. 1. ... 0. 0. 0.]\n",
      " [0. 1. 1. ... 0. 0. 0.]\n",
      " ...\n",
      " [0. 0. 0. ... 1. 1. 1.]\n",
      " [0. 0. 0. ... 1. 1. 1.]\n",
      " [0. 0. 0. ... 1. 1. 1.]]\n"
     ]
    }
   ],
   "source": [
    "# Creating the User Similarity Matrix using pairwise_distance function.\n",
    "user_correlation = 1 - pairwise_distances(df_pivot, metric='cosine')\n",
    "user_correlation[np.isnan(user_correlation)] = 0\n",
    "print(user_correlation)"
   ]
  },
  {
   "cell_type": "code",
   "execution_count": 83,
   "metadata": {
    "colab": {
     "base_uri": "https://localhost:8080/"
    },
    "id": "7XRjXJqAi91e",
    "outputId": "7c7f95d8-ec08-4d86-b498-835eb58a919c"
   },
   "outputs": [
    {
     "data": {
      "text/plain": [
       "(18212, 18212)"
      ]
     },
     "execution_count": 83,
     "metadata": {},
     "output_type": "execute_result"
    }
   ],
   "source": [
    "user_correlation.shape"
   ]
  },
  {
   "cell_type": "markdown",
   "metadata": {
    "id": "KbwIUAfXjCOF"
   },
   "source": [
    "## Using adjusted Cosine "
   ]
  },
  {
   "cell_type": "markdown",
   "metadata": {
    "id": "9sg1ggbyjFeC"
   },
   "source": [
    "### Here, we are not removing the NaN values and calculating the mean only for the products rated by the user"
   ]
  },
  {
   "cell_type": "code",
   "execution_count": 84,
   "metadata": {
    "id": "nwMt4puyi_o3"
   },
   "outputs": [],
   "source": [
    "# Create a user-product matrix.\n",
    "df_pivot = train.pivot_table(\n",
    "    index='user',\n",
    "    columns='productId',\n",
    "    values='rating'\n",
    ")"
   ]
  },
  {
   "cell_type": "code",
   "execution_count": 85,
   "metadata": {
    "colab": {
     "base_uri": "https://localhost:8080/",
     "height": 314
    },
    "id": "uP6gfPR-jI2C",
    "outputId": "da3a4d70-fc55-4e15-97bf-2dac7c12b975"
   },
   "outputs": [
    {
     "data": {
      "text/html": [
       "<div>\n",
       "<style scoped>\n",
       "    .dataframe tbody tr th:only-of-type {\n",
       "        vertical-align: middle;\n",
       "    }\n",
       "\n",
       "    .dataframe tbody tr th {\n",
       "        vertical-align: top;\n",
       "    }\n",
       "\n",
       "    .dataframe thead th {\n",
       "        text-align: right;\n",
       "    }\n",
       "</style>\n",
       "<table border=\"1\" class=\"dataframe\">\n",
       "  <thead>\n",
       "    <tr style=\"text-align: right;\">\n",
       "      <th>productId</th>\n",
       "      <th>AV13O1A8GV-KLJ3akUyj</th>\n",
       "      <th>AV14LG0R-jtxr-f38QfS</th>\n",
       "      <th>AV16khLE-jtxr-f38VFn</th>\n",
       "      <th>AV1YGDqsGV-KLJ3adc-O</th>\n",
       "      <th>AV1YIch7GV-KLJ3addeG</th>\n",
       "      <th>AV1YlENIglJLPUi8IHsX</th>\n",
       "      <th>AV1YmBrdGV-KLJ3adewb</th>\n",
       "      <th>AV1YmDL9vKc47QAVgr7_</th>\n",
       "      <th>AV1Ymf_rglJLPUi8II2v</th>\n",
       "      <th>AV1Yn94nvKc47QAVgtst</th>\n",
       "      <th>...</th>\n",
       "      <th>AVpfr5cb1cnluZ0-pZFp</th>\n",
       "      <th>AVpfrFDZLJeJML43Bmv0</th>\n",
       "      <th>AVpfrTyiLJeJML43BrSI</th>\n",
       "      <th>AVpfrfHF1cnluZ0-pRai</th>\n",
       "      <th>AVpfrgjFLJeJML43BvCc</th>\n",
       "      <th>AVpfshNsLJeJML43CB8q</th>\n",
       "      <th>AVpfthSailAPnD_xg3ON</th>\n",
       "      <th>AVpftikC1cnluZ0-p31V</th>\n",
       "      <th>AVpfv4TlilAPnD_xhjNS</th>\n",
       "      <th>AVpfvieo1cnluZ0-qdnu</th>\n",
       "    </tr>\n",
       "    <tr>\n",
       "      <th>user</th>\n",
       "      <th></th>\n",
       "      <th></th>\n",
       "      <th></th>\n",
       "      <th></th>\n",
       "      <th></th>\n",
       "      <th></th>\n",
       "      <th></th>\n",
       "      <th></th>\n",
       "      <th></th>\n",
       "      <th></th>\n",
       "      <th></th>\n",
       "      <th></th>\n",
       "      <th></th>\n",
       "      <th></th>\n",
       "      <th></th>\n",
       "      <th></th>\n",
       "      <th></th>\n",
       "      <th></th>\n",
       "      <th></th>\n",
       "      <th></th>\n",
       "      <th></th>\n",
       "    </tr>\n",
       "  </thead>\n",
       "  <tbody>\n",
       "    <tr>\n",
       "      <th>00sab00</th>\n",
       "      <td>NaN</td>\n",
       "      <td>NaN</td>\n",
       "      <td>NaN</td>\n",
       "      <td>NaN</td>\n",
       "      <td>NaN</td>\n",
       "      <td>NaN</td>\n",
       "      <td>NaN</td>\n",
       "      <td>NaN</td>\n",
       "      <td>NaN</td>\n",
       "      <td>NaN</td>\n",
       "      <td>...</td>\n",
       "      <td>NaN</td>\n",
       "      <td>NaN</td>\n",
       "      <td>NaN</td>\n",
       "      <td>NaN</td>\n",
       "      <td>NaN</td>\n",
       "      <td>NaN</td>\n",
       "      <td>NaN</td>\n",
       "      <td>NaN</td>\n",
       "      <td>NaN</td>\n",
       "      <td>NaN</td>\n",
       "    </tr>\n",
       "    <tr>\n",
       "      <th>01impala</th>\n",
       "      <td>NaN</td>\n",
       "      <td>NaN</td>\n",
       "      <td>NaN</td>\n",
       "      <td>NaN</td>\n",
       "      <td>NaN</td>\n",
       "      <td>NaN</td>\n",
       "      <td>NaN</td>\n",
       "      <td>NaN</td>\n",
       "      <td>NaN</td>\n",
       "      <td>NaN</td>\n",
       "      <td>...</td>\n",
       "      <td>NaN</td>\n",
       "      <td>NaN</td>\n",
       "      <td>NaN</td>\n",
       "      <td>NaN</td>\n",
       "      <td>NaN</td>\n",
       "      <td>NaN</td>\n",
       "      <td>NaN</td>\n",
       "      <td>NaN</td>\n",
       "      <td>NaN</td>\n",
       "      <td>NaN</td>\n",
       "    </tr>\n",
       "    <tr>\n",
       "      <th>02dakota</th>\n",
       "      <td>NaN</td>\n",
       "      <td>NaN</td>\n",
       "      <td>NaN</td>\n",
       "      <td>NaN</td>\n",
       "      <td>NaN</td>\n",
       "      <td>NaN</td>\n",
       "      <td>NaN</td>\n",
       "      <td>NaN</td>\n",
       "      <td>NaN</td>\n",
       "      <td>NaN</td>\n",
       "      <td>...</td>\n",
       "      <td>NaN</td>\n",
       "      <td>NaN</td>\n",
       "      <td>NaN</td>\n",
       "      <td>NaN</td>\n",
       "      <td>NaN</td>\n",
       "      <td>NaN</td>\n",
       "      <td>NaN</td>\n",
       "      <td>NaN</td>\n",
       "      <td>NaN</td>\n",
       "      <td>NaN</td>\n",
       "    </tr>\n",
       "    <tr>\n",
       "      <th>02deuce</th>\n",
       "      <td>NaN</td>\n",
       "      <td>NaN</td>\n",
       "      <td>NaN</td>\n",
       "      <td>NaN</td>\n",
       "      <td>NaN</td>\n",
       "      <td>NaN</td>\n",
       "      <td>NaN</td>\n",
       "      <td>NaN</td>\n",
       "      <td>NaN</td>\n",
       "      <td>NaN</td>\n",
       "      <td>...</td>\n",
       "      <td>NaN</td>\n",
       "      <td>NaN</td>\n",
       "      <td>NaN</td>\n",
       "      <td>NaN</td>\n",
       "      <td>NaN</td>\n",
       "      <td>NaN</td>\n",
       "      <td>NaN</td>\n",
       "      <td>NaN</td>\n",
       "      <td>NaN</td>\n",
       "      <td>NaN</td>\n",
       "    </tr>\n",
       "    <tr>\n",
       "      <th>06stidriver</th>\n",
       "      <td>NaN</td>\n",
       "      <td>NaN</td>\n",
       "      <td>NaN</td>\n",
       "      <td>NaN</td>\n",
       "      <td>NaN</td>\n",
       "      <td>NaN</td>\n",
       "      <td>NaN</td>\n",
       "      <td>NaN</td>\n",
       "      <td>NaN</td>\n",
       "      <td>NaN</td>\n",
       "      <td>...</td>\n",
       "      <td>NaN</td>\n",
       "      <td>NaN</td>\n",
       "      <td>NaN</td>\n",
       "      <td>NaN</td>\n",
       "      <td>NaN</td>\n",
       "      <td>NaN</td>\n",
       "      <td>NaN</td>\n",
       "      <td>NaN</td>\n",
       "      <td>NaN</td>\n",
       "      <td>NaN</td>\n",
       "    </tr>\n",
       "  </tbody>\n",
       "</table>\n",
       "<p>5 rows × 255 columns</p>\n",
       "</div>"
      ],
      "text/plain": [
       "productId    AV13O1A8GV-KLJ3akUyj  AV14LG0R-jtxr-f38QfS  AV16khLE-jtxr-f38VFn  \\\n",
       "user                                                                            \n",
       "00sab00                       NaN                   NaN                   NaN   \n",
       "01impala                      NaN                   NaN                   NaN   \n",
       "02dakota                      NaN                   NaN                   NaN   \n",
       "02deuce                       NaN                   NaN                   NaN   \n",
       "06stidriver                   NaN                   NaN                   NaN   \n",
       "\n",
       "productId    AV1YGDqsGV-KLJ3adc-O  AV1YIch7GV-KLJ3addeG  AV1YlENIglJLPUi8IHsX  \\\n",
       "user                                                                            \n",
       "00sab00                       NaN                   NaN                   NaN   \n",
       "01impala                      NaN                   NaN                   NaN   \n",
       "02dakota                      NaN                   NaN                   NaN   \n",
       "02deuce                       NaN                   NaN                   NaN   \n",
       "06stidriver                   NaN                   NaN                   NaN   \n",
       "\n",
       "productId    AV1YmBrdGV-KLJ3adewb  AV1YmDL9vKc47QAVgr7_  AV1Ymf_rglJLPUi8II2v  \\\n",
       "user                                                                            \n",
       "00sab00                       NaN                   NaN                   NaN   \n",
       "01impala                      NaN                   NaN                   NaN   \n",
       "02dakota                      NaN                   NaN                   NaN   \n",
       "02deuce                       NaN                   NaN                   NaN   \n",
       "06stidriver                   NaN                   NaN                   NaN   \n",
       "\n",
       "productId    AV1Yn94nvKc47QAVgtst  ...  AVpfr5cb1cnluZ0-pZFp  \\\n",
       "user                               ...                         \n",
       "00sab00                       NaN  ...                   NaN   \n",
       "01impala                      NaN  ...                   NaN   \n",
       "02dakota                      NaN  ...                   NaN   \n",
       "02deuce                       NaN  ...                   NaN   \n",
       "06stidriver                   NaN  ...                   NaN   \n",
       "\n",
       "productId    AVpfrFDZLJeJML43Bmv0  AVpfrTyiLJeJML43BrSI  AVpfrfHF1cnluZ0-pRai  \\\n",
       "user                                                                            \n",
       "00sab00                       NaN                   NaN                   NaN   \n",
       "01impala                      NaN                   NaN                   NaN   \n",
       "02dakota                      NaN                   NaN                   NaN   \n",
       "02deuce                       NaN                   NaN                   NaN   \n",
       "06stidriver                   NaN                   NaN                   NaN   \n",
       "\n",
       "productId    AVpfrgjFLJeJML43BvCc  AVpfshNsLJeJML43CB8q  AVpfthSailAPnD_xg3ON  \\\n",
       "user                                                                            \n",
       "00sab00                       NaN                   NaN                   NaN   \n",
       "01impala                      NaN                   NaN                   NaN   \n",
       "02dakota                      NaN                   NaN                   NaN   \n",
       "02deuce                       NaN                   NaN                   NaN   \n",
       "06stidriver                   NaN                   NaN                   NaN   \n",
       "\n",
       "productId    AVpftikC1cnluZ0-p31V  AVpfv4TlilAPnD_xhjNS  AVpfvieo1cnluZ0-qdnu  \n",
       "user                                                                           \n",
       "00sab00                       NaN                   NaN                   NaN  \n",
       "01impala                      NaN                   NaN                   NaN  \n",
       "02dakota                      NaN                   NaN                   NaN  \n",
       "02deuce                       NaN                   NaN                   NaN  \n",
       "06stidriver                   NaN                   NaN                   NaN  \n",
       "\n",
       "[5 rows x 255 columns]"
      ]
     },
     "execution_count": 85,
     "metadata": {},
     "output_type": "execute_result"
    }
   ],
   "source": [
    "df_pivot.head()"
   ]
  },
  {
   "cell_type": "markdown",
   "metadata": {
    "id": "I-P6_rmUjLA0"
   },
   "source": [
    "### Normalising the rating of the products for each user around 0 mean"
   ]
  },
  {
   "cell_type": "code",
   "execution_count": 86,
   "metadata": {
    "colab": {
     "base_uri": "https://localhost:8080/",
     "height": 314
    },
    "id": "Nthw6yE4jJMk",
    "outputId": "bb5ec6f6-4b0c-4f07-c074-9626fbc11029"
   },
   "outputs": [
    {
     "data": {
      "text/html": [
       "<div>\n",
       "<style scoped>\n",
       "    .dataframe tbody tr th:only-of-type {\n",
       "        vertical-align: middle;\n",
       "    }\n",
       "\n",
       "    .dataframe tbody tr th {\n",
       "        vertical-align: top;\n",
       "    }\n",
       "\n",
       "    .dataframe thead th {\n",
       "        text-align: right;\n",
       "    }\n",
       "</style>\n",
       "<table border=\"1\" class=\"dataframe\">\n",
       "  <thead>\n",
       "    <tr style=\"text-align: right;\">\n",
       "      <th>productId</th>\n",
       "      <th>AV13O1A8GV-KLJ3akUyj</th>\n",
       "      <th>AV14LG0R-jtxr-f38QfS</th>\n",
       "      <th>AV16khLE-jtxr-f38VFn</th>\n",
       "      <th>AV1YGDqsGV-KLJ3adc-O</th>\n",
       "      <th>AV1YIch7GV-KLJ3addeG</th>\n",
       "      <th>AV1YlENIglJLPUi8IHsX</th>\n",
       "      <th>AV1YmBrdGV-KLJ3adewb</th>\n",
       "      <th>AV1YmDL9vKc47QAVgr7_</th>\n",
       "      <th>AV1Ymf_rglJLPUi8II2v</th>\n",
       "      <th>AV1Yn94nvKc47QAVgtst</th>\n",
       "      <th>...</th>\n",
       "      <th>AVpfr5cb1cnluZ0-pZFp</th>\n",
       "      <th>AVpfrFDZLJeJML43Bmv0</th>\n",
       "      <th>AVpfrTyiLJeJML43BrSI</th>\n",
       "      <th>AVpfrfHF1cnluZ0-pRai</th>\n",
       "      <th>AVpfrgjFLJeJML43BvCc</th>\n",
       "      <th>AVpfshNsLJeJML43CB8q</th>\n",
       "      <th>AVpfthSailAPnD_xg3ON</th>\n",
       "      <th>AVpftikC1cnluZ0-p31V</th>\n",
       "      <th>AVpfv4TlilAPnD_xhjNS</th>\n",
       "      <th>AVpfvieo1cnluZ0-qdnu</th>\n",
       "    </tr>\n",
       "    <tr>\n",
       "      <th>user</th>\n",
       "      <th></th>\n",
       "      <th></th>\n",
       "      <th></th>\n",
       "      <th></th>\n",
       "      <th></th>\n",
       "      <th></th>\n",
       "      <th></th>\n",
       "      <th></th>\n",
       "      <th></th>\n",
       "      <th></th>\n",
       "      <th></th>\n",
       "      <th></th>\n",
       "      <th></th>\n",
       "      <th></th>\n",
       "      <th></th>\n",
       "      <th></th>\n",
       "      <th></th>\n",
       "      <th></th>\n",
       "      <th></th>\n",
       "      <th></th>\n",
       "      <th></th>\n",
       "    </tr>\n",
       "  </thead>\n",
       "  <tbody>\n",
       "    <tr>\n",
       "      <th>00sab00</th>\n",
       "      <td>NaN</td>\n",
       "      <td>NaN</td>\n",
       "      <td>NaN</td>\n",
       "      <td>NaN</td>\n",
       "      <td>NaN</td>\n",
       "      <td>NaN</td>\n",
       "      <td>NaN</td>\n",
       "      <td>NaN</td>\n",
       "      <td>NaN</td>\n",
       "      <td>NaN</td>\n",
       "      <td>...</td>\n",
       "      <td>NaN</td>\n",
       "      <td>NaN</td>\n",
       "      <td>NaN</td>\n",
       "      <td>NaN</td>\n",
       "      <td>NaN</td>\n",
       "      <td>NaN</td>\n",
       "      <td>NaN</td>\n",
       "      <td>NaN</td>\n",
       "      <td>NaN</td>\n",
       "      <td>NaN</td>\n",
       "    </tr>\n",
       "    <tr>\n",
       "      <th>01impala</th>\n",
       "      <td>NaN</td>\n",
       "      <td>NaN</td>\n",
       "      <td>NaN</td>\n",
       "      <td>NaN</td>\n",
       "      <td>NaN</td>\n",
       "      <td>NaN</td>\n",
       "      <td>NaN</td>\n",
       "      <td>NaN</td>\n",
       "      <td>NaN</td>\n",
       "      <td>NaN</td>\n",
       "      <td>...</td>\n",
       "      <td>NaN</td>\n",
       "      <td>NaN</td>\n",
       "      <td>NaN</td>\n",
       "      <td>NaN</td>\n",
       "      <td>NaN</td>\n",
       "      <td>NaN</td>\n",
       "      <td>NaN</td>\n",
       "      <td>NaN</td>\n",
       "      <td>NaN</td>\n",
       "      <td>NaN</td>\n",
       "    </tr>\n",
       "    <tr>\n",
       "      <th>02dakota</th>\n",
       "      <td>NaN</td>\n",
       "      <td>NaN</td>\n",
       "      <td>NaN</td>\n",
       "      <td>NaN</td>\n",
       "      <td>NaN</td>\n",
       "      <td>NaN</td>\n",
       "      <td>NaN</td>\n",
       "      <td>NaN</td>\n",
       "      <td>NaN</td>\n",
       "      <td>NaN</td>\n",
       "      <td>...</td>\n",
       "      <td>NaN</td>\n",
       "      <td>NaN</td>\n",
       "      <td>NaN</td>\n",
       "      <td>NaN</td>\n",
       "      <td>NaN</td>\n",
       "      <td>NaN</td>\n",
       "      <td>NaN</td>\n",
       "      <td>NaN</td>\n",
       "      <td>NaN</td>\n",
       "      <td>NaN</td>\n",
       "    </tr>\n",
       "    <tr>\n",
       "      <th>02deuce</th>\n",
       "      <td>NaN</td>\n",
       "      <td>NaN</td>\n",
       "      <td>NaN</td>\n",
       "      <td>NaN</td>\n",
       "      <td>NaN</td>\n",
       "      <td>NaN</td>\n",
       "      <td>NaN</td>\n",
       "      <td>NaN</td>\n",
       "      <td>NaN</td>\n",
       "      <td>NaN</td>\n",
       "      <td>...</td>\n",
       "      <td>NaN</td>\n",
       "      <td>NaN</td>\n",
       "      <td>NaN</td>\n",
       "      <td>NaN</td>\n",
       "      <td>NaN</td>\n",
       "      <td>NaN</td>\n",
       "      <td>NaN</td>\n",
       "      <td>NaN</td>\n",
       "      <td>NaN</td>\n",
       "      <td>NaN</td>\n",
       "    </tr>\n",
       "    <tr>\n",
       "      <th>06stidriver</th>\n",
       "      <td>NaN</td>\n",
       "      <td>NaN</td>\n",
       "      <td>NaN</td>\n",
       "      <td>NaN</td>\n",
       "      <td>NaN</td>\n",
       "      <td>NaN</td>\n",
       "      <td>NaN</td>\n",
       "      <td>NaN</td>\n",
       "      <td>NaN</td>\n",
       "      <td>NaN</td>\n",
       "      <td>...</td>\n",
       "      <td>NaN</td>\n",
       "      <td>NaN</td>\n",
       "      <td>NaN</td>\n",
       "      <td>NaN</td>\n",
       "      <td>NaN</td>\n",
       "      <td>NaN</td>\n",
       "      <td>NaN</td>\n",
       "      <td>NaN</td>\n",
       "      <td>NaN</td>\n",
       "      <td>NaN</td>\n",
       "    </tr>\n",
       "  </tbody>\n",
       "</table>\n",
       "<p>5 rows × 255 columns</p>\n",
       "</div>"
      ],
      "text/plain": [
       "productId    AV13O1A8GV-KLJ3akUyj  AV14LG0R-jtxr-f38QfS  AV16khLE-jtxr-f38VFn  \\\n",
       "user                                                                            \n",
       "00sab00                       NaN                   NaN                   NaN   \n",
       "01impala                      NaN                   NaN                   NaN   \n",
       "02dakota                      NaN                   NaN                   NaN   \n",
       "02deuce                       NaN                   NaN                   NaN   \n",
       "06stidriver                   NaN                   NaN                   NaN   \n",
       "\n",
       "productId    AV1YGDqsGV-KLJ3adc-O  AV1YIch7GV-KLJ3addeG  AV1YlENIglJLPUi8IHsX  \\\n",
       "user                                                                            \n",
       "00sab00                       NaN                   NaN                   NaN   \n",
       "01impala                      NaN                   NaN                   NaN   \n",
       "02dakota                      NaN                   NaN                   NaN   \n",
       "02deuce                       NaN                   NaN                   NaN   \n",
       "06stidriver                   NaN                   NaN                   NaN   \n",
       "\n",
       "productId    AV1YmBrdGV-KLJ3adewb  AV1YmDL9vKc47QAVgr7_  AV1Ymf_rglJLPUi8II2v  \\\n",
       "user                                                                            \n",
       "00sab00                       NaN                   NaN                   NaN   \n",
       "01impala                      NaN                   NaN                   NaN   \n",
       "02dakota                      NaN                   NaN                   NaN   \n",
       "02deuce                       NaN                   NaN                   NaN   \n",
       "06stidriver                   NaN                   NaN                   NaN   \n",
       "\n",
       "productId    AV1Yn94nvKc47QAVgtst  ...  AVpfr5cb1cnluZ0-pZFp  \\\n",
       "user                               ...                         \n",
       "00sab00                       NaN  ...                   NaN   \n",
       "01impala                      NaN  ...                   NaN   \n",
       "02dakota                      NaN  ...                   NaN   \n",
       "02deuce                       NaN  ...                   NaN   \n",
       "06stidriver                   NaN  ...                   NaN   \n",
       "\n",
       "productId    AVpfrFDZLJeJML43Bmv0  AVpfrTyiLJeJML43BrSI  AVpfrfHF1cnluZ0-pRai  \\\n",
       "user                                                                            \n",
       "00sab00                       NaN                   NaN                   NaN   \n",
       "01impala                      NaN                   NaN                   NaN   \n",
       "02dakota                      NaN                   NaN                   NaN   \n",
       "02deuce                       NaN                   NaN                   NaN   \n",
       "06stidriver                   NaN                   NaN                   NaN   \n",
       "\n",
       "productId    AVpfrgjFLJeJML43BvCc  AVpfshNsLJeJML43CB8q  AVpfthSailAPnD_xg3ON  \\\n",
       "user                                                                            \n",
       "00sab00                       NaN                   NaN                   NaN   \n",
       "01impala                      NaN                   NaN                   NaN   \n",
       "02dakota                      NaN                   NaN                   NaN   \n",
       "02deuce                       NaN                   NaN                   NaN   \n",
       "06stidriver                   NaN                   NaN                   NaN   \n",
       "\n",
       "productId    AVpftikC1cnluZ0-p31V  AVpfv4TlilAPnD_xhjNS  AVpfvieo1cnluZ0-qdnu  \n",
       "user                                                                           \n",
       "00sab00                       NaN                   NaN                   NaN  \n",
       "01impala                      NaN                   NaN                   NaN  \n",
       "02dakota                      NaN                   NaN                   NaN  \n",
       "02deuce                       NaN                   NaN                   NaN  \n",
       "06stidriver                   NaN                   NaN                   NaN  \n",
       "\n",
       "[5 rows x 255 columns]"
      ]
     },
     "execution_count": 86,
     "metadata": {},
     "output_type": "execute_result"
    }
   ],
   "source": [
    "mean = np.nanmean(df_pivot, axis=1)\n",
    "df_subtracted = (df_pivot.T-mean).T\n",
    "\n",
    "df_subtracted.head()"
   ]
  },
  {
   "cell_type": "markdown",
   "metadata": {
    "id": "B7FKmi4pjXHu"
   },
   "source": [
    "### Finding cosine similarity"
   ]
  },
  {
   "cell_type": "code",
   "execution_count": 87,
   "metadata": {
    "colab": {
     "base_uri": "https://localhost:8080/"
    },
    "id": "Rxm_vQ39jRGn",
    "outputId": "ad0bdcc6-78a0-463d-a23f-31968403b82a"
   },
   "outputs": [
    {
     "name": "stdout",
     "output_type": "stream",
     "text": [
      "[[1. 0. 0. ... 0. 0. 0.]\n",
      " [0. 0. 0. ... 0. 0. 0.]\n",
      " [0. 0. 0. ... 0. 0. 0.]\n",
      " ...\n",
      " [0. 0. 0. ... 0. 0. 0.]\n",
      " [0. 0. 0. ... 0. 0. 0.]\n",
      " [0. 0. 0. ... 0. 0. 0.]]\n"
     ]
    }
   ],
   "source": [
    "# Creating the User Similarity Matrix using pairwise_distance function.\n",
    "user_correlation = 1 - pairwise_distances(df_subtracted.fillna(0), metric='cosine')\n",
    "user_correlation[np.isnan(user_correlation)] = 0\n",
    "print(user_correlation)"
   ]
  },
  {
   "cell_type": "code",
   "execution_count": 88,
   "metadata": {
    "colab": {
     "base_uri": "https://localhost:8080/"
    },
    "id": "CgXXYFVNjf1b",
    "outputId": "4a088a79-a4ab-441e-8658-cfc1a80594d9"
   },
   "outputs": [
    {
     "data": {
      "text/plain": [
       "(18212, 18212)"
      ]
     },
     "execution_count": 88,
     "metadata": {},
     "output_type": "execute_result"
    }
   ],
   "source": [
    "user_correlation.shape"
   ]
  },
  {
   "cell_type": "markdown",
   "metadata": {
    "id": "ZgkyJ85CjdOV"
   },
   "source": [
    "## Prediction - User User"
   ]
  },
  {
   "cell_type": "markdown",
   "metadata": {
    "id": "ugfn7perjjyr"
   },
   "source": [
    "Doing the prediction for the users which are positively related with other users, and not the users which are negatively related as we are interested in the users which are more similar to the current users. So, ignoring the correlation for values less than 0. "
   ]
  },
  {
   "cell_type": "code",
   "execution_count": 89,
   "metadata": {
    "colab": {
     "base_uri": "https://localhost:8080/"
    },
    "id": "U59XQV_vja5w",
    "outputId": "f98395bb-1d0c-43ea-cd9b-60c49a1cc074"
   },
   "outputs": [
    {
     "data": {
      "text/plain": [
       "array([[1., 0., 0., ..., 0., 0., 0.],\n",
       "       [0., 0., 0., ..., 0., 0., 0.],\n",
       "       [0., 0., 0., ..., 0., 0., 0.],\n",
       "       ...,\n",
       "       [0., 0., 0., ..., 0., 0., 0.],\n",
       "       [0., 0., 0., ..., 0., 0., 0.],\n",
       "       [0., 0., 0., ..., 0., 0., 0.]])"
      ]
     },
     "execution_count": 89,
     "metadata": {},
     "output_type": "execute_result"
    }
   ],
   "source": [
    "user_correlation[user_correlation<0]=0\n",
    "user_correlation"
   ]
  },
  {
   "cell_type": "markdown",
   "metadata": {
    "id": "akwXtTGZjo6R"
   },
   "source": [
    "Rating predicted by the user (for products rated as well as not rated) is the weighted sum of correlation with the product rating (as present in the rating dataset). "
   ]
  },
  {
   "cell_type": "code",
   "execution_count": 90,
   "metadata": {
    "colab": {
     "base_uri": "https://localhost:8080/"
    },
    "id": "uAAT_dd7jm7Z",
    "outputId": "dbdec28f-131f-4e07-bfac-267d6e7fb1ca"
   },
   "outputs": [
    {
     "data": {
      "text/plain": [
       "array([[0.        , 0.        , 0.        , ..., 1.55829543, 3.20256308,\n",
       "        0.        ],\n",
       "       [0.        , 0.        , 0.        , ..., 0.        , 0.        ,\n",
       "        0.        ],\n",
       "       [0.        , 0.        , 0.        , ..., 0.        , 0.        ,\n",
       "        0.        ],\n",
       "       ...,\n",
       "       [0.        , 0.        , 0.        , ..., 0.        , 0.        ,\n",
       "        0.        ],\n",
       "       [0.        , 0.        , 0.        , ..., 0.        , 0.        ,\n",
       "        0.        ],\n",
       "       [0.        , 0.        , 0.        , ..., 0.        , 0.        ,\n",
       "        0.        ]])"
      ]
     },
     "execution_count": 90,
     "metadata": {},
     "output_type": "execute_result"
    }
   ],
   "source": [
    "user_predicted_ratings = np.dot(user_correlation, df_pivot.fillna(0))\n",
    "user_predicted_ratings"
   ]
  },
  {
   "cell_type": "code",
   "execution_count": 91,
   "metadata": {
    "colab": {
     "base_uri": "https://localhost:8080/"
    },
    "id": "GfhdvjHJjrbL",
    "outputId": "ffed8ef4-b2c4-4180-fdd5-6ce696e683b6"
   },
   "outputs": [
    {
     "data": {
      "text/plain": [
       "(18212, 255)"
      ]
     },
     "execution_count": 91,
     "metadata": {},
     "output_type": "execute_result"
    }
   ],
   "source": [
    "user_predicted_ratings.shape"
   ]
  },
  {
   "cell_type": "code",
   "execution_count": 92,
   "metadata": {
    "colab": {
     "base_uri": "https://localhost:8080/"
    },
    "id": "yCIMkslgjvPY",
    "outputId": "4c9fa7d4-e0b8-40d7-819c-55f5756415cc"
   },
   "outputs": [
    {
     "data": {
      "text/plain": [
       "array([[0.        , 0.        , 0.        , ..., 1.55829543, 3.20256308,\n",
       "        0.        ],\n",
       "       [0.        , 0.        , 0.        , ..., 0.        , 0.        ,\n",
       "        0.        ],\n",
       "       [0.        , 0.        , 0.        , ..., 0.        , 0.        ,\n",
       "        0.        ],\n",
       "       ...,\n",
       "       [0.        , 0.        , 0.        , ..., 0.        , 0.        ,\n",
       "        0.        ],\n",
       "       [0.        , 0.        , 0.        , ..., 0.        , 0.        ,\n",
       "        0.        ],\n",
       "       [0.        , 0.        , 0.        , ..., 0.        , 0.        ,\n",
       "        0.        ]])"
      ]
     },
     "execution_count": 92,
     "metadata": {},
     "output_type": "execute_result"
    }
   ],
   "source": [
    "user_predicted_ratings"
   ]
  },
  {
   "cell_type": "markdown",
   "metadata": {
    "id": "WKGWjrtPjyR8"
   },
   "source": [
    "Since we are interested only in the products not rated by the user, we will ignore the products rated by the user by making it zero. "
   ]
  },
  {
   "cell_type": "code",
   "execution_count": 93,
   "metadata": {
    "colab": {
     "base_uri": "https://localhost:8080/",
     "height": 314
    },
    "id": "m2D013yfjvmB",
    "outputId": "ba37badd-6b33-45e5-e04a-f0dc659ee1ea"
   },
   "outputs": [
    {
     "data": {
      "text/html": [
       "<div>\n",
       "<style scoped>\n",
       "    .dataframe tbody tr th:only-of-type {\n",
       "        vertical-align: middle;\n",
       "    }\n",
       "\n",
       "    .dataframe tbody tr th {\n",
       "        vertical-align: top;\n",
       "    }\n",
       "\n",
       "    .dataframe thead th {\n",
       "        text-align: right;\n",
       "    }\n",
       "</style>\n",
       "<table border=\"1\" class=\"dataframe\">\n",
       "  <thead>\n",
       "    <tr style=\"text-align: right;\">\n",
       "      <th>productId</th>\n",
       "      <th>AV13O1A8GV-KLJ3akUyj</th>\n",
       "      <th>AV14LG0R-jtxr-f38QfS</th>\n",
       "      <th>AV16khLE-jtxr-f38VFn</th>\n",
       "      <th>AV1YGDqsGV-KLJ3adc-O</th>\n",
       "      <th>AV1YIch7GV-KLJ3addeG</th>\n",
       "      <th>AV1YlENIglJLPUi8IHsX</th>\n",
       "      <th>AV1YmBrdGV-KLJ3adewb</th>\n",
       "      <th>AV1YmDL9vKc47QAVgr7_</th>\n",
       "      <th>AV1Ymf_rglJLPUi8II2v</th>\n",
       "      <th>AV1Yn94nvKc47QAVgtst</th>\n",
       "      <th>...</th>\n",
       "      <th>AVpfr5cb1cnluZ0-pZFp</th>\n",
       "      <th>AVpfrFDZLJeJML43Bmv0</th>\n",
       "      <th>AVpfrTyiLJeJML43BrSI</th>\n",
       "      <th>AVpfrfHF1cnluZ0-pRai</th>\n",
       "      <th>AVpfrgjFLJeJML43BvCc</th>\n",
       "      <th>AVpfshNsLJeJML43CB8q</th>\n",
       "      <th>AVpfthSailAPnD_xg3ON</th>\n",
       "      <th>AVpftikC1cnluZ0-p31V</th>\n",
       "      <th>AVpfv4TlilAPnD_xhjNS</th>\n",
       "      <th>AVpfvieo1cnluZ0-qdnu</th>\n",
       "    </tr>\n",
       "    <tr>\n",
       "      <th>user</th>\n",
       "      <th></th>\n",
       "      <th></th>\n",
       "      <th></th>\n",
       "      <th></th>\n",
       "      <th></th>\n",
       "      <th></th>\n",
       "      <th></th>\n",
       "      <th></th>\n",
       "      <th></th>\n",
       "      <th></th>\n",
       "      <th></th>\n",
       "      <th></th>\n",
       "      <th></th>\n",
       "      <th></th>\n",
       "      <th></th>\n",
       "      <th></th>\n",
       "      <th></th>\n",
       "      <th></th>\n",
       "      <th></th>\n",
       "      <th></th>\n",
       "      <th></th>\n",
       "    </tr>\n",
       "  </thead>\n",
       "  <tbody>\n",
       "    <tr>\n",
       "      <th>00sab00</th>\n",
       "      <td>0.0</td>\n",
       "      <td>0.0</td>\n",
       "      <td>0.0</td>\n",
       "      <td>6.059436</td>\n",
       "      <td>0.0</td>\n",
       "      <td>0.0</td>\n",
       "      <td>0.0</td>\n",
       "      <td>0.915079</td>\n",
       "      <td>0.0</td>\n",
       "      <td>0.0</td>\n",
       "      <td>...</td>\n",
       "      <td>0.545545</td>\n",
       "      <td>0.0</td>\n",
       "      <td>0.0</td>\n",
       "      <td>0.0</td>\n",
       "      <td>0.0</td>\n",
       "      <td>0.0</td>\n",
       "      <td>0.0</td>\n",
       "      <td>1.558295</td>\n",
       "      <td>3.202563</td>\n",
       "      <td>0.0</td>\n",
       "    </tr>\n",
       "    <tr>\n",
       "      <th>01impala</th>\n",
       "      <td>0.0</td>\n",
       "      <td>0.0</td>\n",
       "      <td>0.0</td>\n",
       "      <td>0.000000</td>\n",
       "      <td>0.0</td>\n",
       "      <td>0.0</td>\n",
       "      <td>0.0</td>\n",
       "      <td>0.000000</td>\n",
       "      <td>0.0</td>\n",
       "      <td>0.0</td>\n",
       "      <td>...</td>\n",
       "      <td>0.000000</td>\n",
       "      <td>0.0</td>\n",
       "      <td>0.0</td>\n",
       "      <td>0.0</td>\n",
       "      <td>0.0</td>\n",
       "      <td>0.0</td>\n",
       "      <td>0.0</td>\n",
       "      <td>0.000000</td>\n",
       "      <td>0.000000</td>\n",
       "      <td>0.0</td>\n",
       "    </tr>\n",
       "    <tr>\n",
       "      <th>02dakota</th>\n",
       "      <td>0.0</td>\n",
       "      <td>0.0</td>\n",
       "      <td>0.0</td>\n",
       "      <td>0.000000</td>\n",
       "      <td>0.0</td>\n",
       "      <td>0.0</td>\n",
       "      <td>0.0</td>\n",
       "      <td>0.000000</td>\n",
       "      <td>0.0</td>\n",
       "      <td>0.0</td>\n",
       "      <td>...</td>\n",
       "      <td>0.000000</td>\n",
       "      <td>0.0</td>\n",
       "      <td>0.0</td>\n",
       "      <td>0.0</td>\n",
       "      <td>0.0</td>\n",
       "      <td>0.0</td>\n",
       "      <td>0.0</td>\n",
       "      <td>0.000000</td>\n",
       "      <td>0.000000</td>\n",
       "      <td>0.0</td>\n",
       "    </tr>\n",
       "    <tr>\n",
       "      <th>02deuce</th>\n",
       "      <td>0.0</td>\n",
       "      <td>0.0</td>\n",
       "      <td>0.0</td>\n",
       "      <td>0.000000</td>\n",
       "      <td>0.0</td>\n",
       "      <td>0.0</td>\n",
       "      <td>0.0</td>\n",
       "      <td>0.000000</td>\n",
       "      <td>0.0</td>\n",
       "      <td>0.0</td>\n",
       "      <td>...</td>\n",
       "      <td>0.000000</td>\n",
       "      <td>0.0</td>\n",
       "      <td>0.0</td>\n",
       "      <td>0.0</td>\n",
       "      <td>0.0</td>\n",
       "      <td>0.0</td>\n",
       "      <td>0.0</td>\n",
       "      <td>0.000000</td>\n",
       "      <td>0.000000</td>\n",
       "      <td>0.0</td>\n",
       "    </tr>\n",
       "    <tr>\n",
       "      <th>06stidriver</th>\n",
       "      <td>0.0</td>\n",
       "      <td>0.0</td>\n",
       "      <td>0.0</td>\n",
       "      <td>0.000000</td>\n",
       "      <td>0.0</td>\n",
       "      <td>0.0</td>\n",
       "      <td>0.0</td>\n",
       "      <td>0.000000</td>\n",
       "      <td>0.0</td>\n",
       "      <td>0.0</td>\n",
       "      <td>...</td>\n",
       "      <td>0.000000</td>\n",
       "      <td>0.0</td>\n",
       "      <td>0.0</td>\n",
       "      <td>0.0</td>\n",
       "      <td>0.0</td>\n",
       "      <td>0.0</td>\n",
       "      <td>0.0</td>\n",
       "      <td>0.000000</td>\n",
       "      <td>0.000000</td>\n",
       "      <td>0.0</td>\n",
       "    </tr>\n",
       "  </tbody>\n",
       "</table>\n",
       "<p>5 rows × 255 columns</p>\n",
       "</div>"
      ],
      "text/plain": [
       "productId    AV13O1A8GV-KLJ3akUyj  AV14LG0R-jtxr-f38QfS  AV16khLE-jtxr-f38VFn  \\\n",
       "user                                                                            \n",
       "00sab00                       0.0                   0.0                   0.0   \n",
       "01impala                      0.0                   0.0                   0.0   \n",
       "02dakota                      0.0                   0.0                   0.0   \n",
       "02deuce                       0.0                   0.0                   0.0   \n",
       "06stidriver                   0.0                   0.0                   0.0   \n",
       "\n",
       "productId    AV1YGDqsGV-KLJ3adc-O  AV1YIch7GV-KLJ3addeG  AV1YlENIglJLPUi8IHsX  \\\n",
       "user                                                                            \n",
       "00sab00                  6.059436                   0.0                   0.0   \n",
       "01impala                 0.000000                   0.0                   0.0   \n",
       "02dakota                 0.000000                   0.0                   0.0   \n",
       "02deuce                  0.000000                   0.0                   0.0   \n",
       "06stidriver              0.000000                   0.0                   0.0   \n",
       "\n",
       "productId    AV1YmBrdGV-KLJ3adewb  AV1YmDL9vKc47QAVgr7_  AV1Ymf_rglJLPUi8II2v  \\\n",
       "user                                                                            \n",
       "00sab00                       0.0              0.915079                   0.0   \n",
       "01impala                      0.0              0.000000                   0.0   \n",
       "02dakota                      0.0              0.000000                   0.0   \n",
       "02deuce                       0.0              0.000000                   0.0   \n",
       "06stidriver                   0.0              0.000000                   0.0   \n",
       "\n",
       "productId    AV1Yn94nvKc47QAVgtst  ...  AVpfr5cb1cnluZ0-pZFp  \\\n",
       "user                               ...                         \n",
       "00sab00                       0.0  ...              0.545545   \n",
       "01impala                      0.0  ...              0.000000   \n",
       "02dakota                      0.0  ...              0.000000   \n",
       "02deuce                       0.0  ...              0.000000   \n",
       "06stidriver                   0.0  ...              0.000000   \n",
       "\n",
       "productId    AVpfrFDZLJeJML43Bmv0  AVpfrTyiLJeJML43BrSI  AVpfrfHF1cnluZ0-pRai  \\\n",
       "user                                                                            \n",
       "00sab00                       0.0                   0.0                   0.0   \n",
       "01impala                      0.0                   0.0                   0.0   \n",
       "02dakota                      0.0                   0.0                   0.0   \n",
       "02deuce                       0.0                   0.0                   0.0   \n",
       "06stidriver                   0.0                   0.0                   0.0   \n",
       "\n",
       "productId    AVpfrgjFLJeJML43BvCc  AVpfshNsLJeJML43CB8q  AVpfthSailAPnD_xg3ON  \\\n",
       "user                                                                            \n",
       "00sab00                       0.0                   0.0                   0.0   \n",
       "01impala                      0.0                   0.0                   0.0   \n",
       "02dakota                      0.0                   0.0                   0.0   \n",
       "02deuce                       0.0                   0.0                   0.0   \n",
       "06stidriver                   0.0                   0.0                   0.0   \n",
       "\n",
       "productId    AVpftikC1cnluZ0-p31V  AVpfv4TlilAPnD_xhjNS  AVpfvieo1cnluZ0-qdnu  \n",
       "user                                                                           \n",
       "00sab00                  1.558295              3.202563                   0.0  \n",
       "01impala                 0.000000              0.000000                   0.0  \n",
       "02dakota                 0.000000              0.000000                   0.0  \n",
       "02deuce                  0.000000              0.000000                   0.0  \n",
       "06stidriver              0.000000              0.000000                   0.0  \n",
       "\n",
       "[5 rows x 255 columns]"
      ]
     },
     "execution_count": 93,
     "metadata": {},
     "output_type": "execute_result"
    }
   ],
   "source": [
    "user_final_rating = np.multiply(user_predicted_ratings,dummy_train)\n",
    "user_final_rating.head()"
   ]
  },
  {
   "cell_type": "markdown",
   "metadata": {
    "id": "WgZQjGmBj4Ou"
   },
   "source": [
    "### Finding the top 20 recommendation for the *user*"
   ]
  },
  {
   "cell_type": "code",
   "execution_count": 94,
   "metadata": {
    "colab": {
     "base_uri": "https://localhost:8080/",
     "height": 498
    },
    "id": "KhD9Tb5U1sBF",
    "outputId": "58f83753-8e44-4132-d089-3d7847c3222d"
   },
   "outputs": [
    {
     "data": {
      "text/html": [
       "<div>\n",
       "<style scoped>\n",
       "    .dataframe tbody tr th:only-of-type {\n",
       "        vertical-align: middle;\n",
       "    }\n",
       "\n",
       "    .dataframe tbody tr th {\n",
       "        vertical-align: top;\n",
       "    }\n",
       "\n",
       "    .dataframe thead th {\n",
       "        text-align: right;\n",
       "    }\n",
       "</style>\n",
       "<table border=\"1\" class=\"dataframe\">\n",
       "  <thead>\n",
       "    <tr style=\"text-align: right;\">\n",
       "      <th>productId</th>\n",
       "      <th>AV13O1A8GV-KLJ3akUyj</th>\n",
       "      <th>AV14LG0R-jtxr-f38QfS</th>\n",
       "      <th>AV16khLE-jtxr-f38VFn</th>\n",
       "      <th>AV1YGDqsGV-KLJ3adc-O</th>\n",
       "      <th>AV1YIch7GV-KLJ3addeG</th>\n",
       "      <th>AV1YlENIglJLPUi8IHsX</th>\n",
       "      <th>AV1YmBrdGV-KLJ3adewb</th>\n",
       "      <th>AV1YmDL9vKc47QAVgr7_</th>\n",
       "      <th>AV1Ymf_rglJLPUi8II2v</th>\n",
       "      <th>AV1Yn94nvKc47QAVgtst</th>\n",
       "      <th>...</th>\n",
       "      <th>AVpfr5cb1cnluZ0-pZFp</th>\n",
       "      <th>AVpfrFDZLJeJML43Bmv0</th>\n",
       "      <th>AVpfrTyiLJeJML43BrSI</th>\n",
       "      <th>AVpfrfHF1cnluZ0-pRai</th>\n",
       "      <th>AVpfrgjFLJeJML43BvCc</th>\n",
       "      <th>AVpfshNsLJeJML43CB8q</th>\n",
       "      <th>AVpfthSailAPnD_xg3ON</th>\n",
       "      <th>AVpftikC1cnluZ0-p31V</th>\n",
       "      <th>AVpfv4TlilAPnD_xhjNS</th>\n",
       "      <th>AVpfvieo1cnluZ0-qdnu</th>\n",
       "    </tr>\n",
       "    <tr>\n",
       "      <th>user</th>\n",
       "      <th></th>\n",
       "      <th></th>\n",
       "      <th></th>\n",
       "      <th></th>\n",
       "      <th></th>\n",
       "      <th></th>\n",
       "      <th></th>\n",
       "      <th></th>\n",
       "      <th></th>\n",
       "      <th></th>\n",
       "      <th></th>\n",
       "      <th></th>\n",
       "      <th></th>\n",
       "      <th></th>\n",
       "      <th></th>\n",
       "      <th></th>\n",
       "      <th></th>\n",
       "      <th></th>\n",
       "      <th></th>\n",
       "      <th></th>\n",
       "      <th></th>\n",
       "    </tr>\n",
       "  </thead>\n",
       "  <tbody>\n",
       "    <tr>\n",
       "      <th>00sab00</th>\n",
       "      <td>0.0</td>\n",
       "      <td>0.0</td>\n",
       "      <td>0.0</td>\n",
       "      <td>6.059436</td>\n",
       "      <td>0.0</td>\n",
       "      <td>0.0</td>\n",
       "      <td>0.0</td>\n",
       "      <td>0.915079</td>\n",
       "      <td>0.0</td>\n",
       "      <td>0.0</td>\n",
       "      <td>...</td>\n",
       "      <td>0.545545</td>\n",
       "      <td>0.0</td>\n",
       "      <td>0.0</td>\n",
       "      <td>0.0</td>\n",
       "      <td>0.0</td>\n",
       "      <td>0.0</td>\n",
       "      <td>0.0</td>\n",
       "      <td>1.558295</td>\n",
       "      <td>3.202563</td>\n",
       "      <td>0.0</td>\n",
       "    </tr>\n",
       "    <tr>\n",
       "      <th>01impala</th>\n",
       "      <td>0.0</td>\n",
       "      <td>0.0</td>\n",
       "      <td>0.0</td>\n",
       "      <td>0.000000</td>\n",
       "      <td>0.0</td>\n",
       "      <td>0.0</td>\n",
       "      <td>0.0</td>\n",
       "      <td>0.000000</td>\n",
       "      <td>0.0</td>\n",
       "      <td>0.0</td>\n",
       "      <td>...</td>\n",
       "      <td>0.000000</td>\n",
       "      <td>0.0</td>\n",
       "      <td>0.0</td>\n",
       "      <td>0.0</td>\n",
       "      <td>0.0</td>\n",
       "      <td>0.0</td>\n",
       "      <td>0.0</td>\n",
       "      <td>0.000000</td>\n",
       "      <td>0.000000</td>\n",
       "      <td>0.0</td>\n",
       "    </tr>\n",
       "    <tr>\n",
       "      <th>02dakota</th>\n",
       "      <td>0.0</td>\n",
       "      <td>0.0</td>\n",
       "      <td>0.0</td>\n",
       "      <td>0.000000</td>\n",
       "      <td>0.0</td>\n",
       "      <td>0.0</td>\n",
       "      <td>0.0</td>\n",
       "      <td>0.000000</td>\n",
       "      <td>0.0</td>\n",
       "      <td>0.0</td>\n",
       "      <td>...</td>\n",
       "      <td>0.000000</td>\n",
       "      <td>0.0</td>\n",
       "      <td>0.0</td>\n",
       "      <td>0.0</td>\n",
       "      <td>0.0</td>\n",
       "      <td>0.0</td>\n",
       "      <td>0.0</td>\n",
       "      <td>0.000000</td>\n",
       "      <td>0.000000</td>\n",
       "      <td>0.0</td>\n",
       "    </tr>\n",
       "    <tr>\n",
       "      <th>02deuce</th>\n",
       "      <td>0.0</td>\n",
       "      <td>0.0</td>\n",
       "      <td>0.0</td>\n",
       "      <td>0.000000</td>\n",
       "      <td>0.0</td>\n",
       "      <td>0.0</td>\n",
       "      <td>0.0</td>\n",
       "      <td>0.000000</td>\n",
       "      <td>0.0</td>\n",
       "      <td>0.0</td>\n",
       "      <td>...</td>\n",
       "      <td>0.000000</td>\n",
       "      <td>0.0</td>\n",
       "      <td>0.0</td>\n",
       "      <td>0.0</td>\n",
       "      <td>0.0</td>\n",
       "      <td>0.0</td>\n",
       "      <td>0.0</td>\n",
       "      <td>0.000000</td>\n",
       "      <td>0.000000</td>\n",
       "      <td>0.0</td>\n",
       "    </tr>\n",
       "    <tr>\n",
       "      <th>06stidriver</th>\n",
       "      <td>0.0</td>\n",
       "      <td>0.0</td>\n",
       "      <td>0.0</td>\n",
       "      <td>0.000000</td>\n",
       "      <td>0.0</td>\n",
       "      <td>0.0</td>\n",
       "      <td>0.0</td>\n",
       "      <td>0.000000</td>\n",
       "      <td>0.0</td>\n",
       "      <td>0.0</td>\n",
       "      <td>...</td>\n",
       "      <td>0.000000</td>\n",
       "      <td>0.0</td>\n",
       "      <td>0.0</td>\n",
       "      <td>0.0</td>\n",
       "      <td>0.0</td>\n",
       "      <td>0.0</td>\n",
       "      <td>0.0</td>\n",
       "      <td>0.000000</td>\n",
       "      <td>0.000000</td>\n",
       "      <td>0.0</td>\n",
       "    </tr>\n",
       "    <tr>\n",
       "      <th>...</th>\n",
       "      <td>...</td>\n",
       "      <td>...</td>\n",
       "      <td>...</td>\n",
       "      <td>...</td>\n",
       "      <td>...</td>\n",
       "      <td>...</td>\n",
       "      <td>...</td>\n",
       "      <td>...</td>\n",
       "      <td>...</td>\n",
       "      <td>...</td>\n",
       "      <td>...</td>\n",
       "      <td>...</td>\n",
       "      <td>...</td>\n",
       "      <td>...</td>\n",
       "      <td>...</td>\n",
       "      <td>...</td>\n",
       "      <td>...</td>\n",
       "      <td>...</td>\n",
       "      <td>...</td>\n",
       "      <td>...</td>\n",
       "      <td>...</td>\n",
       "    </tr>\n",
       "    <tr>\n",
       "      <th>zuttle</th>\n",
       "      <td>0.0</td>\n",
       "      <td>0.0</td>\n",
       "      <td>0.0</td>\n",
       "      <td>0.000000</td>\n",
       "      <td>0.0</td>\n",
       "      <td>0.0</td>\n",
       "      <td>0.0</td>\n",
       "      <td>0.000000</td>\n",
       "      <td>0.0</td>\n",
       "      <td>0.0</td>\n",
       "      <td>...</td>\n",
       "      <td>0.000000</td>\n",
       "      <td>0.0</td>\n",
       "      <td>0.0</td>\n",
       "      <td>0.0</td>\n",
       "      <td>0.0</td>\n",
       "      <td>0.0</td>\n",
       "      <td>0.0</td>\n",
       "      <td>0.000000</td>\n",
       "      <td>0.000000</td>\n",
       "      <td>0.0</td>\n",
       "    </tr>\n",
       "    <tr>\n",
       "      <th>zwithanx</th>\n",
       "      <td>0.0</td>\n",
       "      <td>0.0</td>\n",
       "      <td>0.0</td>\n",
       "      <td>0.000000</td>\n",
       "      <td>0.0</td>\n",
       "      <td>0.0</td>\n",
       "      <td>0.0</td>\n",
       "      <td>0.000000</td>\n",
       "      <td>0.0</td>\n",
       "      <td>0.0</td>\n",
       "      <td>...</td>\n",
       "      <td>0.000000</td>\n",
       "      <td>0.0</td>\n",
       "      <td>0.0</td>\n",
       "      <td>0.0</td>\n",
       "      <td>0.0</td>\n",
       "      <td>0.0</td>\n",
       "      <td>0.0</td>\n",
       "      <td>0.000000</td>\n",
       "      <td>0.000000</td>\n",
       "      <td>0.0</td>\n",
       "    </tr>\n",
       "    <tr>\n",
       "      <th>zxcsdfd</th>\n",
       "      <td>0.0</td>\n",
       "      <td>0.0</td>\n",
       "      <td>0.0</td>\n",
       "      <td>0.000000</td>\n",
       "      <td>0.0</td>\n",
       "      <td>0.0</td>\n",
       "      <td>0.0</td>\n",
       "      <td>0.000000</td>\n",
       "      <td>0.0</td>\n",
       "      <td>0.0</td>\n",
       "      <td>...</td>\n",
       "      <td>0.000000</td>\n",
       "      <td>0.0</td>\n",
       "      <td>0.0</td>\n",
       "      <td>0.0</td>\n",
       "      <td>0.0</td>\n",
       "      <td>0.0</td>\n",
       "      <td>0.0</td>\n",
       "      <td>0.000000</td>\n",
       "      <td>0.000000</td>\n",
       "      <td>0.0</td>\n",
       "    </tr>\n",
       "    <tr>\n",
       "      <th>zyiah4</th>\n",
       "      <td>0.0</td>\n",
       "      <td>0.0</td>\n",
       "      <td>0.0</td>\n",
       "      <td>0.000000</td>\n",
       "      <td>0.0</td>\n",
       "      <td>0.0</td>\n",
       "      <td>0.0</td>\n",
       "      <td>0.000000</td>\n",
       "      <td>0.0</td>\n",
       "      <td>0.0</td>\n",
       "      <td>...</td>\n",
       "      <td>0.000000</td>\n",
       "      <td>0.0</td>\n",
       "      <td>0.0</td>\n",
       "      <td>0.0</td>\n",
       "      <td>0.0</td>\n",
       "      <td>0.0</td>\n",
       "      <td>0.0</td>\n",
       "      <td>0.000000</td>\n",
       "      <td>0.000000</td>\n",
       "      <td>0.0</td>\n",
       "    </tr>\n",
       "    <tr>\n",
       "      <th>zzz1127</th>\n",
       "      <td>0.0</td>\n",
       "      <td>0.0</td>\n",
       "      <td>0.0</td>\n",
       "      <td>0.000000</td>\n",
       "      <td>0.0</td>\n",
       "      <td>0.0</td>\n",
       "      <td>0.0</td>\n",
       "      <td>0.000000</td>\n",
       "      <td>0.0</td>\n",
       "      <td>0.0</td>\n",
       "      <td>...</td>\n",
       "      <td>0.000000</td>\n",
       "      <td>0.0</td>\n",
       "      <td>0.0</td>\n",
       "      <td>0.0</td>\n",
       "      <td>0.0</td>\n",
       "      <td>0.0</td>\n",
       "      <td>0.0</td>\n",
       "      <td>0.000000</td>\n",
       "      <td>0.000000</td>\n",
       "      <td>0.0</td>\n",
       "    </tr>\n",
       "  </tbody>\n",
       "</table>\n",
       "<p>18212 rows × 255 columns</p>\n",
       "</div>"
      ],
      "text/plain": [
       "productId    AV13O1A8GV-KLJ3akUyj  AV14LG0R-jtxr-f38QfS  AV16khLE-jtxr-f38VFn  \\\n",
       "user                                                                            \n",
       "00sab00                       0.0                   0.0                   0.0   \n",
       "01impala                      0.0                   0.0                   0.0   \n",
       "02dakota                      0.0                   0.0                   0.0   \n",
       "02deuce                       0.0                   0.0                   0.0   \n",
       "06stidriver                   0.0                   0.0                   0.0   \n",
       "...                           ...                   ...                   ...   \n",
       "zuttle                        0.0                   0.0                   0.0   \n",
       "zwithanx                      0.0                   0.0                   0.0   \n",
       "zxcsdfd                       0.0                   0.0                   0.0   \n",
       "zyiah4                        0.0                   0.0                   0.0   \n",
       "zzz1127                       0.0                   0.0                   0.0   \n",
       "\n",
       "productId    AV1YGDqsGV-KLJ3adc-O  AV1YIch7GV-KLJ3addeG  AV1YlENIglJLPUi8IHsX  \\\n",
       "user                                                                            \n",
       "00sab00                  6.059436                   0.0                   0.0   \n",
       "01impala                 0.000000                   0.0                   0.0   \n",
       "02dakota                 0.000000                   0.0                   0.0   \n",
       "02deuce                  0.000000                   0.0                   0.0   \n",
       "06stidriver              0.000000                   0.0                   0.0   \n",
       "...                           ...                   ...                   ...   \n",
       "zuttle                   0.000000                   0.0                   0.0   \n",
       "zwithanx                 0.000000                   0.0                   0.0   \n",
       "zxcsdfd                  0.000000                   0.0                   0.0   \n",
       "zyiah4                   0.000000                   0.0                   0.0   \n",
       "zzz1127                  0.000000                   0.0                   0.0   \n",
       "\n",
       "productId    AV1YmBrdGV-KLJ3adewb  AV1YmDL9vKc47QAVgr7_  AV1Ymf_rglJLPUi8II2v  \\\n",
       "user                                                                            \n",
       "00sab00                       0.0              0.915079                   0.0   \n",
       "01impala                      0.0              0.000000                   0.0   \n",
       "02dakota                      0.0              0.000000                   0.0   \n",
       "02deuce                       0.0              0.000000                   0.0   \n",
       "06stidriver                   0.0              0.000000                   0.0   \n",
       "...                           ...                   ...                   ...   \n",
       "zuttle                        0.0              0.000000                   0.0   \n",
       "zwithanx                      0.0              0.000000                   0.0   \n",
       "zxcsdfd                       0.0              0.000000                   0.0   \n",
       "zyiah4                        0.0              0.000000                   0.0   \n",
       "zzz1127                       0.0              0.000000                   0.0   \n",
       "\n",
       "productId    AV1Yn94nvKc47QAVgtst  ...  AVpfr5cb1cnluZ0-pZFp  \\\n",
       "user                               ...                         \n",
       "00sab00                       0.0  ...              0.545545   \n",
       "01impala                      0.0  ...              0.000000   \n",
       "02dakota                      0.0  ...              0.000000   \n",
       "02deuce                       0.0  ...              0.000000   \n",
       "06stidriver                   0.0  ...              0.000000   \n",
       "...                           ...  ...                   ...   \n",
       "zuttle                        0.0  ...              0.000000   \n",
       "zwithanx                      0.0  ...              0.000000   \n",
       "zxcsdfd                       0.0  ...              0.000000   \n",
       "zyiah4                        0.0  ...              0.000000   \n",
       "zzz1127                       0.0  ...              0.000000   \n",
       "\n",
       "productId    AVpfrFDZLJeJML43Bmv0  AVpfrTyiLJeJML43BrSI  AVpfrfHF1cnluZ0-pRai  \\\n",
       "user                                                                            \n",
       "00sab00                       0.0                   0.0                   0.0   \n",
       "01impala                      0.0                   0.0                   0.0   \n",
       "02dakota                      0.0                   0.0                   0.0   \n",
       "02deuce                       0.0                   0.0                   0.0   \n",
       "06stidriver                   0.0                   0.0                   0.0   \n",
       "...                           ...                   ...                   ...   \n",
       "zuttle                        0.0                   0.0                   0.0   \n",
       "zwithanx                      0.0                   0.0                   0.0   \n",
       "zxcsdfd                       0.0                   0.0                   0.0   \n",
       "zyiah4                        0.0                   0.0                   0.0   \n",
       "zzz1127                       0.0                   0.0                   0.0   \n",
       "\n",
       "productId    AVpfrgjFLJeJML43BvCc  AVpfshNsLJeJML43CB8q  AVpfthSailAPnD_xg3ON  \\\n",
       "user                                                                            \n",
       "00sab00                       0.0                   0.0                   0.0   \n",
       "01impala                      0.0                   0.0                   0.0   \n",
       "02dakota                      0.0                   0.0                   0.0   \n",
       "02deuce                       0.0                   0.0                   0.0   \n",
       "06stidriver                   0.0                   0.0                   0.0   \n",
       "...                           ...                   ...                   ...   \n",
       "zuttle                        0.0                   0.0                   0.0   \n",
       "zwithanx                      0.0                   0.0                   0.0   \n",
       "zxcsdfd                       0.0                   0.0                   0.0   \n",
       "zyiah4                        0.0                   0.0                   0.0   \n",
       "zzz1127                       0.0                   0.0                   0.0   \n",
       "\n",
       "productId    AVpftikC1cnluZ0-p31V  AVpfv4TlilAPnD_xhjNS  AVpfvieo1cnluZ0-qdnu  \n",
       "user                                                                           \n",
       "00sab00                  1.558295              3.202563                   0.0  \n",
       "01impala                 0.000000              0.000000                   0.0  \n",
       "02dakota                 0.000000              0.000000                   0.0  \n",
       "02deuce                  0.000000              0.000000                   0.0  \n",
       "06stidriver              0.000000              0.000000                   0.0  \n",
       "...                           ...                   ...                   ...  \n",
       "zuttle                   0.000000              0.000000                   0.0  \n",
       "zwithanx                 0.000000              0.000000                   0.0  \n",
       "zxcsdfd                  0.000000              0.000000                   0.0  \n",
       "zyiah4                   0.000000              0.000000                   0.0  \n",
       "zzz1127                  0.000000              0.000000                   0.0  \n",
       "\n",
       "[18212 rows x 255 columns]"
      ]
     },
     "execution_count": 94,
     "metadata": {},
     "output_type": "execute_result"
    }
   ],
   "source": [
    "user_final_rating"
   ]
  },
  {
   "cell_type": "code",
   "execution_count": 95,
   "metadata": {
    "colab": {
     "base_uri": "https://localhost:8080/"
    },
    "id": "KleQlKKEj11U",
    "outputId": "6c62b46a-2ef2-4b6a-db31-f5610f96b6e4"
   },
   "outputs": [
    {
     "name": "stdout",
     "output_type": "stream",
     "text": [
      "Enter your user namezyiah4\n",
      "zyiah4\n"
     ]
    }
   ],
   "source": [
    "# Take the user ID as input.\n",
    "user_input = input(\"Enter your user name\") #00sab00\n",
    "print(user_input)"
   ]
  },
  {
   "cell_type": "code",
   "execution_count": 96,
   "metadata": {
    "colab": {
     "base_uri": "https://localhost:8080/",
     "height": 375
    },
    "id": "aBs_mTOAj9km",
    "outputId": "398cab52-fdb9-47aa-e4b0-ee3d2cc6518b"
   },
   "outputs": [
    {
     "data": {
      "text/html": [
       "<div>\n",
       "<style scoped>\n",
       "    .dataframe tbody tr th:only-of-type {\n",
       "        vertical-align: middle;\n",
       "    }\n",
       "\n",
       "    .dataframe tbody tr th {\n",
       "        vertical-align: top;\n",
       "    }\n",
       "\n",
       "    .dataframe thead th {\n",
       "        text-align: right;\n",
       "    }\n",
       "</style>\n",
       "<table border=\"1\" class=\"dataframe\">\n",
       "  <thead>\n",
       "    <tr style=\"text-align: right;\">\n",
       "      <th>productId</th>\n",
       "      <th>AV13O1A8GV-KLJ3akUyj</th>\n",
       "      <th>AV14LG0R-jtxr-f38QfS</th>\n",
       "      <th>AV16khLE-jtxr-f38VFn</th>\n",
       "      <th>AV1YGDqsGV-KLJ3adc-O</th>\n",
       "      <th>AV1YIch7GV-KLJ3addeG</th>\n",
       "      <th>AV1YlENIglJLPUi8IHsX</th>\n",
       "      <th>AV1YmBrdGV-KLJ3adewb</th>\n",
       "      <th>AV1YmDL9vKc47QAVgr7_</th>\n",
       "      <th>AV1Ymf_rglJLPUi8II2v</th>\n",
       "      <th>AV1Yn94nvKc47QAVgtst</th>\n",
       "      <th>...</th>\n",
       "      <th>AVpfr5cb1cnluZ0-pZFp</th>\n",
       "      <th>AVpfrFDZLJeJML43Bmv0</th>\n",
       "      <th>AVpfrTyiLJeJML43BrSI</th>\n",
       "      <th>AVpfrfHF1cnluZ0-pRai</th>\n",
       "      <th>AVpfrgjFLJeJML43BvCc</th>\n",
       "      <th>AVpfshNsLJeJML43CB8q</th>\n",
       "      <th>AVpfthSailAPnD_xg3ON</th>\n",
       "      <th>AVpftikC1cnluZ0-p31V</th>\n",
       "      <th>AVpfv4TlilAPnD_xhjNS</th>\n",
       "      <th>AVpfvieo1cnluZ0-qdnu</th>\n",
       "    </tr>\n",
       "    <tr>\n",
       "      <th>user</th>\n",
       "      <th></th>\n",
       "      <th></th>\n",
       "      <th></th>\n",
       "      <th></th>\n",
       "      <th></th>\n",
       "      <th></th>\n",
       "      <th></th>\n",
       "      <th></th>\n",
       "      <th></th>\n",
       "      <th></th>\n",
       "      <th></th>\n",
       "      <th></th>\n",
       "      <th></th>\n",
       "      <th></th>\n",
       "      <th></th>\n",
       "      <th></th>\n",
       "      <th></th>\n",
       "      <th></th>\n",
       "      <th></th>\n",
       "      <th></th>\n",
       "      <th></th>\n",
       "    </tr>\n",
       "  </thead>\n",
       "  <tbody>\n",
       "    <tr>\n",
       "      <th>00sab00</th>\n",
       "      <td>0.0</td>\n",
       "      <td>0.0</td>\n",
       "      <td>0.0</td>\n",
       "      <td>6.059436</td>\n",
       "      <td>0.0</td>\n",
       "      <td>0.0</td>\n",
       "      <td>0.0</td>\n",
       "      <td>0.915079</td>\n",
       "      <td>0.0</td>\n",
       "      <td>0.0</td>\n",
       "      <td>...</td>\n",
       "      <td>0.545545</td>\n",
       "      <td>0.0</td>\n",
       "      <td>0.0</td>\n",
       "      <td>0.0</td>\n",
       "      <td>0.0</td>\n",
       "      <td>0.0</td>\n",
       "      <td>0.0</td>\n",
       "      <td>1.558295</td>\n",
       "      <td>3.202563</td>\n",
       "      <td>0.0</td>\n",
       "    </tr>\n",
       "    <tr>\n",
       "      <th>01impala</th>\n",
       "      <td>0.0</td>\n",
       "      <td>0.0</td>\n",
       "      <td>0.0</td>\n",
       "      <td>0.000000</td>\n",
       "      <td>0.0</td>\n",
       "      <td>0.0</td>\n",
       "      <td>0.0</td>\n",
       "      <td>0.000000</td>\n",
       "      <td>0.0</td>\n",
       "      <td>0.0</td>\n",
       "      <td>...</td>\n",
       "      <td>0.000000</td>\n",
       "      <td>0.0</td>\n",
       "      <td>0.0</td>\n",
       "      <td>0.0</td>\n",
       "      <td>0.0</td>\n",
       "      <td>0.0</td>\n",
       "      <td>0.0</td>\n",
       "      <td>0.000000</td>\n",
       "      <td>0.000000</td>\n",
       "      <td>0.0</td>\n",
       "    </tr>\n",
       "    <tr>\n",
       "      <th>02dakota</th>\n",
       "      <td>0.0</td>\n",
       "      <td>0.0</td>\n",
       "      <td>0.0</td>\n",
       "      <td>0.000000</td>\n",
       "      <td>0.0</td>\n",
       "      <td>0.0</td>\n",
       "      <td>0.0</td>\n",
       "      <td>0.000000</td>\n",
       "      <td>0.0</td>\n",
       "      <td>0.0</td>\n",
       "      <td>...</td>\n",
       "      <td>0.000000</td>\n",
       "      <td>0.0</td>\n",
       "      <td>0.0</td>\n",
       "      <td>0.0</td>\n",
       "      <td>0.0</td>\n",
       "      <td>0.0</td>\n",
       "      <td>0.0</td>\n",
       "      <td>0.000000</td>\n",
       "      <td>0.000000</td>\n",
       "      <td>0.0</td>\n",
       "    </tr>\n",
       "    <tr>\n",
       "      <th>02deuce</th>\n",
       "      <td>0.0</td>\n",
       "      <td>0.0</td>\n",
       "      <td>0.0</td>\n",
       "      <td>0.000000</td>\n",
       "      <td>0.0</td>\n",
       "      <td>0.0</td>\n",
       "      <td>0.0</td>\n",
       "      <td>0.000000</td>\n",
       "      <td>0.0</td>\n",
       "      <td>0.0</td>\n",
       "      <td>...</td>\n",
       "      <td>0.000000</td>\n",
       "      <td>0.0</td>\n",
       "      <td>0.0</td>\n",
       "      <td>0.0</td>\n",
       "      <td>0.0</td>\n",
       "      <td>0.0</td>\n",
       "      <td>0.0</td>\n",
       "      <td>0.000000</td>\n",
       "      <td>0.000000</td>\n",
       "      <td>0.0</td>\n",
       "    </tr>\n",
       "    <tr>\n",
       "      <th>06stidriver</th>\n",
       "      <td>0.0</td>\n",
       "      <td>0.0</td>\n",
       "      <td>0.0</td>\n",
       "      <td>0.000000</td>\n",
       "      <td>0.0</td>\n",
       "      <td>0.0</td>\n",
       "      <td>0.0</td>\n",
       "      <td>0.000000</td>\n",
       "      <td>0.0</td>\n",
       "      <td>0.0</td>\n",
       "      <td>...</td>\n",
       "      <td>0.000000</td>\n",
       "      <td>0.0</td>\n",
       "      <td>0.0</td>\n",
       "      <td>0.0</td>\n",
       "      <td>0.0</td>\n",
       "      <td>0.0</td>\n",
       "      <td>0.0</td>\n",
       "      <td>0.000000</td>\n",
       "      <td>0.000000</td>\n",
       "      <td>0.0</td>\n",
       "    </tr>\n",
       "    <tr>\n",
       "      <th>08dallas</th>\n",
       "      <td>0.0</td>\n",
       "      <td>0.0</td>\n",
       "      <td>0.0</td>\n",
       "      <td>0.000000</td>\n",
       "      <td>0.0</td>\n",
       "      <td>0.0</td>\n",
       "      <td>0.0</td>\n",
       "      <td>0.000000</td>\n",
       "      <td>0.0</td>\n",
       "      <td>0.0</td>\n",
       "      <td>...</td>\n",
       "      <td>0.000000</td>\n",
       "      <td>0.0</td>\n",
       "      <td>0.0</td>\n",
       "      <td>0.0</td>\n",
       "      <td>0.0</td>\n",
       "      <td>0.0</td>\n",
       "      <td>0.0</td>\n",
       "      <td>0.000000</td>\n",
       "      <td>0.000000</td>\n",
       "      <td>0.0</td>\n",
       "    </tr>\n",
       "    <tr>\n",
       "      <th>09mommy11</th>\n",
       "      <td>0.0</td>\n",
       "      <td>0.0</td>\n",
       "      <td>0.0</td>\n",
       "      <td>0.000000</td>\n",
       "      <td>0.0</td>\n",
       "      <td>0.0</td>\n",
       "      <td>0.0</td>\n",
       "      <td>0.000000</td>\n",
       "      <td>0.0</td>\n",
       "      <td>0.0</td>\n",
       "      <td>...</td>\n",
       "      <td>0.000000</td>\n",
       "      <td>0.0</td>\n",
       "      <td>0.0</td>\n",
       "      <td>0.0</td>\n",
       "      <td>0.0</td>\n",
       "      <td>0.0</td>\n",
       "      <td>0.0</td>\n",
       "      <td>0.000000</td>\n",
       "      <td>0.000000</td>\n",
       "      <td>0.0</td>\n",
       "    </tr>\n",
       "  </tbody>\n",
       "</table>\n",
       "<p>7 rows × 255 columns</p>\n",
       "</div>"
      ],
      "text/plain": [
       "productId    AV13O1A8GV-KLJ3akUyj  AV14LG0R-jtxr-f38QfS  AV16khLE-jtxr-f38VFn  \\\n",
       "user                                                                            \n",
       "00sab00                       0.0                   0.0                   0.0   \n",
       "01impala                      0.0                   0.0                   0.0   \n",
       "02dakota                      0.0                   0.0                   0.0   \n",
       "02deuce                       0.0                   0.0                   0.0   \n",
       "06stidriver                   0.0                   0.0                   0.0   \n",
       "08dallas                      0.0                   0.0                   0.0   \n",
       "09mommy11                     0.0                   0.0                   0.0   \n",
       "\n",
       "productId    AV1YGDqsGV-KLJ3adc-O  AV1YIch7GV-KLJ3addeG  AV1YlENIglJLPUi8IHsX  \\\n",
       "user                                                                            \n",
       "00sab00                  6.059436                   0.0                   0.0   \n",
       "01impala                 0.000000                   0.0                   0.0   \n",
       "02dakota                 0.000000                   0.0                   0.0   \n",
       "02deuce                  0.000000                   0.0                   0.0   \n",
       "06stidriver              0.000000                   0.0                   0.0   \n",
       "08dallas                 0.000000                   0.0                   0.0   \n",
       "09mommy11                0.000000                   0.0                   0.0   \n",
       "\n",
       "productId    AV1YmBrdGV-KLJ3adewb  AV1YmDL9vKc47QAVgr7_  AV1Ymf_rglJLPUi8II2v  \\\n",
       "user                                                                            \n",
       "00sab00                       0.0              0.915079                   0.0   \n",
       "01impala                      0.0              0.000000                   0.0   \n",
       "02dakota                      0.0              0.000000                   0.0   \n",
       "02deuce                       0.0              0.000000                   0.0   \n",
       "06stidriver                   0.0              0.000000                   0.0   \n",
       "08dallas                      0.0              0.000000                   0.0   \n",
       "09mommy11                     0.0              0.000000                   0.0   \n",
       "\n",
       "productId    AV1Yn94nvKc47QAVgtst  ...  AVpfr5cb1cnluZ0-pZFp  \\\n",
       "user                               ...                         \n",
       "00sab00                       0.0  ...              0.545545   \n",
       "01impala                      0.0  ...              0.000000   \n",
       "02dakota                      0.0  ...              0.000000   \n",
       "02deuce                       0.0  ...              0.000000   \n",
       "06stidriver                   0.0  ...              0.000000   \n",
       "08dallas                      0.0  ...              0.000000   \n",
       "09mommy11                     0.0  ...              0.000000   \n",
       "\n",
       "productId    AVpfrFDZLJeJML43Bmv0  AVpfrTyiLJeJML43BrSI  AVpfrfHF1cnluZ0-pRai  \\\n",
       "user                                                                            \n",
       "00sab00                       0.0                   0.0                   0.0   \n",
       "01impala                      0.0                   0.0                   0.0   \n",
       "02dakota                      0.0                   0.0                   0.0   \n",
       "02deuce                       0.0                   0.0                   0.0   \n",
       "06stidriver                   0.0                   0.0                   0.0   \n",
       "08dallas                      0.0                   0.0                   0.0   \n",
       "09mommy11                     0.0                   0.0                   0.0   \n",
       "\n",
       "productId    AVpfrgjFLJeJML43BvCc  AVpfshNsLJeJML43CB8q  AVpfthSailAPnD_xg3ON  \\\n",
       "user                                                                            \n",
       "00sab00                       0.0                   0.0                   0.0   \n",
       "01impala                      0.0                   0.0                   0.0   \n",
       "02dakota                      0.0                   0.0                   0.0   \n",
       "02deuce                       0.0                   0.0                   0.0   \n",
       "06stidriver                   0.0                   0.0                   0.0   \n",
       "08dallas                      0.0                   0.0                   0.0   \n",
       "09mommy11                     0.0                   0.0                   0.0   \n",
       "\n",
       "productId    AVpftikC1cnluZ0-p31V  AVpfv4TlilAPnD_xhjNS  AVpfvieo1cnluZ0-qdnu  \n",
       "user                                                                           \n",
       "00sab00                  1.558295              3.202563                   0.0  \n",
       "01impala                 0.000000              0.000000                   0.0  \n",
       "02dakota                 0.000000              0.000000                   0.0  \n",
       "02deuce                  0.000000              0.000000                   0.0  \n",
       "06stidriver              0.000000              0.000000                   0.0  \n",
       "08dallas                 0.000000              0.000000                   0.0  \n",
       "09mommy11                0.000000              0.000000                   0.0  \n",
       "\n",
       "[7 rows x 255 columns]"
      ]
     },
     "execution_count": 96,
     "metadata": {},
     "output_type": "execute_result"
    }
   ],
   "source": [
    "user_final_rating.head(7)"
   ]
  },
  {
   "cell_type": "code",
   "execution_count": 97,
   "metadata": {
    "colab": {
     "base_uri": "https://localhost:8080/"
    },
    "id": "TI0azebDkBYb",
    "outputId": "77e7cd11-5fee-4de2-d127-464ffffe7344"
   },
   "outputs": [
    {
     "data": {
      "text/plain": [
       "productId\n",
       "AV13O1A8GV-KLJ3akUyj    0.0\n",
       "AVpfP-rELJeJML435jEN    0.0\n",
       "AVpfLnfPLJeJML434HpK    0.0\n",
       "AVpfM_ytilAPnD_xXIJb    0.0\n",
       "AVpfMpZ51cnluZ0-f_L9    0.0\n",
       "AVpfN6Z71cnluZ0-gZmO    0.0\n",
       "AVpfNVsj1cnluZ0-gNQN    0.0\n",
       "AVpfNWbPilAPnD_xXPR7    0.0\n",
       "AVpfNc9cLJeJML434tza    0.0\n",
       "AVpfNfEMLJeJML434uf-    0.0\n",
       "AVpfNglu1cnluZ0-gQ7x    0.0\n",
       "AVpfO5u71cnluZ0-guiN    0.0\n",
       "AVpfOIrkilAPnD_xXgDG    0.0\n",
       "AVpfOfIqLJeJML435D06    0.0\n",
       "AVpfOmKwLJeJML435GM7    0.0\n",
       "AVpfPKzxLJeJML435SYL    0.0\n",
       "AVpfKhuv1cnluZ0-fSVr    0.0\n",
       "AVpfPPkEilAPnD_xX3cP    0.0\n",
       "AVpfPaoqLJeJML435Xk9    0.0\n",
       "AVpfPjqKLJeJML435aZR    0.0\n",
       "Name: zyiah4, dtype: float64"
      ]
     },
     "execution_count": 97,
     "metadata": {},
     "output_type": "execute_result"
    }
   ],
   "source": [
    "d = user_final_rating.loc[user_input].sort_values(ascending=False)[0:20]\n",
    "d"
   ]
  },
  {
   "cell_type": "markdown",
   "metadata": {
    "id": "CoQwCMczkJPy"
   },
   "source": [
    "## Evaluation - User User "
   ]
  },
  {
   "cell_type": "markdown",
   "metadata": {
    "id": "qECcZ7r3kN7s"
   },
   "source": [
    "### Item Based Similarity"
   ]
  },
  {
   "cell_type": "markdown",
   "metadata": {
    "id": "lhslJx_XkR7_"
   },
   "source": [
    "Taking the transpose of the rating matrix to normalize the rating around the mean for different products ID. In the user based similarity, we had taken mean for each user instead of each products. "
   ]
  },
  {
   "cell_type": "code",
   "execution_count": 98,
   "metadata": {
    "colab": {
     "base_uri": "https://localhost:8080/",
     "height": 364
    },
    "id": "nyI92h37kE3c",
    "outputId": "5dd7ef78-3a74-4cab-bf86-490dba90cfad"
   },
   "outputs": [
    {
     "data": {
      "text/html": [
       "<div>\n",
       "<style scoped>\n",
       "    .dataframe tbody tr th:only-of-type {\n",
       "        vertical-align: middle;\n",
       "    }\n",
       "\n",
       "    .dataframe tbody tr th {\n",
       "        vertical-align: top;\n",
       "    }\n",
       "\n",
       "    .dataframe thead th {\n",
       "        text-align: right;\n",
       "    }\n",
       "</style>\n",
       "<table border=\"1\" class=\"dataframe\">\n",
       "  <thead>\n",
       "    <tr style=\"text-align: right;\">\n",
       "      <th>user</th>\n",
       "      <th>00sab00</th>\n",
       "      <th>01impala</th>\n",
       "      <th>02dakota</th>\n",
       "      <th>02deuce</th>\n",
       "      <th>06stidriver</th>\n",
       "      <th>08dallas</th>\n",
       "      <th>09mommy11</th>\n",
       "      <th>1.11E+24</th>\n",
       "      <th>1085</th>\n",
       "      <th>10ten</th>\n",
       "      <th>...</th>\n",
       "      <th>zowie</th>\n",
       "      <th>zozo0o</th>\n",
       "      <th>zpalma</th>\n",
       "      <th>zsazsa</th>\n",
       "      <th>zt313</th>\n",
       "      <th>zuttle</th>\n",
       "      <th>zwithanx</th>\n",
       "      <th>zxcsdfd</th>\n",
       "      <th>zyiah4</th>\n",
       "      <th>zzz1127</th>\n",
       "    </tr>\n",
       "    <tr>\n",
       "      <th>productId</th>\n",
       "      <th></th>\n",
       "      <th></th>\n",
       "      <th></th>\n",
       "      <th></th>\n",
       "      <th></th>\n",
       "      <th></th>\n",
       "      <th></th>\n",
       "      <th></th>\n",
       "      <th></th>\n",
       "      <th></th>\n",
       "      <th></th>\n",
       "      <th></th>\n",
       "      <th></th>\n",
       "      <th></th>\n",
       "      <th></th>\n",
       "      <th></th>\n",
       "      <th></th>\n",
       "      <th></th>\n",
       "      <th></th>\n",
       "      <th></th>\n",
       "      <th></th>\n",
       "    </tr>\n",
       "  </thead>\n",
       "  <tbody>\n",
       "    <tr>\n",
       "      <th>AV13O1A8GV-KLJ3akUyj</th>\n",
       "      <td>NaN</td>\n",
       "      <td>NaN</td>\n",
       "      <td>NaN</td>\n",
       "      <td>NaN</td>\n",
       "      <td>NaN</td>\n",
       "      <td>NaN</td>\n",
       "      <td>NaN</td>\n",
       "      <td>NaN</td>\n",
       "      <td>NaN</td>\n",
       "      <td>NaN</td>\n",
       "      <td>...</td>\n",
       "      <td>NaN</td>\n",
       "      <td>NaN</td>\n",
       "      <td>NaN</td>\n",
       "      <td>NaN</td>\n",
       "      <td>NaN</td>\n",
       "      <td>NaN</td>\n",
       "      <td>NaN</td>\n",
       "      <td>NaN</td>\n",
       "      <td>NaN</td>\n",
       "      <td>NaN</td>\n",
       "    </tr>\n",
       "    <tr>\n",
       "      <th>AV14LG0R-jtxr-f38QfS</th>\n",
       "      <td>NaN</td>\n",
       "      <td>NaN</td>\n",
       "      <td>NaN</td>\n",
       "      <td>NaN</td>\n",
       "      <td>NaN</td>\n",
       "      <td>NaN</td>\n",
       "      <td>NaN</td>\n",
       "      <td>NaN</td>\n",
       "      <td>NaN</td>\n",
       "      <td>NaN</td>\n",
       "      <td>...</td>\n",
       "      <td>NaN</td>\n",
       "      <td>NaN</td>\n",
       "      <td>NaN</td>\n",
       "      <td>NaN</td>\n",
       "      <td>NaN</td>\n",
       "      <td>NaN</td>\n",
       "      <td>NaN</td>\n",
       "      <td>NaN</td>\n",
       "      <td>NaN</td>\n",
       "      <td>NaN</td>\n",
       "    </tr>\n",
       "    <tr>\n",
       "      <th>AV16khLE-jtxr-f38VFn</th>\n",
       "      <td>NaN</td>\n",
       "      <td>NaN</td>\n",
       "      <td>NaN</td>\n",
       "      <td>NaN</td>\n",
       "      <td>NaN</td>\n",
       "      <td>NaN</td>\n",
       "      <td>NaN</td>\n",
       "      <td>NaN</td>\n",
       "      <td>NaN</td>\n",
       "      <td>NaN</td>\n",
       "      <td>...</td>\n",
       "      <td>NaN</td>\n",
       "      <td>NaN</td>\n",
       "      <td>NaN</td>\n",
       "      <td>NaN</td>\n",
       "      <td>NaN</td>\n",
       "      <td>NaN</td>\n",
       "      <td>NaN</td>\n",
       "      <td>NaN</td>\n",
       "      <td>NaN</td>\n",
       "      <td>NaN</td>\n",
       "    </tr>\n",
       "    <tr>\n",
       "      <th>AV1YGDqsGV-KLJ3adc-O</th>\n",
       "      <td>NaN</td>\n",
       "      <td>NaN</td>\n",
       "      <td>NaN</td>\n",
       "      <td>NaN</td>\n",
       "      <td>NaN</td>\n",
       "      <td>NaN</td>\n",
       "      <td>NaN</td>\n",
       "      <td>NaN</td>\n",
       "      <td>NaN</td>\n",
       "      <td>NaN</td>\n",
       "      <td>...</td>\n",
       "      <td>NaN</td>\n",
       "      <td>NaN</td>\n",
       "      <td>NaN</td>\n",
       "      <td>NaN</td>\n",
       "      <td>NaN</td>\n",
       "      <td>NaN</td>\n",
       "      <td>NaN</td>\n",
       "      <td>NaN</td>\n",
       "      <td>NaN</td>\n",
       "      <td>NaN</td>\n",
       "    </tr>\n",
       "    <tr>\n",
       "      <th>AV1YIch7GV-KLJ3addeG</th>\n",
       "      <td>NaN</td>\n",
       "      <td>NaN</td>\n",
       "      <td>NaN</td>\n",
       "      <td>NaN</td>\n",
       "      <td>NaN</td>\n",
       "      <td>NaN</td>\n",
       "      <td>NaN</td>\n",
       "      <td>NaN</td>\n",
       "      <td>NaN</td>\n",
       "      <td>NaN</td>\n",
       "      <td>...</td>\n",
       "      <td>NaN</td>\n",
       "      <td>NaN</td>\n",
       "      <td>NaN</td>\n",
       "      <td>NaN</td>\n",
       "      <td>NaN</td>\n",
       "      <td>NaN</td>\n",
       "      <td>NaN</td>\n",
       "      <td>NaN</td>\n",
       "      <td>NaN</td>\n",
       "      <td>NaN</td>\n",
       "    </tr>\n",
       "  </tbody>\n",
       "</table>\n",
       "<p>5 rows × 18212 columns</p>\n",
       "</div>"
      ],
      "text/plain": [
       "user                  00sab00  01impala  02dakota  02deuce  06stidriver  \\\n",
       "productId                                                                 \n",
       "AV13O1A8GV-KLJ3akUyj      NaN       NaN       NaN      NaN          NaN   \n",
       "AV14LG0R-jtxr-f38QfS      NaN       NaN       NaN      NaN          NaN   \n",
       "AV16khLE-jtxr-f38VFn      NaN       NaN       NaN      NaN          NaN   \n",
       "AV1YGDqsGV-KLJ3adc-O      NaN       NaN       NaN      NaN          NaN   \n",
       "AV1YIch7GV-KLJ3addeG      NaN       NaN       NaN      NaN          NaN   \n",
       "\n",
       "user                  08dallas  09mommy11  1.11E+24  1085  10ten  ...  zowie  \\\n",
       "productId                                                         ...          \n",
       "AV13O1A8GV-KLJ3akUyj       NaN        NaN       NaN   NaN    NaN  ...    NaN   \n",
       "AV14LG0R-jtxr-f38QfS       NaN        NaN       NaN   NaN    NaN  ...    NaN   \n",
       "AV16khLE-jtxr-f38VFn       NaN        NaN       NaN   NaN    NaN  ...    NaN   \n",
       "AV1YGDqsGV-KLJ3adc-O       NaN        NaN       NaN   NaN    NaN  ...    NaN   \n",
       "AV1YIch7GV-KLJ3addeG       NaN        NaN       NaN   NaN    NaN  ...    NaN   \n",
       "\n",
       "user                  zozo0o  zpalma  zsazsa  zt313  zuttle  zwithanx  \\\n",
       "productId                                                               \n",
       "AV13O1A8GV-KLJ3akUyj     NaN     NaN     NaN    NaN     NaN       NaN   \n",
       "AV14LG0R-jtxr-f38QfS     NaN     NaN     NaN    NaN     NaN       NaN   \n",
       "AV16khLE-jtxr-f38VFn     NaN     NaN     NaN    NaN     NaN       NaN   \n",
       "AV1YGDqsGV-KLJ3adc-O     NaN     NaN     NaN    NaN     NaN       NaN   \n",
       "AV1YIch7GV-KLJ3addeG     NaN     NaN     NaN    NaN     NaN       NaN   \n",
       "\n",
       "user                  zxcsdfd  zyiah4  zzz1127  \n",
       "productId                                       \n",
       "AV13O1A8GV-KLJ3akUyj      NaN     NaN      NaN  \n",
       "AV14LG0R-jtxr-f38QfS      NaN     NaN      NaN  \n",
       "AV16khLE-jtxr-f38VFn      NaN     NaN      NaN  \n",
       "AV1YGDqsGV-KLJ3adc-O      NaN     NaN      NaN  \n",
       "AV1YIch7GV-KLJ3addeG      NaN     NaN      NaN  \n",
       "\n",
       "[5 rows x 18212 columns]"
      ]
     },
     "execution_count": 98,
     "metadata": {},
     "output_type": "execute_result"
    }
   ],
   "source": [
    "df_pivot = train.pivot_table(\n",
    "    index='user',\n",
    "    columns='productId',\n",
    "    values='rating'\n",
    ").T\n",
    "\n",
    "df_pivot.head()"
   ]
  },
  {
   "cell_type": "markdown",
   "metadata": {
    "id": "0Swyra54kXvg"
   },
   "source": [
    "Normalising the products rating for each products for using the Adujsted Cosine"
   ]
  },
  {
   "cell_type": "code",
   "execution_count": 99,
   "metadata": {
    "colab": {
     "base_uri": "https://localhost:8080/",
     "height": 364
    },
    "id": "sbYzBAGrkUkM",
    "outputId": "0fbceb53-e960-4a6a-adba-dd125ff73cee"
   },
   "outputs": [
    {
     "data": {
      "text/html": [
       "<div>\n",
       "<style scoped>\n",
       "    .dataframe tbody tr th:only-of-type {\n",
       "        vertical-align: middle;\n",
       "    }\n",
       "\n",
       "    .dataframe tbody tr th {\n",
       "        vertical-align: top;\n",
       "    }\n",
       "\n",
       "    .dataframe thead th {\n",
       "        text-align: right;\n",
       "    }\n",
       "</style>\n",
       "<table border=\"1\" class=\"dataframe\">\n",
       "  <thead>\n",
       "    <tr style=\"text-align: right;\">\n",
       "      <th>user</th>\n",
       "      <th>00sab00</th>\n",
       "      <th>01impala</th>\n",
       "      <th>02dakota</th>\n",
       "      <th>02deuce</th>\n",
       "      <th>06stidriver</th>\n",
       "      <th>08dallas</th>\n",
       "      <th>09mommy11</th>\n",
       "      <th>1.11E+24</th>\n",
       "      <th>1085</th>\n",
       "      <th>10ten</th>\n",
       "      <th>...</th>\n",
       "      <th>zowie</th>\n",
       "      <th>zozo0o</th>\n",
       "      <th>zpalma</th>\n",
       "      <th>zsazsa</th>\n",
       "      <th>zt313</th>\n",
       "      <th>zuttle</th>\n",
       "      <th>zwithanx</th>\n",
       "      <th>zxcsdfd</th>\n",
       "      <th>zyiah4</th>\n",
       "      <th>zzz1127</th>\n",
       "    </tr>\n",
       "    <tr>\n",
       "      <th>productId</th>\n",
       "      <th></th>\n",
       "      <th></th>\n",
       "      <th></th>\n",
       "      <th></th>\n",
       "      <th></th>\n",
       "      <th></th>\n",
       "      <th></th>\n",
       "      <th></th>\n",
       "      <th></th>\n",
       "      <th></th>\n",
       "      <th></th>\n",
       "      <th></th>\n",
       "      <th></th>\n",
       "      <th></th>\n",
       "      <th></th>\n",
       "      <th></th>\n",
       "      <th></th>\n",
       "      <th></th>\n",
       "      <th></th>\n",
       "      <th></th>\n",
       "      <th></th>\n",
       "    </tr>\n",
       "  </thead>\n",
       "  <tbody>\n",
       "    <tr>\n",
       "      <th>AV13O1A8GV-KLJ3akUyj</th>\n",
       "      <td>NaN</td>\n",
       "      <td>NaN</td>\n",
       "      <td>NaN</td>\n",
       "      <td>NaN</td>\n",
       "      <td>NaN</td>\n",
       "      <td>NaN</td>\n",
       "      <td>NaN</td>\n",
       "      <td>NaN</td>\n",
       "      <td>NaN</td>\n",
       "      <td>NaN</td>\n",
       "      <td>...</td>\n",
       "      <td>NaN</td>\n",
       "      <td>NaN</td>\n",
       "      <td>NaN</td>\n",
       "      <td>NaN</td>\n",
       "      <td>NaN</td>\n",
       "      <td>NaN</td>\n",
       "      <td>NaN</td>\n",
       "      <td>NaN</td>\n",
       "      <td>NaN</td>\n",
       "      <td>NaN</td>\n",
       "    </tr>\n",
       "    <tr>\n",
       "      <th>AV14LG0R-jtxr-f38QfS</th>\n",
       "      <td>NaN</td>\n",
       "      <td>NaN</td>\n",
       "      <td>NaN</td>\n",
       "      <td>NaN</td>\n",
       "      <td>NaN</td>\n",
       "      <td>NaN</td>\n",
       "      <td>NaN</td>\n",
       "      <td>NaN</td>\n",
       "      <td>NaN</td>\n",
       "      <td>NaN</td>\n",
       "      <td>...</td>\n",
       "      <td>NaN</td>\n",
       "      <td>NaN</td>\n",
       "      <td>NaN</td>\n",
       "      <td>NaN</td>\n",
       "      <td>NaN</td>\n",
       "      <td>NaN</td>\n",
       "      <td>NaN</td>\n",
       "      <td>NaN</td>\n",
       "      <td>NaN</td>\n",
       "      <td>NaN</td>\n",
       "    </tr>\n",
       "    <tr>\n",
       "      <th>AV16khLE-jtxr-f38VFn</th>\n",
       "      <td>NaN</td>\n",
       "      <td>NaN</td>\n",
       "      <td>NaN</td>\n",
       "      <td>NaN</td>\n",
       "      <td>NaN</td>\n",
       "      <td>NaN</td>\n",
       "      <td>NaN</td>\n",
       "      <td>NaN</td>\n",
       "      <td>NaN</td>\n",
       "      <td>NaN</td>\n",
       "      <td>...</td>\n",
       "      <td>NaN</td>\n",
       "      <td>NaN</td>\n",
       "      <td>NaN</td>\n",
       "      <td>NaN</td>\n",
       "      <td>NaN</td>\n",
       "      <td>NaN</td>\n",
       "      <td>NaN</td>\n",
       "      <td>NaN</td>\n",
       "      <td>NaN</td>\n",
       "      <td>NaN</td>\n",
       "    </tr>\n",
       "    <tr>\n",
       "      <th>AV1YGDqsGV-KLJ3adc-O</th>\n",
       "      <td>NaN</td>\n",
       "      <td>NaN</td>\n",
       "      <td>NaN</td>\n",
       "      <td>NaN</td>\n",
       "      <td>NaN</td>\n",
       "      <td>NaN</td>\n",
       "      <td>NaN</td>\n",
       "      <td>NaN</td>\n",
       "      <td>NaN</td>\n",
       "      <td>NaN</td>\n",
       "      <td>...</td>\n",
       "      <td>NaN</td>\n",
       "      <td>NaN</td>\n",
       "      <td>NaN</td>\n",
       "      <td>NaN</td>\n",
       "      <td>NaN</td>\n",
       "      <td>NaN</td>\n",
       "      <td>NaN</td>\n",
       "      <td>NaN</td>\n",
       "      <td>NaN</td>\n",
       "      <td>NaN</td>\n",
       "    </tr>\n",
       "    <tr>\n",
       "      <th>AV1YIch7GV-KLJ3addeG</th>\n",
       "      <td>NaN</td>\n",
       "      <td>NaN</td>\n",
       "      <td>NaN</td>\n",
       "      <td>NaN</td>\n",
       "      <td>NaN</td>\n",
       "      <td>NaN</td>\n",
       "      <td>NaN</td>\n",
       "      <td>NaN</td>\n",
       "      <td>NaN</td>\n",
       "      <td>NaN</td>\n",
       "      <td>...</td>\n",
       "      <td>NaN</td>\n",
       "      <td>NaN</td>\n",
       "      <td>NaN</td>\n",
       "      <td>NaN</td>\n",
       "      <td>NaN</td>\n",
       "      <td>NaN</td>\n",
       "      <td>NaN</td>\n",
       "      <td>NaN</td>\n",
       "      <td>NaN</td>\n",
       "      <td>NaN</td>\n",
       "    </tr>\n",
       "  </tbody>\n",
       "</table>\n",
       "<p>5 rows × 18212 columns</p>\n",
       "</div>"
      ],
      "text/plain": [
       "user                  00sab00  01impala  02dakota  02deuce  06stidriver  \\\n",
       "productId                                                                 \n",
       "AV13O1A8GV-KLJ3akUyj      NaN       NaN       NaN      NaN          NaN   \n",
       "AV14LG0R-jtxr-f38QfS      NaN       NaN       NaN      NaN          NaN   \n",
       "AV16khLE-jtxr-f38VFn      NaN       NaN       NaN      NaN          NaN   \n",
       "AV1YGDqsGV-KLJ3adc-O      NaN       NaN       NaN      NaN          NaN   \n",
       "AV1YIch7GV-KLJ3addeG      NaN       NaN       NaN      NaN          NaN   \n",
       "\n",
       "user                  08dallas  09mommy11  1.11E+24  1085  10ten  ...  zowie  \\\n",
       "productId                                                         ...          \n",
       "AV13O1A8GV-KLJ3akUyj       NaN        NaN       NaN   NaN    NaN  ...    NaN   \n",
       "AV14LG0R-jtxr-f38QfS       NaN        NaN       NaN   NaN    NaN  ...    NaN   \n",
       "AV16khLE-jtxr-f38VFn       NaN        NaN       NaN   NaN    NaN  ...    NaN   \n",
       "AV1YGDqsGV-KLJ3adc-O       NaN        NaN       NaN   NaN    NaN  ...    NaN   \n",
       "AV1YIch7GV-KLJ3addeG       NaN        NaN       NaN   NaN    NaN  ...    NaN   \n",
       "\n",
       "user                  zozo0o  zpalma  zsazsa  zt313  zuttle  zwithanx  \\\n",
       "productId                                                               \n",
       "AV13O1A8GV-KLJ3akUyj     NaN     NaN     NaN    NaN     NaN       NaN   \n",
       "AV14LG0R-jtxr-f38QfS     NaN     NaN     NaN    NaN     NaN       NaN   \n",
       "AV16khLE-jtxr-f38VFn     NaN     NaN     NaN    NaN     NaN       NaN   \n",
       "AV1YGDqsGV-KLJ3adc-O     NaN     NaN     NaN    NaN     NaN       NaN   \n",
       "AV1YIch7GV-KLJ3addeG     NaN     NaN     NaN    NaN     NaN       NaN   \n",
       "\n",
       "user                  zxcsdfd  zyiah4  zzz1127  \n",
       "productId                                       \n",
       "AV13O1A8GV-KLJ3akUyj      NaN     NaN      NaN  \n",
       "AV14LG0R-jtxr-f38QfS      NaN     NaN      NaN  \n",
       "AV16khLE-jtxr-f38VFn      NaN     NaN      NaN  \n",
       "AV1YGDqsGV-KLJ3adc-O      NaN     NaN      NaN  \n",
       "AV1YIch7GV-KLJ3addeG      NaN     NaN      NaN  \n",
       "\n",
       "[5 rows x 18212 columns]"
      ]
     },
     "execution_count": 99,
     "metadata": {},
     "output_type": "execute_result"
    }
   ],
   "source": [
    "mean = np.nanmean(df_pivot, axis=1)\n",
    "df_subtracted = (df_pivot.T-mean).T\n",
    "\n",
    "df_subtracted.head()"
   ]
  },
  {
   "cell_type": "markdown",
   "metadata": {
    "id": "cc8Xr02jkefM"
   },
   "source": [
    "Finding the cosine similarity using pairwise distances approach"
   ]
  },
  {
   "cell_type": "code",
   "execution_count": 100,
   "metadata": {
    "colab": {
     "base_uri": "https://localhost:8080/"
    },
    "id": "cSp3BdnLkhKn",
    "outputId": "da6b68ee-621e-4496-88d7-3fbdab6a145b"
   },
   "outputs": [
    {
     "name": "stdout",
     "output_type": "stream",
     "text": [
      "[[0. 0. 0. ... 0. 0. 0.]\n",
      " [0. 0. 0. ... 0. 0. 0.]\n",
      " [0. 0. 1. ... 0. 0. 0.]\n",
      " ...\n",
      " [0. 0. 0. ... 1. 0. 0.]\n",
      " [0. 0. 0. ... 0. 1. 0.]\n",
      " [0. 0. 0. ... 0. 0. 1.]]\n",
      "(255, 255)\n"
     ]
    }
   ],
   "source": [
    "from sklearn.metrics.pairwise import pairwise_distances\n",
    "\n",
    "# Item Similarity Matrix\n",
    "item_correlation = 1 - pairwise_distances(df_subtracted.fillna(0), metric='cosine')\n",
    "item_correlation[np.isnan(item_correlation)] = 0\n",
    "print(item_correlation)\n",
    "print(item_correlation.shape)"
   ]
  },
  {
   "cell_type": "markdown",
   "metadata": {
    "id": "f8zfl2FAksQ1"
   },
   "source": [
    "Filtering the correlation only for which the value is greater than 0. (Positively correlated)"
   ]
  },
  {
   "cell_type": "code",
   "execution_count": 101,
   "metadata": {
    "colab": {
     "base_uri": "https://localhost:8080/"
    },
    "id": "YB8aLyuIkwGh",
    "outputId": "ea045262-bacd-4a37-a50d-ca8ccb89a3a5"
   },
   "outputs": [
    {
     "data": {
      "text/plain": [
       "array([[0., 0., 0., ..., 0., 0., 0.],\n",
       "       [0., 0., 0., ..., 0., 0., 0.],\n",
       "       [0., 0., 1., ..., 0., 0., 0.],\n",
       "       ...,\n",
       "       [0., 0., 0., ..., 1., 0., 0.],\n",
       "       [0., 0., 0., ..., 0., 1., 0.],\n",
       "       [0., 0., 0., ..., 0., 0., 1.]])"
      ]
     },
     "execution_count": 101,
     "metadata": {},
     "output_type": "execute_result"
    }
   ],
   "source": [
    "item_correlation[item_correlation<0]=0\n",
    "item_correlation"
   ]
  },
  {
   "cell_type": "markdown",
   "metadata": {
    "id": "nf931-bKkvf_"
   },
   "source": [
    "## Prediction - Item Item"
   ]
  },
  {
   "cell_type": "code",
   "execution_count": 102,
   "metadata": {
    "colab": {
     "base_uri": "https://localhost:8080/"
    },
    "id": "8yVnWpGAkmeU",
    "outputId": "03561ad5-fa0a-4f60-af0a-84fb9762770e"
   },
   "outputs": [
    {
     "data": {
      "text/plain": [
       "array([[0.        , 0.        , 0.        , ..., 0.00600224, 0.06201728,\n",
       "        0.        ],\n",
       "       [0.        , 0.        , 0.01254045, ..., 0.00108461, 0.        ,\n",
       "        0.        ],\n",
       "       [0.        , 0.        , 0.02090075, ..., 0.00180769, 0.        ,\n",
       "        0.        ],\n",
       "       ...,\n",
       "       [0.        , 0.        , 0.        , ..., 0.        , 0.        ,\n",
       "        0.00644332],\n",
       "       [0.        , 0.        , 0.        , ..., 0.        , 0.        ,\n",
       "        0.00644332],\n",
       "       [0.        , 0.        , 0.        , ..., 0.        , 0.        ,\n",
       "        0.00515466]])"
      ]
     },
     "execution_count": 102,
     "metadata": {},
     "output_type": "execute_result"
    }
   ],
   "source": [
    "item_predicted_ratings = np.dot((df_pivot.fillna(0).T),item_correlation)\n",
    "item_predicted_ratings"
   ]
  },
  {
   "cell_type": "code",
   "execution_count": 103,
   "metadata": {
    "colab": {
     "base_uri": "https://localhost:8080/"
    },
    "id": "TifHRU65k3lU",
    "outputId": "2e3a0b28-5cef-420a-8574-a24874153bac"
   },
   "outputs": [
    {
     "data": {
      "text/plain": [
       "(18212, 255)"
      ]
     },
     "execution_count": 103,
     "metadata": {},
     "output_type": "execute_result"
    }
   ],
   "source": [
    "item_predicted_ratings.shape"
   ]
  },
  {
   "cell_type": "code",
   "execution_count": 104,
   "metadata": {
    "colab": {
     "base_uri": "https://localhost:8080/"
    },
    "id": "2mxgoFD1k5PP",
    "outputId": "0bb7aad3-14f0-445d-a584-c4f97813330f"
   },
   "outputs": [
    {
     "data": {
      "text/plain": [
       "(18212, 255)"
      ]
     },
     "execution_count": 104,
     "metadata": {},
     "output_type": "execute_result"
    }
   ],
   "source": [
    "dummy_train.shape"
   ]
  },
  {
   "cell_type": "markdown",
   "metadata": {
    "id": "CoB-UUYsk9bV"
   },
   "source": [
    "### Filtering the rating only for the products not rated by the user for recommendation"
   ]
  },
  {
   "cell_type": "code",
   "execution_count": 105,
   "metadata": {
    "colab": {
     "base_uri": "https://localhost:8080/",
     "height": 314
    },
    "id": "MEgLDpIEk7Fd",
    "outputId": "747ca20f-efea-4c04-95c5-fd0ea9b86811"
   },
   "outputs": [
    {
     "data": {
      "text/html": [
       "<div>\n",
       "<style scoped>\n",
       "    .dataframe tbody tr th:only-of-type {\n",
       "        vertical-align: middle;\n",
       "    }\n",
       "\n",
       "    .dataframe tbody tr th {\n",
       "        vertical-align: top;\n",
       "    }\n",
       "\n",
       "    .dataframe thead th {\n",
       "        text-align: right;\n",
       "    }\n",
       "</style>\n",
       "<table border=\"1\" class=\"dataframe\">\n",
       "  <thead>\n",
       "    <tr style=\"text-align: right;\">\n",
       "      <th>productId</th>\n",
       "      <th>AV13O1A8GV-KLJ3akUyj</th>\n",
       "      <th>AV14LG0R-jtxr-f38QfS</th>\n",
       "      <th>AV16khLE-jtxr-f38VFn</th>\n",
       "      <th>AV1YGDqsGV-KLJ3adc-O</th>\n",
       "      <th>AV1YIch7GV-KLJ3addeG</th>\n",
       "      <th>AV1YlENIglJLPUi8IHsX</th>\n",
       "      <th>AV1YmBrdGV-KLJ3adewb</th>\n",
       "      <th>AV1YmDL9vKc47QAVgr7_</th>\n",
       "      <th>AV1Ymf_rglJLPUi8II2v</th>\n",
       "      <th>AV1Yn94nvKc47QAVgtst</th>\n",
       "      <th>...</th>\n",
       "      <th>AVpfr5cb1cnluZ0-pZFp</th>\n",
       "      <th>AVpfrFDZLJeJML43Bmv0</th>\n",
       "      <th>AVpfrTyiLJeJML43BrSI</th>\n",
       "      <th>AVpfrfHF1cnluZ0-pRai</th>\n",
       "      <th>AVpfrgjFLJeJML43BvCc</th>\n",
       "      <th>AVpfshNsLJeJML43CB8q</th>\n",
       "      <th>AVpfthSailAPnD_xg3ON</th>\n",
       "      <th>AVpftikC1cnluZ0-p31V</th>\n",
       "      <th>AVpfv4TlilAPnD_xhjNS</th>\n",
       "      <th>AVpfvieo1cnluZ0-qdnu</th>\n",
       "    </tr>\n",
       "    <tr>\n",
       "      <th>user</th>\n",
       "      <th></th>\n",
       "      <th></th>\n",
       "      <th></th>\n",
       "      <th></th>\n",
       "      <th></th>\n",
       "      <th></th>\n",
       "      <th></th>\n",
       "      <th></th>\n",
       "      <th></th>\n",
       "      <th></th>\n",
       "      <th></th>\n",
       "      <th></th>\n",
       "      <th></th>\n",
       "      <th></th>\n",
       "      <th></th>\n",
       "      <th></th>\n",
       "      <th></th>\n",
       "      <th></th>\n",
       "      <th></th>\n",
       "      <th></th>\n",
       "      <th></th>\n",
       "    </tr>\n",
       "  </thead>\n",
       "  <tbody>\n",
       "    <tr>\n",
       "      <th>00sab00</th>\n",
       "      <td>0.0</td>\n",
       "      <td>0.0</td>\n",
       "      <td>0.000000</td>\n",
       "      <td>0.000000</td>\n",
       "      <td>0.0</td>\n",
       "      <td>0.0</td>\n",
       "      <td>0.0</td>\n",
       "      <td>0.000000</td>\n",
       "      <td>0.000000</td>\n",
       "      <td>0.000000</td>\n",
       "      <td>...</td>\n",
       "      <td>0.011345</td>\n",
       "      <td>0.001677</td>\n",
       "      <td>0.0</td>\n",
       "      <td>0.010336</td>\n",
       "      <td>0.0</td>\n",
       "      <td>0.0</td>\n",
       "      <td>0.033075</td>\n",
       "      <td>0.006002</td>\n",
       "      <td>0.062017</td>\n",
       "      <td>0.000000</td>\n",
       "    </tr>\n",
       "    <tr>\n",
       "      <th>01impala</th>\n",
       "      <td>0.0</td>\n",
       "      <td>0.0</td>\n",
       "      <td>0.012540</td>\n",
       "      <td>0.000000</td>\n",
       "      <td>0.0</td>\n",
       "      <td>0.0</td>\n",
       "      <td>0.0</td>\n",
       "      <td>0.000000</td>\n",
       "      <td>0.000000</td>\n",
       "      <td>0.004564</td>\n",
       "      <td>...</td>\n",
       "      <td>0.000000</td>\n",
       "      <td>0.000000</td>\n",
       "      <td>0.0</td>\n",
       "      <td>0.000000</td>\n",
       "      <td>0.0</td>\n",
       "      <td>0.0</td>\n",
       "      <td>0.000000</td>\n",
       "      <td>0.001085</td>\n",
       "      <td>0.000000</td>\n",
       "      <td>0.000000</td>\n",
       "    </tr>\n",
       "    <tr>\n",
       "      <th>02dakota</th>\n",
       "      <td>0.0</td>\n",
       "      <td>0.0</td>\n",
       "      <td>0.020901</td>\n",
       "      <td>0.000000</td>\n",
       "      <td>0.0</td>\n",
       "      <td>0.0</td>\n",
       "      <td>0.0</td>\n",
       "      <td>0.000000</td>\n",
       "      <td>0.000000</td>\n",
       "      <td>0.007607</td>\n",
       "      <td>...</td>\n",
       "      <td>0.000000</td>\n",
       "      <td>0.000000</td>\n",
       "      <td>0.0</td>\n",
       "      <td>0.000000</td>\n",
       "      <td>0.0</td>\n",
       "      <td>0.0</td>\n",
       "      <td>0.000000</td>\n",
       "      <td>0.001808</td>\n",
       "      <td>0.000000</td>\n",
       "      <td>0.000000</td>\n",
       "    </tr>\n",
       "    <tr>\n",
       "      <th>02deuce</th>\n",
       "      <td>0.0</td>\n",
       "      <td>0.0</td>\n",
       "      <td>0.016721</td>\n",
       "      <td>0.000000</td>\n",
       "      <td>0.0</td>\n",
       "      <td>0.0</td>\n",
       "      <td>0.0</td>\n",
       "      <td>0.000000</td>\n",
       "      <td>0.000000</td>\n",
       "      <td>0.006085</td>\n",
       "      <td>...</td>\n",
       "      <td>0.000000</td>\n",
       "      <td>0.000000</td>\n",
       "      <td>0.0</td>\n",
       "      <td>0.000000</td>\n",
       "      <td>0.0</td>\n",
       "      <td>0.0</td>\n",
       "      <td>0.000000</td>\n",
       "      <td>0.001446</td>\n",
       "      <td>0.000000</td>\n",
       "      <td>0.000000</td>\n",
       "    </tr>\n",
       "    <tr>\n",
       "      <th>06stidriver</th>\n",
       "      <td>0.0</td>\n",
       "      <td>0.0</td>\n",
       "      <td>0.000000</td>\n",
       "      <td>0.000454</td>\n",
       "      <td>0.0</td>\n",
       "      <td>0.0</td>\n",
       "      <td>0.0</td>\n",
       "      <td>0.001731</td>\n",
       "      <td>0.001915</td>\n",
       "      <td>0.000000</td>\n",
       "      <td>...</td>\n",
       "      <td>0.000000</td>\n",
       "      <td>0.000000</td>\n",
       "      <td>0.0</td>\n",
       "      <td>0.003187</td>\n",
       "      <td>0.0</td>\n",
       "      <td>0.0</td>\n",
       "      <td>0.000000</td>\n",
       "      <td>0.000000</td>\n",
       "      <td>0.000000</td>\n",
       "      <td>0.006443</td>\n",
       "    </tr>\n",
       "  </tbody>\n",
       "</table>\n",
       "<p>5 rows × 255 columns</p>\n",
       "</div>"
      ],
      "text/plain": [
       "productId    AV13O1A8GV-KLJ3akUyj  AV14LG0R-jtxr-f38QfS  AV16khLE-jtxr-f38VFn  \\\n",
       "user                                                                            \n",
       "00sab00                       0.0                   0.0              0.000000   \n",
       "01impala                      0.0                   0.0              0.012540   \n",
       "02dakota                      0.0                   0.0              0.020901   \n",
       "02deuce                       0.0                   0.0              0.016721   \n",
       "06stidriver                   0.0                   0.0              0.000000   \n",
       "\n",
       "productId    AV1YGDqsGV-KLJ3adc-O  AV1YIch7GV-KLJ3addeG  AV1YlENIglJLPUi8IHsX  \\\n",
       "user                                                                            \n",
       "00sab00                  0.000000                   0.0                   0.0   \n",
       "01impala                 0.000000                   0.0                   0.0   \n",
       "02dakota                 0.000000                   0.0                   0.0   \n",
       "02deuce                  0.000000                   0.0                   0.0   \n",
       "06stidriver              0.000454                   0.0                   0.0   \n",
       "\n",
       "productId    AV1YmBrdGV-KLJ3adewb  AV1YmDL9vKc47QAVgr7_  AV1Ymf_rglJLPUi8II2v  \\\n",
       "user                                                                            \n",
       "00sab00                       0.0              0.000000              0.000000   \n",
       "01impala                      0.0              0.000000              0.000000   \n",
       "02dakota                      0.0              0.000000              0.000000   \n",
       "02deuce                       0.0              0.000000              0.000000   \n",
       "06stidriver                   0.0              0.001731              0.001915   \n",
       "\n",
       "productId    AV1Yn94nvKc47QAVgtst  ...  AVpfr5cb1cnluZ0-pZFp  \\\n",
       "user                               ...                         \n",
       "00sab00                  0.000000  ...              0.011345   \n",
       "01impala                 0.004564  ...              0.000000   \n",
       "02dakota                 0.007607  ...              0.000000   \n",
       "02deuce                  0.006085  ...              0.000000   \n",
       "06stidriver              0.000000  ...              0.000000   \n",
       "\n",
       "productId    AVpfrFDZLJeJML43Bmv0  AVpfrTyiLJeJML43BrSI  AVpfrfHF1cnluZ0-pRai  \\\n",
       "user                                                                            \n",
       "00sab00                  0.001677                   0.0              0.010336   \n",
       "01impala                 0.000000                   0.0              0.000000   \n",
       "02dakota                 0.000000                   0.0              0.000000   \n",
       "02deuce                  0.000000                   0.0              0.000000   \n",
       "06stidriver              0.000000                   0.0              0.003187   \n",
       "\n",
       "productId    AVpfrgjFLJeJML43BvCc  AVpfshNsLJeJML43CB8q  AVpfthSailAPnD_xg3ON  \\\n",
       "user                                                                            \n",
       "00sab00                       0.0                   0.0              0.033075   \n",
       "01impala                      0.0                   0.0              0.000000   \n",
       "02dakota                      0.0                   0.0              0.000000   \n",
       "02deuce                       0.0                   0.0              0.000000   \n",
       "06stidriver                   0.0                   0.0              0.000000   \n",
       "\n",
       "productId    AVpftikC1cnluZ0-p31V  AVpfv4TlilAPnD_xhjNS  AVpfvieo1cnluZ0-qdnu  \n",
       "user                                                                           \n",
       "00sab00                  0.006002              0.062017              0.000000  \n",
       "01impala                 0.001085              0.000000              0.000000  \n",
       "02dakota                 0.001808              0.000000              0.000000  \n",
       "02deuce                  0.001446              0.000000              0.000000  \n",
       "06stidriver              0.000000              0.000000              0.006443  \n",
       "\n",
       "[5 rows x 255 columns]"
      ]
     },
     "execution_count": 105,
     "metadata": {},
     "output_type": "execute_result"
    }
   ],
   "source": [
    "item_final_rating = np.multiply(item_predicted_ratings,dummy_train)\n",
    "item_final_rating.head()"
   ]
  },
  {
   "cell_type": "markdown",
   "metadata": {
    "id": "PxLIot-ilC-T"
   },
   "source": [
    "### Finding the top 20 recommendation for the *user*"
   ]
  },
  {
   "cell_type": "code",
   "execution_count": 106,
   "metadata": {
    "colab": {
     "base_uri": "https://localhost:8080/"
    },
    "id": "0JjQfDT2lAau",
    "outputId": "41bd427d-830c-4058-c678-e3398aef5cdd"
   },
   "outputs": [
    {
     "name": "stdout",
     "output_type": "stream",
     "text": [
      "Enter your user namezyiah4\n"
     ]
    }
   ],
   "source": [
    "# Take the user ID as input\n",
    "user_input = input(\"Enter your user name\") #00sab00\n",
    "#print(user_input)"
   ]
  },
  {
   "cell_type": "code",
   "execution_count": 107,
   "metadata": {
    "colab": {
     "base_uri": "https://localhost:8080/"
    },
    "id": "fBJ_rybTlHEZ",
    "outputId": "09739c25-8e61-4136-c165-8e4664f1ea8b"
   },
   "outputs": [
    {
     "data": {
      "text/plain": [
       "productId\n",
       "AVpfJP1C1cnluZ0-e3Xy    0.674485\n",
       "AVpe8q4T1cnluZ0-afct    0.022082\n",
       "AVpe_5U_ilAPnD_xSrxG    0.019124\n",
       "AVpf7I3i1cnluZ0-tnL6    0.018986\n",
       "AVpf5ujMilAPnD_xkQVi    0.012838\n",
       "AVpfTVkcilAPnD_xZLts    0.011672\n",
       "AVpe-ltS1cnluZ0-bL8w    0.009876\n",
       "AVpe_N91LJeJML43z4jD    0.008853\n",
       "AVpfIfnYilAPnD_xVpGi    0.007807\n",
       "AVpfRTh1ilAPnD_xYic2    0.006839\n",
       "AVpfluP1ilAPnD_xejxO    0.006762\n",
       "AVpfvieo1cnluZ0-qdnu    0.006443\n",
       "AVpfm8yiLJeJML43AYyu    0.006341\n",
       "AVpfbraG1cnluZ0-kqnn    0.006048\n",
       "AVpfW8y_LJeJML437ySW    0.005794\n",
       "AVpfBU2S1cnluZ0-cJsO    0.004523\n",
       "AVpe8xjUilAPnD_xRkxC    0.004253\n",
       "AVpe6CHv1cnluZ0-ZhwN    0.004056\n",
       "AVpfBpnEilAPnD_xTUBx    0.003614\n",
       "AVpe6FfKilAPnD_xQmHi    0.003592\n",
       "Name: zyiah4, dtype: float64"
      ]
     },
     "execution_count": 107,
     "metadata": {},
     "output_type": "execute_result"
    }
   ],
   "source": [
    "# Recommending the Top 20 products to the user.\n",
    "d = item_final_rating.loc[user_input].sort_values(ascending=False)[0:20]\n",
    "d"
   ]
  },
  {
   "cell_type": "code",
   "execution_count": 108,
   "metadata": {
    "id": "8bjbnAM2gMbT"
   },
   "outputs": [],
   "source": [
    "# saving the model\n",
    "pickle.dump(user_final_rating.astype('float32'), open('user_final_rating.pkl', 'wb'))"
   ]
  },
  {
   "cell_type": "markdown",
   "metadata": {
    "id": "WD9nf1rflOPF"
   },
   "source": [
    "## Evaluation - Item Item"
   ]
  },
  {
   "cell_type": "markdown",
   "metadata": {
    "id": "k2CKi39DlSCT"
   },
   "source": [
    "Evaluation will we same as you have seen above for the prediction. The only difference being, you will evaluate for the products already rated by the user insead of predicting it for the products not rated by the user. "
   ]
  },
  {
   "cell_type": "code",
   "execution_count": 109,
   "metadata": {
    "colab": {
     "base_uri": "https://localhost:8080/"
    },
    "id": "eSXaVXKolLlc",
    "outputId": "13553c06-1053-4486-b7ee-38383c6bd5c4"
   },
   "outputs": [
    {
     "data": {
      "text/plain": [
       "Index(['productId', 'rating', 'user'], dtype='object')"
      ]
     },
     "execution_count": 109,
     "metadata": {},
     "output_type": "execute_result"
    }
   ],
   "source": [
    "test.columns"
   ]
  },
  {
   "cell_type": "code",
   "execution_count": 110,
   "metadata": {
    "colab": {
     "base_uri": "https://localhost:8080/"
    },
    "id": "nYoWj3I4lU6f",
    "outputId": "6609f92f-7446-4ce1-d6e4-11932e45f2bb"
   },
   "outputs": [
    {
     "data": {
      "text/plain": [
       "(8964, 3)"
      ]
     },
     "execution_count": 110,
     "metadata": {},
     "output_type": "execute_result"
    }
   ],
   "source": [
    "common =  test[test.productId.isin(train.productId)]\n",
    "common.shape"
   ]
  },
  {
   "cell_type": "code",
   "execution_count": 111,
   "metadata": {
    "colab": {
     "base_uri": "https://localhost:8080/",
     "height": 171
    },
    "id": "ADGZhQeClW6D",
    "outputId": "a97cfad5-6de2-4a92-92c7-e8c7c3f6e9af"
   },
   "outputs": [
    {
     "data": {
      "text/html": [
       "<div>\n",
       "<style scoped>\n",
       "    .dataframe tbody tr th:only-of-type {\n",
       "        vertical-align: middle;\n",
       "    }\n",
       "\n",
       "    .dataframe tbody tr th {\n",
       "        vertical-align: top;\n",
       "    }\n",
       "\n",
       "    .dataframe thead th {\n",
       "        text-align: right;\n",
       "    }\n",
       "</style>\n",
       "<table border=\"1\" class=\"dataframe\">\n",
       "  <thead>\n",
       "    <tr style=\"text-align: right;\">\n",
       "      <th></th>\n",
       "      <th>productId</th>\n",
       "      <th>rating</th>\n",
       "      <th>user</th>\n",
       "    </tr>\n",
       "  </thead>\n",
       "  <tbody>\n",
       "    <tr>\n",
       "      <th>21384</th>\n",
       "      <td>AVpfm8yiLJeJML43AYyu</td>\n",
       "      <td>1</td>\n",
       "      <td>curlyd</td>\n",
       "    </tr>\n",
       "    <tr>\n",
       "      <th>14483</th>\n",
       "      <td>AVpf3VOfilAPnD_xjpun</td>\n",
       "      <td>5</td>\n",
       "      <td>prip</td>\n",
       "    </tr>\n",
       "    <tr>\n",
       "      <th>21169</th>\n",
       "      <td>AVpfm8yiLJeJML43AYyu</td>\n",
       "      <td>1</td>\n",
       "      <td>jjjj</td>\n",
       "    </tr>\n",
       "    <tr>\n",
       "      <th>25411</th>\n",
       "      <td>AVpfPaoqLJeJML435Xk9</td>\n",
       "      <td>5</td>\n",
       "      <td>internetfreak69</td>\n",
       "    </tr>\n",
       "  </tbody>\n",
       "</table>\n",
       "</div>"
      ],
      "text/plain": [
       "                  productId  rating             user\n",
       "21384  AVpfm8yiLJeJML43AYyu       1           curlyd\n",
       "14483  AVpf3VOfilAPnD_xjpun       5             prip\n",
       "21169  AVpfm8yiLJeJML43AYyu       1             jjjj\n",
       "25411  AVpfPaoqLJeJML435Xk9       5  internetfreak69"
      ]
     },
     "execution_count": 111,
     "metadata": {},
     "output_type": "execute_result"
    }
   ],
   "source": [
    "common.head(4)"
   ]
  },
  {
   "cell_type": "code",
   "execution_count": 112,
   "metadata": {
    "id": "XXV8lk7plY8Q"
   },
   "outputs": [],
   "source": [
    "common_item_based_matrix = common.pivot_table(index='user', columns='productId', values='rating').T"
   ]
  },
  {
   "cell_type": "code",
   "execution_count": 113,
   "metadata": {
    "colab": {
     "base_uri": "https://localhost:8080/"
    },
    "id": "ertY9MirlbO7",
    "outputId": "e929731b-4185-4706-a1be-c048dbfd2399"
   },
   "outputs": [
    {
     "data": {
      "text/plain": [
       "(203, 8348)"
      ]
     },
     "execution_count": 113,
     "metadata": {},
     "output_type": "execute_result"
    }
   ],
   "source": [
    "common_item_based_matrix.shape"
   ]
  },
  {
   "cell_type": "code",
   "execution_count": 114,
   "metadata": {
    "id": "bO6KbOXkldgN"
   },
   "outputs": [],
   "source": [
    "item_correlation_df = pd.DataFrame(item_correlation)"
   ]
  },
  {
   "cell_type": "code",
   "execution_count": 115,
   "metadata": {
    "colab": {
     "base_uri": "https://localhost:8080/",
     "height": 127
    },
    "id": "S3_03JRTlfeE",
    "outputId": "fc345108-9360-4100-b5b9-d0b5c83c59ba"
   },
   "outputs": [
    {
     "data": {
      "text/html": [
       "<div>\n",
       "<style scoped>\n",
       "    .dataframe tbody tr th:only-of-type {\n",
       "        vertical-align: middle;\n",
       "    }\n",
       "\n",
       "    .dataframe tbody tr th {\n",
       "        vertical-align: top;\n",
       "    }\n",
       "\n",
       "    .dataframe thead th {\n",
       "        text-align: right;\n",
       "    }\n",
       "</style>\n",
       "<table border=\"1\" class=\"dataframe\">\n",
       "  <thead>\n",
       "    <tr style=\"text-align: right;\">\n",
       "      <th></th>\n",
       "      <th>0</th>\n",
       "      <th>1</th>\n",
       "      <th>2</th>\n",
       "      <th>3</th>\n",
       "      <th>4</th>\n",
       "      <th>5</th>\n",
       "      <th>6</th>\n",
       "      <th>7</th>\n",
       "      <th>8</th>\n",
       "      <th>9</th>\n",
       "      <th>...</th>\n",
       "      <th>245</th>\n",
       "      <th>246</th>\n",
       "      <th>247</th>\n",
       "      <th>248</th>\n",
       "      <th>249</th>\n",
       "      <th>250</th>\n",
       "      <th>251</th>\n",
       "      <th>252</th>\n",
       "      <th>253</th>\n",
       "      <th>254</th>\n",
       "    </tr>\n",
       "  </thead>\n",
       "  <tbody>\n",
       "    <tr>\n",
       "      <th>0</th>\n",
       "      <td>0.0</td>\n",
       "      <td>0.0</td>\n",
       "      <td>0.0</td>\n",
       "      <td>0.0</td>\n",
       "      <td>0.0</td>\n",
       "      <td>0.0</td>\n",
       "      <td>0.0</td>\n",
       "      <td>0.0</td>\n",
       "      <td>0.0</td>\n",
       "      <td>0.0</td>\n",
       "      <td>...</td>\n",
       "      <td>0.0</td>\n",
       "      <td>0.0</td>\n",
       "      <td>0.0</td>\n",
       "      <td>0.0</td>\n",
       "      <td>0.0</td>\n",
       "      <td>0.0</td>\n",
       "      <td>0.0</td>\n",
       "      <td>0.0</td>\n",
       "      <td>0.0</td>\n",
       "      <td>0.0</td>\n",
       "    </tr>\n",
       "  </tbody>\n",
       "</table>\n",
       "<p>1 rows × 255 columns</p>\n",
       "</div>"
      ],
      "text/plain": [
       "   0    1    2    3    4    5    6    7    8    9    ...  245  246  247  248  \\\n",
       "0  0.0  0.0  0.0  0.0  0.0  0.0  0.0  0.0  0.0  0.0  ...  0.0  0.0  0.0  0.0   \n",
       "\n",
       "   249  250  251  252  253  254  \n",
       "0  0.0  0.0  0.0  0.0  0.0  0.0  \n",
       "\n",
       "[1 rows x 255 columns]"
      ]
     },
     "execution_count": 115,
     "metadata": {},
     "output_type": "execute_result"
    }
   ],
   "source": [
    "item_correlation_df.head(1)"
   ]
  },
  {
   "cell_type": "code",
   "execution_count": 116,
   "metadata": {
    "colab": {
     "base_uri": "https://localhost:8080/",
     "height": 364
    },
    "id": "-v2LFEKglhn-",
    "outputId": "6ca8bc05-391f-47ae-a64a-fb07531b6073"
   },
   "outputs": [
    {
     "data": {
      "text/html": [
       "<div>\n",
       "<style scoped>\n",
       "    .dataframe tbody tr th:only-of-type {\n",
       "        vertical-align: middle;\n",
       "    }\n",
       "\n",
       "    .dataframe tbody tr th {\n",
       "        vertical-align: top;\n",
       "    }\n",
       "\n",
       "    .dataframe thead th {\n",
       "        text-align: right;\n",
       "    }\n",
       "</style>\n",
       "<table border=\"1\" class=\"dataframe\">\n",
       "  <thead>\n",
       "    <tr style=\"text-align: right;\">\n",
       "      <th></th>\n",
       "      <th>0</th>\n",
       "      <th>1</th>\n",
       "      <th>2</th>\n",
       "      <th>3</th>\n",
       "      <th>4</th>\n",
       "      <th>5</th>\n",
       "      <th>6</th>\n",
       "      <th>7</th>\n",
       "      <th>8</th>\n",
       "      <th>9</th>\n",
       "      <th>...</th>\n",
       "      <th>245</th>\n",
       "      <th>246</th>\n",
       "      <th>247</th>\n",
       "      <th>248</th>\n",
       "      <th>249</th>\n",
       "      <th>250</th>\n",
       "      <th>251</th>\n",
       "      <th>252</th>\n",
       "      <th>253</th>\n",
       "      <th>254</th>\n",
       "    </tr>\n",
       "    <tr>\n",
       "      <th>productId</th>\n",
       "      <th></th>\n",
       "      <th></th>\n",
       "      <th></th>\n",
       "      <th></th>\n",
       "      <th></th>\n",
       "      <th></th>\n",
       "      <th></th>\n",
       "      <th></th>\n",
       "      <th></th>\n",
       "      <th></th>\n",
       "      <th></th>\n",
       "      <th></th>\n",
       "      <th></th>\n",
       "      <th></th>\n",
       "      <th></th>\n",
       "      <th></th>\n",
       "      <th></th>\n",
       "      <th></th>\n",
       "      <th></th>\n",
       "      <th></th>\n",
       "      <th></th>\n",
       "    </tr>\n",
       "  </thead>\n",
       "  <tbody>\n",
       "    <tr>\n",
       "      <th>AV13O1A8GV-KLJ3akUyj</th>\n",
       "      <td>0.0</td>\n",
       "      <td>0.0</td>\n",
       "      <td>0.0</td>\n",
       "      <td>0.0</td>\n",
       "      <td>0.0</td>\n",
       "      <td>0.0</td>\n",
       "      <td>0.0</td>\n",
       "      <td>0.0</td>\n",
       "      <td>0.0</td>\n",
       "      <td>0.0</td>\n",
       "      <td>...</td>\n",
       "      <td>0.000000</td>\n",
       "      <td>0.0</td>\n",
       "      <td>0.0</td>\n",
       "      <td>0.0</td>\n",
       "      <td>0.0</td>\n",
       "      <td>0.0</td>\n",
       "      <td>0.0</td>\n",
       "      <td>0.000000</td>\n",
       "      <td>0.0</td>\n",
       "      <td>0.0</td>\n",
       "    </tr>\n",
       "    <tr>\n",
       "      <th>AV14LG0R-jtxr-f38QfS</th>\n",
       "      <td>0.0</td>\n",
       "      <td>0.0</td>\n",
       "      <td>0.0</td>\n",
       "      <td>0.0</td>\n",
       "      <td>0.0</td>\n",
       "      <td>0.0</td>\n",
       "      <td>0.0</td>\n",
       "      <td>0.0</td>\n",
       "      <td>0.0</td>\n",
       "      <td>0.0</td>\n",
       "      <td>...</td>\n",
       "      <td>0.000000</td>\n",
       "      <td>0.0</td>\n",
       "      <td>0.0</td>\n",
       "      <td>0.0</td>\n",
       "      <td>0.0</td>\n",
       "      <td>0.0</td>\n",
       "      <td>0.0</td>\n",
       "      <td>0.000000</td>\n",
       "      <td>0.0</td>\n",
       "      <td>0.0</td>\n",
       "    </tr>\n",
       "    <tr>\n",
       "      <th>AV16khLE-jtxr-f38VFn</th>\n",
       "      <td>0.0</td>\n",
       "      <td>0.0</td>\n",
       "      <td>1.0</td>\n",
       "      <td>0.0</td>\n",
       "      <td>0.0</td>\n",
       "      <td>0.0</td>\n",
       "      <td>0.0</td>\n",
       "      <td>0.0</td>\n",
       "      <td>0.0</td>\n",
       "      <td>0.0</td>\n",
       "      <td>...</td>\n",
       "      <td>0.013954</td>\n",
       "      <td>0.0</td>\n",
       "      <td>0.0</td>\n",
       "      <td>0.0</td>\n",
       "      <td>0.0</td>\n",
       "      <td>0.0</td>\n",
       "      <td>0.0</td>\n",
       "      <td>0.000000</td>\n",
       "      <td>0.0</td>\n",
       "      <td>0.0</td>\n",
       "    </tr>\n",
       "    <tr>\n",
       "      <th>AV1YGDqsGV-KLJ3adc-O</th>\n",
       "      <td>0.0</td>\n",
       "      <td>0.0</td>\n",
       "      <td>0.0</td>\n",
       "      <td>1.0</td>\n",
       "      <td>0.0</td>\n",
       "      <td>0.0</td>\n",
       "      <td>0.0</td>\n",
       "      <td>0.0</td>\n",
       "      <td>0.0</td>\n",
       "      <td>0.0</td>\n",
       "      <td>...</td>\n",
       "      <td>0.078102</td>\n",
       "      <td>0.0</td>\n",
       "      <td>0.0</td>\n",
       "      <td>0.0</td>\n",
       "      <td>0.0</td>\n",
       "      <td>0.0</td>\n",
       "      <td>0.0</td>\n",
       "      <td>0.001989</td>\n",
       "      <td>0.0</td>\n",
       "      <td>0.0</td>\n",
       "    </tr>\n",
       "    <tr>\n",
       "      <th>AV1YIch7GV-KLJ3addeG</th>\n",
       "      <td>0.0</td>\n",
       "      <td>0.0</td>\n",
       "      <td>0.0</td>\n",
       "      <td>0.0</td>\n",
       "      <td>0.0</td>\n",
       "      <td>0.0</td>\n",
       "      <td>0.0</td>\n",
       "      <td>0.0</td>\n",
       "      <td>0.0</td>\n",
       "      <td>0.0</td>\n",
       "      <td>...</td>\n",
       "      <td>0.000000</td>\n",
       "      <td>0.0</td>\n",
       "      <td>0.0</td>\n",
       "      <td>0.0</td>\n",
       "      <td>0.0</td>\n",
       "      <td>0.0</td>\n",
       "      <td>0.0</td>\n",
       "      <td>0.000000</td>\n",
       "      <td>0.0</td>\n",
       "      <td>0.0</td>\n",
       "    </tr>\n",
       "  </tbody>\n",
       "</table>\n",
       "<p>5 rows × 255 columns</p>\n",
       "</div>"
      ],
      "text/plain": [
       "                      0    1    2    3    4    5    6    7    8    9    ...  \\\n",
       "productId                                                               ...   \n",
       "AV13O1A8GV-KLJ3akUyj  0.0  0.0  0.0  0.0  0.0  0.0  0.0  0.0  0.0  0.0  ...   \n",
       "AV14LG0R-jtxr-f38QfS  0.0  0.0  0.0  0.0  0.0  0.0  0.0  0.0  0.0  0.0  ...   \n",
       "AV16khLE-jtxr-f38VFn  0.0  0.0  1.0  0.0  0.0  0.0  0.0  0.0  0.0  0.0  ...   \n",
       "AV1YGDqsGV-KLJ3adc-O  0.0  0.0  0.0  1.0  0.0  0.0  0.0  0.0  0.0  0.0  ...   \n",
       "AV1YIch7GV-KLJ3addeG  0.0  0.0  0.0  0.0  0.0  0.0  0.0  0.0  0.0  0.0  ...   \n",
       "\n",
       "                           245  246  247  248  249  250  251       252  253  \\\n",
       "productId                                                                     \n",
       "AV13O1A8GV-KLJ3akUyj  0.000000  0.0  0.0  0.0  0.0  0.0  0.0  0.000000  0.0   \n",
       "AV14LG0R-jtxr-f38QfS  0.000000  0.0  0.0  0.0  0.0  0.0  0.0  0.000000  0.0   \n",
       "AV16khLE-jtxr-f38VFn  0.013954  0.0  0.0  0.0  0.0  0.0  0.0  0.000000  0.0   \n",
       "AV1YGDqsGV-KLJ3adc-O  0.078102  0.0  0.0  0.0  0.0  0.0  0.0  0.001989  0.0   \n",
       "AV1YIch7GV-KLJ3addeG  0.000000  0.0  0.0  0.0  0.0  0.0  0.0  0.000000  0.0   \n",
       "\n",
       "                      254  \n",
       "productId                  \n",
       "AV13O1A8GV-KLJ3akUyj  0.0  \n",
       "AV14LG0R-jtxr-f38QfS  0.0  \n",
       "AV16khLE-jtxr-f38VFn  0.0  \n",
       "AV1YGDqsGV-KLJ3adc-O  0.0  \n",
       "AV1YIch7GV-KLJ3addeG  0.0  \n",
       "\n",
       "[5 rows x 255 columns]"
      ]
     },
     "execution_count": 116,
     "metadata": {},
     "output_type": "execute_result"
    }
   ],
   "source": [
    "item_correlation_df['productId'] = df_subtracted.index\n",
    "item_correlation_df.set_index('productId',inplace=True)\n",
    "item_correlation_df.head()"
   ]
  },
  {
   "cell_type": "code",
   "execution_count": 117,
   "metadata": {
    "id": "HLUJWWPRlj1Y"
   },
   "outputs": [],
   "source": [
    "list_name = common.productId.tolist()"
   ]
  },
  {
   "cell_type": "code",
   "execution_count": 118,
   "metadata": {
    "id": "tW1PPVI6llXA"
   },
   "outputs": [],
   "source": [
    "item_correlation_df.columns = df_subtracted.index.tolist()\n",
    "\n",
    "item_correlation_df_1 =  item_correlation_df[item_correlation_df.index.isin(list_name)]"
   ]
  },
  {
   "cell_type": "code",
   "execution_count": 119,
   "metadata": {
    "id": "E2lkb5falnU9"
   },
   "outputs": [],
   "source": [
    "item_correlation_df_2 = item_correlation_df_1.T[item_correlation_df_1.T.index.isin(list_name)]\n",
    "\n",
    "item_correlation_df_3 = item_correlation_df_2.T"
   ]
  },
  {
   "cell_type": "code",
   "execution_count": 120,
   "metadata": {
    "colab": {
     "base_uri": "https://localhost:8080/",
     "height": 314
    },
    "id": "rp66luS3lpGH",
    "outputId": "7f8d4b9d-3cae-44f8-c108-7289d1d0b339"
   },
   "outputs": [
    {
     "data": {
      "text/html": [
       "<div>\n",
       "<style scoped>\n",
       "    .dataframe tbody tr th:only-of-type {\n",
       "        vertical-align: middle;\n",
       "    }\n",
       "\n",
       "    .dataframe tbody tr th {\n",
       "        vertical-align: top;\n",
       "    }\n",
       "\n",
       "    .dataframe thead th {\n",
       "        text-align: right;\n",
       "    }\n",
       "</style>\n",
       "<table border=\"1\" class=\"dataframe\">\n",
       "  <thead>\n",
       "    <tr style=\"text-align: right;\">\n",
       "      <th></th>\n",
       "      <th>AV16khLE-jtxr-f38VFn</th>\n",
       "      <th>AV1YGDqsGV-KLJ3adc-O</th>\n",
       "      <th>AV1YlENIglJLPUi8IHsX</th>\n",
       "      <th>AV1YmBrdGV-KLJ3adewb</th>\n",
       "      <th>AV1YmDL9vKc47QAVgr7_</th>\n",
       "      <th>AV1Ymf_rglJLPUi8II2v</th>\n",
       "      <th>AV1Yn94nvKc47QAVgtst</th>\n",
       "      <th>AV1Ynb3bglJLPUi8IJxJ</th>\n",
       "      <th>AV1YneDPglJLPUi8IJyQ</th>\n",
       "      <th>AV1YqAaMGV-KLJ3adiDj</th>\n",
       "      <th>...</th>\n",
       "      <th>AVpfqW4WilAPnD_xf7a_</th>\n",
       "      <th>AVpfr5cb1cnluZ0-pZFp</th>\n",
       "      <th>AVpfrFDZLJeJML43Bmv0</th>\n",
       "      <th>AVpfrTyiLJeJML43BrSI</th>\n",
       "      <th>AVpfrfHF1cnluZ0-pRai</th>\n",
       "      <th>AVpfrgjFLJeJML43BvCc</th>\n",
       "      <th>AVpfthSailAPnD_xg3ON</th>\n",
       "      <th>AVpftikC1cnluZ0-p31V</th>\n",
       "      <th>AVpfv4TlilAPnD_xhjNS</th>\n",
       "      <th>AVpfvieo1cnluZ0-qdnu</th>\n",
       "    </tr>\n",
       "    <tr>\n",
       "      <th>productId</th>\n",
       "      <th></th>\n",
       "      <th></th>\n",
       "      <th></th>\n",
       "      <th></th>\n",
       "      <th></th>\n",
       "      <th></th>\n",
       "      <th></th>\n",
       "      <th></th>\n",
       "      <th></th>\n",
       "      <th></th>\n",
       "      <th></th>\n",
       "      <th></th>\n",
       "      <th></th>\n",
       "      <th></th>\n",
       "      <th></th>\n",
       "      <th></th>\n",
       "      <th></th>\n",
       "      <th></th>\n",
       "      <th></th>\n",
       "      <th></th>\n",
       "      <th></th>\n",
       "    </tr>\n",
       "  </thead>\n",
       "  <tbody>\n",
       "    <tr>\n",
       "      <th>AV16khLE-jtxr-f38VFn</th>\n",
       "      <td>1.0</td>\n",
       "      <td>0.0</td>\n",
       "      <td>0.0</td>\n",
       "      <td>0.0</td>\n",
       "      <td>0.0</td>\n",
       "      <td>0.0</td>\n",
       "      <td>0.0</td>\n",
       "      <td>0.0</td>\n",
       "      <td>0.000000</td>\n",
       "      <td>0.0</td>\n",
       "      <td>...</td>\n",
       "      <td>0.0</td>\n",
       "      <td>0.013954</td>\n",
       "      <td>0.0</td>\n",
       "      <td>0.0</td>\n",
       "      <td>0.0</td>\n",
       "      <td>0.0</td>\n",
       "      <td>0.0</td>\n",
       "      <td>0.000000</td>\n",
       "      <td>0.0</td>\n",
       "      <td>0.0</td>\n",
       "    </tr>\n",
       "    <tr>\n",
       "      <th>AV1YGDqsGV-KLJ3adc-O</th>\n",
       "      <td>0.0</td>\n",
       "      <td>1.0</td>\n",
       "      <td>0.0</td>\n",
       "      <td>0.0</td>\n",
       "      <td>0.0</td>\n",
       "      <td>0.0</td>\n",
       "      <td>0.0</td>\n",
       "      <td>0.0</td>\n",
       "      <td>0.003657</td>\n",
       "      <td>0.0</td>\n",
       "      <td>...</td>\n",
       "      <td>0.0</td>\n",
       "      <td>0.078102</td>\n",
       "      <td>0.0</td>\n",
       "      <td>0.0</td>\n",
       "      <td>0.0</td>\n",
       "      <td>0.0</td>\n",
       "      <td>0.0</td>\n",
       "      <td>0.001989</td>\n",
       "      <td>0.0</td>\n",
       "      <td>0.0</td>\n",
       "    </tr>\n",
       "    <tr>\n",
       "      <th>AV1YlENIglJLPUi8IHsX</th>\n",
       "      <td>0.0</td>\n",
       "      <td>0.0</td>\n",
       "      <td>1.0</td>\n",
       "      <td>0.0</td>\n",
       "      <td>0.0</td>\n",
       "      <td>0.0</td>\n",
       "      <td>0.0</td>\n",
       "      <td>0.0</td>\n",
       "      <td>0.000000</td>\n",
       "      <td>0.0</td>\n",
       "      <td>...</td>\n",
       "      <td>0.0</td>\n",
       "      <td>0.000000</td>\n",
       "      <td>0.0</td>\n",
       "      <td>0.0</td>\n",
       "      <td>0.0</td>\n",
       "      <td>0.0</td>\n",
       "      <td>0.0</td>\n",
       "      <td>0.000000</td>\n",
       "      <td>0.0</td>\n",
       "      <td>0.0</td>\n",
       "    </tr>\n",
       "    <tr>\n",
       "      <th>AV1YmBrdGV-KLJ3adewb</th>\n",
       "      <td>0.0</td>\n",
       "      <td>0.0</td>\n",
       "      <td>0.0</td>\n",
       "      <td>1.0</td>\n",
       "      <td>0.0</td>\n",
       "      <td>0.0</td>\n",
       "      <td>0.0</td>\n",
       "      <td>0.0</td>\n",
       "      <td>0.000000</td>\n",
       "      <td>0.0</td>\n",
       "      <td>...</td>\n",
       "      <td>0.0</td>\n",
       "      <td>0.000000</td>\n",
       "      <td>0.0</td>\n",
       "      <td>0.0</td>\n",
       "      <td>0.0</td>\n",
       "      <td>0.0</td>\n",
       "      <td>0.0</td>\n",
       "      <td>0.000000</td>\n",
       "      <td>0.0</td>\n",
       "      <td>0.0</td>\n",
       "    </tr>\n",
       "    <tr>\n",
       "      <th>AV1YmDL9vKc47QAVgr7_</th>\n",
       "      <td>0.0</td>\n",
       "      <td>0.0</td>\n",
       "      <td>0.0</td>\n",
       "      <td>0.0</td>\n",
       "      <td>1.0</td>\n",
       "      <td>0.0</td>\n",
       "      <td>0.0</td>\n",
       "      <td>0.0</td>\n",
       "      <td>0.000000</td>\n",
       "      <td>0.0</td>\n",
       "      <td>...</td>\n",
       "      <td>0.0</td>\n",
       "      <td>0.000000</td>\n",
       "      <td>0.0</td>\n",
       "      <td>0.0</td>\n",
       "      <td>0.0</td>\n",
       "      <td>0.0</td>\n",
       "      <td>0.0</td>\n",
       "      <td>0.000000</td>\n",
       "      <td>0.0</td>\n",
       "      <td>0.0</td>\n",
       "    </tr>\n",
       "  </tbody>\n",
       "</table>\n",
       "<p>5 rows × 203 columns</p>\n",
       "</div>"
      ],
      "text/plain": [
       "                      AV16khLE-jtxr-f38VFn  AV1YGDqsGV-KLJ3adc-O  \\\n",
       "productId                                                          \n",
       "AV16khLE-jtxr-f38VFn                   1.0                   0.0   \n",
       "AV1YGDqsGV-KLJ3adc-O                   0.0                   1.0   \n",
       "AV1YlENIglJLPUi8IHsX                   0.0                   0.0   \n",
       "AV1YmBrdGV-KLJ3adewb                   0.0                   0.0   \n",
       "AV1YmDL9vKc47QAVgr7_                   0.0                   0.0   \n",
       "\n",
       "                      AV1YlENIglJLPUi8IHsX  AV1YmBrdGV-KLJ3adewb  \\\n",
       "productId                                                          \n",
       "AV16khLE-jtxr-f38VFn                   0.0                   0.0   \n",
       "AV1YGDqsGV-KLJ3adc-O                   0.0                   0.0   \n",
       "AV1YlENIglJLPUi8IHsX                   1.0                   0.0   \n",
       "AV1YmBrdGV-KLJ3adewb                   0.0                   1.0   \n",
       "AV1YmDL9vKc47QAVgr7_                   0.0                   0.0   \n",
       "\n",
       "                      AV1YmDL9vKc47QAVgr7_  AV1Ymf_rglJLPUi8II2v  \\\n",
       "productId                                                          \n",
       "AV16khLE-jtxr-f38VFn                   0.0                   0.0   \n",
       "AV1YGDqsGV-KLJ3adc-O                   0.0                   0.0   \n",
       "AV1YlENIglJLPUi8IHsX                   0.0                   0.0   \n",
       "AV1YmBrdGV-KLJ3adewb                   0.0                   0.0   \n",
       "AV1YmDL9vKc47QAVgr7_                   1.0                   0.0   \n",
       "\n",
       "                      AV1Yn94nvKc47QAVgtst  AV1Ynb3bglJLPUi8IJxJ  \\\n",
       "productId                                                          \n",
       "AV16khLE-jtxr-f38VFn                   0.0                   0.0   \n",
       "AV1YGDqsGV-KLJ3adc-O                   0.0                   0.0   \n",
       "AV1YlENIglJLPUi8IHsX                   0.0                   0.0   \n",
       "AV1YmBrdGV-KLJ3adewb                   0.0                   0.0   \n",
       "AV1YmDL9vKc47QAVgr7_                   0.0                   0.0   \n",
       "\n",
       "                      AV1YneDPglJLPUi8IJyQ  AV1YqAaMGV-KLJ3adiDj  ...  \\\n",
       "productId                                                         ...   \n",
       "AV16khLE-jtxr-f38VFn              0.000000                   0.0  ...   \n",
       "AV1YGDqsGV-KLJ3adc-O              0.003657                   0.0  ...   \n",
       "AV1YlENIglJLPUi8IHsX              0.000000                   0.0  ...   \n",
       "AV1YmBrdGV-KLJ3adewb              0.000000                   0.0  ...   \n",
       "AV1YmDL9vKc47QAVgr7_              0.000000                   0.0  ...   \n",
       "\n",
       "                      AVpfqW4WilAPnD_xf7a_  AVpfr5cb1cnluZ0-pZFp  \\\n",
       "productId                                                          \n",
       "AV16khLE-jtxr-f38VFn                   0.0              0.013954   \n",
       "AV1YGDqsGV-KLJ3adc-O                   0.0              0.078102   \n",
       "AV1YlENIglJLPUi8IHsX                   0.0              0.000000   \n",
       "AV1YmBrdGV-KLJ3adewb                   0.0              0.000000   \n",
       "AV1YmDL9vKc47QAVgr7_                   0.0              0.000000   \n",
       "\n",
       "                      AVpfrFDZLJeJML43Bmv0  AVpfrTyiLJeJML43BrSI  \\\n",
       "productId                                                          \n",
       "AV16khLE-jtxr-f38VFn                   0.0                   0.0   \n",
       "AV1YGDqsGV-KLJ3adc-O                   0.0                   0.0   \n",
       "AV1YlENIglJLPUi8IHsX                   0.0                   0.0   \n",
       "AV1YmBrdGV-KLJ3adewb                   0.0                   0.0   \n",
       "AV1YmDL9vKc47QAVgr7_                   0.0                   0.0   \n",
       "\n",
       "                      AVpfrfHF1cnluZ0-pRai  AVpfrgjFLJeJML43BvCc  \\\n",
       "productId                                                          \n",
       "AV16khLE-jtxr-f38VFn                   0.0                   0.0   \n",
       "AV1YGDqsGV-KLJ3adc-O                   0.0                   0.0   \n",
       "AV1YlENIglJLPUi8IHsX                   0.0                   0.0   \n",
       "AV1YmBrdGV-KLJ3adewb                   0.0                   0.0   \n",
       "AV1YmDL9vKc47QAVgr7_                   0.0                   0.0   \n",
       "\n",
       "                      AVpfthSailAPnD_xg3ON  AVpftikC1cnluZ0-p31V  \\\n",
       "productId                                                          \n",
       "AV16khLE-jtxr-f38VFn                   0.0              0.000000   \n",
       "AV1YGDqsGV-KLJ3adc-O                   0.0              0.001989   \n",
       "AV1YlENIglJLPUi8IHsX                   0.0              0.000000   \n",
       "AV1YmBrdGV-KLJ3adewb                   0.0              0.000000   \n",
       "AV1YmDL9vKc47QAVgr7_                   0.0              0.000000   \n",
       "\n",
       "                      AVpfv4TlilAPnD_xhjNS  AVpfvieo1cnluZ0-qdnu  \n",
       "productId                                                         \n",
       "AV16khLE-jtxr-f38VFn                   0.0                   0.0  \n",
       "AV1YGDqsGV-KLJ3adc-O                   0.0                   0.0  \n",
       "AV1YlENIglJLPUi8IHsX                   0.0                   0.0  \n",
       "AV1YmBrdGV-KLJ3adewb                   0.0                   0.0  \n",
       "AV1YmDL9vKc47QAVgr7_                   0.0                   0.0  \n",
       "\n",
       "[5 rows x 203 columns]"
      ]
     },
     "execution_count": 120,
     "metadata": {},
     "output_type": "execute_result"
    }
   ],
   "source": [
    "item_correlation_df_3.head()"
   ]
  },
  {
   "cell_type": "code",
   "execution_count": 121,
   "metadata": {
    "colab": {
     "base_uri": "https://localhost:8080/"
    },
    "id": "rpuO8sKslr1G",
    "outputId": "bce3923c-addc-43d3-aca7-bd464d8eef36"
   },
   "outputs": [
    {
     "data": {
      "text/plain": [
       "array([[0.        , 0.        , 0.        , ..., 0.        , 0.        ,\n",
       "        0.        ],\n",
       "       [0.02105944, 0.00045358, 0.00036287, ..., 0.00045358, 0.00018143,\n",
       "        0.        ],\n",
       "       [0.        , 0.        , 0.        , ..., 0.        , 0.        ,\n",
       "        0.        ],\n",
       "       ...,\n",
       "       [0.        , 0.        , 0.        , ..., 0.        , 0.        ,\n",
       "        0.00733409],\n",
       "       [0.        , 0.        , 0.        , ..., 0.        , 0.        ,\n",
       "        0.10336214],\n",
       "       [0.        , 0.00644332, 0.00515466, ..., 0.00644332, 0.00257733,\n",
       "        0.        ]])"
      ]
     },
     "execution_count": 121,
     "metadata": {},
     "output_type": "execute_result"
    }
   ],
   "source": [
    "item_correlation_df_3[item_correlation_df_3<0]=0\n",
    "\n",
    "common_item_predicted_ratings = np.dot(item_correlation_df_3, common_item_based_matrix.fillna(0))\n",
    "common_item_predicted_ratings\n"
   ]
  },
  {
   "cell_type": "code",
   "execution_count": 122,
   "metadata": {
    "colab": {
     "base_uri": "https://localhost:8080/"
    },
    "id": "ZJC2Qrzblttu",
    "outputId": "99df71d3-e433-41c1-a901-754a7a0fde52"
   },
   "outputs": [
    {
     "data": {
      "text/plain": [
       "(203, 8348)"
      ]
     },
     "execution_count": 122,
     "metadata": {},
     "output_type": "execute_result"
    }
   ],
   "source": [
    "common_item_predicted_ratings.shape"
   ]
  },
  {
   "cell_type": "markdown",
   "metadata": {
    "id": "us7QSvKKlycT"
   },
   "source": [
    "Dummy test will be used for evaluation. To evaluate, we will only make prediction on the products rated by the user. So, this is marked as 1. This is just opposite of dummy_train\n",
    "\n"
   ]
  },
  {
   "cell_type": "code",
   "execution_count": 123,
   "metadata": {
    "id": "D9ApicP3lvRN"
   },
   "outputs": [],
   "source": [
    "dummy_test = common.copy()\n",
    "\n",
    "dummy_test['rating'] = dummy_test['rating'].apply(lambda x: 1 if x>=1 else 0)\n",
    "\n",
    "dummy_test = dummy_test.pivot_table(index='user', columns='productId', values='rating').T.fillna(0)\n",
    "\n",
    "common_item_predicted_ratings = np.multiply(common_item_predicted_ratings,dummy_test)"
   ]
  },
  {
   "cell_type": "markdown",
   "metadata": {
    "id": "nZHlmmsFl7eJ"
   },
   "source": [
    "The products not rated is marked as 0 for evaluation. And make the item- item matrix representaion.\n"
   ]
  },
  {
   "cell_type": "code",
   "execution_count": 124,
   "metadata": {
    "id": "7KtJcPQ6l2xS"
   },
   "outputs": [],
   "source": [
    "common_ = common.pivot_table(index='user', columns='productId', values='rating').T"
   ]
  },
  {
   "cell_type": "code",
   "execution_count": 125,
   "metadata": {
    "colab": {
     "base_uri": "https://localhost:8080/"
    },
    "id": "U3mG0vyKl-VO",
    "outputId": "6352f424-42af-43c7-db37-347197c8860c"
   },
   "outputs": [
    {
     "name": "stdout",
     "output_type": "stream",
     "text": [
      "MinMaxScaler(feature_range=(1, 5))\n",
      "[[nan nan nan ... nan nan nan]\n",
      " [nan nan nan ... nan nan nan]\n",
      " [nan nan nan ... nan nan nan]\n",
      " ...\n",
      " [nan nan nan ... nan nan nan]\n",
      " [nan nan nan ... nan nan nan]\n",
      " [nan nan nan ... nan nan nan]]\n"
     ]
    }
   ],
   "source": [
    "from sklearn.preprocessing import MinMaxScaler\n",
    "from numpy import *\n",
    "\n",
    "X  = common_item_predicted_ratings.copy() \n",
    "X = X[X>0]\n",
    "\n",
    "scaler = MinMaxScaler(feature_range=(1, 5))\n",
    "print(scaler.fit(X))\n",
    "y = (scaler.transform(X))\n",
    "\n",
    "print(y)"
   ]
  },
  {
   "cell_type": "code",
   "execution_count": 126,
   "metadata": {
    "id": "WX169uuBmAUu"
   },
   "outputs": [],
   "source": [
    "# Finding total non-NaN value\n",
    "total_non_nan = np.count_nonzero(~np.isnan(y))"
   ]
  },
  {
   "cell_type": "code",
   "execution_count": 127,
   "metadata": {
    "colab": {
     "base_uri": "https://localhost:8080/"
    },
    "id": "DUQOYzymmCXr",
    "outputId": "ecc30e54-7c45-4544-faa0-3960ceaa49d5"
   },
   "outputs": [
    {
     "name": "stdout",
     "output_type": "stream",
     "text": [
      "3.5762571957798124\n"
     ]
    }
   ],
   "source": [
    "rmse = (sum(sum((common_ - y )**2))/total_non_nan)**0.5\n",
    "print(rmse)"
   ]
  },
  {
   "cell_type": "markdown",
   "metadata": {
    "id": "bVk5d5N_mG0Y"
   },
   "source": [
    "## **Summary - Recommendation Engine**"
   ]
  },
  {
   "cell_type": "markdown",
   "metadata": {
    "id": "pNBcqcg_mKJX"
   },
   "source": [
    "RMSE of user based model is less than item based model, so we will use user based model in further processing"
   ]
  }
 ],
 "metadata": {
  "colab": {
   "collapsed_sections": [],
   "name": "SharukhShaikh_SentimentBasedPRS.ipynb",
   "provenance": [],
   "toc_visible": true
  },
  "kernelspec": {
   "display_name": "Python 3",
   "language": "python",
   "name": "python3"
  },
  "language_info": {
   "codemirror_mode": {
    "name": "ipython",
    "version": 3
   },
   "file_extension": ".py",
   "mimetype": "text/x-python",
   "name": "python",
   "nbconvert_exporter": "python",
   "pygments_lexer": "ipython3",
   "version": "3.8.2"
  }
 },
 "nbformat": 4,
 "nbformat_minor": 1
}
